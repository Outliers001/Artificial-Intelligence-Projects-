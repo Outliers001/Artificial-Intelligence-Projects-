{
 "cells": [
  {
   "cell_type": "markdown",
   "metadata": {},
   "source": [
    "# Data Uploading & python Libraries"
   ]
  },
  {
   "cell_type": "code",
   "execution_count": 1,
   "metadata": {},
   "outputs": [],
   "source": [
    "import pandas as pd\n",
    "import numpy as np"
   ]
  },
  {
   "cell_type": "code",
   "execution_count": 2,
   "metadata": {},
   "outputs": [
    {
     "data": {
      "text/html": [
       "        <script type=\"text/javascript\">\n",
       "        window.PlotlyConfig = {MathJaxConfig: 'local'};\n",
       "        if (window.MathJax) {MathJax.Hub.Config({SVG: {font: \"STIX-Web\"}});}\n",
       "        if (typeof require !== 'undefined') {\n",
       "        require.undef(\"plotly\");\n",
       "        requirejs.config({\n",
       "            paths: {\n",
       "                'plotly': ['https://cdn.plot.ly/plotly-latest.min']\n",
       "            }\n",
       "        });\n",
       "        require(['plotly'], function(Plotly) {\n",
       "            window._Plotly = Plotly;\n",
       "        });\n",
       "        }\n",
       "        </script>\n",
       "        "
      ]
     },
     "metadata": {},
     "output_type": "display_data"
    }
   ],
   "source": [
    "import plotly.offline as py\n",
    "py.init_notebook_mode(connected=True)\n",
    "import plotly.graph_objs as go\n",
    "import plotly.tools as tls\n",
    "import plotly.figure_factory as ff\n",
    "from datetime import datetime as dt"
   ]
  },
  {
   "cell_type": "code",
   "execution_count": null,
   "metadata": {},
   "outputs": [],
   "source": [
    "# Python libraries\n",
    "import seaborn as sns\n",
    "import matplotlib.pyplot as plt\n",
    "%matplotlib inline\n",
    "import itertools\n",
    "from itertools import chain\n",
    "from sklearn.feature_selection import RFE\n",
    "from sklearn.decomposition import PCA\n",
    "from sklearn.preprocessing import StandardScaler\n",
    "from sklearn.linear_model import LogisticRegression\n",
    "from sklearn.ensemble import VotingClassifier\n",
    "from sklearn.model_selection import GridSearchCV, cross_val_score, learning_curve, train_test_split\n",
    "from sklearn.metrics import precision_score, recall_score, confusion_matrix, roc_curve, precision_recall_curve, accuracy_score\n",
    "# import libraries\n",
    "import tensorflow as tf\n",
    "from sklearn.preprocessing import MinMaxScaler, Normalizer\n",
    "from sklearn.decomposition import PCA as sklearnPCA\n",
    "from pandas.plotting import autocorrelation_plot\n",
    "from scipy import stats\n",
    "plt.style.use(\"ggplot\")\n",
    "from scipy import stats\n",
    "import os\n",
    "# Supress unnecessary warnings so that presentation looks clean\n",
    "import warnings\n",
    "warnings.filterwarnings(\"ignore\")\n",
    "import time\n",
    "from sklearn.pipeline import Pipeline\n",
    "from sklearn.pipeline import make_pipeline\n",
    "from sklearn.svm import SVC\n",
    "from sklearn.neighbors import KNeighborsClassifier\n",
    "from sklearn.tree import DecisionTreeClassifier\n",
    "from sklearn.model_selection import cross_validate\n",
    "from sklearn.svm import LinearSVC\n",
    "from sklearn.naive_bayes import MultinomialNB, BernoulliNB\n",
    "from sklearn.model_selection import cross_val_score\n",
    "from sklearn.metrics import accuracy_score, log_loss\n",
    "from sklearn.svm import SVC, LinearSVC, NuSVC\n",
    "from sklearn.tree import DecisionTreeClassifier\n",
    "from sklearn.ensemble import RandomForestClassifier, AdaBoostClassifier, GradientBoostingClassifier\n",
    "from sklearn.naive_bayes import GaussianNB\n",
    "from sklearn.discriminant_analysis import LinearDiscriminantAnalysis\n",
    "from sklearn.discriminant_analysis import QuadraticDiscriminantAnalysis\n",
    "from xgboost import XGBClassifier\n",
    "import xgboost\n",
    "from sklearn.model_selection import cross_validate, ShuffleSplit, GridSearchCV\n",
    "from sklearn.linear_model import LogisticRegressionCV, SGDClassifier\n",
    "from sklearn import ensemble, naive_bayes, svm, tree, discriminant_analysis, neighbors, feature_selection\n",
    "from sklearn.metrics import ( log_loss, classification_report)\n",
    "\n"
   ]
  },
  {
   "cell_type": "code",
   "execution_count": 267,
   "metadata": {},
   "outputs": [
    {
     "data": {
      "text/html": [
       "<div>\n",
       "<style scoped>\n",
       "    .dataframe tbody tr th:only-of-type {\n",
       "        vertical-align: middle;\n",
       "    }\n",
       "\n",
       "    .dataframe tbody tr th {\n",
       "        vertical-align: top;\n",
       "    }\n",
       "\n",
       "    .dataframe thead th {\n",
       "        text-align: right;\n",
       "    }\n",
       "</style>\n",
       "<table border=\"1\" class=\"dataframe\">\n",
       "  <thead>\n",
       "    <tr style=\"text-align: right;\">\n",
       "      <th></th>\n",
       "      <th>Date of Interview</th>\n",
       "      <th>Client name</th>\n",
       "      <th>Industry</th>\n",
       "      <th>Location</th>\n",
       "      <th>Position to be closed</th>\n",
       "      <th>Nature of Skillset</th>\n",
       "      <th>Interview Type</th>\n",
       "      <th>Name(Cand ID)</th>\n",
       "      <th>Gender</th>\n",
       "      <th>Candidate Current Location</th>\n",
       "      <th>...</th>\n",
       "      <th>Have you obtained the necessary permission to start at the required time</th>\n",
       "      <th>Hope there will be no unscheduled meetings</th>\n",
       "      <th>Can I Call you three hours before the interview and follow up on your attendance for the interview</th>\n",
       "      <th>Can I have an alternative number/ desk number. I assure you that I will not trouble you too much</th>\n",
       "      <th>Have you taken a printout of your updated resume. Have you read the JD and understood the same</th>\n",
       "      <th>Are you clear with the venue details and the landmark.</th>\n",
       "      <th>Has the call letter been shared</th>\n",
       "      <th>Expected Attendance</th>\n",
       "      <th>Observed Attendance</th>\n",
       "      <th>Marital Status</th>\n",
       "    </tr>\n",
       "  </thead>\n",
       "  <tbody>\n",
       "    <tr>\n",
       "      <th>0</th>\n",
       "      <td>25.5.2016</td>\n",
       "      <td>Standard Chartered Bank</td>\n",
       "      <td>BFSI</td>\n",
       "      <td>Chennai</td>\n",
       "      <td>Routine</td>\n",
       "      <td>Accounting Operations</td>\n",
       "      <td>Scheduled Walkin</td>\n",
       "      <td>Candidate 95</td>\n",
       "      <td>Male</td>\n",
       "      <td>Chennai</td>\n",
       "      <td>...</td>\n",
       "      <td>Yes</td>\n",
       "      <td>Yes</td>\n",
       "      <td>Yes</td>\n",
       "      <td>Yes</td>\n",
       "      <td>Yes</td>\n",
       "      <td>Yes</td>\n",
       "      <td>Yes</td>\n",
       "      <td>Yes</td>\n",
       "      <td>yes</td>\n",
       "      <td>Single</td>\n",
       "    </tr>\n",
       "    <tr>\n",
       "      <th>1</th>\n",
       "      <td>25.5.2016</td>\n",
       "      <td>Standard Chartered Bank</td>\n",
       "      <td>BFSI</td>\n",
       "      <td>Chennai</td>\n",
       "      <td>Routine</td>\n",
       "      <td>Accounting Operations</td>\n",
       "      <td>Scheduled Walkin</td>\n",
       "      <td>Candidate 96</td>\n",
       "      <td>Male</td>\n",
       "      <td>Chennai</td>\n",
       "      <td>...</td>\n",
       "      <td>Yes</td>\n",
       "      <td>Yes</td>\n",
       "      <td>Yes</td>\n",
       "      <td>Yes</td>\n",
       "      <td>Yes</td>\n",
       "      <td>Yes</td>\n",
       "      <td>Yes</td>\n",
       "      <td>Yes</td>\n",
       "      <td>no</td>\n",
       "      <td>Married</td>\n",
       "    </tr>\n",
       "    <tr>\n",
       "      <th>2</th>\n",
       "      <td>25.5.2016</td>\n",
       "      <td>Standard Chartered Bank</td>\n",
       "      <td>BFSI</td>\n",
       "      <td>Chennai</td>\n",
       "      <td>Routine</td>\n",
       "      <td>Accounting Operations</td>\n",
       "      <td>Scheduled Walkin</td>\n",
       "      <td>Candidate 97</td>\n",
       "      <td>Male</td>\n",
       "      <td>Chennai</td>\n",
       "      <td>...</td>\n",
       "      <td>Yes</td>\n",
       "      <td>Yes</td>\n",
       "      <td>Yes</td>\n",
       "      <td>Yes</td>\n",
       "      <td>Yes</td>\n",
       "      <td>Yes</td>\n",
       "      <td>Yes</td>\n",
       "      <td>Yes</td>\n",
       "      <td>No</td>\n",
       "      <td>Married</td>\n",
       "    </tr>\n",
       "    <tr>\n",
       "      <th>3</th>\n",
       "      <td>25.5.2016</td>\n",
       "      <td>Standard Chartered Bank</td>\n",
       "      <td>BFSI</td>\n",
       "      <td>Chennai</td>\n",
       "      <td>Routine</td>\n",
       "      <td>Accounting Operations</td>\n",
       "      <td>Scheduled Walkin</td>\n",
       "      <td>Candidate 98</td>\n",
       "      <td>Female</td>\n",
       "      <td>Chennai</td>\n",
       "      <td>...</td>\n",
       "      <td>Yes</td>\n",
       "      <td>Yes</td>\n",
       "      <td>Yes</td>\n",
       "      <td>Yes</td>\n",
       "      <td>Yes</td>\n",
       "      <td>Yes</td>\n",
       "      <td>Yes</td>\n",
       "      <td>Yes</td>\n",
       "      <td>yes</td>\n",
       "      <td>Married</td>\n",
       "    </tr>\n",
       "    <tr>\n",
       "      <th>4</th>\n",
       "      <td>25-05-2016</td>\n",
       "      <td>Standard Chartered Bank</td>\n",
       "      <td>BFSI</td>\n",
       "      <td>Chennai</td>\n",
       "      <td>Routine</td>\n",
       "      <td>Accounting Operations</td>\n",
       "      <td>Scheduled Walkin</td>\n",
       "      <td>Candidate 99</td>\n",
       "      <td>Male</td>\n",
       "      <td>Chennai</td>\n",
       "      <td>...</td>\n",
       "      <td>Yes</td>\n",
       "      <td>Yes</td>\n",
       "      <td>Yes</td>\n",
       "      <td>Yes</td>\n",
       "      <td>Yes</td>\n",
       "      <td>Yes</td>\n",
       "      <td>Yes</td>\n",
       "      <td>Yes</td>\n",
       "      <td>yes</td>\n",
       "      <td>Married</td>\n",
       "    </tr>\n",
       "  </tbody>\n",
       "</table>\n",
       "<p>5 rows × 23 columns</p>\n",
       "</div>"
      ],
      "text/plain": [
       "  Date of Interview              Client name Industry Location  \\\n",
       "0         25.5.2016  Standard Chartered Bank     BFSI  Chennai   \n",
       "1         25.5.2016  Standard Chartered Bank     BFSI  Chennai   \n",
       "2         25.5.2016  Standard Chartered Bank     BFSI  Chennai   \n",
       "3         25.5.2016  Standard Chartered Bank     BFSI  Chennai   \n",
       "4        25-05-2016  Standard Chartered Bank     BFSI  Chennai   \n",
       "\n",
       "  Position to be closed     Nature of Skillset    Interview Type  \\\n",
       "0               Routine  Accounting Operations  Scheduled Walkin   \n",
       "1               Routine  Accounting Operations  Scheduled Walkin   \n",
       "2               Routine  Accounting Operations  Scheduled Walkin   \n",
       "3               Routine  Accounting Operations  Scheduled Walkin   \n",
       "4               Routine  Accounting Operations  Scheduled Walkin   \n",
       "\n",
       "  Name(Cand ID)  Gender Candidate Current Location  ...  \\\n",
       "0  Candidate 95    Male                    Chennai  ...   \n",
       "1  Candidate 96    Male                    Chennai  ...   \n",
       "2  Candidate 97    Male                    Chennai  ...   \n",
       "3  Candidate 98  Female                    Chennai  ...   \n",
       "4  Candidate 99    Male                    Chennai  ...   \n",
       "\n",
       "  Have you obtained the necessary permission to start at the required time  \\\n",
       "0                                                Yes                         \n",
       "1                                                Yes                         \n",
       "2                                                Yes                         \n",
       "3                                                Yes                         \n",
       "4                                                Yes                         \n",
       "\n",
       "  Hope there will be no unscheduled meetings  \\\n",
       "0                                        Yes   \n",
       "1                                        Yes   \n",
       "2                                        Yes   \n",
       "3                                        Yes   \n",
       "4                                        Yes   \n",
       "\n",
       "  Can I Call you three hours before the interview and follow up on your attendance for the interview  \\\n",
       "0                                                Yes                                                   \n",
       "1                                                Yes                                                   \n",
       "2                                                Yes                                                   \n",
       "3                                                Yes                                                   \n",
       "4                                                Yes                                                   \n",
       "\n",
       "  Can I have an alternative number/ desk number. I assure you that I will not trouble you too much  \\\n",
       "0                                                Yes                                                 \n",
       "1                                                Yes                                                 \n",
       "2                                                Yes                                                 \n",
       "3                                                Yes                                                 \n",
       "4                                                Yes                                                 \n",
       "\n",
       "  Have you taken a printout of your updated resume. Have you read the JD and understood the same  \\\n",
       "0                                                Yes                                               \n",
       "1                                                Yes                                               \n",
       "2                                                Yes                                               \n",
       "3                                                Yes                                               \n",
       "4                                                Yes                                               \n",
       "\n",
       "  Are you clear with the venue details and the landmark.  \\\n",
       "0                                                Yes       \n",
       "1                                                Yes       \n",
       "2                                                Yes       \n",
       "3                                                Yes       \n",
       "4                                                Yes       \n",
       "\n",
       "  Has the call letter been shared Expected Attendance Observed Attendance  \\\n",
       "0                             Yes                 Yes                 yes   \n",
       "1                             Yes                 Yes                  no   \n",
       "2                             Yes                 Yes                  No   \n",
       "3                             Yes                 Yes                 yes   \n",
       "4                             Yes                 Yes                 yes   \n",
       "\n",
       "  Marital Status  \n",
       "0         Single  \n",
       "1        Married  \n",
       "2        Married  \n",
       "3        Married  \n",
       "4        Married  \n",
       "\n",
       "[5 rows x 23 columns]"
      ]
     },
     "execution_count": 267,
     "metadata": {},
     "output_type": "execute_result"
    }
   ],
   "source": [
    "data = pd.read_csv('HR_Recruitment.csv')\n",
    "data.head()"
   ]
  },
  {
   "cell_type": "markdown",
   "metadata": {},
   "source": [
    "# EDA & Statistical Analysis"
   ]
  },
  {
   "cell_type": "code",
   "execution_count": 268,
   "metadata": {},
   "outputs": [
    {
     "data": {
      "text/plain": [
       "(714, 23)"
      ]
     },
     "execution_count": 268,
     "metadata": {},
     "output_type": "execute_result"
    }
   ],
   "source": [
    "data.shape"
   ]
  },
  {
   "cell_type": "code",
   "execution_count": 269,
   "metadata": {},
   "outputs": [
    {
     "data": {
      "text/plain": [
       "Date of Interview                                                                                     False\n",
       "Client name                                                                                           False\n",
       "Industry                                                                                              False\n",
       "Location                                                                                              False\n",
       "Position to be closed                                                                                 False\n",
       "Nature of Skillset                                                                                    False\n",
       "Interview Type                                                                                        False\n",
       "Name(Cand ID)                                                                                         False\n",
       "Gender                                                                                                False\n",
       "Candidate Current Location                                                                            False\n",
       "Candidate Job Location                                                                                False\n",
       "Interview Venue                                                                                       False\n",
       "Candidate Native location                                                                             False\n",
       "Have you obtained the necessary permission to start at the required time                               True\n",
       "Hope there will be no unscheduled meetings                                                             True\n",
       "Can I Call you three hours before the interview and follow up on your attendance for the interview     True\n",
       "Can I have an alternative number/ desk number. I assure you that I will not trouble you too much       True\n",
       "Have you taken a printout of your updated resume. Have you read the JD and understood the same         True\n",
       "Are you clear with the venue details and the landmark.                                                 True\n",
       "Has the call letter been shared                                                                        True\n",
       "Expected Attendance                                                                                    True\n",
       "Observed Attendance                                                                                   False\n",
       "Marital Status                                                                                        False\n",
       "dtype: bool"
      ]
     },
     "metadata": {},
     "output_type": "display_data"
    }
   ],
   "source": [
    "display(data.isnull().any())"
   ]
  },
  {
   "cell_type": "markdown",
   "metadata": {},
   "source": [
    "## Renaming Columns for convenience"
   ]
  },
  {
   "cell_type": "markdown",
   "metadata": {},
   "source": [
    "**Assigning the Questions for reducing complexity to understand**\n",
    "- <a href='#Q.1'>Q1=Have you obtained the necessary permission to start at the required time?</a> \n",
    "- <a href='#Q.2'>Q2=Hope there will be no unscheduled meetings?</a> \n",
    "- <a href='#Q.3'>Q3=Can I Call you three hours before the interview and follow up on your attendance for the interview?</a> \n",
    "- <a href='#Q.4'>Q4=Can I have an alternative number/ desk number. I assure you that I will not trouble you too much?</a> \n",
    "- <a href='#Q.5'>Q5=Have you taken a printout of your updated resume. Have you read the JD and understood the same?</a> \n",
    "- <a href='#Q.6'>Q6=Are you clear with the venue details and the landmark?</a> \n",
    "- <a href='#Q.7'>Q7=Has the call letter been shared?</a> \n",
    "\n"
   ]
  },
  {
   "cell_type": "code",
   "execution_count": 270,
   "metadata": {},
   "outputs": [],
   "source": [
    "data.rename(columns={'Client name':'Client_name','Date of Interview':'Date_of_Interview','Position to be closed':'Position_Status','Nature of Skillset':'Technical_Skillset','Interview Type':'Interview_Type','Name(Cand ID)':'ID','Candidate Current Location':'Candidate_Current_Location','Candidate Job Location':'Candidate_Job_Location','Interview Venue':'Interview_Venue','Candidate Native location':'Candidate_Native_location',\n",
    "                      'Expected Attendance':'Expected_Attendance' ,'Observed Attendance':'Observed_Attendance','Marital Status':'Marital_Status'},inplace=True)"
   ]
  },
  {
   "cell_type": "code",
   "execution_count": 271,
   "metadata": {},
   "outputs": [],
   "source": [
    "data.rename(columns={'Have you obtained the necessary permission to start at the required time':'Q1'\n",
    ",'Hope there will be no unscheduled meetings':'Q2',\n",
    "'Can I Call you three hours before the interview and follow up on your attendance for the interview':'Q3',\n",
    "'Can I have an alternative number/ desk number. I assure you that I will not trouble you too much':'Q4'\n",
    ",'Have you taken a printout of your updated resume. Have you read the JD and understood the same':'Q5',\n",
    "'Are you clear with the venue details and the landmark.':'Q6',\n",
    "'Has the call letter been shared':'Q7'} ,inplace=True)"
   ]
  },
  {
   "cell_type": "code",
   "execution_count": 272,
   "metadata": {},
   "outputs": [
    {
     "data": {
      "text/plain": [
       "Index(['Date_of_Interview', 'Client_name', 'Industry', 'Location',\n",
       "       'Position_Status', 'Technical_Skillset', 'Interview_Type', 'ID',\n",
       "       'Gender', 'Candidate_Current_Location', 'Candidate_Job_Location',\n",
       "       'Interview_Venue', 'Candidate_Native_location', 'Q1', 'Q2', 'Q3', 'Q4',\n",
       "       'Q5', 'Q6', 'Q7', 'Expected_Attendance', 'Observed_Attendance',\n",
       "       'Marital_Status'],\n",
       "      dtype='object')"
      ]
     },
     "execution_count": 272,
     "metadata": {},
     "output_type": "execute_result"
    }
   ],
   "source": [
    "data.columns"
   ]
  },
  {
   "cell_type": "markdown",
   "metadata": {},
   "source": [
    "## Conversion of Date Time Column"
   ]
  },
  {
   "cell_type": "code",
   "execution_count": 273,
   "metadata": {},
   "outputs": [],
   "source": [
    "data['Date_of_Interview'] = pd.to_datetime(data['Date_of_Interview'], errors='coerce')\n",
    "data['Year'] = data['Date_of_Interview'].dt.year\n",
    "data['Month'] = data['Date_of_Interview'].dt.month\n",
    "data['Day'] = data['Date_of_Interview'].dt.day\n",
    "data['Date_of_Interview']=pd.to_datetime((data.Year*10000+data.Month*100+data.Day).apply(str),format='%Y%m%d')"
   ]
  },
  {
   "cell_type": "markdown",
   "metadata": {},
   "source": [
    "## Missing Values"
   ]
  },
  {
   "cell_type": "code",
   "execution_count": 274,
   "metadata": {},
   "outputs": [
    {
     "data": {
      "text/html": [
       "<div>\n",
       "<style scoped>\n",
       "    .dataframe tbody tr th:only-of-type {\n",
       "        vertical-align: middle;\n",
       "    }\n",
       "\n",
       "    .dataframe tbody tr th {\n",
       "        vertical-align: top;\n",
       "    }\n",
       "\n",
       "    .dataframe thead th {\n",
       "        text-align: right;\n",
       "    }\n",
       "</style>\n",
       "<table border=\"1\" class=\"dataframe\">\n",
       "  <thead>\n",
       "    <tr style=\"text-align: right;\">\n",
       "      <th></th>\n",
       "      <th>Missing_Ratio</th>\n",
       "    </tr>\n",
       "  </thead>\n",
       "  <tbody>\n",
       "    <tr>\n",
       "      <th>Q7</th>\n",
       "      <td>34.313725</td>\n",
       "    </tr>\n",
       "    <tr>\n",
       "      <th>Q6</th>\n",
       "      <td>32.492997</td>\n",
       "    </tr>\n",
       "    <tr>\n",
       "      <th>Q4</th>\n",
       "      <td>31.792717</td>\n",
       "    </tr>\n",
       "    <tr>\n",
       "      <th>Q1</th>\n",
       "      <td>27.450980</td>\n",
       "    </tr>\n",
       "    <tr>\n",
       "      <th>Q5</th>\n",
       "      <td>26.330532</td>\n",
       "    </tr>\n",
       "    <tr>\n",
       "      <th>Q2</th>\n",
       "      <td>26.330532</td>\n",
       "    </tr>\n",
       "    <tr>\n",
       "      <th>Q3</th>\n",
       "      <td>26.190476</td>\n",
       "    </tr>\n",
       "    <tr>\n",
       "      <th>Day</th>\n",
       "      <td>2.801120</td>\n",
       "    </tr>\n",
       "    <tr>\n",
       "      <th>Month</th>\n",
       "      <td>2.801120</td>\n",
       "    </tr>\n",
       "    <tr>\n",
       "      <th>Year</th>\n",
       "      <td>2.801120</td>\n",
       "    </tr>\n",
       "    <tr>\n",
       "      <th>Date_of_Interview</th>\n",
       "      <td>2.801120</td>\n",
       "    </tr>\n",
       "    <tr>\n",
       "      <th>Expected_Attendance</th>\n",
       "      <td>0.700280</td>\n",
       "    </tr>\n",
       "  </tbody>\n",
       "</table>\n",
       "</div>"
      ],
      "text/plain": [
       "                     Missing_Ratio\n",
       "Q7                       34.313725\n",
       "Q6                       32.492997\n",
       "Q4                       31.792717\n",
       "Q1                       27.450980\n",
       "Q5                       26.330532\n",
       "Q2                       26.330532\n",
       "Q3                       26.190476\n",
       "Day                       2.801120\n",
       "Month                     2.801120\n",
       "Year                      2.801120\n",
       "Date_of_Interview         2.801120\n",
       "Expected_Attendance       0.700280"
      ]
     },
     "execution_count": 274,
     "metadata": {},
     "output_type": "execute_result"
    }
   ],
   "source": [
    "all_data_na = (data.isnull().sum() / len(data)) * 100\n",
    "all_data_na = all_data_na.drop(all_data_na[all_data_na == 0].index).sort_values(ascending=False)[:30]\n",
    "missing_data = pd.DataFrame({'Missing_Ratio' :all_data_na})\n",
    "missing_data.head(20)"
   ]
  },
  {
   "cell_type": "code",
   "execution_count": 275,
   "metadata": {},
   "outputs": [
    {
     "data": {
      "application/vnd.plotly.v1+json": {
       "config": {
        "linkText": "Export to plot.ly",
        "plotlyServerURL": "https://plot.ly",
        "showLink": false
       },
       "data": [
        {
         "marker": {
          "line": {
           "color": "#000000",
           "width": 1.5
          }
         },
         "opacity": 0.8,
         "orientation": "h",
         "type": "bar",
         "x": [
          34.31372549019608,
          32.49299719887955,
          31.79271708683473,
          27.450980392156865,
          26.330532212885156,
          26.330532212885156,
          26.190476190476193,
          2.801120448179272,
          2.801120448179272,
          2.801120448179272,
          2.801120448179272,
          0.700280112044818
         ],
         "y": [
          "Q7",
          "Q6",
          "Q4",
          "Q1",
          "Q5",
          "Q2",
          "Q3",
          "Day",
          "Month",
          "Year",
          "Date_of_Interview",
          "Expected_Attendance"
         ]
        }
       ],
       "layout": {
        "template": {
         "data": {
          "bar": [
           {
            "error_x": {
             "color": "#2a3f5f"
            },
            "error_y": {
             "color": "#2a3f5f"
            },
            "marker": {
             "line": {
              "color": "#E5ECF6",
              "width": 0.5
             }
            },
            "type": "bar"
           }
          ],
          "barpolar": [
           {
            "marker": {
             "line": {
              "color": "#E5ECF6",
              "width": 0.5
             }
            },
            "type": "barpolar"
           }
          ],
          "carpet": [
           {
            "aaxis": {
             "endlinecolor": "#2a3f5f",
             "gridcolor": "white",
             "linecolor": "white",
             "minorgridcolor": "white",
             "startlinecolor": "#2a3f5f"
            },
            "baxis": {
             "endlinecolor": "#2a3f5f",
             "gridcolor": "white",
             "linecolor": "white",
             "minorgridcolor": "white",
             "startlinecolor": "#2a3f5f"
            },
            "type": "carpet"
           }
          ],
          "choropleth": [
           {
            "colorbar": {
             "outlinewidth": 0,
             "ticks": ""
            },
            "type": "choropleth"
           }
          ],
          "contour": [
           {
            "colorbar": {
             "outlinewidth": 0,
             "ticks": ""
            },
            "colorscale": [
             [
              0,
              "#0d0887"
             ],
             [
              0.1111111111111111,
              "#46039f"
             ],
             [
              0.2222222222222222,
              "#7201a8"
             ],
             [
              0.3333333333333333,
              "#9c179e"
             ],
             [
              0.4444444444444444,
              "#bd3786"
             ],
             [
              0.5555555555555556,
              "#d8576b"
             ],
             [
              0.6666666666666666,
              "#ed7953"
             ],
             [
              0.7777777777777778,
              "#fb9f3a"
             ],
             [
              0.8888888888888888,
              "#fdca26"
             ],
             [
              1,
              "#f0f921"
             ]
            ],
            "type": "contour"
           }
          ],
          "contourcarpet": [
           {
            "colorbar": {
             "outlinewidth": 0,
             "ticks": ""
            },
            "type": "contourcarpet"
           }
          ],
          "heatmap": [
           {
            "colorbar": {
             "outlinewidth": 0,
             "ticks": ""
            },
            "colorscale": [
             [
              0,
              "#0d0887"
             ],
             [
              0.1111111111111111,
              "#46039f"
             ],
             [
              0.2222222222222222,
              "#7201a8"
             ],
             [
              0.3333333333333333,
              "#9c179e"
             ],
             [
              0.4444444444444444,
              "#bd3786"
             ],
             [
              0.5555555555555556,
              "#d8576b"
             ],
             [
              0.6666666666666666,
              "#ed7953"
             ],
             [
              0.7777777777777778,
              "#fb9f3a"
             ],
             [
              0.8888888888888888,
              "#fdca26"
             ],
             [
              1,
              "#f0f921"
             ]
            ],
            "type": "heatmap"
           }
          ],
          "heatmapgl": [
           {
            "colorbar": {
             "outlinewidth": 0,
             "ticks": ""
            },
            "colorscale": [
             [
              0,
              "#0d0887"
             ],
             [
              0.1111111111111111,
              "#46039f"
             ],
             [
              0.2222222222222222,
              "#7201a8"
             ],
             [
              0.3333333333333333,
              "#9c179e"
             ],
             [
              0.4444444444444444,
              "#bd3786"
             ],
             [
              0.5555555555555556,
              "#d8576b"
             ],
             [
              0.6666666666666666,
              "#ed7953"
             ],
             [
              0.7777777777777778,
              "#fb9f3a"
             ],
             [
              0.8888888888888888,
              "#fdca26"
             ],
             [
              1,
              "#f0f921"
             ]
            ],
            "type": "heatmapgl"
           }
          ],
          "histogram": [
           {
            "marker": {
             "colorbar": {
              "outlinewidth": 0,
              "ticks": ""
             }
            },
            "type": "histogram"
           }
          ],
          "histogram2d": [
           {
            "colorbar": {
             "outlinewidth": 0,
             "ticks": ""
            },
            "colorscale": [
             [
              0,
              "#0d0887"
             ],
             [
              0.1111111111111111,
              "#46039f"
             ],
             [
              0.2222222222222222,
              "#7201a8"
             ],
             [
              0.3333333333333333,
              "#9c179e"
             ],
             [
              0.4444444444444444,
              "#bd3786"
             ],
             [
              0.5555555555555556,
              "#d8576b"
             ],
             [
              0.6666666666666666,
              "#ed7953"
             ],
             [
              0.7777777777777778,
              "#fb9f3a"
             ],
             [
              0.8888888888888888,
              "#fdca26"
             ],
             [
              1,
              "#f0f921"
             ]
            ],
            "type": "histogram2d"
           }
          ],
          "histogram2dcontour": [
           {
            "colorbar": {
             "outlinewidth": 0,
             "ticks": ""
            },
            "colorscale": [
             [
              0,
              "#0d0887"
             ],
             [
              0.1111111111111111,
              "#46039f"
             ],
             [
              0.2222222222222222,
              "#7201a8"
             ],
             [
              0.3333333333333333,
              "#9c179e"
             ],
             [
              0.4444444444444444,
              "#bd3786"
             ],
             [
              0.5555555555555556,
              "#d8576b"
             ],
             [
              0.6666666666666666,
              "#ed7953"
             ],
             [
              0.7777777777777778,
              "#fb9f3a"
             ],
             [
              0.8888888888888888,
              "#fdca26"
             ],
             [
              1,
              "#f0f921"
             ]
            ],
            "type": "histogram2dcontour"
           }
          ],
          "mesh3d": [
           {
            "colorbar": {
             "outlinewidth": 0,
             "ticks": ""
            },
            "type": "mesh3d"
           }
          ],
          "parcoords": [
           {
            "line": {
             "colorbar": {
              "outlinewidth": 0,
              "ticks": ""
             }
            },
            "type": "parcoords"
           }
          ],
          "scatter": [
           {
            "marker": {
             "colorbar": {
              "outlinewidth": 0,
              "ticks": ""
             }
            },
            "type": "scatter"
           }
          ],
          "scatter3d": [
           {
            "line": {
             "colorbar": {
              "outlinewidth": 0,
              "ticks": ""
             }
            },
            "marker": {
             "colorbar": {
              "outlinewidth": 0,
              "ticks": ""
             }
            },
            "type": "scatter3d"
           }
          ],
          "scattercarpet": [
           {
            "marker": {
             "colorbar": {
              "outlinewidth": 0,
              "ticks": ""
             }
            },
            "type": "scattercarpet"
           }
          ],
          "scattergeo": [
           {
            "marker": {
             "colorbar": {
              "outlinewidth": 0,
              "ticks": ""
             }
            },
            "type": "scattergeo"
           }
          ],
          "scattergl": [
           {
            "marker": {
             "colorbar": {
              "outlinewidth": 0,
              "ticks": ""
             }
            },
            "type": "scattergl"
           }
          ],
          "scattermapbox": [
           {
            "marker": {
             "colorbar": {
              "outlinewidth": 0,
              "ticks": ""
             }
            },
            "type": "scattermapbox"
           }
          ],
          "scatterpolar": [
           {
            "marker": {
             "colorbar": {
              "outlinewidth": 0,
              "ticks": ""
             }
            },
            "type": "scatterpolar"
           }
          ],
          "scatterpolargl": [
           {
            "marker": {
             "colorbar": {
              "outlinewidth": 0,
              "ticks": ""
             }
            },
            "type": "scatterpolargl"
           }
          ],
          "scatterternary": [
           {
            "marker": {
             "colorbar": {
              "outlinewidth": 0,
              "ticks": ""
             }
            },
            "type": "scatterternary"
           }
          ],
          "surface": [
           {
            "colorbar": {
             "outlinewidth": 0,
             "ticks": ""
            },
            "colorscale": [
             [
              0,
              "#0d0887"
             ],
             [
              0.1111111111111111,
              "#46039f"
             ],
             [
              0.2222222222222222,
              "#7201a8"
             ],
             [
              0.3333333333333333,
              "#9c179e"
             ],
             [
              0.4444444444444444,
              "#bd3786"
             ],
             [
              0.5555555555555556,
              "#d8576b"
             ],
             [
              0.6666666666666666,
              "#ed7953"
             ],
             [
              0.7777777777777778,
              "#fb9f3a"
             ],
             [
              0.8888888888888888,
              "#fdca26"
             ],
             [
              1,
              "#f0f921"
             ]
            ],
            "type": "surface"
           }
          ],
          "table": [
           {
            "cells": {
             "fill": {
              "color": "#EBF0F8"
             },
             "line": {
              "color": "white"
             }
            },
            "header": {
             "fill": {
              "color": "#C8D4E3"
             },
             "line": {
              "color": "white"
             }
            },
            "type": "table"
           }
          ]
         },
         "layout": {
          "annotationdefaults": {
           "arrowcolor": "#2a3f5f",
           "arrowhead": 0,
           "arrowwidth": 1
          },
          "colorscale": {
           "diverging": [
            [
             0,
             "#8e0152"
            ],
            [
             0.1,
             "#c51b7d"
            ],
            [
             0.2,
             "#de77ae"
            ],
            [
             0.3,
             "#f1b6da"
            ],
            [
             0.4,
             "#fde0ef"
            ],
            [
             0.5,
             "#f7f7f7"
            ],
            [
             0.6,
             "#e6f5d0"
            ],
            [
             0.7,
             "#b8e186"
            ],
            [
             0.8,
             "#7fbc41"
            ],
            [
             0.9,
             "#4d9221"
            ],
            [
             1,
             "#276419"
            ]
           ],
           "sequential": [
            [
             0,
             "#0d0887"
            ],
            [
             0.1111111111111111,
             "#46039f"
            ],
            [
             0.2222222222222222,
             "#7201a8"
            ],
            [
             0.3333333333333333,
             "#9c179e"
            ],
            [
             0.4444444444444444,
             "#bd3786"
            ],
            [
             0.5555555555555556,
             "#d8576b"
            ],
            [
             0.6666666666666666,
             "#ed7953"
            ],
            [
             0.7777777777777778,
             "#fb9f3a"
            ],
            [
             0.8888888888888888,
             "#fdca26"
            ],
            [
             1,
             "#f0f921"
            ]
           ],
           "sequentialminus": [
            [
             0,
             "#0d0887"
            ],
            [
             0.1111111111111111,
             "#46039f"
            ],
            [
             0.2222222222222222,
             "#7201a8"
            ],
            [
             0.3333333333333333,
             "#9c179e"
            ],
            [
             0.4444444444444444,
             "#bd3786"
            ],
            [
             0.5555555555555556,
             "#d8576b"
            ],
            [
             0.6666666666666666,
             "#ed7953"
            ],
            [
             0.7777777777777778,
             "#fb9f3a"
            ],
            [
             0.8888888888888888,
             "#fdca26"
            ],
            [
             1,
             "#f0f921"
            ]
           ]
          },
          "colorway": [
           "#636efa",
           "#EF553B",
           "#00cc96",
           "#ab63fa",
           "#FFA15A",
           "#19d3f3",
           "#FF6692",
           "#B6E880",
           "#FF97FF",
           "#FECB52"
          ],
          "font": {
           "color": "#2a3f5f"
          },
          "geo": {
           "bgcolor": "white",
           "lakecolor": "white",
           "landcolor": "#E5ECF6",
           "showlakes": true,
           "showland": true,
           "subunitcolor": "white"
          },
          "hoverlabel": {
           "align": "left"
          },
          "hovermode": "closest",
          "mapbox": {
           "style": "light"
          },
          "paper_bgcolor": "white",
          "plot_bgcolor": "#E5ECF6",
          "polar": {
           "angularaxis": {
            "gridcolor": "white",
            "linecolor": "white",
            "ticks": ""
           },
           "bgcolor": "#E5ECF6",
           "radialaxis": {
            "gridcolor": "white",
            "linecolor": "white",
            "ticks": ""
           }
          },
          "scene": {
           "xaxis": {
            "backgroundcolor": "#E5ECF6",
            "gridcolor": "white",
            "gridwidth": 2,
            "linecolor": "white",
            "showbackground": true,
            "ticks": "",
            "zerolinecolor": "white"
           },
           "yaxis": {
            "backgroundcolor": "#E5ECF6",
            "gridcolor": "white",
            "gridwidth": 2,
            "linecolor": "white",
            "showbackground": true,
            "ticks": "",
            "zerolinecolor": "white"
           },
           "zaxis": {
            "backgroundcolor": "#E5ECF6",
            "gridcolor": "white",
            "gridwidth": 2,
            "linecolor": "white",
            "showbackground": true,
            "ticks": "",
            "zerolinecolor": "white"
           }
          },
          "shapedefaults": {
           "line": {
            "color": "#2a3f5f"
           }
          },
          "ternary": {
           "aaxis": {
            "gridcolor": "white",
            "linecolor": "white",
            "ticks": ""
           },
           "baxis": {
            "gridcolor": "white",
            "linecolor": "white",
            "ticks": ""
           },
           "bgcolor": "#E5ECF6",
           "caxis": {
            "gridcolor": "white",
            "linecolor": "white",
            "ticks": ""
           }
          },
          "title": {
           "x": 0.05
          },
          "xaxis": {
           "automargin": true,
           "gridcolor": "white",
           "linecolor": "white",
           "ticks": "",
           "zerolinecolor": "white",
           "zerolinewidth": 2
          },
          "yaxis": {
           "automargin": true,
           "gridcolor": "white",
           "linecolor": "white",
           "ticks": "",
           "zerolinecolor": "white",
           "zerolinewidth": 2
          }
         }
        },
        "title": {
         "text": "Count of diagnosis variable"
        }
       }
      },
      "text/html": [
       "<div>\n",
       "        \n",
       "        \n",
       "            <div id=\"802d27f2-237a-4da0-9175-da7fda5b0b4a\" class=\"plotly-graph-div\" style=\"height:525px; width:100%;\"></div>\n",
       "            <script type=\"text/javascript\">\n",
       "                require([\"plotly\"], function(Plotly) {\n",
       "                    window.PLOTLYENV=window.PLOTLYENV || {};\n",
       "                    \n",
       "                if (document.getElementById(\"802d27f2-237a-4da0-9175-da7fda5b0b4a\")) {\n",
       "                    Plotly.newPlot(\n",
       "                        '802d27f2-237a-4da0-9175-da7fda5b0b4a',\n",
       "                        [{\"marker\": {\"line\": {\"color\": \"#000000\", \"width\": 1.5}}, \"opacity\": 0.8, \"orientation\": \"h\", \"type\": \"bar\", \"x\": [34.31372549019608, 32.49299719887955, 31.79271708683473, 27.450980392156865, 26.330532212885156, 26.330532212885156, 26.190476190476193, 2.801120448179272, 2.801120448179272, 2.801120448179272, 2.801120448179272, 0.700280112044818], \"y\": [\"Q7\", \"Q6\", \"Q4\", \"Q1\", \"Q5\", \"Q2\", \"Q3\", \"Day\", \"Month\", \"Year\", \"Date_of_Interview\", \"Expected_Attendance\"]}],\n",
       "                        {\"template\": {\"data\": {\"bar\": [{\"error_x\": {\"color\": \"#2a3f5f\"}, \"error_y\": {\"color\": \"#2a3f5f\"}, \"marker\": {\"line\": {\"color\": \"#E5ECF6\", \"width\": 0.5}}, \"type\": \"bar\"}], \"barpolar\": [{\"marker\": {\"line\": {\"color\": \"#E5ECF6\", \"width\": 0.5}}, \"type\": \"barpolar\"}], \"carpet\": [{\"aaxis\": {\"endlinecolor\": \"#2a3f5f\", \"gridcolor\": \"white\", \"linecolor\": \"white\", \"minorgridcolor\": \"white\", \"startlinecolor\": \"#2a3f5f\"}, \"baxis\": {\"endlinecolor\": \"#2a3f5f\", \"gridcolor\": \"white\", \"linecolor\": \"white\", \"minorgridcolor\": \"white\", \"startlinecolor\": \"#2a3f5f\"}, \"type\": \"carpet\"}], \"choropleth\": [{\"colorbar\": {\"outlinewidth\": 0, \"ticks\": \"\"}, \"type\": \"choropleth\"}], \"contour\": [{\"colorbar\": {\"outlinewidth\": 0, \"ticks\": \"\"}, \"colorscale\": [[0.0, \"#0d0887\"], [0.1111111111111111, \"#46039f\"], [0.2222222222222222, \"#7201a8\"], [0.3333333333333333, \"#9c179e\"], [0.4444444444444444, \"#bd3786\"], [0.5555555555555556, \"#d8576b\"], [0.6666666666666666, \"#ed7953\"], [0.7777777777777778, \"#fb9f3a\"], [0.8888888888888888, \"#fdca26\"], [1.0, \"#f0f921\"]], \"type\": \"contour\"}], \"contourcarpet\": [{\"colorbar\": {\"outlinewidth\": 0, \"ticks\": \"\"}, \"type\": \"contourcarpet\"}], \"heatmap\": [{\"colorbar\": {\"outlinewidth\": 0, \"ticks\": \"\"}, \"colorscale\": [[0.0, \"#0d0887\"], [0.1111111111111111, \"#46039f\"], [0.2222222222222222, \"#7201a8\"], [0.3333333333333333, \"#9c179e\"], [0.4444444444444444, \"#bd3786\"], [0.5555555555555556, \"#d8576b\"], [0.6666666666666666, \"#ed7953\"], [0.7777777777777778, \"#fb9f3a\"], [0.8888888888888888, \"#fdca26\"], [1.0, \"#f0f921\"]], \"type\": \"heatmap\"}], \"heatmapgl\": [{\"colorbar\": {\"outlinewidth\": 0, \"ticks\": \"\"}, \"colorscale\": [[0.0, \"#0d0887\"], [0.1111111111111111, \"#46039f\"], [0.2222222222222222, \"#7201a8\"], [0.3333333333333333, \"#9c179e\"], [0.4444444444444444, \"#bd3786\"], [0.5555555555555556, \"#d8576b\"], [0.6666666666666666, \"#ed7953\"], [0.7777777777777778, \"#fb9f3a\"], [0.8888888888888888, \"#fdca26\"], [1.0, \"#f0f921\"]], \"type\": \"heatmapgl\"}], \"histogram\": [{\"marker\": {\"colorbar\": {\"outlinewidth\": 0, \"ticks\": \"\"}}, \"type\": \"histogram\"}], \"histogram2d\": [{\"colorbar\": {\"outlinewidth\": 0, \"ticks\": \"\"}, \"colorscale\": [[0.0, \"#0d0887\"], [0.1111111111111111, \"#46039f\"], [0.2222222222222222, \"#7201a8\"], [0.3333333333333333, \"#9c179e\"], [0.4444444444444444, \"#bd3786\"], [0.5555555555555556, \"#d8576b\"], [0.6666666666666666, \"#ed7953\"], [0.7777777777777778, \"#fb9f3a\"], [0.8888888888888888, \"#fdca26\"], [1.0, \"#f0f921\"]], \"type\": \"histogram2d\"}], \"histogram2dcontour\": [{\"colorbar\": {\"outlinewidth\": 0, \"ticks\": \"\"}, \"colorscale\": [[0.0, \"#0d0887\"], [0.1111111111111111, \"#46039f\"], [0.2222222222222222, \"#7201a8\"], [0.3333333333333333, \"#9c179e\"], [0.4444444444444444, \"#bd3786\"], [0.5555555555555556, \"#d8576b\"], [0.6666666666666666, \"#ed7953\"], [0.7777777777777778, \"#fb9f3a\"], [0.8888888888888888, \"#fdca26\"], [1.0, \"#f0f921\"]], \"type\": \"histogram2dcontour\"}], \"mesh3d\": [{\"colorbar\": {\"outlinewidth\": 0, \"ticks\": \"\"}, \"type\": \"mesh3d\"}], \"parcoords\": [{\"line\": {\"colorbar\": {\"outlinewidth\": 0, \"ticks\": \"\"}}, \"type\": \"parcoords\"}], \"scatter\": [{\"marker\": {\"colorbar\": {\"outlinewidth\": 0, \"ticks\": \"\"}}, \"type\": \"scatter\"}], \"scatter3d\": [{\"line\": {\"colorbar\": {\"outlinewidth\": 0, \"ticks\": \"\"}}, \"marker\": {\"colorbar\": {\"outlinewidth\": 0, \"ticks\": \"\"}}, \"type\": \"scatter3d\"}], \"scattercarpet\": [{\"marker\": {\"colorbar\": {\"outlinewidth\": 0, \"ticks\": \"\"}}, \"type\": \"scattercarpet\"}], \"scattergeo\": [{\"marker\": {\"colorbar\": {\"outlinewidth\": 0, \"ticks\": \"\"}}, \"type\": \"scattergeo\"}], \"scattergl\": [{\"marker\": {\"colorbar\": {\"outlinewidth\": 0, \"ticks\": \"\"}}, \"type\": \"scattergl\"}], \"scattermapbox\": [{\"marker\": {\"colorbar\": {\"outlinewidth\": 0, \"ticks\": \"\"}}, \"type\": \"scattermapbox\"}], \"scatterpolar\": [{\"marker\": {\"colorbar\": {\"outlinewidth\": 0, \"ticks\": \"\"}}, \"type\": \"scatterpolar\"}], \"scatterpolargl\": [{\"marker\": {\"colorbar\": {\"outlinewidth\": 0, \"ticks\": \"\"}}, \"type\": \"scatterpolargl\"}], \"scatterternary\": [{\"marker\": {\"colorbar\": {\"outlinewidth\": 0, \"ticks\": \"\"}}, \"type\": \"scatterternary\"}], \"surface\": [{\"colorbar\": {\"outlinewidth\": 0, \"ticks\": \"\"}, \"colorscale\": [[0.0, \"#0d0887\"], [0.1111111111111111, \"#46039f\"], [0.2222222222222222, \"#7201a8\"], [0.3333333333333333, \"#9c179e\"], [0.4444444444444444, \"#bd3786\"], [0.5555555555555556, \"#d8576b\"], [0.6666666666666666, \"#ed7953\"], [0.7777777777777778, \"#fb9f3a\"], [0.8888888888888888, \"#fdca26\"], [1.0, \"#f0f921\"]], \"type\": \"surface\"}], \"table\": [{\"cells\": {\"fill\": {\"color\": \"#EBF0F8\"}, \"line\": {\"color\": \"white\"}}, \"header\": {\"fill\": {\"color\": \"#C8D4E3\"}, \"line\": {\"color\": \"white\"}}, \"type\": \"table\"}]}, \"layout\": {\"annotationdefaults\": {\"arrowcolor\": \"#2a3f5f\", \"arrowhead\": 0, \"arrowwidth\": 1}, \"colorscale\": {\"diverging\": [[0, \"#8e0152\"], [0.1, \"#c51b7d\"], [0.2, \"#de77ae\"], [0.3, \"#f1b6da\"], [0.4, \"#fde0ef\"], [0.5, \"#f7f7f7\"], [0.6, \"#e6f5d0\"], [0.7, \"#b8e186\"], [0.8, \"#7fbc41\"], [0.9, \"#4d9221\"], [1, \"#276419\"]], \"sequential\": [[0.0, \"#0d0887\"], [0.1111111111111111, \"#46039f\"], [0.2222222222222222, \"#7201a8\"], [0.3333333333333333, \"#9c179e\"], [0.4444444444444444, \"#bd3786\"], [0.5555555555555556, \"#d8576b\"], [0.6666666666666666, \"#ed7953\"], [0.7777777777777778, \"#fb9f3a\"], [0.8888888888888888, \"#fdca26\"], [1.0, \"#f0f921\"]], \"sequentialminus\": [[0.0, \"#0d0887\"], [0.1111111111111111, \"#46039f\"], [0.2222222222222222, \"#7201a8\"], [0.3333333333333333, \"#9c179e\"], [0.4444444444444444, \"#bd3786\"], [0.5555555555555556, \"#d8576b\"], [0.6666666666666666, \"#ed7953\"], [0.7777777777777778, \"#fb9f3a\"], [0.8888888888888888, \"#fdca26\"], [1.0, \"#f0f921\"]]}, \"colorway\": [\"#636efa\", \"#EF553B\", \"#00cc96\", \"#ab63fa\", \"#FFA15A\", \"#19d3f3\", \"#FF6692\", \"#B6E880\", \"#FF97FF\", \"#FECB52\"], \"font\": {\"color\": \"#2a3f5f\"}, \"geo\": {\"bgcolor\": \"white\", \"lakecolor\": \"white\", \"landcolor\": \"#E5ECF6\", \"showlakes\": true, \"showland\": true, \"subunitcolor\": \"white\"}, \"hoverlabel\": {\"align\": \"left\"}, \"hovermode\": \"closest\", \"mapbox\": {\"style\": \"light\"}, \"paper_bgcolor\": \"white\", \"plot_bgcolor\": \"#E5ECF6\", \"polar\": {\"angularaxis\": {\"gridcolor\": \"white\", \"linecolor\": \"white\", \"ticks\": \"\"}, \"bgcolor\": \"#E5ECF6\", \"radialaxis\": {\"gridcolor\": \"white\", \"linecolor\": \"white\", \"ticks\": \"\"}}, \"scene\": {\"xaxis\": {\"backgroundcolor\": \"#E5ECF6\", \"gridcolor\": \"white\", \"gridwidth\": 2, \"linecolor\": \"white\", \"showbackground\": true, \"ticks\": \"\", \"zerolinecolor\": \"white\"}, \"yaxis\": {\"backgroundcolor\": \"#E5ECF6\", \"gridcolor\": \"white\", \"gridwidth\": 2, \"linecolor\": \"white\", \"showbackground\": true, \"ticks\": \"\", \"zerolinecolor\": \"white\"}, \"zaxis\": {\"backgroundcolor\": \"#E5ECF6\", \"gridcolor\": \"white\", \"gridwidth\": 2, \"linecolor\": \"white\", \"showbackground\": true, \"ticks\": \"\", \"zerolinecolor\": \"white\"}}, \"shapedefaults\": {\"line\": {\"color\": \"#2a3f5f\"}}, \"ternary\": {\"aaxis\": {\"gridcolor\": \"white\", \"linecolor\": \"white\", \"ticks\": \"\"}, \"baxis\": {\"gridcolor\": \"white\", \"linecolor\": \"white\", \"ticks\": \"\"}, \"bgcolor\": \"#E5ECF6\", \"caxis\": {\"gridcolor\": \"white\", \"linecolor\": \"white\", \"ticks\": \"\"}}, \"title\": {\"x\": 0.05}, \"xaxis\": {\"automargin\": true, \"gridcolor\": \"white\", \"linecolor\": \"white\", \"ticks\": \"\", \"zerolinecolor\": \"white\", \"zerolinewidth\": 2}, \"yaxis\": {\"automargin\": true, \"gridcolor\": \"white\", \"linecolor\": \"white\", \"ticks\": \"\", \"zerolinecolor\": \"white\", \"zerolinewidth\": 2}}}, \"title\": {\"text\": \"Count of diagnosis variable\"}},\n",
       "                        {\"responsive\": true}\n",
       "                    ).then(function(){\n",
       "                            \n",
       "var gd = document.getElementById('802d27f2-237a-4da0-9175-da7fda5b0b4a');\n",
       "var x = new MutationObserver(function (mutations, observer) {{\n",
       "        var display = window.getComputedStyle(gd).display;\n",
       "        if (!display || display === 'none') {{\n",
       "            console.log([gd, 'removed!']);\n",
       "            Plotly.purge(gd);\n",
       "            observer.disconnect();\n",
       "        }}\n",
       "}});\n",
       "\n",
       "// Listen for the removal of the full notebook cells\n",
       "var notebookContainer = gd.closest('#notebook-container');\n",
       "if (notebookContainer) {{\n",
       "    x.observe(notebookContainer, {childList: true});\n",
       "}}\n",
       "\n",
       "// Listen for the clearing of the current output cell\n",
       "var outputEl = gd.closest('.output');\n",
       "if (outputEl) {{\n",
       "    x.observe(outputEl, {childList: true});\n",
       "}}\n",
       "\n",
       "                        })\n",
       "                };\n",
       "                });\n",
       "            </script>\n",
       "        </div>"
      ]
     },
     "metadata": {},
     "output_type": "display_data"
    }
   ],
   "source": [
    "trace = go.Bar(x =missing_data.Missing_Ratio , y = missing_data.index, orientation = 'h', opacity = 0.8, marker=dict(\n",
    "        \n",
    "        line=dict(color='#000000',width=1.5)))\n",
    "\n",
    "layout = dict(title =  'Count of diagnosis variable')\n",
    "                    \n",
    "fig = dict(data = [trace], layout=layout)\n",
    "py.iplot(fig)"
   ]
  },
  {
   "cell_type": "code",
   "execution_count": 276,
   "metadata": {},
   "outputs": [
    {
     "data": {
      "text/plain": [
       "Date_of_Interview             datetime64[ns]\n",
       "Client_name                           object\n",
       "Industry                              object\n",
       "Location                              object\n",
       "Position_Status                       object\n",
       "Technical_Skillset                    object\n",
       "Interview_Type                        object\n",
       "ID                                    object\n",
       "Gender                                object\n",
       "Candidate_Current_Location            object\n",
       "Candidate_Job_Location                object\n",
       "Interview_Venue                       object\n",
       "Candidate_Native_location             object\n",
       "Q1                                    object\n",
       "Q2                                    object\n",
       "Q3                                    object\n",
       "Q4                                    object\n",
       "Q5                                    object\n",
       "Q6                                    object\n",
       "Q7                                    object\n",
       "Expected_Attendance                   object\n",
       "Observed_Attendance                   object\n",
       "Marital_Status                        object\n",
       "Year                                 float64\n",
       "Month                                float64\n",
       "Day                                  float64\n",
       "dtype: object"
      ]
     },
     "execution_count": 276,
     "metadata": {},
     "output_type": "execute_result"
    }
   ],
   "source": [
    "data.dtypes"
   ]
  },
  {
   "cell_type": "code",
   "execution_count": 277,
   "metadata": {},
   "outputs": [
    {
     "data": {
      "text/plain": [
       "Index(['Date_of_Interview', 'Client_name', 'Industry', 'Location',\n",
       "       'Position_Status', 'Technical_Skillset', 'Interview_Type', 'ID',\n",
       "       'Gender', 'Candidate_Current_Location', 'Candidate_Job_Location',\n",
       "       'Interview_Venue', 'Candidate_Native_location', 'Q1', 'Q2', 'Q3', 'Q4',\n",
       "       'Q5', 'Q6', 'Q7', 'Expected_Attendance', 'Observed_Attendance',\n",
       "       'Marital_Status', 'Year', 'Month', 'Day'],\n",
       "      dtype='object')"
      ]
     },
     "execution_count": 277,
     "metadata": {},
     "output_type": "execute_result"
    }
   ],
   "source": [
    "data.columns"
   ]
  },
  {
   "cell_type": "code",
   "execution_count": 278,
   "metadata": {},
   "outputs": [],
   "source": [
    "Missing_Atrributes=['Q1','Q2','Q3','Q4','Q5','Q6','Q7','Expected_Attendance','Date_of_Interview','Day','Month','Year']\n",
    "for col in Missing_Atrributes:\n",
    "    data[col] = data[col].fillna('NA')"
   ]
  },
  {
   "cell_type": "code",
   "execution_count": 279,
   "metadata": {},
   "outputs": [
    {
     "data": {
      "text/plain": [
       "array(['Yes', 'No', 'Uncertain', 'NO', 'NA', '11:00 AM', '10.30 Am'],\n",
       "      dtype=object)"
      ]
     },
     "execution_count": 279,
     "metadata": {},
     "output_type": "execute_result"
    }
   ],
   "source": [
    "data.Expected_Attendance.unique()"
   ]
  },
  {
   "cell_type": "code",
   "execution_count": 280,
   "metadata": {},
   "outputs": [],
   "source": [
    "Bad_Fillings=['11:00 AM','10.30 Am']\n",
    "for i in Bad_Fillings :\n",
    "    data.loc[data['Expected_Attendance'] == i, 'Expected_Attendance'] = 'NA'"
   ]
  },
  {
   "cell_type": "code",
   "execution_count": 281,
   "metadata": {},
   "outputs": [
    {
     "data": {
      "text/html": [
       "<div>\n",
       "<style scoped>\n",
       "    .dataframe tbody tr th:only-of-type {\n",
       "        vertical-align: middle;\n",
       "    }\n",
       "\n",
       "    .dataframe tbody tr th {\n",
       "        vertical-align: top;\n",
       "    }\n",
       "\n",
       "    .dataframe thead th {\n",
       "        text-align: right;\n",
       "    }\n",
       "</style>\n",
       "<table border=\"1\" class=\"dataframe\">\n",
       "  <thead>\n",
       "    <tr style=\"text-align: right;\">\n",
       "      <th></th>\n",
       "      <th>Missing_Ratio</th>\n",
       "    </tr>\n",
       "  </thead>\n",
       "  <tbody>\n",
       "  </tbody>\n",
       "</table>\n",
       "</div>"
      ],
      "text/plain": [
       "Empty DataFrame\n",
       "Columns: [Missing_Ratio]\n",
       "Index: []"
      ]
     },
     "execution_count": 281,
     "metadata": {},
     "output_type": "execute_result"
    }
   ],
   "source": [
    "all_data_na = (data.isnull().sum() / len(data)) * 100\n",
    "all_data_na = all_data_na.drop(all_data_na[all_data_na == 0].index).sort_values(ascending=False)[:30]\n",
    "missing_data = pd.DataFrame({'Missing_Ratio' :all_data_na})\n",
    "missing_data.head(20)"
   ]
  },
  {
   "cell_type": "markdown",
   "metadata": {},
   "source": [
    "## Cleaning categorical Columns to Unique"
   ]
  },
  {
   "cell_type": "code",
   "execution_count": 282,
   "metadata": {},
   "outputs": [
    {
     "name": "stdout",
     "output_type": "stream",
     "text": [
      "Uniques values in Client_name :\n",
      "['Standard Chartered Bank' 'ANZ' 'Hospira' 'Pfizer' 'Aon hewitt Gurgaon'\n",
      " 'Aon Hewitt' 'Astrazeneca']\n",
      "Uniques values in Industry :\n",
      "['BFSI' 'Pharmaceuticals' 'IT Products and Services']\n",
      "Uniques values in Position_Status :\n",
      "['Routine' 'Niche']\n",
      "Uniques values in Technical_Skillset :\n",
      "['Accounting Operations' 'Banking Operations' 'AML/KYC/CDD' 'CDD KYC'\n",
      " 'Biosimiliars' 'RA Label' 'RA Publishing' 'EMEA' 'LCM -Manager'\n",
      " 'Licensing – RA' 'generic drugs – RA' 'Biosimilars' 'production'\n",
      " 'Java J2EE' 'Java,SQL' 'Automation Testing Java' 'Submission Management'\n",
      " 'Biosimillar' 'Publishing' 'Global Labelling' 'ALS Testing'\n",
      " 'Lending and Liabilities' 'Lending & Liability' 'Lending And Liabilities'\n",
      " 'L & L' 'Banking operations' 'Lending&Liablities'\n",
      " 'JAVA/J2EE/Struts/Hibernate' 'JAVA/SPRING/HIBERNATE/JSF' 'Java,J2ee, JSF'\n",
      " 'Java ,J2ee' 'Java J2ee' '11.30 AM' '10.00 AM' '9.00 Am' '12.30 Pm'\n",
      " '9.30 AM' '11.30 Am' 'Java, J2Ee' 'Java,J2EE' 'Java Developer'\n",
      " 'Java/J2ee' 'JAVA,SQL' 'Java, SQL' 'Hadoop' 'SCCM'\n",
      " 'SCCM-(Network, sharepoint,ms exchange)' 'SCCm- Desktop support'\n",
      " 'Sccm- networking' 'sccm' 'SCCM – SQL' 'SCCM – Sharepoint'\n",
      " 'Production Support - SCCM' 'SAS' 'BaseSAS Program/ Reporting'\n",
      " 'Java, Spring, Hibernate' 'Java, XML, Struts, hibernate' 'JAVA/J2EE'\n",
      " 'Java ' 'Java']\n",
      "Uniques values in Interview_Type :\n",
      "['Scheduled Walkin' 'Scheduled ' 'Scheduled Walk In' 'Walkin' 'Walkin ']\n",
      "Uniques values in Gender :\n",
      "['Male' 'Female']\n",
      "Uniques values in Interview_Venue :\n",
      "['Chennai' 'Bangalore' 'Hyderabad' 'Gurgaon' 'Noida']\n",
      "Uniques values in Candidate_Native_location :\n",
      "['Chennai' 'Hyderabad' 'Cochin' 'Trivandrum' 'Bangalore' 'Pune' 'Kolkata'\n",
      " 'Allahabad' 'Panjim' 'Mumbai' 'Cuttack' 'Gurgaon' 'Visakapatinam'\n",
      " 'Belgaum' 'Noida' 'Patna' 'Chitoor' 'Anantapur' 'Warangal' 'Agra'\n",
      " 'Bhubaneshwar' 'Ghaziabad' 'Baddi' 'Hosur' 'Trichy' 'Nagercoil'\n",
      " 'Tuticorin' 'Coimbatore' 'Tirupati' 'Vellore' 'Ambur' 'Chandigarh'\n",
      " 'Ahmedabad' 'Mysore' 'Delhi' 'Salem']\n",
      "Uniques values in Q1 :\n",
      "['Yes' 'NA' 'No' 'Not yet' 'yes']\n",
      "Uniques values in Q2 :\n",
      "['Yes' 'No' 'NA' 'yes']\n",
      "Uniques values in Q3 :\n",
      "['Yes' 'No' 'NA' 'Na' 'yes']\n",
      "Uniques values in Q4 :\n",
      "['Yes' 'NA' 'No' 'na']\n",
      "Uniques values in Q5 :\n",
      "['Yes' 'No' 'NA' 'Not yet' 'na' 'yes']\n",
      "Uniques values in Q6 :\n",
      "['Yes' 'NA' 'No' 'na' 'yes' 'no']\n",
      "Uniques values in Q7 :\n",
      "['Yes' 'Yet to Check' 'Not Sure' 'NA' 'Not yet' 'No' 'no' 'na' 'yes']\n",
      "Uniques values in Expected_Attendance :\n",
      "['Yes' 'No' 'Uncertain' 'NO' 'NA']\n",
      "Uniques values in Observed_Attendance :\n",
      "['yes' 'no' 'No' 'Yes' 'yes ' 'No ' 'NO']\n",
      "Uniques values in Marital_Status :\n",
      "['Single' 'Married']\n"
     ]
    }
   ],
   "source": [
    "cols=[ 'Client_name', 'Industry',\n",
    "       'Position_Status', 'Technical_Skillset', 'Interview_Type',\n",
    "       'Gender','Interview_Venue', 'Candidate_Native_location', 'Q1', 'Q2', 'Q3', 'Q4',\n",
    "       'Q5', 'Q6', 'Q7', 'Expected_Attendance', 'Observed_Attendance',\n",
    "       'Marital_Status']\n",
    "for i in cols:\n",
    "    print(\"Uniques values in\",i,':')\n",
    "    print(data[i].unique())\n",
    "    "
   ]
  },
  {
   "cell_type": "markdown",
   "metadata": {},
   "source": [
    "**Changing the Question Columns categorical Values to one common unique labels**"
   ]
  },
  {
   "cell_type": "code",
   "execution_count": 283,
   "metadata": {},
   "outputs": [
    {
     "name": "stdout",
     "output_type": "stream",
     "text": [
      "['Yes' 'Yet to Check' 'Not Sure' 'Na' 'Not yet' 'No']\n"
     ]
    }
   ],
   "source": [
    "Yes=['yes','yes ']\n",
    "NA=['NA','na']\n",
    "No=['no','N0','NO','No ']\n",
    "\n",
    "data['Q1'] = data['Q1'].apply(lambda x: 'Yes' if x in Yes else x)\n",
    "data['Q1'] = data['Q1'].apply(lambda x: 'Na'  if x in NA else x)\n",
    "\n",
    "data['Q2'] = data['Q2'].apply(lambda x: 'Yes' if x in Yes else x)\n",
    "data['Q2'] = data['Q2'].apply(lambda x: 'Na' if x in NA else x)\n",
    "\n",
    "data['Q3'] = data['Q3'].apply(lambda x: 'Na' if x in NA else x)\n",
    "data['Q3'] = data['Q3'].apply(lambda x: 'Yes' if x in Yes else x)\n",
    "\n",
    "data['Q4'] = data['Q4'].apply(lambda x: 'Na' if x in NA else x)\n",
    "\n",
    "data['Q5'] = data['Q5'].apply(lambda x: 'Na' if x in NA else x)\n",
    "data['Q5'] = data['Q5'].apply(lambda x: 'Yes' if x in Yes else x)\n",
    "\n",
    "data['Q6'] = data['Q6'].apply(lambda x: 'Yes' if x in Yes else x)\n",
    "data['Q6'] = data['Q6'].apply(lambda x: 'Na' if x in NA else x)\n",
    "data['Q6'] = data['Q6'].apply(lambda x: 'No' if x in No else x)\n",
    "\n",
    "data['Q7'] = data['Q7'].apply(lambda x: 'Yes' if x in Yes else x)\n",
    "data['Q7'] = data['Q7'].apply(lambda x: 'Na' if x in NA else x)\n",
    "data['Q7'] = data['Q7'].apply(lambda x: 'No' if x in No else x)\n",
    "\n",
    "print(data.Q7.unique())"
   ]
  },
  {
   "cell_type": "code",
   "execution_count": 284,
   "metadata": {},
   "outputs": [
    {
     "name": "stdout",
     "output_type": "stream",
     "text": [
      "Uniques values in Q1 :\n",
      "['Yes' 'Na' 'No' 'Not yet']\n",
      "Uniques values in Q2 :\n",
      "['Yes' 'No' 'Na']\n",
      "Uniques values in Q3 :\n",
      "['Yes' 'No' 'Na']\n",
      "Uniques values in Q4 :\n",
      "['Yes' 'Na' 'No']\n",
      "Uniques values in Q5 :\n",
      "['Yes' 'No' 'Na' 'Not yet']\n",
      "Uniques values in Q6 :\n",
      "['Yes' 'Na' 'No']\n",
      "Uniques values in Q7 :\n",
      "['Yes' 'Yet to Check' 'Not Sure' 'Na' 'Not yet' 'No']\n"
     ]
    }
   ],
   "source": [
    "cols=[ 'Q1', 'Q2', 'Q3', 'Q4',\n",
    "       'Q5', 'Q6', 'Q7']\n",
    "for i in cols:\n",
    "    print(\"Uniques values in\",i,':')\n",
    "    print(data[i].unique())\n",
    "    "
   ]
  },
  {
   "cell_type": "markdown",
   "metadata": {},
   "source": [
    "**Value counts of the category of technical skillset**"
   ]
  },
  {
   "cell_type": "code",
   "execution_count": 285,
   "metadata": {},
   "outputs": [
    {
     "data": {
      "text/plain": [
       "JAVA/J2EE/Struts/Hibernate                220\n",
       "AML/KYC/CDD                                84\n",
       "Accounting Operations                      78\n",
       "CDD KYC                                    52\n",
       "SAS                                        27\n",
       "Lending and Liabilities                    22\n",
       "Banking Operations                         18\n",
       "Java J2ee                                  16\n",
       "ALS Testing                                15\n",
       "SCCM                                       14\n",
       "Hadoop                                     12\n",
       "Publishing                                  9\n",
       "RA Publishing                               9\n",
       "JAVA/SPRING/HIBERNATE/JSF                   8\n",
       "Automation Testing Java                     7\n",
       "Java                                        7\n",
       "Biosimiliars                                6\n",
       "Java/J2ee                                   6\n",
       "EMEA                                        6\n",
       "Java,J2ee, JSF                              6\n",
       "Global Labelling                            6\n",
       "JAVA,SQL                                    5\n",
       "Java,J2EE                                   5\n",
       "Licensing – RA                              4\n",
       "SCCm- Desktop support                       4\n",
       "generic drugs – RA                          4\n",
       "Lending & Liability                         4\n",
       "Java ,J2ee                                  4\n",
       "Java                                        3\n",
       "JAVA/J2EE                                   3\n",
       "Java,SQL                                    3\n",
       "Java, SQL                                   3\n",
       "Lending And Liabilities                     3\n",
       "Java, XML, Struts, hibernate                3\n",
       "Biosimillar                                 3\n",
       "Lending&Liablities                          2\n",
       "Java, Spring, Hibernate                     2\n",
       "11.30 AM                                    2\n",
       "Production Support - SCCM                   2\n",
       "Banking operations                          2\n",
       "Submission Management                       2\n",
       "Java J2EE                                   2\n",
       "L & L                                       2\n",
       "RA Label                                    2\n",
       "LCM -Manager                                2\n",
       "11.30 Am                                    1\n",
       "SCCM – Sharepoint                           1\n",
       "9.30 AM                                     1\n",
       "SCCM-(Network, sharepoint,ms exchange)      1\n",
       "Java, J2Ee                                  1\n",
       "Java Developer                              1\n",
       "9.00 Am                                     1\n",
       "SCCM – SQL                                  1\n",
       "Sccm- networking                            1\n",
       "12.30 Pm                                    1\n",
       "sccm                                        1\n",
       "10.00 AM                                    1\n",
       "BaseSAS Program/ Reporting                  1\n",
       "Biosimilars                                 1\n",
       "production                                  1\n",
       "Name: Technical_Skillset, dtype: int64"
      ]
     },
     "execution_count": 285,
     "metadata": {},
     "output_type": "execute_result"
    }
   ],
   "source": [
    "data.Technical_Skillset.value_counts()"
   ]
  },
  {
   "cell_type": "markdown",
   "metadata": {},
   "source": [
    "## Reframing the unique Technical Skills"
   ]
  },
  {
   "cell_type": "code",
   "execution_count": 286,
   "metadata": {},
   "outputs": [],
   "source": [
    "Java_hibernate=['JAVA/J2EE/Struts/Hibernate' ,'JAVA/SPRING/HIBERNATE/JSF' ,'Java,J2ee, JSF','Java, Spring, Hibernate' ,'Java, XML, Struts, hibernate']\n",
    "Java_SQL=['JAVA,SQL' ,'Java,SQL', 'Java, SQL','Jsva']\n",
    "JAVA= [ 'Java J2EE' ,'Java ,J2ee' ,'Java J2ee', 'Java, J2Ee' ,'Java,J2EE','Java Developer','Java ' ,'Java', 'Java/J2ee', 'JAVA/J2EE']\n",
    "SSCM=['SCCM','SCCM-(Network, sharepoint,ms exchange)', 'SCCm- Desktop support','Sccm- networking' ,'sccm', 'SCCM – SQL' ,'SCCM – Sharepoint', 'Production Support - SCCM']\n",
    "SAS=['BaseSAS Program/ Reporting']\n",
    "Lending_Liablilities =['Lending and Liabilities' ,'Lending & Liability' ,'Lending And Liabilities','L & L' , 'Lending&Liablities']\n",
    "Marker=['11.30 AM', '10.00 AM' ,'9.00 Am' ,'12.30 Pm','9.30 AM' ,'11.30 Am']\n",
    "Clientname=['Aon hewitt Gurgaon','Aon Hewitt']\n",
    "CYC=['CDD KYC']\n"
   ]
  },
  {
   "cell_type": "code",
   "execution_count": 287,
   "metadata": {},
   "outputs": [],
   "source": [
    "data['Technical_Skillset'] = data['Technical_Skillset'].apply(lambda x: 'Java_SQL' if x in Java_SQL else x)\n",
    "data['Technical_Skillset'] = data['Technical_Skillset'].apply(lambda x: 'Java_Hibernate' if x in Java_hibernate else x)\n",
    "data['Technical_Skillset'] = data['Technical_Skillset'].apply(lambda x: 'SAS' if x in SAS else x)\n",
    "data['Technical_Skillset'] = data['Technical_Skillset'].apply(lambda x: 'SSCM' if x in SSCM else x)\n",
    "data['Technical_Skillset'] = data['Technical_Skillset'].apply(lambda x: 'Java' if x in JAVA else x)\n",
    "data['Technical_Skillset'] = data['Technical_Skillset'].apply(lambda x: 'Lending_&_Liablities' if x in Lending_Liablilities else x)\n",
    "data['Technical_Skillset'] = data['Technical_Skillset'].apply(lambda x: 'NA' if x in Marker else x)\n",
    "data['Technical_Skillset'] = data['Technical_Skillset'].apply(lambda x:  'AML/KYC/CDD'if x in CYC else x)\n",
    "data['Client_name'] = data['Client_name'].apply(lambda x: 'Aon Hewitt' if x in Clientname else x)"
   ]
  },
  {
   "cell_type": "code",
   "execution_count": 288,
   "metadata": {},
   "outputs": [
    {
     "name": "stdout",
     "output_type": "stream",
     "text": [
      "Java_Hibernate             239\n",
      "AML/KYC/CDD                136\n",
      "Accounting Operations       78\n",
      "Java                        48\n",
      "Lending_&_Liablities        33\n",
      "SAS                         28\n",
      "SSCM                        25\n",
      "Banking Operations          18\n",
      "ALS Testing                 15\n",
      "Hadoop                      12\n",
      "Java_SQL                    11\n",
      "Publishing                   9\n",
      "RA Publishing                9\n",
      "NA                           7\n",
      "Automation Testing Java      7\n",
      "Biosimiliars                 6\n",
      "EMEA                         6\n",
      "Global Labelling             6\n",
      "generic drugs – RA           4\n",
      "Licensing – RA               4\n",
      "Biosimillar                  3\n",
      "RA Label                     2\n",
      "LCM -Manager                 2\n",
      "Submission Management        2\n",
      "Banking operations           2\n",
      "Biosimilars                  1\n",
      "production                   1\n",
      "Name: Technical_Skillset, dtype: int64\n"
     ]
    }
   ],
   "source": [
    "print(data.Technical_Skillset.value_counts())"
   ]
  },
  {
   "cell_type": "code",
   "execution_count": 289,
   "metadata": {},
   "outputs": [
    {
     "name": "stdout",
     "output_type": "stream",
     "text": [
      "Standard Chartered Bank    601\n",
      "Pfizer                      37\n",
      "Aon Hewitt                  25\n",
      "Hospira                     18\n",
      "ANZ                         18\n",
      "Astrazeneca                 15\n",
      "Name: Client_name, dtype: int64\n"
     ]
    }
   ],
   "source": [
    "print(data.Client_name.value_counts())"
   ]
  },
  {
   "cell_type": "code",
   "execution_count": 290,
   "metadata": {},
   "outputs": [],
   "source": [
    "data['ID']=data['ID'].str.split(' ').str[1].astype(int)"
   ]
  },
  {
   "cell_type": "code",
   "execution_count": 291,
   "metadata": {},
   "outputs": [
    {
     "data": {
      "text/plain": [
       "array(['Scheduled Walkin', 'Scheduled ', 'Scheduled Walk In', 'Walkin',\n",
       "       'Walkin '], dtype=object)"
      ]
     },
     "execution_count": 291,
     "metadata": {},
     "output_type": "execute_result"
    }
   ],
   "source": [
    "data.Interview_Type.unique()"
   ]
  },
  {
   "cell_type": "code",
   "execution_count": 292,
   "metadata": {},
   "outputs": [
    {
     "data": {
      "text/plain": [
       "array(['Scheduled_Walkin', 'Scheduled', 'Walkin'], dtype=object)"
      ]
     },
     "execution_count": 292,
     "metadata": {},
     "output_type": "execute_result"
    }
   ],
   "source": [
    "Marker_Interview=['Scheduled Walk In','Scheduled Walkin']\n",
    "data['Interview_Type'] = data['Interview_Type'].apply(lambda x: 'Scheduled_Walkin' if x in Marker_Interview  else x)\n",
    "data['Interview_Type'] = data['Interview_Type'].str.strip()\n",
    "data.Interview_Type.unique()"
   ]
  },
  {
   "cell_type": "code",
   "execution_count": 293,
   "metadata": {},
   "outputs": [
    {
     "data": {
      "text/plain": [
       "Scheduled_Walkin    489\n",
       "Scheduled           170\n",
       "Walkin               55\n",
       "Name: Interview_Type, dtype: int64"
      ]
     },
     "execution_count": 293,
     "metadata": {},
     "output_type": "execute_result"
    }
   ],
   "source": [
    "data['Interview_Type'].value_counts()"
   ]
  },
  {
   "cell_type": "code",
   "execution_count": 294,
   "metadata": {},
   "outputs": [
    {
     "data": {
      "text/plain": [
       "array(['yes', 'no', 'No', 'Yes', 'yes ', 'No ', 'NO'], dtype=object)"
      ]
     },
     "execution_count": 294,
     "metadata": {},
     "output_type": "execute_result"
    }
   ],
   "source": [
    "data['Observed_Attendance'].unique()"
   ]
  },
  {
   "cell_type": "code",
   "execution_count": 295,
   "metadata": {},
   "outputs": [
    {
     "data": {
      "text/plain": [
       "array(['Yes', 'No'], dtype=object)"
      ]
     },
     "execution_count": 295,
     "metadata": {},
     "output_type": "execute_result"
    }
   ],
   "source": [
    "Marker=['yes', 'Yes', 'yes ']\n",
    "data['Observed_Attendance'] = data['Observed_Attendance'].apply(lambda x: 'Yes' if x in Marker else 'No')\n",
    "data['Observed_Attendance'].unique()"
   ]
  },
  {
   "cell_type": "code",
   "execution_count": 296,
   "metadata": {},
   "outputs": [
    {
     "data": {
      "text/plain": [
       "array(['Yes', 'No', 'Uncertain', 'NO', 'NA'], dtype=object)"
      ]
     },
     "execution_count": 296,
     "metadata": {},
     "output_type": "execute_result"
    }
   ],
   "source": [
    "data['Expected_Attendance'].unique()"
   ]
  },
  {
   "cell_type": "code",
   "execution_count": 297,
   "metadata": {},
   "outputs": [
    {
     "data": {
      "text/plain": [
       "array(['Yes', 'No', 'Uncertain', 'NA'], dtype=object)"
      ]
     },
     "execution_count": 297,
     "metadata": {},
     "output_type": "execute_result"
    }
   ],
   "source": [
    "Marker=['NO']\n",
    "# Apply title case to every entity NOT in myString\n",
    "data['Expected_Attendance'] = data['Expected_Attendance'].apply(lambda x: 'No' if x in Marker else x )\n",
    "data['Expected_Attendance'].unique()"
   ]
  },
  {
   "cell_type": "code",
   "execution_count": 298,
   "metadata": {},
   "outputs": [
    {
     "data": {
      "text/plain": [
       "array([1, 0], dtype=int64)"
      ]
     },
     "execution_count": 298,
     "metadata": {},
     "output_type": "execute_result"
    }
   ],
   "source": [
    "Marker=['yes', 'Yes', 'yes ']\n",
    "data['Observed_Attendance_Numeric'] = data['Observed_Attendance'].apply(lambda x: 1 if x in Marker else 0)\n",
    "data['Observed_Attendance_Numeric'].unique()"
   ]
  },
  {
   "cell_type": "code",
   "execution_count": 299,
   "metadata": {},
   "outputs": [
    {
     "name": "stdout",
     "output_type": "stream",
     "text": [
      "468\n",
      "246\n"
     ]
    }
   ],
   "source": [
    "#datasets\n",
    "Present= data[(data['Observed_Attendance_Numeric'] == 1)]\n",
    "print(len(Present))\n",
    "Absent = data[(data['Observed_Attendance_Numeric'] == 0)]\n",
    "print(len(Absent))"
   ]
  },
  {
   "cell_type": "code",
   "execution_count": 300,
   "metadata": {},
   "outputs": [
    {
     "data": {
      "text/plain": [
       "array([1, 0], dtype=int64)"
      ]
     },
     "execution_count": 300,
     "metadata": {},
     "output_type": "execute_result"
    }
   ],
   "source": [
    "data.Observed_Attendance_Numeric.unique()"
   ]
  },
  {
   "cell_type": "code",
   "execution_count": 301,
   "metadata": {},
   "outputs": [
    {
     "data": {
      "text/plain": [
       "Date_of_Interview              object\n",
       "Client_name                    object\n",
       "Industry                       object\n",
       "Location                       object\n",
       "Position_Status                object\n",
       "Technical_Skillset             object\n",
       "Interview_Type                 object\n",
       "ID                              int32\n",
       "Gender                         object\n",
       "Candidate_Current_Location     object\n",
       "Candidate_Job_Location         object\n",
       "Interview_Venue                object\n",
       "Candidate_Native_location      object\n",
       "Q1                             object\n",
       "Q2                             object\n",
       "Q3                             object\n",
       "Q4                             object\n",
       "Q5                             object\n",
       "Q6                             object\n",
       "Q7                             object\n",
       "Expected_Attendance            object\n",
       "Observed_Attendance            object\n",
       "Marital_Status                 object\n",
       "Year                           object\n",
       "Month                          object\n",
       "Day                            object\n",
       "Observed_Attendance_Numeric     int64\n",
       "dtype: object"
      ]
     },
     "execution_count": 301,
     "metadata": {},
     "output_type": "execute_result"
    }
   ],
   "source": [
    "data.dtypes"
   ]
  },
  {
   "cell_type": "code",
   "execution_count": 302,
   "metadata": {},
   "outputs": [
    {
     "data": {
      "text/plain": [
       "count     714\n",
       "unique      2\n",
       "top       Yes\n",
       "freq      468\n",
       "Name: Observed_Attendance, dtype: object"
      ]
     },
     "execution_count": 302,
     "metadata": {},
     "output_type": "execute_result"
    }
   ],
   "source": [
    "data.Observed_Attendance.describe()"
   ]
  },
  {
   "cell_type": "code",
   "execution_count": 303,
   "metadata": {},
   "outputs": [
    {
     "name": "stdout",
     "output_type": "stream",
     "text": [
      "Uniques values in Client_name :\n",
      "['Standard Chartered Bank' 'ANZ' 'Hospira' 'Pfizer' 'Aon Hewitt'\n",
      " 'Astrazeneca']\n",
      "Uniques values in Industry :\n",
      "['BFSI' 'Pharmaceuticals' 'IT Products and Services']\n",
      "Uniques values in Position_Status :\n",
      "['Routine' 'Niche']\n",
      "Uniques values in Technical_Skillset :\n",
      "['Accounting Operations' 'Banking Operations' 'AML/KYC/CDD' 'Biosimiliars'\n",
      " 'RA Label' 'RA Publishing' 'EMEA' 'LCM -Manager' 'Licensing – RA'\n",
      " 'generic drugs – RA' 'Biosimilars' 'production' 'Java' 'Java_SQL'\n",
      " 'Automation Testing Java' 'Submission Management' 'Biosimillar'\n",
      " 'Publishing' 'Global Labelling' 'ALS Testing' 'Lending_&_Liablities'\n",
      " 'Banking operations' 'Java_Hibernate' 'NA' 'Hadoop' 'SSCM' 'SAS']\n",
      "Uniques values in Interview_Type :\n",
      "['Scheduled_Walkin' 'Scheduled' 'Walkin']\n",
      "Uniques values in Gender :\n",
      "['Male' 'Female']\n",
      "Uniques values in Interview_Venue :\n",
      "['Chennai' 'Bangalore' 'Hyderabad' 'Gurgaon' 'Noida']\n",
      "Uniques values in Candidate_Native_location :\n",
      "['Chennai' 'Hyderabad' 'Cochin' 'Trivandrum' 'Bangalore' 'Pune' 'Kolkata'\n",
      " 'Allahabad' 'Panjim' 'Mumbai' 'Cuttack' 'Gurgaon' 'Visakapatinam'\n",
      " 'Belgaum' 'Noida' 'Patna' 'Chitoor' 'Anantapur' 'Warangal' 'Agra'\n",
      " 'Bhubaneshwar' 'Ghaziabad' 'Baddi' 'Hosur' 'Trichy' 'Nagercoil'\n",
      " 'Tuticorin' 'Coimbatore' 'Tirupati' 'Vellore' 'Ambur' 'Chandigarh'\n",
      " 'Ahmedabad' 'Mysore' 'Delhi' 'Salem']\n",
      "Uniques values in Q1 :\n",
      "['Yes' 'Na' 'No' 'Not yet']\n",
      "Uniques values in Q2 :\n",
      "['Yes' 'No' 'Na']\n",
      "Uniques values in Q3 :\n",
      "['Yes' 'No' 'Na']\n",
      "Uniques values in Q4 :\n",
      "['Yes' 'Na' 'No']\n",
      "Uniques values in Q5 :\n",
      "['Yes' 'No' 'Na' 'Not yet']\n",
      "Uniques values in Q6 :\n",
      "['Yes' 'Na' 'No']\n",
      "Uniques values in Q7 :\n",
      "['Yes' 'Yet to Check' 'Not Sure' 'Na' 'Not yet' 'No']\n",
      "Uniques values in Expected_Attendance :\n",
      "['Yes' 'No' 'Uncertain' 'NA']\n",
      "Uniques values in Observed_Attendance :\n",
      "['Yes' 'No']\n",
      "Uniques values in Marital_Status :\n",
      "['Single' 'Married']\n"
     ]
    }
   ],
   "source": [
    "cols=[ 'Client_name', 'Industry',\n",
    "       'Position_Status', 'Technical_Skillset', 'Interview_Type',\n",
    "       'Gender','Interview_Venue', 'Candidate_Native_location', 'Q1', 'Q2', 'Q3', 'Q4',\n",
    "       'Q5', 'Q6', 'Q7', 'Expected_Attendance', 'Observed_Attendance',\n",
    "       'Marital_Status']\n",
    "for i in cols:\n",
    "    print(\"Uniques values in\",i,':')\n",
    "    print(data[i].unique())\n",
    "    "
   ]
  },
  {
   "cell_type": "markdown",
   "metadata": {},
   "source": [
    "# Visualization"
   ]
  },
  {
   "cell_type": "markdown",
   "metadata": {},
   "source": [
    "## Distribution of observed attendence"
   ]
  },
  {
   "cell_type": "code",
   "execution_count": 304,
   "metadata": {},
   "outputs": [
    {
     "data": {
      "application/vnd.plotly.v1+json": {
       "config": {
        "linkText": "Export to plot.ly",
        "plotlyServerURL": "https://plot.ly",
        "showLink": false
       },
       "data": [
        {
         "marker": {
          "color": [
           "green",
           "darkviolet"
          ],
          "line": {
           "color": "#000000",
           "width": 1.5
          }
         },
         "opacity": 0.8,
         "orientation": "h",
         "type": "bar",
         "x": [
          468,
          246
         ],
         "y": [
          "Present",
          "Absent"
         ]
        }
       ],
       "layout": {
        "template": {
         "data": {
          "bar": [
           {
            "error_x": {
             "color": "#2a3f5f"
            },
            "error_y": {
             "color": "#2a3f5f"
            },
            "marker": {
             "line": {
              "color": "#E5ECF6",
              "width": 0.5
             }
            },
            "type": "bar"
           }
          ],
          "barpolar": [
           {
            "marker": {
             "line": {
              "color": "#E5ECF6",
              "width": 0.5
             }
            },
            "type": "barpolar"
           }
          ],
          "carpet": [
           {
            "aaxis": {
             "endlinecolor": "#2a3f5f",
             "gridcolor": "white",
             "linecolor": "white",
             "minorgridcolor": "white",
             "startlinecolor": "#2a3f5f"
            },
            "baxis": {
             "endlinecolor": "#2a3f5f",
             "gridcolor": "white",
             "linecolor": "white",
             "minorgridcolor": "white",
             "startlinecolor": "#2a3f5f"
            },
            "type": "carpet"
           }
          ],
          "choropleth": [
           {
            "colorbar": {
             "outlinewidth": 0,
             "ticks": ""
            },
            "type": "choropleth"
           }
          ],
          "contour": [
           {
            "colorbar": {
             "outlinewidth": 0,
             "ticks": ""
            },
            "colorscale": [
             [
              0,
              "#0d0887"
             ],
             [
              0.1111111111111111,
              "#46039f"
             ],
             [
              0.2222222222222222,
              "#7201a8"
             ],
             [
              0.3333333333333333,
              "#9c179e"
             ],
             [
              0.4444444444444444,
              "#bd3786"
             ],
             [
              0.5555555555555556,
              "#d8576b"
             ],
             [
              0.6666666666666666,
              "#ed7953"
             ],
             [
              0.7777777777777778,
              "#fb9f3a"
             ],
             [
              0.8888888888888888,
              "#fdca26"
             ],
             [
              1,
              "#f0f921"
             ]
            ],
            "type": "contour"
           }
          ],
          "contourcarpet": [
           {
            "colorbar": {
             "outlinewidth": 0,
             "ticks": ""
            },
            "type": "contourcarpet"
           }
          ],
          "heatmap": [
           {
            "colorbar": {
             "outlinewidth": 0,
             "ticks": ""
            },
            "colorscale": [
             [
              0,
              "#0d0887"
             ],
             [
              0.1111111111111111,
              "#46039f"
             ],
             [
              0.2222222222222222,
              "#7201a8"
             ],
             [
              0.3333333333333333,
              "#9c179e"
             ],
             [
              0.4444444444444444,
              "#bd3786"
             ],
             [
              0.5555555555555556,
              "#d8576b"
             ],
             [
              0.6666666666666666,
              "#ed7953"
             ],
             [
              0.7777777777777778,
              "#fb9f3a"
             ],
             [
              0.8888888888888888,
              "#fdca26"
             ],
             [
              1,
              "#f0f921"
             ]
            ],
            "type": "heatmap"
           }
          ],
          "heatmapgl": [
           {
            "colorbar": {
             "outlinewidth": 0,
             "ticks": ""
            },
            "colorscale": [
             [
              0,
              "#0d0887"
             ],
             [
              0.1111111111111111,
              "#46039f"
             ],
             [
              0.2222222222222222,
              "#7201a8"
             ],
             [
              0.3333333333333333,
              "#9c179e"
             ],
             [
              0.4444444444444444,
              "#bd3786"
             ],
             [
              0.5555555555555556,
              "#d8576b"
             ],
             [
              0.6666666666666666,
              "#ed7953"
             ],
             [
              0.7777777777777778,
              "#fb9f3a"
             ],
             [
              0.8888888888888888,
              "#fdca26"
             ],
             [
              1,
              "#f0f921"
             ]
            ],
            "type": "heatmapgl"
           }
          ],
          "histogram": [
           {
            "marker": {
             "colorbar": {
              "outlinewidth": 0,
              "ticks": ""
             }
            },
            "type": "histogram"
           }
          ],
          "histogram2d": [
           {
            "colorbar": {
             "outlinewidth": 0,
             "ticks": ""
            },
            "colorscale": [
             [
              0,
              "#0d0887"
             ],
             [
              0.1111111111111111,
              "#46039f"
             ],
             [
              0.2222222222222222,
              "#7201a8"
             ],
             [
              0.3333333333333333,
              "#9c179e"
             ],
             [
              0.4444444444444444,
              "#bd3786"
             ],
             [
              0.5555555555555556,
              "#d8576b"
             ],
             [
              0.6666666666666666,
              "#ed7953"
             ],
             [
              0.7777777777777778,
              "#fb9f3a"
             ],
             [
              0.8888888888888888,
              "#fdca26"
             ],
             [
              1,
              "#f0f921"
             ]
            ],
            "type": "histogram2d"
           }
          ],
          "histogram2dcontour": [
           {
            "colorbar": {
             "outlinewidth": 0,
             "ticks": ""
            },
            "colorscale": [
             [
              0,
              "#0d0887"
             ],
             [
              0.1111111111111111,
              "#46039f"
             ],
             [
              0.2222222222222222,
              "#7201a8"
             ],
             [
              0.3333333333333333,
              "#9c179e"
             ],
             [
              0.4444444444444444,
              "#bd3786"
             ],
             [
              0.5555555555555556,
              "#d8576b"
             ],
             [
              0.6666666666666666,
              "#ed7953"
             ],
             [
              0.7777777777777778,
              "#fb9f3a"
             ],
             [
              0.8888888888888888,
              "#fdca26"
             ],
             [
              1,
              "#f0f921"
             ]
            ],
            "type": "histogram2dcontour"
           }
          ],
          "mesh3d": [
           {
            "colorbar": {
             "outlinewidth": 0,
             "ticks": ""
            },
            "type": "mesh3d"
           }
          ],
          "parcoords": [
           {
            "line": {
             "colorbar": {
              "outlinewidth": 0,
              "ticks": ""
             }
            },
            "type": "parcoords"
           }
          ],
          "scatter": [
           {
            "marker": {
             "colorbar": {
              "outlinewidth": 0,
              "ticks": ""
             }
            },
            "type": "scatter"
           }
          ],
          "scatter3d": [
           {
            "line": {
             "colorbar": {
              "outlinewidth": 0,
              "ticks": ""
             }
            },
            "marker": {
             "colorbar": {
              "outlinewidth": 0,
              "ticks": ""
             }
            },
            "type": "scatter3d"
           }
          ],
          "scattercarpet": [
           {
            "marker": {
             "colorbar": {
              "outlinewidth": 0,
              "ticks": ""
             }
            },
            "type": "scattercarpet"
           }
          ],
          "scattergeo": [
           {
            "marker": {
             "colorbar": {
              "outlinewidth": 0,
              "ticks": ""
             }
            },
            "type": "scattergeo"
           }
          ],
          "scattergl": [
           {
            "marker": {
             "colorbar": {
              "outlinewidth": 0,
              "ticks": ""
             }
            },
            "type": "scattergl"
           }
          ],
          "scattermapbox": [
           {
            "marker": {
             "colorbar": {
              "outlinewidth": 0,
              "ticks": ""
             }
            },
            "type": "scattermapbox"
           }
          ],
          "scatterpolar": [
           {
            "marker": {
             "colorbar": {
              "outlinewidth": 0,
              "ticks": ""
             }
            },
            "type": "scatterpolar"
           }
          ],
          "scatterpolargl": [
           {
            "marker": {
             "colorbar": {
              "outlinewidth": 0,
              "ticks": ""
             }
            },
            "type": "scatterpolargl"
           }
          ],
          "scatterternary": [
           {
            "marker": {
             "colorbar": {
              "outlinewidth": 0,
              "ticks": ""
             }
            },
            "type": "scatterternary"
           }
          ],
          "surface": [
           {
            "colorbar": {
             "outlinewidth": 0,
             "ticks": ""
            },
            "colorscale": [
             [
              0,
              "#0d0887"
             ],
             [
              0.1111111111111111,
              "#46039f"
             ],
             [
              0.2222222222222222,
              "#7201a8"
             ],
             [
              0.3333333333333333,
              "#9c179e"
             ],
             [
              0.4444444444444444,
              "#bd3786"
             ],
             [
              0.5555555555555556,
              "#d8576b"
             ],
             [
              0.6666666666666666,
              "#ed7953"
             ],
             [
              0.7777777777777778,
              "#fb9f3a"
             ],
             [
              0.8888888888888888,
              "#fdca26"
             ],
             [
              1,
              "#f0f921"
             ]
            ],
            "type": "surface"
           }
          ],
          "table": [
           {
            "cells": {
             "fill": {
              "color": "#EBF0F8"
             },
             "line": {
              "color": "white"
             }
            },
            "header": {
             "fill": {
              "color": "#C8D4E3"
             },
             "line": {
              "color": "white"
             }
            },
            "type": "table"
           }
          ]
         },
         "layout": {
          "annotationdefaults": {
           "arrowcolor": "#2a3f5f",
           "arrowhead": 0,
           "arrowwidth": 1
          },
          "colorscale": {
           "diverging": [
            [
             0,
             "#8e0152"
            ],
            [
             0.1,
             "#c51b7d"
            ],
            [
             0.2,
             "#de77ae"
            ],
            [
             0.3,
             "#f1b6da"
            ],
            [
             0.4,
             "#fde0ef"
            ],
            [
             0.5,
             "#f7f7f7"
            ],
            [
             0.6,
             "#e6f5d0"
            ],
            [
             0.7,
             "#b8e186"
            ],
            [
             0.8,
             "#7fbc41"
            ],
            [
             0.9,
             "#4d9221"
            ],
            [
             1,
             "#276419"
            ]
           ],
           "sequential": [
            [
             0,
             "#0d0887"
            ],
            [
             0.1111111111111111,
             "#46039f"
            ],
            [
             0.2222222222222222,
             "#7201a8"
            ],
            [
             0.3333333333333333,
             "#9c179e"
            ],
            [
             0.4444444444444444,
             "#bd3786"
            ],
            [
             0.5555555555555556,
             "#d8576b"
            ],
            [
             0.6666666666666666,
             "#ed7953"
            ],
            [
             0.7777777777777778,
             "#fb9f3a"
            ],
            [
             0.8888888888888888,
             "#fdca26"
            ],
            [
             1,
             "#f0f921"
            ]
           ],
           "sequentialminus": [
            [
             0,
             "#0d0887"
            ],
            [
             0.1111111111111111,
             "#46039f"
            ],
            [
             0.2222222222222222,
             "#7201a8"
            ],
            [
             0.3333333333333333,
             "#9c179e"
            ],
            [
             0.4444444444444444,
             "#bd3786"
            ],
            [
             0.5555555555555556,
             "#d8576b"
            ],
            [
             0.6666666666666666,
             "#ed7953"
            ],
            [
             0.7777777777777778,
             "#fb9f3a"
            ],
            [
             0.8888888888888888,
             "#fdca26"
            ],
            [
             1,
             "#f0f921"
            ]
           ]
          },
          "colorway": [
           "#636efa",
           "#EF553B",
           "#00cc96",
           "#ab63fa",
           "#FFA15A",
           "#19d3f3",
           "#FF6692",
           "#B6E880",
           "#FF97FF",
           "#FECB52"
          ],
          "font": {
           "color": "#2a3f5f"
          },
          "geo": {
           "bgcolor": "white",
           "lakecolor": "white",
           "landcolor": "#E5ECF6",
           "showlakes": true,
           "showland": true,
           "subunitcolor": "white"
          },
          "hoverlabel": {
           "align": "left"
          },
          "hovermode": "closest",
          "mapbox": {
           "style": "light"
          },
          "paper_bgcolor": "white",
          "plot_bgcolor": "#E5ECF6",
          "polar": {
           "angularaxis": {
            "gridcolor": "white",
            "linecolor": "white",
            "ticks": ""
           },
           "bgcolor": "#E5ECF6",
           "radialaxis": {
            "gridcolor": "white",
            "linecolor": "white",
            "ticks": ""
           }
          },
          "scene": {
           "xaxis": {
            "backgroundcolor": "#E5ECF6",
            "gridcolor": "white",
            "gridwidth": 2,
            "linecolor": "white",
            "showbackground": true,
            "ticks": "",
            "zerolinecolor": "white"
           },
           "yaxis": {
            "backgroundcolor": "#E5ECF6",
            "gridcolor": "white",
            "gridwidth": 2,
            "linecolor": "white",
            "showbackground": true,
            "ticks": "",
            "zerolinecolor": "white"
           },
           "zaxis": {
            "backgroundcolor": "#E5ECF6",
            "gridcolor": "white",
            "gridwidth": 2,
            "linecolor": "white",
            "showbackground": true,
            "ticks": "",
            "zerolinecolor": "white"
           }
          },
          "shapedefaults": {
           "line": {
            "color": "#2a3f5f"
           }
          },
          "ternary": {
           "aaxis": {
            "gridcolor": "white",
            "linecolor": "white",
            "ticks": ""
           },
           "baxis": {
            "gridcolor": "white",
            "linecolor": "white",
            "ticks": ""
           },
           "bgcolor": "#E5ECF6",
           "caxis": {
            "gridcolor": "white",
            "linecolor": "white",
            "ticks": ""
           }
          },
          "title": {
           "x": 0.05
          },
          "xaxis": {
           "automargin": true,
           "gridcolor": "white",
           "linecolor": "white",
           "ticks": "",
           "zerolinecolor": "white",
           "zerolinewidth": 2
          },
          "yaxis": {
           "automargin": true,
           "gridcolor": "white",
           "linecolor": "white",
           "ticks": "",
           "zerolinecolor": "white",
           "zerolinewidth": 2
          }
         }
        },
        "title": {
         "text": "Count of diagnosis variable"
        }
       }
      },
      "text/html": [
       "<div>\n",
       "        \n",
       "        \n",
       "            <div id=\"1ac2fb16-8f6f-4268-9481-2c18257d59c6\" class=\"plotly-graph-div\" style=\"height:525px; width:100%;\"></div>\n",
       "            <script type=\"text/javascript\">\n",
       "                require([\"plotly\"], function(Plotly) {\n",
       "                    window.PLOTLYENV=window.PLOTLYENV || {};\n",
       "                    \n",
       "                if (document.getElementById(\"1ac2fb16-8f6f-4268-9481-2c18257d59c6\")) {\n",
       "                    Plotly.newPlot(\n",
       "                        '1ac2fb16-8f6f-4268-9481-2c18257d59c6',\n",
       "                        [{\"marker\": {\"color\": [\"green\", \"darkviolet\"], \"line\": {\"color\": \"#000000\", \"width\": 1.5}}, \"opacity\": 0.8, \"orientation\": \"h\", \"type\": \"bar\", \"x\": [468, 246], \"y\": [\"Present\", \"Absent\"]}],\n",
       "                        {\"template\": {\"data\": {\"bar\": [{\"error_x\": {\"color\": \"#2a3f5f\"}, \"error_y\": {\"color\": \"#2a3f5f\"}, \"marker\": {\"line\": {\"color\": \"#E5ECF6\", \"width\": 0.5}}, \"type\": \"bar\"}], \"barpolar\": [{\"marker\": {\"line\": {\"color\": \"#E5ECF6\", \"width\": 0.5}}, \"type\": \"barpolar\"}], \"carpet\": [{\"aaxis\": {\"endlinecolor\": \"#2a3f5f\", \"gridcolor\": \"white\", \"linecolor\": \"white\", \"minorgridcolor\": \"white\", \"startlinecolor\": \"#2a3f5f\"}, \"baxis\": {\"endlinecolor\": \"#2a3f5f\", \"gridcolor\": \"white\", \"linecolor\": \"white\", \"minorgridcolor\": \"white\", \"startlinecolor\": \"#2a3f5f\"}, \"type\": \"carpet\"}], \"choropleth\": [{\"colorbar\": {\"outlinewidth\": 0, \"ticks\": \"\"}, \"type\": \"choropleth\"}], \"contour\": [{\"colorbar\": {\"outlinewidth\": 0, \"ticks\": \"\"}, \"colorscale\": [[0.0, \"#0d0887\"], [0.1111111111111111, \"#46039f\"], [0.2222222222222222, \"#7201a8\"], [0.3333333333333333, \"#9c179e\"], [0.4444444444444444, \"#bd3786\"], [0.5555555555555556, \"#d8576b\"], [0.6666666666666666, \"#ed7953\"], [0.7777777777777778, \"#fb9f3a\"], [0.8888888888888888, \"#fdca26\"], [1.0, \"#f0f921\"]], \"type\": \"contour\"}], \"contourcarpet\": [{\"colorbar\": {\"outlinewidth\": 0, \"ticks\": \"\"}, \"type\": \"contourcarpet\"}], \"heatmap\": [{\"colorbar\": {\"outlinewidth\": 0, \"ticks\": \"\"}, \"colorscale\": [[0.0, \"#0d0887\"], [0.1111111111111111, \"#46039f\"], [0.2222222222222222, \"#7201a8\"], [0.3333333333333333, \"#9c179e\"], [0.4444444444444444, \"#bd3786\"], [0.5555555555555556, \"#d8576b\"], [0.6666666666666666, \"#ed7953\"], [0.7777777777777778, \"#fb9f3a\"], [0.8888888888888888, \"#fdca26\"], [1.0, \"#f0f921\"]], \"type\": \"heatmap\"}], \"heatmapgl\": [{\"colorbar\": {\"outlinewidth\": 0, \"ticks\": \"\"}, \"colorscale\": [[0.0, \"#0d0887\"], [0.1111111111111111, \"#46039f\"], [0.2222222222222222, \"#7201a8\"], [0.3333333333333333, \"#9c179e\"], [0.4444444444444444, \"#bd3786\"], [0.5555555555555556, \"#d8576b\"], [0.6666666666666666, \"#ed7953\"], [0.7777777777777778, \"#fb9f3a\"], [0.8888888888888888, \"#fdca26\"], [1.0, \"#f0f921\"]], \"type\": \"heatmapgl\"}], \"histogram\": [{\"marker\": {\"colorbar\": {\"outlinewidth\": 0, \"ticks\": \"\"}}, \"type\": \"histogram\"}], \"histogram2d\": [{\"colorbar\": {\"outlinewidth\": 0, \"ticks\": \"\"}, \"colorscale\": [[0.0, \"#0d0887\"], [0.1111111111111111, \"#46039f\"], [0.2222222222222222, \"#7201a8\"], [0.3333333333333333, \"#9c179e\"], [0.4444444444444444, \"#bd3786\"], [0.5555555555555556, \"#d8576b\"], [0.6666666666666666, \"#ed7953\"], [0.7777777777777778, \"#fb9f3a\"], [0.8888888888888888, \"#fdca26\"], [1.0, \"#f0f921\"]], \"type\": \"histogram2d\"}], \"histogram2dcontour\": [{\"colorbar\": {\"outlinewidth\": 0, \"ticks\": \"\"}, \"colorscale\": [[0.0, \"#0d0887\"], [0.1111111111111111, \"#46039f\"], [0.2222222222222222, \"#7201a8\"], [0.3333333333333333, \"#9c179e\"], [0.4444444444444444, \"#bd3786\"], [0.5555555555555556, \"#d8576b\"], [0.6666666666666666, \"#ed7953\"], [0.7777777777777778, \"#fb9f3a\"], [0.8888888888888888, \"#fdca26\"], [1.0, \"#f0f921\"]], \"type\": \"histogram2dcontour\"}], \"mesh3d\": [{\"colorbar\": {\"outlinewidth\": 0, \"ticks\": \"\"}, \"type\": \"mesh3d\"}], \"parcoords\": [{\"line\": {\"colorbar\": {\"outlinewidth\": 0, \"ticks\": \"\"}}, \"type\": \"parcoords\"}], \"scatter\": [{\"marker\": {\"colorbar\": {\"outlinewidth\": 0, \"ticks\": \"\"}}, \"type\": \"scatter\"}], \"scatter3d\": [{\"line\": {\"colorbar\": {\"outlinewidth\": 0, \"ticks\": \"\"}}, \"marker\": {\"colorbar\": {\"outlinewidth\": 0, \"ticks\": \"\"}}, \"type\": \"scatter3d\"}], \"scattercarpet\": [{\"marker\": {\"colorbar\": {\"outlinewidth\": 0, \"ticks\": \"\"}}, \"type\": \"scattercarpet\"}], \"scattergeo\": [{\"marker\": {\"colorbar\": {\"outlinewidth\": 0, \"ticks\": \"\"}}, \"type\": \"scattergeo\"}], \"scattergl\": [{\"marker\": {\"colorbar\": {\"outlinewidth\": 0, \"ticks\": \"\"}}, \"type\": \"scattergl\"}], \"scattermapbox\": [{\"marker\": {\"colorbar\": {\"outlinewidth\": 0, \"ticks\": \"\"}}, \"type\": \"scattermapbox\"}], \"scatterpolar\": [{\"marker\": {\"colorbar\": {\"outlinewidth\": 0, \"ticks\": \"\"}}, \"type\": \"scatterpolar\"}], \"scatterpolargl\": [{\"marker\": {\"colorbar\": {\"outlinewidth\": 0, \"ticks\": \"\"}}, \"type\": \"scatterpolargl\"}], \"scatterternary\": [{\"marker\": {\"colorbar\": {\"outlinewidth\": 0, \"ticks\": \"\"}}, \"type\": \"scatterternary\"}], \"surface\": [{\"colorbar\": {\"outlinewidth\": 0, \"ticks\": \"\"}, \"colorscale\": [[0.0, \"#0d0887\"], [0.1111111111111111, \"#46039f\"], [0.2222222222222222, \"#7201a8\"], [0.3333333333333333, \"#9c179e\"], [0.4444444444444444, \"#bd3786\"], [0.5555555555555556, \"#d8576b\"], [0.6666666666666666, \"#ed7953\"], [0.7777777777777778, \"#fb9f3a\"], [0.8888888888888888, \"#fdca26\"], [1.0, \"#f0f921\"]], \"type\": \"surface\"}], \"table\": [{\"cells\": {\"fill\": {\"color\": \"#EBF0F8\"}, \"line\": {\"color\": \"white\"}}, \"header\": {\"fill\": {\"color\": \"#C8D4E3\"}, \"line\": {\"color\": \"white\"}}, \"type\": \"table\"}]}, \"layout\": {\"annotationdefaults\": {\"arrowcolor\": \"#2a3f5f\", \"arrowhead\": 0, \"arrowwidth\": 1}, \"colorscale\": {\"diverging\": [[0, \"#8e0152\"], [0.1, \"#c51b7d\"], [0.2, \"#de77ae\"], [0.3, \"#f1b6da\"], [0.4, \"#fde0ef\"], [0.5, \"#f7f7f7\"], [0.6, \"#e6f5d0\"], [0.7, \"#b8e186\"], [0.8, \"#7fbc41\"], [0.9, \"#4d9221\"], [1, \"#276419\"]], \"sequential\": [[0.0, \"#0d0887\"], [0.1111111111111111, \"#46039f\"], [0.2222222222222222, \"#7201a8\"], [0.3333333333333333, \"#9c179e\"], [0.4444444444444444, \"#bd3786\"], [0.5555555555555556, \"#d8576b\"], [0.6666666666666666, \"#ed7953\"], [0.7777777777777778, \"#fb9f3a\"], [0.8888888888888888, \"#fdca26\"], [1.0, \"#f0f921\"]], \"sequentialminus\": [[0.0, \"#0d0887\"], [0.1111111111111111, \"#46039f\"], [0.2222222222222222, \"#7201a8\"], [0.3333333333333333, \"#9c179e\"], [0.4444444444444444, \"#bd3786\"], [0.5555555555555556, \"#d8576b\"], [0.6666666666666666, \"#ed7953\"], [0.7777777777777778, \"#fb9f3a\"], [0.8888888888888888, \"#fdca26\"], [1.0, \"#f0f921\"]]}, \"colorway\": [\"#636efa\", \"#EF553B\", \"#00cc96\", \"#ab63fa\", \"#FFA15A\", \"#19d3f3\", \"#FF6692\", \"#B6E880\", \"#FF97FF\", \"#FECB52\"], \"font\": {\"color\": \"#2a3f5f\"}, \"geo\": {\"bgcolor\": \"white\", \"lakecolor\": \"white\", \"landcolor\": \"#E5ECF6\", \"showlakes\": true, \"showland\": true, \"subunitcolor\": \"white\"}, \"hoverlabel\": {\"align\": \"left\"}, \"hovermode\": \"closest\", \"mapbox\": {\"style\": \"light\"}, \"paper_bgcolor\": \"white\", \"plot_bgcolor\": \"#E5ECF6\", \"polar\": {\"angularaxis\": {\"gridcolor\": \"white\", \"linecolor\": \"white\", \"ticks\": \"\"}, \"bgcolor\": \"#E5ECF6\", \"radialaxis\": {\"gridcolor\": \"white\", \"linecolor\": \"white\", \"ticks\": \"\"}}, \"scene\": {\"xaxis\": {\"backgroundcolor\": \"#E5ECF6\", \"gridcolor\": \"white\", \"gridwidth\": 2, \"linecolor\": \"white\", \"showbackground\": true, \"ticks\": \"\", \"zerolinecolor\": \"white\"}, \"yaxis\": {\"backgroundcolor\": \"#E5ECF6\", \"gridcolor\": \"white\", \"gridwidth\": 2, \"linecolor\": \"white\", \"showbackground\": true, \"ticks\": \"\", \"zerolinecolor\": \"white\"}, \"zaxis\": {\"backgroundcolor\": \"#E5ECF6\", \"gridcolor\": \"white\", \"gridwidth\": 2, \"linecolor\": \"white\", \"showbackground\": true, \"ticks\": \"\", \"zerolinecolor\": \"white\"}}, \"shapedefaults\": {\"line\": {\"color\": \"#2a3f5f\"}}, \"ternary\": {\"aaxis\": {\"gridcolor\": \"white\", \"linecolor\": \"white\", \"ticks\": \"\"}, \"baxis\": {\"gridcolor\": \"white\", \"linecolor\": \"white\", \"ticks\": \"\"}, \"bgcolor\": \"#E5ECF6\", \"caxis\": {\"gridcolor\": \"white\", \"linecolor\": \"white\", \"ticks\": \"\"}}, \"title\": {\"x\": 0.05}, \"xaxis\": {\"automargin\": true, \"gridcolor\": \"white\", \"linecolor\": \"white\", \"ticks\": \"\", \"zerolinecolor\": \"white\", \"zerolinewidth\": 2}, \"yaxis\": {\"automargin\": true, \"gridcolor\": \"white\", \"linecolor\": \"white\", \"ticks\": \"\", \"zerolinecolor\": \"white\", \"zerolinewidth\": 2}}}, \"title\": {\"text\": \"Count of diagnosis variable\"}},\n",
       "                        {\"responsive\": true}\n",
       "                    ).then(function(){\n",
       "                            \n",
       "var gd = document.getElementById('1ac2fb16-8f6f-4268-9481-2c18257d59c6');\n",
       "var x = new MutationObserver(function (mutations, observer) {{\n",
       "        var display = window.getComputedStyle(gd).display;\n",
       "        if (!display || display === 'none') {{\n",
       "            console.log([gd, 'removed!']);\n",
       "            Plotly.purge(gd);\n",
       "            observer.disconnect();\n",
       "        }}\n",
       "}});\n",
       "\n",
       "// Listen for the removal of the full notebook cells\n",
       "var notebookContainer = gd.closest('#notebook-container');\n",
       "if (notebookContainer) {{\n",
       "    x.observe(notebookContainer, {childList: true});\n",
       "}}\n",
       "\n",
       "// Listen for the clearing of the current output cell\n",
       "var outputEl = gd.closest('.output');\n",
       "if (outputEl) {{\n",
       "    x.observe(outputEl, {childList: true});\n",
       "}}\n",
       "\n",
       "                        })\n",
       "                };\n",
       "                });\n",
       "            </script>\n",
       "        </div>"
      ]
     },
     "metadata": {},
     "output_type": "display_data"
    },
    {
     "data": {
      "application/vnd.plotly.v1+json": {
       "config": {
        "linkText": "Export to plot.ly",
        "plotlyServerURL": "https://plot.ly",
        "showLink": false
       },
       "data": [
        {
         "labels": [
          "Present",
          "Absent"
         ],
         "marker": {
          "colors": [
           "darkviolet",
           "gold"
          ],
          "line": {
           "color": "#000000",
           "width": 1.5
          }
         },
         "opacity": 0.8,
         "textfont": {
          "size": 15
         },
         "type": "pie",
         "values": [
          468,
          246
         ]
        }
       ],
       "layout": {
        "template": {
         "data": {
          "bar": [
           {
            "error_x": {
             "color": "#2a3f5f"
            },
            "error_y": {
             "color": "#2a3f5f"
            },
            "marker": {
             "line": {
              "color": "#E5ECF6",
              "width": 0.5
             }
            },
            "type": "bar"
           }
          ],
          "barpolar": [
           {
            "marker": {
             "line": {
              "color": "#E5ECF6",
              "width": 0.5
             }
            },
            "type": "barpolar"
           }
          ],
          "carpet": [
           {
            "aaxis": {
             "endlinecolor": "#2a3f5f",
             "gridcolor": "white",
             "linecolor": "white",
             "minorgridcolor": "white",
             "startlinecolor": "#2a3f5f"
            },
            "baxis": {
             "endlinecolor": "#2a3f5f",
             "gridcolor": "white",
             "linecolor": "white",
             "minorgridcolor": "white",
             "startlinecolor": "#2a3f5f"
            },
            "type": "carpet"
           }
          ],
          "choropleth": [
           {
            "colorbar": {
             "outlinewidth": 0,
             "ticks": ""
            },
            "type": "choropleth"
           }
          ],
          "contour": [
           {
            "colorbar": {
             "outlinewidth": 0,
             "ticks": ""
            },
            "colorscale": [
             [
              0,
              "#0d0887"
             ],
             [
              0.1111111111111111,
              "#46039f"
             ],
             [
              0.2222222222222222,
              "#7201a8"
             ],
             [
              0.3333333333333333,
              "#9c179e"
             ],
             [
              0.4444444444444444,
              "#bd3786"
             ],
             [
              0.5555555555555556,
              "#d8576b"
             ],
             [
              0.6666666666666666,
              "#ed7953"
             ],
             [
              0.7777777777777778,
              "#fb9f3a"
             ],
             [
              0.8888888888888888,
              "#fdca26"
             ],
             [
              1,
              "#f0f921"
             ]
            ],
            "type": "contour"
           }
          ],
          "contourcarpet": [
           {
            "colorbar": {
             "outlinewidth": 0,
             "ticks": ""
            },
            "type": "contourcarpet"
           }
          ],
          "heatmap": [
           {
            "colorbar": {
             "outlinewidth": 0,
             "ticks": ""
            },
            "colorscale": [
             [
              0,
              "#0d0887"
             ],
             [
              0.1111111111111111,
              "#46039f"
             ],
             [
              0.2222222222222222,
              "#7201a8"
             ],
             [
              0.3333333333333333,
              "#9c179e"
             ],
             [
              0.4444444444444444,
              "#bd3786"
             ],
             [
              0.5555555555555556,
              "#d8576b"
             ],
             [
              0.6666666666666666,
              "#ed7953"
             ],
             [
              0.7777777777777778,
              "#fb9f3a"
             ],
             [
              0.8888888888888888,
              "#fdca26"
             ],
             [
              1,
              "#f0f921"
             ]
            ],
            "type": "heatmap"
           }
          ],
          "heatmapgl": [
           {
            "colorbar": {
             "outlinewidth": 0,
             "ticks": ""
            },
            "colorscale": [
             [
              0,
              "#0d0887"
             ],
             [
              0.1111111111111111,
              "#46039f"
             ],
             [
              0.2222222222222222,
              "#7201a8"
             ],
             [
              0.3333333333333333,
              "#9c179e"
             ],
             [
              0.4444444444444444,
              "#bd3786"
             ],
             [
              0.5555555555555556,
              "#d8576b"
             ],
             [
              0.6666666666666666,
              "#ed7953"
             ],
             [
              0.7777777777777778,
              "#fb9f3a"
             ],
             [
              0.8888888888888888,
              "#fdca26"
             ],
             [
              1,
              "#f0f921"
             ]
            ],
            "type": "heatmapgl"
           }
          ],
          "histogram": [
           {
            "marker": {
             "colorbar": {
              "outlinewidth": 0,
              "ticks": ""
             }
            },
            "type": "histogram"
           }
          ],
          "histogram2d": [
           {
            "colorbar": {
             "outlinewidth": 0,
             "ticks": ""
            },
            "colorscale": [
             [
              0,
              "#0d0887"
             ],
             [
              0.1111111111111111,
              "#46039f"
             ],
             [
              0.2222222222222222,
              "#7201a8"
             ],
             [
              0.3333333333333333,
              "#9c179e"
             ],
             [
              0.4444444444444444,
              "#bd3786"
             ],
             [
              0.5555555555555556,
              "#d8576b"
             ],
             [
              0.6666666666666666,
              "#ed7953"
             ],
             [
              0.7777777777777778,
              "#fb9f3a"
             ],
             [
              0.8888888888888888,
              "#fdca26"
             ],
             [
              1,
              "#f0f921"
             ]
            ],
            "type": "histogram2d"
           }
          ],
          "histogram2dcontour": [
           {
            "colorbar": {
             "outlinewidth": 0,
             "ticks": ""
            },
            "colorscale": [
             [
              0,
              "#0d0887"
             ],
             [
              0.1111111111111111,
              "#46039f"
             ],
             [
              0.2222222222222222,
              "#7201a8"
             ],
             [
              0.3333333333333333,
              "#9c179e"
             ],
             [
              0.4444444444444444,
              "#bd3786"
             ],
             [
              0.5555555555555556,
              "#d8576b"
             ],
             [
              0.6666666666666666,
              "#ed7953"
             ],
             [
              0.7777777777777778,
              "#fb9f3a"
             ],
             [
              0.8888888888888888,
              "#fdca26"
             ],
             [
              1,
              "#f0f921"
             ]
            ],
            "type": "histogram2dcontour"
           }
          ],
          "mesh3d": [
           {
            "colorbar": {
             "outlinewidth": 0,
             "ticks": ""
            },
            "type": "mesh3d"
           }
          ],
          "parcoords": [
           {
            "line": {
             "colorbar": {
              "outlinewidth": 0,
              "ticks": ""
             }
            },
            "type": "parcoords"
           }
          ],
          "scatter": [
           {
            "marker": {
             "colorbar": {
              "outlinewidth": 0,
              "ticks": ""
             }
            },
            "type": "scatter"
           }
          ],
          "scatter3d": [
           {
            "line": {
             "colorbar": {
              "outlinewidth": 0,
              "ticks": ""
             }
            },
            "marker": {
             "colorbar": {
              "outlinewidth": 0,
              "ticks": ""
             }
            },
            "type": "scatter3d"
           }
          ],
          "scattercarpet": [
           {
            "marker": {
             "colorbar": {
              "outlinewidth": 0,
              "ticks": ""
             }
            },
            "type": "scattercarpet"
           }
          ],
          "scattergeo": [
           {
            "marker": {
             "colorbar": {
              "outlinewidth": 0,
              "ticks": ""
             }
            },
            "type": "scattergeo"
           }
          ],
          "scattergl": [
           {
            "marker": {
             "colorbar": {
              "outlinewidth": 0,
              "ticks": ""
             }
            },
            "type": "scattergl"
           }
          ],
          "scattermapbox": [
           {
            "marker": {
             "colorbar": {
              "outlinewidth": 0,
              "ticks": ""
             }
            },
            "type": "scattermapbox"
           }
          ],
          "scatterpolar": [
           {
            "marker": {
             "colorbar": {
              "outlinewidth": 0,
              "ticks": ""
             }
            },
            "type": "scatterpolar"
           }
          ],
          "scatterpolargl": [
           {
            "marker": {
             "colorbar": {
              "outlinewidth": 0,
              "ticks": ""
             }
            },
            "type": "scatterpolargl"
           }
          ],
          "scatterternary": [
           {
            "marker": {
             "colorbar": {
              "outlinewidth": 0,
              "ticks": ""
             }
            },
            "type": "scatterternary"
           }
          ],
          "surface": [
           {
            "colorbar": {
             "outlinewidth": 0,
             "ticks": ""
            },
            "colorscale": [
             [
              0,
              "#0d0887"
             ],
             [
              0.1111111111111111,
              "#46039f"
             ],
             [
              0.2222222222222222,
              "#7201a8"
             ],
             [
              0.3333333333333333,
              "#9c179e"
             ],
             [
              0.4444444444444444,
              "#bd3786"
             ],
             [
              0.5555555555555556,
              "#d8576b"
             ],
             [
              0.6666666666666666,
              "#ed7953"
             ],
             [
              0.7777777777777778,
              "#fb9f3a"
             ],
             [
              0.8888888888888888,
              "#fdca26"
             ],
             [
              1,
              "#f0f921"
             ]
            ],
            "type": "surface"
           }
          ],
          "table": [
           {
            "cells": {
             "fill": {
              "color": "#EBF0F8"
             },
             "line": {
              "color": "white"
             }
            },
            "header": {
             "fill": {
              "color": "#C8D4E3"
             },
             "line": {
              "color": "white"
             }
            },
            "type": "table"
           }
          ]
         },
         "layout": {
          "annotationdefaults": {
           "arrowcolor": "#2a3f5f",
           "arrowhead": 0,
           "arrowwidth": 1
          },
          "colorscale": {
           "diverging": [
            [
             0,
             "#8e0152"
            ],
            [
             0.1,
             "#c51b7d"
            ],
            [
             0.2,
             "#de77ae"
            ],
            [
             0.3,
             "#f1b6da"
            ],
            [
             0.4,
             "#fde0ef"
            ],
            [
             0.5,
             "#f7f7f7"
            ],
            [
             0.6,
             "#e6f5d0"
            ],
            [
             0.7,
             "#b8e186"
            ],
            [
             0.8,
             "#7fbc41"
            ],
            [
             0.9,
             "#4d9221"
            ],
            [
             1,
             "#276419"
            ]
           ],
           "sequential": [
            [
             0,
             "#0d0887"
            ],
            [
             0.1111111111111111,
             "#46039f"
            ],
            [
             0.2222222222222222,
             "#7201a8"
            ],
            [
             0.3333333333333333,
             "#9c179e"
            ],
            [
             0.4444444444444444,
             "#bd3786"
            ],
            [
             0.5555555555555556,
             "#d8576b"
            ],
            [
             0.6666666666666666,
             "#ed7953"
            ],
            [
             0.7777777777777778,
             "#fb9f3a"
            ],
            [
             0.8888888888888888,
             "#fdca26"
            ],
            [
             1,
             "#f0f921"
            ]
           ],
           "sequentialminus": [
            [
             0,
             "#0d0887"
            ],
            [
             0.1111111111111111,
             "#46039f"
            ],
            [
             0.2222222222222222,
             "#7201a8"
            ],
            [
             0.3333333333333333,
             "#9c179e"
            ],
            [
             0.4444444444444444,
             "#bd3786"
            ],
            [
             0.5555555555555556,
             "#d8576b"
            ],
            [
             0.6666666666666666,
             "#ed7953"
            ],
            [
             0.7777777777777778,
             "#fb9f3a"
            ],
            [
             0.8888888888888888,
             "#fdca26"
            ],
            [
             1,
             "#f0f921"
            ]
           ]
          },
          "colorway": [
           "#636efa",
           "#EF553B",
           "#00cc96",
           "#ab63fa",
           "#FFA15A",
           "#19d3f3",
           "#FF6692",
           "#B6E880",
           "#FF97FF",
           "#FECB52"
          ],
          "font": {
           "color": "#2a3f5f"
          },
          "geo": {
           "bgcolor": "white",
           "lakecolor": "white",
           "landcolor": "#E5ECF6",
           "showlakes": true,
           "showland": true,
           "subunitcolor": "white"
          },
          "hoverlabel": {
           "align": "left"
          },
          "hovermode": "closest",
          "mapbox": {
           "style": "light"
          },
          "paper_bgcolor": "white",
          "plot_bgcolor": "#E5ECF6",
          "polar": {
           "angularaxis": {
            "gridcolor": "white",
            "linecolor": "white",
            "ticks": ""
           },
           "bgcolor": "#E5ECF6",
           "radialaxis": {
            "gridcolor": "white",
            "linecolor": "white",
            "ticks": ""
           }
          },
          "scene": {
           "xaxis": {
            "backgroundcolor": "#E5ECF6",
            "gridcolor": "white",
            "gridwidth": 2,
            "linecolor": "white",
            "showbackground": true,
            "ticks": "",
            "zerolinecolor": "white"
           },
           "yaxis": {
            "backgroundcolor": "#E5ECF6",
            "gridcolor": "white",
            "gridwidth": 2,
            "linecolor": "white",
            "showbackground": true,
            "ticks": "",
            "zerolinecolor": "white"
           },
           "zaxis": {
            "backgroundcolor": "#E5ECF6",
            "gridcolor": "white",
            "gridwidth": 2,
            "linecolor": "white",
            "showbackground": true,
            "ticks": "",
            "zerolinecolor": "white"
           }
          },
          "shapedefaults": {
           "line": {
            "color": "#2a3f5f"
           }
          },
          "ternary": {
           "aaxis": {
            "gridcolor": "white",
            "linecolor": "white",
            "ticks": ""
           },
           "baxis": {
            "gridcolor": "white",
            "linecolor": "white",
            "ticks": ""
           },
           "bgcolor": "#E5ECF6",
           "caxis": {
            "gridcolor": "white",
            "linecolor": "white",
            "ticks": ""
           }
          },
          "title": {
           "x": 0.05
          },
          "xaxis": {
           "automargin": true,
           "gridcolor": "white",
           "linecolor": "white",
           "ticks": "",
           "zerolinecolor": "white",
           "zerolinewidth": 2
          },
          "yaxis": {
           "automargin": true,
           "gridcolor": "white",
           "linecolor": "white",
           "ticks": "",
           "zerolinecolor": "white",
           "zerolinewidth": 2
          }
         }
        },
        "title": {
         "text": "Distribution of diagnosis variable"
        }
       }
      },
      "text/html": [
       "<div>\n",
       "        \n",
       "        \n",
       "            <div id=\"c80057d6-9a0b-48ac-9f98-1e8595e87aa4\" class=\"plotly-graph-div\" style=\"height:525px; width:100%;\"></div>\n",
       "            <script type=\"text/javascript\">\n",
       "                require([\"plotly\"], function(Plotly) {\n",
       "                    window.PLOTLYENV=window.PLOTLYENV || {};\n",
       "                    \n",
       "                if (document.getElementById(\"c80057d6-9a0b-48ac-9f98-1e8595e87aa4\")) {\n",
       "                    Plotly.newPlot(\n",
       "                        'c80057d6-9a0b-48ac-9f98-1e8595e87aa4',\n",
       "                        [{\"labels\": [\"Present\", \"Absent\"], \"marker\": {\"colors\": [\"darkviolet\", \"gold\"], \"line\": {\"color\": \"#000000\", \"width\": 1.5}}, \"opacity\": 0.8, \"textfont\": {\"size\": 15}, \"type\": \"pie\", \"values\": [468, 246]}],\n",
       "                        {\"template\": {\"data\": {\"bar\": [{\"error_x\": {\"color\": \"#2a3f5f\"}, \"error_y\": {\"color\": \"#2a3f5f\"}, \"marker\": {\"line\": {\"color\": \"#E5ECF6\", \"width\": 0.5}}, \"type\": \"bar\"}], \"barpolar\": [{\"marker\": {\"line\": {\"color\": \"#E5ECF6\", \"width\": 0.5}}, \"type\": \"barpolar\"}], \"carpet\": [{\"aaxis\": {\"endlinecolor\": \"#2a3f5f\", \"gridcolor\": \"white\", \"linecolor\": \"white\", \"minorgridcolor\": \"white\", \"startlinecolor\": \"#2a3f5f\"}, \"baxis\": {\"endlinecolor\": \"#2a3f5f\", \"gridcolor\": \"white\", \"linecolor\": \"white\", \"minorgridcolor\": \"white\", \"startlinecolor\": \"#2a3f5f\"}, \"type\": \"carpet\"}], \"choropleth\": [{\"colorbar\": {\"outlinewidth\": 0, \"ticks\": \"\"}, \"type\": \"choropleth\"}], \"contour\": [{\"colorbar\": {\"outlinewidth\": 0, \"ticks\": \"\"}, \"colorscale\": [[0.0, \"#0d0887\"], [0.1111111111111111, \"#46039f\"], [0.2222222222222222, \"#7201a8\"], [0.3333333333333333, \"#9c179e\"], [0.4444444444444444, \"#bd3786\"], [0.5555555555555556, \"#d8576b\"], [0.6666666666666666, \"#ed7953\"], [0.7777777777777778, \"#fb9f3a\"], [0.8888888888888888, \"#fdca26\"], [1.0, \"#f0f921\"]], \"type\": \"contour\"}], \"contourcarpet\": [{\"colorbar\": {\"outlinewidth\": 0, \"ticks\": \"\"}, \"type\": \"contourcarpet\"}], \"heatmap\": [{\"colorbar\": {\"outlinewidth\": 0, \"ticks\": \"\"}, \"colorscale\": [[0.0, \"#0d0887\"], [0.1111111111111111, \"#46039f\"], [0.2222222222222222, \"#7201a8\"], [0.3333333333333333, \"#9c179e\"], [0.4444444444444444, \"#bd3786\"], [0.5555555555555556, \"#d8576b\"], [0.6666666666666666, \"#ed7953\"], [0.7777777777777778, \"#fb9f3a\"], [0.8888888888888888, \"#fdca26\"], [1.0, \"#f0f921\"]], \"type\": \"heatmap\"}], \"heatmapgl\": [{\"colorbar\": {\"outlinewidth\": 0, \"ticks\": \"\"}, \"colorscale\": [[0.0, \"#0d0887\"], [0.1111111111111111, \"#46039f\"], [0.2222222222222222, \"#7201a8\"], [0.3333333333333333, \"#9c179e\"], [0.4444444444444444, \"#bd3786\"], [0.5555555555555556, \"#d8576b\"], [0.6666666666666666, \"#ed7953\"], [0.7777777777777778, \"#fb9f3a\"], [0.8888888888888888, \"#fdca26\"], [1.0, \"#f0f921\"]], \"type\": \"heatmapgl\"}], \"histogram\": [{\"marker\": {\"colorbar\": {\"outlinewidth\": 0, \"ticks\": \"\"}}, \"type\": \"histogram\"}], \"histogram2d\": [{\"colorbar\": {\"outlinewidth\": 0, \"ticks\": \"\"}, \"colorscale\": [[0.0, \"#0d0887\"], [0.1111111111111111, \"#46039f\"], [0.2222222222222222, \"#7201a8\"], [0.3333333333333333, \"#9c179e\"], [0.4444444444444444, \"#bd3786\"], [0.5555555555555556, \"#d8576b\"], [0.6666666666666666, \"#ed7953\"], [0.7777777777777778, \"#fb9f3a\"], [0.8888888888888888, \"#fdca26\"], [1.0, \"#f0f921\"]], \"type\": \"histogram2d\"}], \"histogram2dcontour\": [{\"colorbar\": {\"outlinewidth\": 0, \"ticks\": \"\"}, \"colorscale\": [[0.0, \"#0d0887\"], [0.1111111111111111, \"#46039f\"], [0.2222222222222222, \"#7201a8\"], [0.3333333333333333, \"#9c179e\"], [0.4444444444444444, \"#bd3786\"], [0.5555555555555556, \"#d8576b\"], [0.6666666666666666, \"#ed7953\"], [0.7777777777777778, \"#fb9f3a\"], [0.8888888888888888, \"#fdca26\"], [1.0, \"#f0f921\"]], \"type\": \"histogram2dcontour\"}], \"mesh3d\": [{\"colorbar\": {\"outlinewidth\": 0, \"ticks\": \"\"}, \"type\": \"mesh3d\"}], \"parcoords\": [{\"line\": {\"colorbar\": {\"outlinewidth\": 0, \"ticks\": \"\"}}, \"type\": \"parcoords\"}], \"scatter\": [{\"marker\": {\"colorbar\": {\"outlinewidth\": 0, \"ticks\": \"\"}}, \"type\": \"scatter\"}], \"scatter3d\": [{\"line\": {\"colorbar\": {\"outlinewidth\": 0, \"ticks\": \"\"}}, \"marker\": {\"colorbar\": {\"outlinewidth\": 0, \"ticks\": \"\"}}, \"type\": \"scatter3d\"}], \"scattercarpet\": [{\"marker\": {\"colorbar\": {\"outlinewidth\": 0, \"ticks\": \"\"}}, \"type\": \"scattercarpet\"}], \"scattergeo\": [{\"marker\": {\"colorbar\": {\"outlinewidth\": 0, \"ticks\": \"\"}}, \"type\": \"scattergeo\"}], \"scattergl\": [{\"marker\": {\"colorbar\": {\"outlinewidth\": 0, \"ticks\": \"\"}}, \"type\": \"scattergl\"}], \"scattermapbox\": [{\"marker\": {\"colorbar\": {\"outlinewidth\": 0, \"ticks\": \"\"}}, \"type\": \"scattermapbox\"}], \"scatterpolar\": [{\"marker\": {\"colorbar\": {\"outlinewidth\": 0, \"ticks\": \"\"}}, \"type\": \"scatterpolar\"}], \"scatterpolargl\": [{\"marker\": {\"colorbar\": {\"outlinewidth\": 0, \"ticks\": \"\"}}, \"type\": \"scatterpolargl\"}], \"scatterternary\": [{\"marker\": {\"colorbar\": {\"outlinewidth\": 0, \"ticks\": \"\"}}, \"type\": \"scatterternary\"}], \"surface\": [{\"colorbar\": {\"outlinewidth\": 0, \"ticks\": \"\"}, \"colorscale\": [[0.0, \"#0d0887\"], [0.1111111111111111, \"#46039f\"], [0.2222222222222222, \"#7201a8\"], [0.3333333333333333, \"#9c179e\"], [0.4444444444444444, \"#bd3786\"], [0.5555555555555556, \"#d8576b\"], [0.6666666666666666, \"#ed7953\"], [0.7777777777777778, \"#fb9f3a\"], [0.8888888888888888, \"#fdca26\"], [1.0, \"#f0f921\"]], \"type\": \"surface\"}], \"table\": [{\"cells\": {\"fill\": {\"color\": \"#EBF0F8\"}, \"line\": {\"color\": \"white\"}}, \"header\": {\"fill\": {\"color\": \"#C8D4E3\"}, \"line\": {\"color\": \"white\"}}, \"type\": \"table\"}]}, \"layout\": {\"annotationdefaults\": {\"arrowcolor\": \"#2a3f5f\", \"arrowhead\": 0, \"arrowwidth\": 1}, \"colorscale\": {\"diverging\": [[0, \"#8e0152\"], [0.1, \"#c51b7d\"], [0.2, \"#de77ae\"], [0.3, \"#f1b6da\"], [0.4, \"#fde0ef\"], [0.5, \"#f7f7f7\"], [0.6, \"#e6f5d0\"], [0.7, \"#b8e186\"], [0.8, \"#7fbc41\"], [0.9, \"#4d9221\"], [1, \"#276419\"]], \"sequential\": [[0.0, \"#0d0887\"], [0.1111111111111111, \"#46039f\"], [0.2222222222222222, \"#7201a8\"], [0.3333333333333333, \"#9c179e\"], [0.4444444444444444, \"#bd3786\"], [0.5555555555555556, \"#d8576b\"], [0.6666666666666666, \"#ed7953\"], [0.7777777777777778, \"#fb9f3a\"], [0.8888888888888888, \"#fdca26\"], [1.0, \"#f0f921\"]], \"sequentialminus\": [[0.0, \"#0d0887\"], [0.1111111111111111, \"#46039f\"], [0.2222222222222222, \"#7201a8\"], [0.3333333333333333, \"#9c179e\"], [0.4444444444444444, \"#bd3786\"], [0.5555555555555556, \"#d8576b\"], [0.6666666666666666, \"#ed7953\"], [0.7777777777777778, \"#fb9f3a\"], [0.8888888888888888, \"#fdca26\"], [1.0, \"#f0f921\"]]}, \"colorway\": [\"#636efa\", \"#EF553B\", \"#00cc96\", \"#ab63fa\", \"#FFA15A\", \"#19d3f3\", \"#FF6692\", \"#B6E880\", \"#FF97FF\", \"#FECB52\"], \"font\": {\"color\": \"#2a3f5f\"}, \"geo\": {\"bgcolor\": \"white\", \"lakecolor\": \"white\", \"landcolor\": \"#E5ECF6\", \"showlakes\": true, \"showland\": true, \"subunitcolor\": \"white\"}, \"hoverlabel\": {\"align\": \"left\"}, \"hovermode\": \"closest\", \"mapbox\": {\"style\": \"light\"}, \"paper_bgcolor\": \"white\", \"plot_bgcolor\": \"#E5ECF6\", \"polar\": {\"angularaxis\": {\"gridcolor\": \"white\", \"linecolor\": \"white\", \"ticks\": \"\"}, \"bgcolor\": \"#E5ECF6\", \"radialaxis\": {\"gridcolor\": \"white\", \"linecolor\": \"white\", \"ticks\": \"\"}}, \"scene\": {\"xaxis\": {\"backgroundcolor\": \"#E5ECF6\", \"gridcolor\": \"white\", \"gridwidth\": 2, \"linecolor\": \"white\", \"showbackground\": true, \"ticks\": \"\", \"zerolinecolor\": \"white\"}, \"yaxis\": {\"backgroundcolor\": \"#E5ECF6\", \"gridcolor\": \"white\", \"gridwidth\": 2, \"linecolor\": \"white\", \"showbackground\": true, \"ticks\": \"\", \"zerolinecolor\": \"white\"}, \"zaxis\": {\"backgroundcolor\": \"#E5ECF6\", \"gridcolor\": \"white\", \"gridwidth\": 2, \"linecolor\": \"white\", \"showbackground\": true, \"ticks\": \"\", \"zerolinecolor\": \"white\"}}, \"shapedefaults\": {\"line\": {\"color\": \"#2a3f5f\"}}, \"ternary\": {\"aaxis\": {\"gridcolor\": \"white\", \"linecolor\": \"white\", \"ticks\": \"\"}, \"baxis\": {\"gridcolor\": \"white\", \"linecolor\": \"white\", \"ticks\": \"\"}, \"bgcolor\": \"#E5ECF6\", \"caxis\": {\"gridcolor\": \"white\", \"linecolor\": \"white\", \"ticks\": \"\"}}, \"title\": {\"x\": 0.05}, \"xaxis\": {\"automargin\": true, \"gridcolor\": \"white\", \"linecolor\": \"white\", \"ticks\": \"\", \"zerolinecolor\": \"white\", \"zerolinewidth\": 2}, \"yaxis\": {\"automargin\": true, \"gridcolor\": \"white\", \"linecolor\": \"white\", \"ticks\": \"\", \"zerolinecolor\": \"white\", \"zerolinewidth\": 2}}}, \"title\": {\"text\": \"Distribution of diagnosis variable\"}},\n",
       "                        {\"responsive\": true}\n",
       "                    ).then(function(){\n",
       "                            \n",
       "var gd = document.getElementById('c80057d6-9a0b-48ac-9f98-1e8595e87aa4');\n",
       "var x = new MutationObserver(function (mutations, observer) {{\n",
       "        var display = window.getComputedStyle(gd).display;\n",
       "        if (!display || display === 'none') {{\n",
       "            console.log([gd, 'removed!']);\n",
       "            Plotly.purge(gd);\n",
       "            observer.disconnect();\n",
       "        }}\n",
       "}});\n",
       "\n",
       "// Listen for the removal of the full notebook cells\n",
       "var notebookContainer = gd.closest('#notebook-container');\n",
       "if (notebookContainer) {{\n",
       "    x.observe(notebookContainer, {childList: true});\n",
       "}}\n",
       "\n",
       "// Listen for the clearing of the current output cell\n",
       "var outputEl = gd.closest('.output');\n",
       "if (outputEl) {{\n",
       "    x.observe(outputEl, {childList: true});\n",
       "}}\n",
       "\n",
       "                        })\n",
       "                };\n",
       "                });\n",
       "            </script>\n",
       "        </div>"
      ]
     },
     "metadata": {},
     "output_type": "display_data"
    }
   ],
   "source": [
    "#------------COUNT-----------------------\n",
    "trace = go.Bar(x = (len(Present), len(Absent)), y = ['Present', 'Absent'], orientation = 'h', opacity = 0.8, marker=dict(\n",
    "        color=[ 'green', 'darkviolet'],\n",
    "        line=dict(color='#000000',width=1.5)))\n",
    "\n",
    "layout = dict(title =  'Count of diagnosis variable')\n",
    "                    \n",
    "fig = dict(data = [trace], layout=layout)\n",
    "py.iplot(fig)\n",
    "\n",
    "#------------PERCENTAGE-------------------\n",
    "trace = go.Pie(labels = ['Present','Absent'], values = data['Observed_Attendance_Numeric'].value_counts(), \n",
    "               textfont=dict(size=15), opacity = 0.8,\n",
    "               marker=dict(colors=['darkviolet', 'gold'], \n",
    "                           line=dict(color='#000000', width=1.5)))\n",
    "\n",
    "\n",
    "layout = dict(title =  'Distribution of diagnosis variable')\n",
    "           \n",
    "fig = dict(data = [trace], layout=layout)\n",
    "py.iplot(fig)"
   ]
  },
  {
   "cell_type": "markdown",
   "metadata": {},
   "source": [
    "Therefore we have to keep in mind that there is quite a big imbalance in our target variable. Many statistical techniques have been put forth to treat imbalances in data (oversampling or undersampling).  I will use an oversampling technique known as SMOTE to treat this imbalance."
   ]
  },
  {
   "cell_type": "code",
   "execution_count": 305,
   "metadata": {},
   "outputs": [
    {
     "name": "stdout",
     "output_type": "stream",
     "text": [
      "Normalised gender distribution of employees in the dataset for Present: Male = 65.2%; Female 66.9%.\n"
     ]
    }
   ],
   "source": [
    "print(\"Normalised gender distribution of employees in the dataset for Present: Male = {:.1f}%; Female {:.1f}%.\".format((data[(data['Observed_Attendance_Numeric'] == 1) & (\n",
    "    data['Gender'] == 'Male')].shape[0] / data[data['Gender'] == 'Male'].shape[0])*100, (data[(data['Observed_Attendance_Numeric'] == 1) & (data['Gender'] == 'Female')].shape[0] / data[data['Gender'] == 'Female'].shape[0])*100))"
   ]
  },
  {
   "cell_type": "code",
   "execution_count": 306,
   "metadata": {},
   "outputs": [
    {
     "name": "stdout",
     "output_type": "stream",
     "text": [
      "Normalised gender distribution of employees in the dataset for Absent: Male = 34.8%; Female 33.1%.\n"
     ]
    }
   ],
   "source": [
    "print(\"Normalised gender distribution of employees in the dataset for Absent: Male = {:.1f}%; Female {:.1f}%.\".format((data[(data['Observed_Attendance_Numeric'] == 0) & (\n",
    "    data['Gender'] == 'Male')].shape[0] / data[data['Gender'] == 'Male'].shape[0])*100, (data[(data['Observed_Attendance_Numeric'] == 0) & (data['Gender'] == 'Female')].shape[0] / data[data['Gender'] == 'Female'].shape[0])*100))"
   ]
  },
  {
   "cell_type": "markdown",
   "metadata": {},
   "source": [
    "## GroupBy Technical Skill"
   ]
  },
  {
   "cell_type": "code",
   "execution_count": 307,
   "metadata": {},
   "outputs": [
    {
     "data": {
      "text/plain": [
       "array(['Yes', 'No'], dtype=object)"
      ]
     },
     "execution_count": 307,
     "metadata": {},
     "output_type": "execute_result"
    }
   ],
   "source": [
    "data.Observed_Attendance.unique()"
   ]
  },
  {
   "cell_type": "code",
   "execution_count": 308,
   "metadata": {},
   "outputs": [],
   "source": [
    "def reframe(INDEX,COL):\n",
    "    df=data[[INDEX,'Observed_Attendance']]\n",
    "    dff=df.pivot_table(index=[INDEX], columns='Observed_Attendance', aggfunc='size', fill_value=0)\n",
    "    dff[COL]=dff.index\n",
    "    dff.columns = [''] * len(dff.columns)\n",
    "    dff = dff.reset_index(drop=True)\n",
    "    dff.columns=['Absent','Present',COL]\n",
    "    return dff"
   ]
  },
  {
   "cell_type": "code",
   "execution_count": 309,
   "metadata": {},
   "outputs": [
    {
     "data": {
      "text/html": [
       "<div>\n",
       "<style scoped>\n",
       "    .dataframe tbody tr th:only-of-type {\n",
       "        vertical-align: middle;\n",
       "    }\n",
       "\n",
       "    .dataframe tbody tr th {\n",
       "        vertical-align: top;\n",
       "    }\n",
       "\n",
       "    .dataframe thead th {\n",
       "        text-align: right;\n",
       "    }\n",
       "</style>\n",
       "<table border=\"1\" class=\"dataframe\">\n",
       "  <thead>\n",
       "    <tr style=\"text-align: right;\">\n",
       "      <th></th>\n",
       "      <th>Absent</th>\n",
       "      <th>Present</th>\n",
       "      <th>Domain</th>\n",
       "    </tr>\n",
       "  </thead>\n",
       "  <tbody>\n",
       "    <tr>\n",
       "      <th>0</th>\n",
       "      <td>5</td>\n",
       "      <td>10</td>\n",
       "      <td>ALS Testing</td>\n",
       "    </tr>\n",
       "    <tr>\n",
       "      <th>1</th>\n",
       "      <td>59</td>\n",
       "      <td>77</td>\n",
       "      <td>AML/KYC/CDD</td>\n",
       "    </tr>\n",
       "    <tr>\n",
       "      <th>2</th>\n",
       "      <td>29</td>\n",
       "      <td>49</td>\n",
       "      <td>Accounting Operations</td>\n",
       "    </tr>\n",
       "    <tr>\n",
       "      <th>3</th>\n",
       "      <td>3</td>\n",
       "      <td>4</td>\n",
       "      <td>Automation Testing Java</td>\n",
       "    </tr>\n",
       "    <tr>\n",
       "      <th>4</th>\n",
       "      <td>2</td>\n",
       "      <td>16</td>\n",
       "      <td>Banking Operations</td>\n",
       "    </tr>\n",
       "  </tbody>\n",
       "</table>\n",
       "</div>"
      ],
      "text/plain": [
       "   Absent  Present                   Domain\n",
       "0       5       10              ALS Testing\n",
       "1      59       77              AML/KYC/CDD\n",
       "2      29       49    Accounting Operations\n",
       "3       3        4  Automation Testing Java\n",
       "4       2       16       Banking Operations"
      ]
     },
     "execution_count": 309,
     "metadata": {},
     "output_type": "execute_result"
    }
   ],
   "source": [
    "Tech_Group=  reframe('Technical_Skillset','Domain')\n",
    "Tech_Group.head()"
   ]
  },
  {
   "cell_type": "code",
   "execution_count": 310,
   "metadata": {},
   "outputs": [],
   "source": [
    "Absentlist = Tech_Group['Absent'].tolist()\n",
    "Domain=Tech_Group['Domain'].tolist()\n",
    "Presentlist=Tech_Group['Present'].tolist"
   ]
  },
  {
   "cell_type": "code",
   "execution_count": 311,
   "metadata": {},
   "outputs": [],
   "source": [
    "import plotly.graph_objects as go\n",
    "def barplot(Domain,Tech_Group):\n",
    "    x = Domain\n",
    "    fig = go.Figure()\n",
    "    fig.add_trace(go.Bar(\n",
    "    x=x,\n",
    "    y = Tech_Group['Absent'],\n",
    "    name='Absent',\n",
    "    marker_color='green'\n",
    "    ))\n",
    "    fig.add_trace(go.Bar(\n",
    "        x=x,\n",
    "         y=Tech_Group['Present'],\n",
    "       name='Present',\n",
    "        marker_color='red'\n",
    "            ))\n",
    "\n",
    "        # Here we modify the tickangle of the xaxis, resulting in rotated labels.\n",
    "    fig.update_layout(barmode='group', xaxis_tickangle=-45)\n",
    "    fig.show()\n",
    "    return"
   ]
  },
  {
   "cell_type": "code",
   "execution_count": 312,
   "metadata": {},
   "outputs": [
    {
     "data": {
      "application/vnd.plotly.v1+json": {
       "config": {
        "plotlyServerURL": "https://plot.ly"
       },
       "data": [
        {
         "marker": {
          "color": "green"
         },
         "name": "Absent",
         "type": "bar",
         "x": [
          "ALS Testing",
          "AML/KYC/CDD",
          "Accounting Operations",
          "Automation Testing Java",
          "Banking Operations",
          "Banking operations",
          "Biosimilars",
          "Biosimiliars",
          "Biosimillar",
          "EMEA",
          "Global Labelling",
          "Hadoop",
          "Java",
          "Java_Hibernate",
          "Java_SQL",
          "LCM -Manager",
          "Lending_&_Liablities",
          "Licensing – RA",
          "NA",
          "Publishing",
          "RA Label",
          "RA Publishing",
          "SAS",
          "SSCM",
          "Submission Management",
          "generic drugs – RA",
          "production"
         ],
         "y": [
          5,
          59,
          29,
          3,
          2,
          1,
          1,
          0,
          1,
          0,
          3,
          0,
          12,
          82,
          2,
          1,
          16,
          1,
          2,
          2,
          1,
          2,
          9,
          9,
          1,
          1,
          1
         ]
        },
        {
         "marker": {
          "color": "red"
         },
         "name": "Present",
         "type": "bar",
         "x": [
          "ALS Testing",
          "AML/KYC/CDD",
          "Accounting Operations",
          "Automation Testing Java",
          "Banking Operations",
          "Banking operations",
          "Biosimilars",
          "Biosimiliars",
          "Biosimillar",
          "EMEA",
          "Global Labelling",
          "Hadoop",
          "Java",
          "Java_Hibernate",
          "Java_SQL",
          "LCM -Manager",
          "Lending_&_Liablities",
          "Licensing – RA",
          "NA",
          "Publishing",
          "RA Label",
          "RA Publishing",
          "SAS",
          "SSCM",
          "Submission Management",
          "generic drugs – RA",
          "production"
         ],
         "y": [
          10,
          77,
          49,
          4,
          16,
          1,
          0,
          6,
          2,
          6,
          3,
          12,
          36,
          157,
          9,
          1,
          17,
          3,
          5,
          7,
          1,
          7,
          19,
          16,
          1,
          3,
          0
         ]
        }
       ],
       "layout": {
        "barmode": "group",
        "template": {
         "data": {
          "bar": [
           {
            "error_x": {
             "color": "#2a3f5f"
            },
            "error_y": {
             "color": "#2a3f5f"
            },
            "marker": {
             "line": {
              "color": "#E5ECF6",
              "width": 0.5
             }
            },
            "type": "bar"
           }
          ],
          "barpolar": [
           {
            "marker": {
             "line": {
              "color": "#E5ECF6",
              "width": 0.5
             }
            },
            "type": "barpolar"
           }
          ],
          "carpet": [
           {
            "aaxis": {
             "endlinecolor": "#2a3f5f",
             "gridcolor": "white",
             "linecolor": "white",
             "minorgridcolor": "white",
             "startlinecolor": "#2a3f5f"
            },
            "baxis": {
             "endlinecolor": "#2a3f5f",
             "gridcolor": "white",
             "linecolor": "white",
             "minorgridcolor": "white",
             "startlinecolor": "#2a3f5f"
            },
            "type": "carpet"
           }
          ],
          "choropleth": [
           {
            "colorbar": {
             "outlinewidth": 0,
             "ticks": ""
            },
            "type": "choropleth"
           }
          ],
          "contour": [
           {
            "colorbar": {
             "outlinewidth": 0,
             "ticks": ""
            },
            "colorscale": [
             [
              0,
              "#0d0887"
             ],
             [
              0.1111111111111111,
              "#46039f"
             ],
             [
              0.2222222222222222,
              "#7201a8"
             ],
             [
              0.3333333333333333,
              "#9c179e"
             ],
             [
              0.4444444444444444,
              "#bd3786"
             ],
             [
              0.5555555555555556,
              "#d8576b"
             ],
             [
              0.6666666666666666,
              "#ed7953"
             ],
             [
              0.7777777777777778,
              "#fb9f3a"
             ],
             [
              0.8888888888888888,
              "#fdca26"
             ],
             [
              1,
              "#f0f921"
             ]
            ],
            "type": "contour"
           }
          ],
          "contourcarpet": [
           {
            "colorbar": {
             "outlinewidth": 0,
             "ticks": ""
            },
            "type": "contourcarpet"
           }
          ],
          "heatmap": [
           {
            "colorbar": {
             "outlinewidth": 0,
             "ticks": ""
            },
            "colorscale": [
             [
              0,
              "#0d0887"
             ],
             [
              0.1111111111111111,
              "#46039f"
             ],
             [
              0.2222222222222222,
              "#7201a8"
             ],
             [
              0.3333333333333333,
              "#9c179e"
             ],
             [
              0.4444444444444444,
              "#bd3786"
             ],
             [
              0.5555555555555556,
              "#d8576b"
             ],
             [
              0.6666666666666666,
              "#ed7953"
             ],
             [
              0.7777777777777778,
              "#fb9f3a"
             ],
             [
              0.8888888888888888,
              "#fdca26"
             ],
             [
              1,
              "#f0f921"
             ]
            ],
            "type": "heatmap"
           }
          ],
          "heatmapgl": [
           {
            "colorbar": {
             "outlinewidth": 0,
             "ticks": ""
            },
            "colorscale": [
             [
              0,
              "#0d0887"
             ],
             [
              0.1111111111111111,
              "#46039f"
             ],
             [
              0.2222222222222222,
              "#7201a8"
             ],
             [
              0.3333333333333333,
              "#9c179e"
             ],
             [
              0.4444444444444444,
              "#bd3786"
             ],
             [
              0.5555555555555556,
              "#d8576b"
             ],
             [
              0.6666666666666666,
              "#ed7953"
             ],
             [
              0.7777777777777778,
              "#fb9f3a"
             ],
             [
              0.8888888888888888,
              "#fdca26"
             ],
             [
              1,
              "#f0f921"
             ]
            ],
            "type": "heatmapgl"
           }
          ],
          "histogram": [
           {
            "marker": {
             "colorbar": {
              "outlinewidth": 0,
              "ticks": ""
             }
            },
            "type": "histogram"
           }
          ],
          "histogram2d": [
           {
            "colorbar": {
             "outlinewidth": 0,
             "ticks": ""
            },
            "colorscale": [
             [
              0,
              "#0d0887"
             ],
             [
              0.1111111111111111,
              "#46039f"
             ],
             [
              0.2222222222222222,
              "#7201a8"
             ],
             [
              0.3333333333333333,
              "#9c179e"
             ],
             [
              0.4444444444444444,
              "#bd3786"
             ],
             [
              0.5555555555555556,
              "#d8576b"
             ],
             [
              0.6666666666666666,
              "#ed7953"
             ],
             [
              0.7777777777777778,
              "#fb9f3a"
             ],
             [
              0.8888888888888888,
              "#fdca26"
             ],
             [
              1,
              "#f0f921"
             ]
            ],
            "type": "histogram2d"
           }
          ],
          "histogram2dcontour": [
           {
            "colorbar": {
             "outlinewidth": 0,
             "ticks": ""
            },
            "colorscale": [
             [
              0,
              "#0d0887"
             ],
             [
              0.1111111111111111,
              "#46039f"
             ],
             [
              0.2222222222222222,
              "#7201a8"
             ],
             [
              0.3333333333333333,
              "#9c179e"
             ],
             [
              0.4444444444444444,
              "#bd3786"
             ],
             [
              0.5555555555555556,
              "#d8576b"
             ],
             [
              0.6666666666666666,
              "#ed7953"
             ],
             [
              0.7777777777777778,
              "#fb9f3a"
             ],
             [
              0.8888888888888888,
              "#fdca26"
             ],
             [
              1,
              "#f0f921"
             ]
            ],
            "type": "histogram2dcontour"
           }
          ],
          "mesh3d": [
           {
            "colorbar": {
             "outlinewidth": 0,
             "ticks": ""
            },
            "type": "mesh3d"
           }
          ],
          "parcoords": [
           {
            "line": {
             "colorbar": {
              "outlinewidth": 0,
              "ticks": ""
             }
            },
            "type": "parcoords"
           }
          ],
          "scatter": [
           {
            "marker": {
             "colorbar": {
              "outlinewidth": 0,
              "ticks": ""
             }
            },
            "type": "scatter"
           }
          ],
          "scatter3d": [
           {
            "line": {
             "colorbar": {
              "outlinewidth": 0,
              "ticks": ""
             }
            },
            "marker": {
             "colorbar": {
              "outlinewidth": 0,
              "ticks": ""
             }
            },
            "type": "scatter3d"
           }
          ],
          "scattercarpet": [
           {
            "marker": {
             "colorbar": {
              "outlinewidth": 0,
              "ticks": ""
             }
            },
            "type": "scattercarpet"
           }
          ],
          "scattergeo": [
           {
            "marker": {
             "colorbar": {
              "outlinewidth": 0,
              "ticks": ""
             }
            },
            "type": "scattergeo"
           }
          ],
          "scattergl": [
           {
            "marker": {
             "colorbar": {
              "outlinewidth": 0,
              "ticks": ""
             }
            },
            "type": "scattergl"
           }
          ],
          "scattermapbox": [
           {
            "marker": {
             "colorbar": {
              "outlinewidth": 0,
              "ticks": ""
             }
            },
            "type": "scattermapbox"
           }
          ],
          "scatterpolar": [
           {
            "marker": {
             "colorbar": {
              "outlinewidth": 0,
              "ticks": ""
             }
            },
            "type": "scatterpolar"
           }
          ],
          "scatterpolargl": [
           {
            "marker": {
             "colorbar": {
              "outlinewidth": 0,
              "ticks": ""
             }
            },
            "type": "scatterpolargl"
           }
          ],
          "scatterternary": [
           {
            "marker": {
             "colorbar": {
              "outlinewidth": 0,
              "ticks": ""
             }
            },
            "type": "scatterternary"
           }
          ],
          "surface": [
           {
            "colorbar": {
             "outlinewidth": 0,
             "ticks": ""
            },
            "colorscale": [
             [
              0,
              "#0d0887"
             ],
             [
              0.1111111111111111,
              "#46039f"
             ],
             [
              0.2222222222222222,
              "#7201a8"
             ],
             [
              0.3333333333333333,
              "#9c179e"
             ],
             [
              0.4444444444444444,
              "#bd3786"
             ],
             [
              0.5555555555555556,
              "#d8576b"
             ],
             [
              0.6666666666666666,
              "#ed7953"
             ],
             [
              0.7777777777777778,
              "#fb9f3a"
             ],
             [
              0.8888888888888888,
              "#fdca26"
             ],
             [
              1,
              "#f0f921"
             ]
            ],
            "type": "surface"
           }
          ],
          "table": [
           {
            "cells": {
             "fill": {
              "color": "#EBF0F8"
             },
             "line": {
              "color": "white"
             }
            },
            "header": {
             "fill": {
              "color": "#C8D4E3"
             },
             "line": {
              "color": "white"
             }
            },
            "type": "table"
           }
          ]
         },
         "layout": {
          "annotationdefaults": {
           "arrowcolor": "#2a3f5f",
           "arrowhead": 0,
           "arrowwidth": 1
          },
          "colorscale": {
           "diverging": [
            [
             0,
             "#8e0152"
            ],
            [
             0.1,
             "#c51b7d"
            ],
            [
             0.2,
             "#de77ae"
            ],
            [
             0.3,
             "#f1b6da"
            ],
            [
             0.4,
             "#fde0ef"
            ],
            [
             0.5,
             "#f7f7f7"
            ],
            [
             0.6,
             "#e6f5d0"
            ],
            [
             0.7,
             "#b8e186"
            ],
            [
             0.8,
             "#7fbc41"
            ],
            [
             0.9,
             "#4d9221"
            ],
            [
             1,
             "#276419"
            ]
           ],
           "sequential": [
            [
             0,
             "#0d0887"
            ],
            [
             0.1111111111111111,
             "#46039f"
            ],
            [
             0.2222222222222222,
             "#7201a8"
            ],
            [
             0.3333333333333333,
             "#9c179e"
            ],
            [
             0.4444444444444444,
             "#bd3786"
            ],
            [
             0.5555555555555556,
             "#d8576b"
            ],
            [
             0.6666666666666666,
             "#ed7953"
            ],
            [
             0.7777777777777778,
             "#fb9f3a"
            ],
            [
             0.8888888888888888,
             "#fdca26"
            ],
            [
             1,
             "#f0f921"
            ]
           ],
           "sequentialminus": [
            [
             0,
             "#0d0887"
            ],
            [
             0.1111111111111111,
             "#46039f"
            ],
            [
             0.2222222222222222,
             "#7201a8"
            ],
            [
             0.3333333333333333,
             "#9c179e"
            ],
            [
             0.4444444444444444,
             "#bd3786"
            ],
            [
             0.5555555555555556,
             "#d8576b"
            ],
            [
             0.6666666666666666,
             "#ed7953"
            ],
            [
             0.7777777777777778,
             "#fb9f3a"
            ],
            [
             0.8888888888888888,
             "#fdca26"
            ],
            [
             1,
             "#f0f921"
            ]
           ]
          },
          "colorway": [
           "#636efa",
           "#EF553B",
           "#00cc96",
           "#ab63fa",
           "#FFA15A",
           "#19d3f3",
           "#FF6692",
           "#B6E880",
           "#FF97FF",
           "#FECB52"
          ],
          "font": {
           "color": "#2a3f5f"
          },
          "geo": {
           "bgcolor": "white",
           "lakecolor": "white",
           "landcolor": "#E5ECF6",
           "showlakes": true,
           "showland": true,
           "subunitcolor": "white"
          },
          "hoverlabel": {
           "align": "left"
          },
          "hovermode": "closest",
          "mapbox": {
           "style": "light"
          },
          "paper_bgcolor": "white",
          "plot_bgcolor": "#E5ECF6",
          "polar": {
           "angularaxis": {
            "gridcolor": "white",
            "linecolor": "white",
            "ticks": ""
           },
           "bgcolor": "#E5ECF6",
           "radialaxis": {
            "gridcolor": "white",
            "linecolor": "white",
            "ticks": ""
           }
          },
          "scene": {
           "xaxis": {
            "backgroundcolor": "#E5ECF6",
            "gridcolor": "white",
            "gridwidth": 2,
            "linecolor": "white",
            "showbackground": true,
            "ticks": "",
            "zerolinecolor": "white"
           },
           "yaxis": {
            "backgroundcolor": "#E5ECF6",
            "gridcolor": "white",
            "gridwidth": 2,
            "linecolor": "white",
            "showbackground": true,
            "ticks": "",
            "zerolinecolor": "white"
           },
           "zaxis": {
            "backgroundcolor": "#E5ECF6",
            "gridcolor": "white",
            "gridwidth": 2,
            "linecolor": "white",
            "showbackground": true,
            "ticks": "",
            "zerolinecolor": "white"
           }
          },
          "shapedefaults": {
           "line": {
            "color": "#2a3f5f"
           }
          },
          "ternary": {
           "aaxis": {
            "gridcolor": "white",
            "linecolor": "white",
            "ticks": ""
           },
           "baxis": {
            "gridcolor": "white",
            "linecolor": "white",
            "ticks": ""
           },
           "bgcolor": "#E5ECF6",
           "caxis": {
            "gridcolor": "white",
            "linecolor": "white",
            "ticks": ""
           }
          },
          "title": {
           "x": 0.05
          },
          "xaxis": {
           "automargin": true,
           "gridcolor": "white",
           "linecolor": "white",
           "ticks": "",
           "zerolinecolor": "white",
           "zerolinewidth": 2
          },
          "yaxis": {
           "automargin": true,
           "gridcolor": "white",
           "linecolor": "white",
           "ticks": "",
           "zerolinecolor": "white",
           "zerolinewidth": 2
          }
         }
        },
        "xaxis": {
         "tickangle": -45
        }
       }
      },
      "text/html": [
       "<div>\n",
       "        \n",
       "        \n",
       "            <div id=\"3419802e-41ad-41c1-a622-3de6360b4ad0\" class=\"plotly-graph-div\" style=\"height:525px; width:100%;\"></div>\n",
       "            <script type=\"text/javascript\">\n",
       "                require([\"plotly\"], function(Plotly) {\n",
       "                    window.PLOTLYENV=window.PLOTLYENV || {};\n",
       "                    \n",
       "                if (document.getElementById(\"3419802e-41ad-41c1-a622-3de6360b4ad0\")) {\n",
       "                    Plotly.newPlot(\n",
       "                        '3419802e-41ad-41c1-a622-3de6360b4ad0',\n",
       "                        [{\"marker\": {\"color\": \"green\"}, \"name\": \"Absent\", \"type\": \"bar\", \"x\": [\"ALS Testing\", \"AML/KYC/CDD\", \"Accounting Operations\", \"Automation Testing Java\", \"Banking Operations\", \"Banking operations\", \"Biosimilars\", \"Biosimiliars\", \"Biosimillar\", \"EMEA\", \"Global Labelling\", \"Hadoop\", \"Java\", \"Java_Hibernate\", \"Java_SQL\", \"LCM -Manager\", \"Lending_&_Liablities\", \"Licensing \\u2013 RA\", \"NA\", \"Publishing\", \"RA Label\", \"RA Publishing\", \"SAS\", \"SSCM\", \"Submission Management\", \"generic drugs \\u2013 RA\", \"production\"], \"y\": [5, 59, 29, 3, 2, 1, 1, 0, 1, 0, 3, 0, 12, 82, 2, 1, 16, 1, 2, 2, 1, 2, 9, 9, 1, 1, 1]}, {\"marker\": {\"color\": \"red\"}, \"name\": \"Present\", \"type\": \"bar\", \"x\": [\"ALS Testing\", \"AML/KYC/CDD\", \"Accounting Operations\", \"Automation Testing Java\", \"Banking Operations\", \"Banking operations\", \"Biosimilars\", \"Biosimiliars\", \"Biosimillar\", \"EMEA\", \"Global Labelling\", \"Hadoop\", \"Java\", \"Java_Hibernate\", \"Java_SQL\", \"LCM -Manager\", \"Lending_&_Liablities\", \"Licensing \\u2013 RA\", \"NA\", \"Publishing\", \"RA Label\", \"RA Publishing\", \"SAS\", \"SSCM\", \"Submission Management\", \"generic drugs \\u2013 RA\", \"production\"], \"y\": [10, 77, 49, 4, 16, 1, 0, 6, 2, 6, 3, 12, 36, 157, 9, 1, 17, 3, 5, 7, 1, 7, 19, 16, 1, 3, 0]}],\n",
       "                        {\"barmode\": \"group\", \"template\": {\"data\": {\"bar\": [{\"error_x\": {\"color\": \"#2a3f5f\"}, \"error_y\": {\"color\": \"#2a3f5f\"}, \"marker\": {\"line\": {\"color\": \"#E5ECF6\", \"width\": 0.5}}, \"type\": \"bar\"}], \"barpolar\": [{\"marker\": {\"line\": {\"color\": \"#E5ECF6\", \"width\": 0.5}}, \"type\": \"barpolar\"}], \"carpet\": [{\"aaxis\": {\"endlinecolor\": \"#2a3f5f\", \"gridcolor\": \"white\", \"linecolor\": \"white\", \"minorgridcolor\": \"white\", \"startlinecolor\": \"#2a3f5f\"}, \"baxis\": {\"endlinecolor\": \"#2a3f5f\", \"gridcolor\": \"white\", \"linecolor\": \"white\", \"minorgridcolor\": \"white\", \"startlinecolor\": \"#2a3f5f\"}, \"type\": \"carpet\"}], \"choropleth\": [{\"colorbar\": {\"outlinewidth\": 0, \"ticks\": \"\"}, \"type\": \"choropleth\"}], \"contour\": [{\"colorbar\": {\"outlinewidth\": 0, \"ticks\": \"\"}, \"colorscale\": [[0.0, \"#0d0887\"], [0.1111111111111111, \"#46039f\"], [0.2222222222222222, \"#7201a8\"], [0.3333333333333333, \"#9c179e\"], [0.4444444444444444, \"#bd3786\"], [0.5555555555555556, \"#d8576b\"], [0.6666666666666666, \"#ed7953\"], [0.7777777777777778, \"#fb9f3a\"], [0.8888888888888888, \"#fdca26\"], [1.0, \"#f0f921\"]], \"type\": \"contour\"}], \"contourcarpet\": [{\"colorbar\": {\"outlinewidth\": 0, \"ticks\": \"\"}, \"type\": \"contourcarpet\"}], \"heatmap\": [{\"colorbar\": {\"outlinewidth\": 0, \"ticks\": \"\"}, \"colorscale\": [[0.0, \"#0d0887\"], [0.1111111111111111, \"#46039f\"], [0.2222222222222222, \"#7201a8\"], [0.3333333333333333, \"#9c179e\"], [0.4444444444444444, \"#bd3786\"], [0.5555555555555556, \"#d8576b\"], [0.6666666666666666, \"#ed7953\"], [0.7777777777777778, \"#fb9f3a\"], [0.8888888888888888, \"#fdca26\"], [1.0, \"#f0f921\"]], \"type\": \"heatmap\"}], \"heatmapgl\": [{\"colorbar\": {\"outlinewidth\": 0, \"ticks\": \"\"}, \"colorscale\": [[0.0, \"#0d0887\"], [0.1111111111111111, \"#46039f\"], [0.2222222222222222, \"#7201a8\"], [0.3333333333333333, \"#9c179e\"], [0.4444444444444444, \"#bd3786\"], [0.5555555555555556, \"#d8576b\"], [0.6666666666666666, \"#ed7953\"], [0.7777777777777778, \"#fb9f3a\"], [0.8888888888888888, \"#fdca26\"], [1.0, \"#f0f921\"]], \"type\": \"heatmapgl\"}], \"histogram\": [{\"marker\": {\"colorbar\": {\"outlinewidth\": 0, \"ticks\": \"\"}}, \"type\": \"histogram\"}], \"histogram2d\": [{\"colorbar\": {\"outlinewidth\": 0, \"ticks\": \"\"}, \"colorscale\": [[0.0, \"#0d0887\"], [0.1111111111111111, \"#46039f\"], [0.2222222222222222, \"#7201a8\"], [0.3333333333333333, \"#9c179e\"], [0.4444444444444444, \"#bd3786\"], [0.5555555555555556, \"#d8576b\"], [0.6666666666666666, \"#ed7953\"], [0.7777777777777778, \"#fb9f3a\"], [0.8888888888888888, \"#fdca26\"], [1.0, \"#f0f921\"]], \"type\": \"histogram2d\"}], \"histogram2dcontour\": [{\"colorbar\": {\"outlinewidth\": 0, \"ticks\": \"\"}, \"colorscale\": [[0.0, \"#0d0887\"], [0.1111111111111111, \"#46039f\"], [0.2222222222222222, \"#7201a8\"], [0.3333333333333333, \"#9c179e\"], [0.4444444444444444, \"#bd3786\"], [0.5555555555555556, \"#d8576b\"], [0.6666666666666666, \"#ed7953\"], [0.7777777777777778, \"#fb9f3a\"], [0.8888888888888888, \"#fdca26\"], [1.0, \"#f0f921\"]], \"type\": \"histogram2dcontour\"}], \"mesh3d\": [{\"colorbar\": {\"outlinewidth\": 0, \"ticks\": \"\"}, \"type\": \"mesh3d\"}], \"parcoords\": [{\"line\": {\"colorbar\": {\"outlinewidth\": 0, \"ticks\": \"\"}}, \"type\": \"parcoords\"}], \"scatter\": [{\"marker\": {\"colorbar\": {\"outlinewidth\": 0, \"ticks\": \"\"}}, \"type\": \"scatter\"}], \"scatter3d\": [{\"line\": {\"colorbar\": {\"outlinewidth\": 0, \"ticks\": \"\"}}, \"marker\": {\"colorbar\": {\"outlinewidth\": 0, \"ticks\": \"\"}}, \"type\": \"scatter3d\"}], \"scattercarpet\": [{\"marker\": {\"colorbar\": {\"outlinewidth\": 0, \"ticks\": \"\"}}, \"type\": \"scattercarpet\"}], \"scattergeo\": [{\"marker\": {\"colorbar\": {\"outlinewidth\": 0, \"ticks\": \"\"}}, \"type\": \"scattergeo\"}], \"scattergl\": [{\"marker\": {\"colorbar\": {\"outlinewidth\": 0, \"ticks\": \"\"}}, \"type\": \"scattergl\"}], \"scattermapbox\": [{\"marker\": {\"colorbar\": {\"outlinewidth\": 0, \"ticks\": \"\"}}, \"type\": \"scattermapbox\"}], \"scatterpolar\": [{\"marker\": {\"colorbar\": {\"outlinewidth\": 0, \"ticks\": \"\"}}, \"type\": \"scatterpolar\"}], \"scatterpolargl\": [{\"marker\": {\"colorbar\": {\"outlinewidth\": 0, \"ticks\": \"\"}}, \"type\": \"scatterpolargl\"}], \"scatterternary\": [{\"marker\": {\"colorbar\": {\"outlinewidth\": 0, \"ticks\": \"\"}}, \"type\": \"scatterternary\"}], \"surface\": [{\"colorbar\": {\"outlinewidth\": 0, \"ticks\": \"\"}, \"colorscale\": [[0.0, \"#0d0887\"], [0.1111111111111111, \"#46039f\"], [0.2222222222222222, \"#7201a8\"], [0.3333333333333333, \"#9c179e\"], [0.4444444444444444, \"#bd3786\"], [0.5555555555555556, \"#d8576b\"], [0.6666666666666666, \"#ed7953\"], [0.7777777777777778, \"#fb9f3a\"], [0.8888888888888888, \"#fdca26\"], [1.0, \"#f0f921\"]], \"type\": \"surface\"}], \"table\": [{\"cells\": {\"fill\": {\"color\": \"#EBF0F8\"}, \"line\": {\"color\": \"white\"}}, \"header\": {\"fill\": {\"color\": \"#C8D4E3\"}, \"line\": {\"color\": \"white\"}}, \"type\": \"table\"}]}, \"layout\": {\"annotationdefaults\": {\"arrowcolor\": \"#2a3f5f\", \"arrowhead\": 0, \"arrowwidth\": 1}, \"colorscale\": {\"diverging\": [[0, \"#8e0152\"], [0.1, \"#c51b7d\"], [0.2, \"#de77ae\"], [0.3, \"#f1b6da\"], [0.4, \"#fde0ef\"], [0.5, \"#f7f7f7\"], [0.6, \"#e6f5d0\"], [0.7, \"#b8e186\"], [0.8, \"#7fbc41\"], [0.9, \"#4d9221\"], [1, \"#276419\"]], \"sequential\": [[0.0, \"#0d0887\"], [0.1111111111111111, \"#46039f\"], [0.2222222222222222, \"#7201a8\"], [0.3333333333333333, \"#9c179e\"], [0.4444444444444444, \"#bd3786\"], [0.5555555555555556, \"#d8576b\"], [0.6666666666666666, \"#ed7953\"], [0.7777777777777778, \"#fb9f3a\"], [0.8888888888888888, \"#fdca26\"], [1.0, \"#f0f921\"]], \"sequentialminus\": [[0.0, \"#0d0887\"], [0.1111111111111111, \"#46039f\"], [0.2222222222222222, \"#7201a8\"], [0.3333333333333333, \"#9c179e\"], [0.4444444444444444, \"#bd3786\"], [0.5555555555555556, \"#d8576b\"], [0.6666666666666666, \"#ed7953\"], [0.7777777777777778, \"#fb9f3a\"], [0.8888888888888888, \"#fdca26\"], [1.0, \"#f0f921\"]]}, \"colorway\": [\"#636efa\", \"#EF553B\", \"#00cc96\", \"#ab63fa\", \"#FFA15A\", \"#19d3f3\", \"#FF6692\", \"#B6E880\", \"#FF97FF\", \"#FECB52\"], \"font\": {\"color\": \"#2a3f5f\"}, \"geo\": {\"bgcolor\": \"white\", \"lakecolor\": \"white\", \"landcolor\": \"#E5ECF6\", \"showlakes\": true, \"showland\": true, \"subunitcolor\": \"white\"}, \"hoverlabel\": {\"align\": \"left\"}, \"hovermode\": \"closest\", \"mapbox\": {\"style\": \"light\"}, \"paper_bgcolor\": \"white\", \"plot_bgcolor\": \"#E5ECF6\", \"polar\": {\"angularaxis\": {\"gridcolor\": \"white\", \"linecolor\": \"white\", \"ticks\": \"\"}, \"bgcolor\": \"#E5ECF6\", \"radialaxis\": {\"gridcolor\": \"white\", \"linecolor\": \"white\", \"ticks\": \"\"}}, \"scene\": {\"xaxis\": {\"backgroundcolor\": \"#E5ECF6\", \"gridcolor\": \"white\", \"gridwidth\": 2, \"linecolor\": \"white\", \"showbackground\": true, \"ticks\": \"\", \"zerolinecolor\": \"white\"}, \"yaxis\": {\"backgroundcolor\": \"#E5ECF6\", \"gridcolor\": \"white\", \"gridwidth\": 2, \"linecolor\": \"white\", \"showbackground\": true, \"ticks\": \"\", \"zerolinecolor\": \"white\"}, \"zaxis\": {\"backgroundcolor\": \"#E5ECF6\", \"gridcolor\": \"white\", \"gridwidth\": 2, \"linecolor\": \"white\", \"showbackground\": true, \"ticks\": \"\", \"zerolinecolor\": \"white\"}}, \"shapedefaults\": {\"line\": {\"color\": \"#2a3f5f\"}}, \"ternary\": {\"aaxis\": {\"gridcolor\": \"white\", \"linecolor\": \"white\", \"ticks\": \"\"}, \"baxis\": {\"gridcolor\": \"white\", \"linecolor\": \"white\", \"ticks\": \"\"}, \"bgcolor\": \"#E5ECF6\", \"caxis\": {\"gridcolor\": \"white\", \"linecolor\": \"white\", \"ticks\": \"\"}}, \"title\": {\"x\": 0.05}, \"xaxis\": {\"automargin\": true, \"gridcolor\": \"white\", \"linecolor\": \"white\", \"ticks\": \"\", \"zerolinecolor\": \"white\", \"zerolinewidth\": 2}, \"yaxis\": {\"automargin\": true, \"gridcolor\": \"white\", \"linecolor\": \"white\", \"ticks\": \"\", \"zerolinecolor\": \"white\", \"zerolinewidth\": 2}}}, \"xaxis\": {\"tickangle\": -45}},\n",
       "                        {\"responsive\": true}\n",
       "                    ).then(function(){\n",
       "                            \n",
       "var gd = document.getElementById('3419802e-41ad-41c1-a622-3de6360b4ad0');\n",
       "var x = new MutationObserver(function (mutations, observer) {{\n",
       "        var display = window.getComputedStyle(gd).display;\n",
       "        if (!display || display === 'none') {{\n",
       "            console.log([gd, 'removed!']);\n",
       "            Plotly.purge(gd);\n",
       "            observer.disconnect();\n",
       "        }}\n",
       "}});\n",
       "\n",
       "// Listen for the removal of the full notebook cells\n",
       "var notebookContainer = gd.closest('#notebook-container');\n",
       "if (notebookContainer) {{\n",
       "    x.observe(notebookContainer, {childList: true});\n",
       "}}\n",
       "\n",
       "// Listen for the clearing of the current output cell\n",
       "var outputEl = gd.closest('.output');\n",
       "if (outputEl) {{\n",
       "    x.observe(outputEl, {childList: true});\n",
       "}}\n",
       "\n",
       "                        })\n",
       "                };\n",
       "                });\n",
       "            </script>\n",
       "        </div>"
      ]
     },
     "metadata": {},
     "output_type": "display_data"
    }
   ],
   "source": [
    "barplot(Domain,Tech_Group)"
   ]
  },
  {
   "cell_type": "markdown",
   "metadata": {},
   "source": [
    "## Group By Client"
   ]
  },
  {
   "cell_type": "code",
   "execution_count": 313,
   "metadata": {},
   "outputs": [
    {
     "data": {
      "text/html": [
       "<div>\n",
       "<style scoped>\n",
       "    .dataframe tbody tr th:only-of-type {\n",
       "        vertical-align: middle;\n",
       "    }\n",
       "\n",
       "    .dataframe tbody tr th {\n",
       "        vertical-align: top;\n",
       "    }\n",
       "\n",
       "    .dataframe thead th {\n",
       "        text-align: right;\n",
       "    }\n",
       "</style>\n",
       "<table border=\"1\" class=\"dataframe\">\n",
       "  <thead>\n",
       "    <tr style=\"text-align: right;\">\n",
       "      <th></th>\n",
       "      <th>Absent</th>\n",
       "      <th>Present</th>\n",
       "      <th>Client_Category</th>\n",
       "    </tr>\n",
       "  </thead>\n",
       "  <tbody>\n",
       "    <tr>\n",
       "      <th>0</th>\n",
       "      <td>2</td>\n",
       "      <td>16</td>\n",
       "      <td>ANZ</td>\n",
       "    </tr>\n",
       "    <tr>\n",
       "      <th>1</th>\n",
       "      <td>2</td>\n",
       "      <td>23</td>\n",
       "      <td>Aon Hewitt</td>\n",
       "    </tr>\n",
       "    <tr>\n",
       "      <th>2</th>\n",
       "      <td>5</td>\n",
       "      <td>10</td>\n",
       "      <td>Astrazeneca</td>\n",
       "    </tr>\n",
       "    <tr>\n",
       "      <th>3</th>\n",
       "      <td>7</td>\n",
       "      <td>11</td>\n",
       "      <td>Hospira</td>\n",
       "    </tr>\n",
       "    <tr>\n",
       "      <th>4</th>\n",
       "      <td>8</td>\n",
       "      <td>29</td>\n",
       "      <td>Pfizer</td>\n",
       "    </tr>\n",
       "  </tbody>\n",
       "</table>\n",
       "</div>"
      ],
      "text/plain": [
       "   Absent  Present Client_Category\n",
       "0       2       16             ANZ\n",
       "1       2       23      Aon Hewitt\n",
       "2       5       10     Astrazeneca\n",
       "3       7       11         Hospira\n",
       "4       8       29          Pfizer"
      ]
     },
     "execution_count": 313,
     "metadata": {},
     "output_type": "execute_result"
    }
   ],
   "source": [
    "Client_Group=  reframe('Client_name','Client_Category')\n",
    "Client_Group.head()"
   ]
  },
  {
   "cell_type": "code",
   "execution_count": 314,
   "metadata": {},
   "outputs": [],
   "source": [
    "Absentlist = Client_Group['Absent'].tolist()\n",
    "Client_Category=Client_Group['Client_Category'].tolist()\n",
    "Presentlist=Client_Group['Present'].tolist"
   ]
  },
  {
   "cell_type": "code",
   "execution_count": 315,
   "metadata": {},
   "outputs": [
    {
     "data": {
      "application/vnd.plotly.v1+json": {
       "config": {
        "plotlyServerURL": "https://plot.ly"
       },
       "data": [
        {
         "marker": {
          "color": "green"
         },
         "name": "Absent",
         "type": "bar",
         "x": [
          "ANZ",
          "Aon Hewitt",
          "Astrazeneca",
          "Hospira",
          "Pfizer",
          "Standard Chartered Bank"
         ],
         "y": [
          2,
          2,
          5,
          7,
          8,
          222
         ]
        },
        {
         "marker": {
          "color": "red"
         },
         "name": "Present",
         "type": "bar",
         "x": [
          "ANZ",
          "Aon Hewitt",
          "Astrazeneca",
          "Hospira",
          "Pfizer",
          "Standard Chartered Bank"
         ],
         "y": [
          16,
          23,
          10,
          11,
          29,
          379
         ]
        }
       ],
       "layout": {
        "barmode": "group",
        "template": {
         "data": {
          "bar": [
           {
            "error_x": {
             "color": "#2a3f5f"
            },
            "error_y": {
             "color": "#2a3f5f"
            },
            "marker": {
             "line": {
              "color": "#E5ECF6",
              "width": 0.5
             }
            },
            "type": "bar"
           }
          ],
          "barpolar": [
           {
            "marker": {
             "line": {
              "color": "#E5ECF6",
              "width": 0.5
             }
            },
            "type": "barpolar"
           }
          ],
          "carpet": [
           {
            "aaxis": {
             "endlinecolor": "#2a3f5f",
             "gridcolor": "white",
             "linecolor": "white",
             "minorgridcolor": "white",
             "startlinecolor": "#2a3f5f"
            },
            "baxis": {
             "endlinecolor": "#2a3f5f",
             "gridcolor": "white",
             "linecolor": "white",
             "minorgridcolor": "white",
             "startlinecolor": "#2a3f5f"
            },
            "type": "carpet"
           }
          ],
          "choropleth": [
           {
            "colorbar": {
             "outlinewidth": 0,
             "ticks": ""
            },
            "type": "choropleth"
           }
          ],
          "contour": [
           {
            "colorbar": {
             "outlinewidth": 0,
             "ticks": ""
            },
            "colorscale": [
             [
              0,
              "#0d0887"
             ],
             [
              0.1111111111111111,
              "#46039f"
             ],
             [
              0.2222222222222222,
              "#7201a8"
             ],
             [
              0.3333333333333333,
              "#9c179e"
             ],
             [
              0.4444444444444444,
              "#bd3786"
             ],
             [
              0.5555555555555556,
              "#d8576b"
             ],
             [
              0.6666666666666666,
              "#ed7953"
             ],
             [
              0.7777777777777778,
              "#fb9f3a"
             ],
             [
              0.8888888888888888,
              "#fdca26"
             ],
             [
              1,
              "#f0f921"
             ]
            ],
            "type": "contour"
           }
          ],
          "contourcarpet": [
           {
            "colorbar": {
             "outlinewidth": 0,
             "ticks": ""
            },
            "type": "contourcarpet"
           }
          ],
          "heatmap": [
           {
            "colorbar": {
             "outlinewidth": 0,
             "ticks": ""
            },
            "colorscale": [
             [
              0,
              "#0d0887"
             ],
             [
              0.1111111111111111,
              "#46039f"
             ],
             [
              0.2222222222222222,
              "#7201a8"
             ],
             [
              0.3333333333333333,
              "#9c179e"
             ],
             [
              0.4444444444444444,
              "#bd3786"
             ],
             [
              0.5555555555555556,
              "#d8576b"
             ],
             [
              0.6666666666666666,
              "#ed7953"
             ],
             [
              0.7777777777777778,
              "#fb9f3a"
             ],
             [
              0.8888888888888888,
              "#fdca26"
             ],
             [
              1,
              "#f0f921"
             ]
            ],
            "type": "heatmap"
           }
          ],
          "heatmapgl": [
           {
            "colorbar": {
             "outlinewidth": 0,
             "ticks": ""
            },
            "colorscale": [
             [
              0,
              "#0d0887"
             ],
             [
              0.1111111111111111,
              "#46039f"
             ],
             [
              0.2222222222222222,
              "#7201a8"
             ],
             [
              0.3333333333333333,
              "#9c179e"
             ],
             [
              0.4444444444444444,
              "#bd3786"
             ],
             [
              0.5555555555555556,
              "#d8576b"
             ],
             [
              0.6666666666666666,
              "#ed7953"
             ],
             [
              0.7777777777777778,
              "#fb9f3a"
             ],
             [
              0.8888888888888888,
              "#fdca26"
             ],
             [
              1,
              "#f0f921"
             ]
            ],
            "type": "heatmapgl"
           }
          ],
          "histogram": [
           {
            "marker": {
             "colorbar": {
              "outlinewidth": 0,
              "ticks": ""
             }
            },
            "type": "histogram"
           }
          ],
          "histogram2d": [
           {
            "colorbar": {
             "outlinewidth": 0,
             "ticks": ""
            },
            "colorscale": [
             [
              0,
              "#0d0887"
             ],
             [
              0.1111111111111111,
              "#46039f"
             ],
             [
              0.2222222222222222,
              "#7201a8"
             ],
             [
              0.3333333333333333,
              "#9c179e"
             ],
             [
              0.4444444444444444,
              "#bd3786"
             ],
             [
              0.5555555555555556,
              "#d8576b"
             ],
             [
              0.6666666666666666,
              "#ed7953"
             ],
             [
              0.7777777777777778,
              "#fb9f3a"
             ],
             [
              0.8888888888888888,
              "#fdca26"
             ],
             [
              1,
              "#f0f921"
             ]
            ],
            "type": "histogram2d"
           }
          ],
          "histogram2dcontour": [
           {
            "colorbar": {
             "outlinewidth": 0,
             "ticks": ""
            },
            "colorscale": [
             [
              0,
              "#0d0887"
             ],
             [
              0.1111111111111111,
              "#46039f"
             ],
             [
              0.2222222222222222,
              "#7201a8"
             ],
             [
              0.3333333333333333,
              "#9c179e"
             ],
             [
              0.4444444444444444,
              "#bd3786"
             ],
             [
              0.5555555555555556,
              "#d8576b"
             ],
             [
              0.6666666666666666,
              "#ed7953"
             ],
             [
              0.7777777777777778,
              "#fb9f3a"
             ],
             [
              0.8888888888888888,
              "#fdca26"
             ],
             [
              1,
              "#f0f921"
             ]
            ],
            "type": "histogram2dcontour"
           }
          ],
          "mesh3d": [
           {
            "colorbar": {
             "outlinewidth": 0,
             "ticks": ""
            },
            "type": "mesh3d"
           }
          ],
          "parcoords": [
           {
            "line": {
             "colorbar": {
              "outlinewidth": 0,
              "ticks": ""
             }
            },
            "type": "parcoords"
           }
          ],
          "scatter": [
           {
            "marker": {
             "colorbar": {
              "outlinewidth": 0,
              "ticks": ""
             }
            },
            "type": "scatter"
           }
          ],
          "scatter3d": [
           {
            "line": {
             "colorbar": {
              "outlinewidth": 0,
              "ticks": ""
             }
            },
            "marker": {
             "colorbar": {
              "outlinewidth": 0,
              "ticks": ""
             }
            },
            "type": "scatter3d"
           }
          ],
          "scattercarpet": [
           {
            "marker": {
             "colorbar": {
              "outlinewidth": 0,
              "ticks": ""
             }
            },
            "type": "scattercarpet"
           }
          ],
          "scattergeo": [
           {
            "marker": {
             "colorbar": {
              "outlinewidth": 0,
              "ticks": ""
             }
            },
            "type": "scattergeo"
           }
          ],
          "scattergl": [
           {
            "marker": {
             "colorbar": {
              "outlinewidth": 0,
              "ticks": ""
             }
            },
            "type": "scattergl"
           }
          ],
          "scattermapbox": [
           {
            "marker": {
             "colorbar": {
              "outlinewidth": 0,
              "ticks": ""
             }
            },
            "type": "scattermapbox"
           }
          ],
          "scatterpolar": [
           {
            "marker": {
             "colorbar": {
              "outlinewidth": 0,
              "ticks": ""
             }
            },
            "type": "scatterpolar"
           }
          ],
          "scatterpolargl": [
           {
            "marker": {
             "colorbar": {
              "outlinewidth": 0,
              "ticks": ""
             }
            },
            "type": "scatterpolargl"
           }
          ],
          "scatterternary": [
           {
            "marker": {
             "colorbar": {
              "outlinewidth": 0,
              "ticks": ""
             }
            },
            "type": "scatterternary"
           }
          ],
          "surface": [
           {
            "colorbar": {
             "outlinewidth": 0,
             "ticks": ""
            },
            "colorscale": [
             [
              0,
              "#0d0887"
             ],
             [
              0.1111111111111111,
              "#46039f"
             ],
             [
              0.2222222222222222,
              "#7201a8"
             ],
             [
              0.3333333333333333,
              "#9c179e"
             ],
             [
              0.4444444444444444,
              "#bd3786"
             ],
             [
              0.5555555555555556,
              "#d8576b"
             ],
             [
              0.6666666666666666,
              "#ed7953"
             ],
             [
              0.7777777777777778,
              "#fb9f3a"
             ],
             [
              0.8888888888888888,
              "#fdca26"
             ],
             [
              1,
              "#f0f921"
             ]
            ],
            "type": "surface"
           }
          ],
          "table": [
           {
            "cells": {
             "fill": {
              "color": "#EBF0F8"
             },
             "line": {
              "color": "white"
             }
            },
            "header": {
             "fill": {
              "color": "#C8D4E3"
             },
             "line": {
              "color": "white"
             }
            },
            "type": "table"
           }
          ]
         },
         "layout": {
          "annotationdefaults": {
           "arrowcolor": "#2a3f5f",
           "arrowhead": 0,
           "arrowwidth": 1
          },
          "colorscale": {
           "diverging": [
            [
             0,
             "#8e0152"
            ],
            [
             0.1,
             "#c51b7d"
            ],
            [
             0.2,
             "#de77ae"
            ],
            [
             0.3,
             "#f1b6da"
            ],
            [
             0.4,
             "#fde0ef"
            ],
            [
             0.5,
             "#f7f7f7"
            ],
            [
             0.6,
             "#e6f5d0"
            ],
            [
             0.7,
             "#b8e186"
            ],
            [
             0.8,
             "#7fbc41"
            ],
            [
             0.9,
             "#4d9221"
            ],
            [
             1,
             "#276419"
            ]
           ],
           "sequential": [
            [
             0,
             "#0d0887"
            ],
            [
             0.1111111111111111,
             "#46039f"
            ],
            [
             0.2222222222222222,
             "#7201a8"
            ],
            [
             0.3333333333333333,
             "#9c179e"
            ],
            [
             0.4444444444444444,
             "#bd3786"
            ],
            [
             0.5555555555555556,
             "#d8576b"
            ],
            [
             0.6666666666666666,
             "#ed7953"
            ],
            [
             0.7777777777777778,
             "#fb9f3a"
            ],
            [
             0.8888888888888888,
             "#fdca26"
            ],
            [
             1,
             "#f0f921"
            ]
           ],
           "sequentialminus": [
            [
             0,
             "#0d0887"
            ],
            [
             0.1111111111111111,
             "#46039f"
            ],
            [
             0.2222222222222222,
             "#7201a8"
            ],
            [
             0.3333333333333333,
             "#9c179e"
            ],
            [
             0.4444444444444444,
             "#bd3786"
            ],
            [
             0.5555555555555556,
             "#d8576b"
            ],
            [
             0.6666666666666666,
             "#ed7953"
            ],
            [
             0.7777777777777778,
             "#fb9f3a"
            ],
            [
             0.8888888888888888,
             "#fdca26"
            ],
            [
             1,
             "#f0f921"
            ]
           ]
          },
          "colorway": [
           "#636efa",
           "#EF553B",
           "#00cc96",
           "#ab63fa",
           "#FFA15A",
           "#19d3f3",
           "#FF6692",
           "#B6E880",
           "#FF97FF",
           "#FECB52"
          ],
          "font": {
           "color": "#2a3f5f"
          },
          "geo": {
           "bgcolor": "white",
           "lakecolor": "white",
           "landcolor": "#E5ECF6",
           "showlakes": true,
           "showland": true,
           "subunitcolor": "white"
          },
          "hoverlabel": {
           "align": "left"
          },
          "hovermode": "closest",
          "mapbox": {
           "style": "light"
          },
          "paper_bgcolor": "white",
          "plot_bgcolor": "#E5ECF6",
          "polar": {
           "angularaxis": {
            "gridcolor": "white",
            "linecolor": "white",
            "ticks": ""
           },
           "bgcolor": "#E5ECF6",
           "radialaxis": {
            "gridcolor": "white",
            "linecolor": "white",
            "ticks": ""
           }
          },
          "scene": {
           "xaxis": {
            "backgroundcolor": "#E5ECF6",
            "gridcolor": "white",
            "gridwidth": 2,
            "linecolor": "white",
            "showbackground": true,
            "ticks": "",
            "zerolinecolor": "white"
           },
           "yaxis": {
            "backgroundcolor": "#E5ECF6",
            "gridcolor": "white",
            "gridwidth": 2,
            "linecolor": "white",
            "showbackground": true,
            "ticks": "",
            "zerolinecolor": "white"
           },
           "zaxis": {
            "backgroundcolor": "#E5ECF6",
            "gridcolor": "white",
            "gridwidth": 2,
            "linecolor": "white",
            "showbackground": true,
            "ticks": "",
            "zerolinecolor": "white"
           }
          },
          "shapedefaults": {
           "line": {
            "color": "#2a3f5f"
           }
          },
          "ternary": {
           "aaxis": {
            "gridcolor": "white",
            "linecolor": "white",
            "ticks": ""
           },
           "baxis": {
            "gridcolor": "white",
            "linecolor": "white",
            "ticks": ""
           },
           "bgcolor": "#E5ECF6",
           "caxis": {
            "gridcolor": "white",
            "linecolor": "white",
            "ticks": ""
           }
          },
          "title": {
           "x": 0.05
          },
          "xaxis": {
           "automargin": true,
           "gridcolor": "white",
           "linecolor": "white",
           "ticks": "",
           "zerolinecolor": "white",
           "zerolinewidth": 2
          },
          "yaxis": {
           "automargin": true,
           "gridcolor": "white",
           "linecolor": "white",
           "ticks": "",
           "zerolinecolor": "white",
           "zerolinewidth": 2
          }
         }
        },
        "xaxis": {
         "tickangle": -45
        }
       }
      },
      "text/html": [
       "<div>\n",
       "        \n",
       "        \n",
       "            <div id=\"e9db028b-c1ee-4424-bef4-d17720aa3e52\" class=\"plotly-graph-div\" style=\"height:525px; width:100%;\"></div>\n",
       "            <script type=\"text/javascript\">\n",
       "                require([\"plotly\"], function(Plotly) {\n",
       "                    window.PLOTLYENV=window.PLOTLYENV || {};\n",
       "                    \n",
       "                if (document.getElementById(\"e9db028b-c1ee-4424-bef4-d17720aa3e52\")) {\n",
       "                    Plotly.newPlot(\n",
       "                        'e9db028b-c1ee-4424-bef4-d17720aa3e52',\n",
       "                        [{\"marker\": {\"color\": \"green\"}, \"name\": \"Absent\", \"type\": \"bar\", \"x\": [\"ANZ\", \"Aon Hewitt\", \"Astrazeneca\", \"Hospira\", \"Pfizer\", \"Standard Chartered Bank\"], \"y\": [2, 2, 5, 7, 8, 222]}, {\"marker\": {\"color\": \"red\"}, \"name\": \"Present\", \"type\": \"bar\", \"x\": [\"ANZ\", \"Aon Hewitt\", \"Astrazeneca\", \"Hospira\", \"Pfizer\", \"Standard Chartered Bank\"], \"y\": [16, 23, 10, 11, 29, 379]}],\n",
       "                        {\"barmode\": \"group\", \"template\": {\"data\": {\"bar\": [{\"error_x\": {\"color\": \"#2a3f5f\"}, \"error_y\": {\"color\": \"#2a3f5f\"}, \"marker\": {\"line\": {\"color\": \"#E5ECF6\", \"width\": 0.5}}, \"type\": \"bar\"}], \"barpolar\": [{\"marker\": {\"line\": {\"color\": \"#E5ECF6\", \"width\": 0.5}}, \"type\": \"barpolar\"}], \"carpet\": [{\"aaxis\": {\"endlinecolor\": \"#2a3f5f\", \"gridcolor\": \"white\", \"linecolor\": \"white\", \"minorgridcolor\": \"white\", \"startlinecolor\": \"#2a3f5f\"}, \"baxis\": {\"endlinecolor\": \"#2a3f5f\", \"gridcolor\": \"white\", \"linecolor\": \"white\", \"minorgridcolor\": \"white\", \"startlinecolor\": \"#2a3f5f\"}, \"type\": \"carpet\"}], \"choropleth\": [{\"colorbar\": {\"outlinewidth\": 0, \"ticks\": \"\"}, \"type\": \"choropleth\"}], \"contour\": [{\"colorbar\": {\"outlinewidth\": 0, \"ticks\": \"\"}, \"colorscale\": [[0.0, \"#0d0887\"], [0.1111111111111111, \"#46039f\"], [0.2222222222222222, \"#7201a8\"], [0.3333333333333333, \"#9c179e\"], [0.4444444444444444, \"#bd3786\"], [0.5555555555555556, \"#d8576b\"], [0.6666666666666666, \"#ed7953\"], [0.7777777777777778, \"#fb9f3a\"], [0.8888888888888888, \"#fdca26\"], [1.0, \"#f0f921\"]], \"type\": \"contour\"}], \"contourcarpet\": [{\"colorbar\": {\"outlinewidth\": 0, \"ticks\": \"\"}, \"type\": \"contourcarpet\"}], \"heatmap\": [{\"colorbar\": {\"outlinewidth\": 0, \"ticks\": \"\"}, \"colorscale\": [[0.0, \"#0d0887\"], [0.1111111111111111, \"#46039f\"], [0.2222222222222222, \"#7201a8\"], [0.3333333333333333, \"#9c179e\"], [0.4444444444444444, \"#bd3786\"], [0.5555555555555556, \"#d8576b\"], [0.6666666666666666, \"#ed7953\"], [0.7777777777777778, \"#fb9f3a\"], [0.8888888888888888, \"#fdca26\"], [1.0, \"#f0f921\"]], \"type\": \"heatmap\"}], \"heatmapgl\": [{\"colorbar\": {\"outlinewidth\": 0, \"ticks\": \"\"}, \"colorscale\": [[0.0, \"#0d0887\"], [0.1111111111111111, \"#46039f\"], [0.2222222222222222, \"#7201a8\"], [0.3333333333333333, \"#9c179e\"], [0.4444444444444444, \"#bd3786\"], [0.5555555555555556, \"#d8576b\"], [0.6666666666666666, \"#ed7953\"], [0.7777777777777778, \"#fb9f3a\"], [0.8888888888888888, \"#fdca26\"], [1.0, \"#f0f921\"]], \"type\": \"heatmapgl\"}], \"histogram\": [{\"marker\": {\"colorbar\": {\"outlinewidth\": 0, \"ticks\": \"\"}}, \"type\": \"histogram\"}], \"histogram2d\": [{\"colorbar\": {\"outlinewidth\": 0, \"ticks\": \"\"}, \"colorscale\": [[0.0, \"#0d0887\"], [0.1111111111111111, \"#46039f\"], [0.2222222222222222, \"#7201a8\"], [0.3333333333333333, \"#9c179e\"], [0.4444444444444444, \"#bd3786\"], [0.5555555555555556, \"#d8576b\"], [0.6666666666666666, \"#ed7953\"], [0.7777777777777778, \"#fb9f3a\"], [0.8888888888888888, \"#fdca26\"], [1.0, \"#f0f921\"]], \"type\": \"histogram2d\"}], \"histogram2dcontour\": [{\"colorbar\": {\"outlinewidth\": 0, \"ticks\": \"\"}, \"colorscale\": [[0.0, \"#0d0887\"], [0.1111111111111111, \"#46039f\"], [0.2222222222222222, \"#7201a8\"], [0.3333333333333333, \"#9c179e\"], [0.4444444444444444, \"#bd3786\"], [0.5555555555555556, \"#d8576b\"], [0.6666666666666666, \"#ed7953\"], [0.7777777777777778, \"#fb9f3a\"], [0.8888888888888888, \"#fdca26\"], [1.0, \"#f0f921\"]], \"type\": \"histogram2dcontour\"}], \"mesh3d\": [{\"colorbar\": {\"outlinewidth\": 0, \"ticks\": \"\"}, \"type\": \"mesh3d\"}], \"parcoords\": [{\"line\": {\"colorbar\": {\"outlinewidth\": 0, \"ticks\": \"\"}}, \"type\": \"parcoords\"}], \"scatter\": [{\"marker\": {\"colorbar\": {\"outlinewidth\": 0, \"ticks\": \"\"}}, \"type\": \"scatter\"}], \"scatter3d\": [{\"line\": {\"colorbar\": {\"outlinewidth\": 0, \"ticks\": \"\"}}, \"marker\": {\"colorbar\": {\"outlinewidth\": 0, \"ticks\": \"\"}}, \"type\": \"scatter3d\"}], \"scattercarpet\": [{\"marker\": {\"colorbar\": {\"outlinewidth\": 0, \"ticks\": \"\"}}, \"type\": \"scattercarpet\"}], \"scattergeo\": [{\"marker\": {\"colorbar\": {\"outlinewidth\": 0, \"ticks\": \"\"}}, \"type\": \"scattergeo\"}], \"scattergl\": [{\"marker\": {\"colorbar\": {\"outlinewidth\": 0, \"ticks\": \"\"}}, \"type\": \"scattergl\"}], \"scattermapbox\": [{\"marker\": {\"colorbar\": {\"outlinewidth\": 0, \"ticks\": \"\"}}, \"type\": \"scattermapbox\"}], \"scatterpolar\": [{\"marker\": {\"colorbar\": {\"outlinewidth\": 0, \"ticks\": \"\"}}, \"type\": \"scatterpolar\"}], \"scatterpolargl\": [{\"marker\": {\"colorbar\": {\"outlinewidth\": 0, \"ticks\": \"\"}}, \"type\": \"scatterpolargl\"}], \"scatterternary\": [{\"marker\": {\"colorbar\": {\"outlinewidth\": 0, \"ticks\": \"\"}}, \"type\": \"scatterternary\"}], \"surface\": [{\"colorbar\": {\"outlinewidth\": 0, \"ticks\": \"\"}, \"colorscale\": [[0.0, \"#0d0887\"], [0.1111111111111111, \"#46039f\"], [0.2222222222222222, \"#7201a8\"], [0.3333333333333333, \"#9c179e\"], [0.4444444444444444, \"#bd3786\"], [0.5555555555555556, \"#d8576b\"], [0.6666666666666666, \"#ed7953\"], [0.7777777777777778, \"#fb9f3a\"], [0.8888888888888888, \"#fdca26\"], [1.0, \"#f0f921\"]], \"type\": \"surface\"}], \"table\": [{\"cells\": {\"fill\": {\"color\": \"#EBF0F8\"}, \"line\": {\"color\": \"white\"}}, \"header\": {\"fill\": {\"color\": \"#C8D4E3\"}, \"line\": {\"color\": \"white\"}}, \"type\": \"table\"}]}, \"layout\": {\"annotationdefaults\": {\"arrowcolor\": \"#2a3f5f\", \"arrowhead\": 0, \"arrowwidth\": 1}, \"colorscale\": {\"diverging\": [[0, \"#8e0152\"], [0.1, \"#c51b7d\"], [0.2, \"#de77ae\"], [0.3, \"#f1b6da\"], [0.4, \"#fde0ef\"], [0.5, \"#f7f7f7\"], [0.6, \"#e6f5d0\"], [0.7, \"#b8e186\"], [0.8, \"#7fbc41\"], [0.9, \"#4d9221\"], [1, \"#276419\"]], \"sequential\": [[0.0, \"#0d0887\"], [0.1111111111111111, \"#46039f\"], [0.2222222222222222, \"#7201a8\"], [0.3333333333333333, \"#9c179e\"], [0.4444444444444444, \"#bd3786\"], [0.5555555555555556, \"#d8576b\"], [0.6666666666666666, \"#ed7953\"], [0.7777777777777778, \"#fb9f3a\"], [0.8888888888888888, \"#fdca26\"], [1.0, \"#f0f921\"]], \"sequentialminus\": [[0.0, \"#0d0887\"], [0.1111111111111111, \"#46039f\"], [0.2222222222222222, \"#7201a8\"], [0.3333333333333333, \"#9c179e\"], [0.4444444444444444, \"#bd3786\"], [0.5555555555555556, \"#d8576b\"], [0.6666666666666666, \"#ed7953\"], [0.7777777777777778, \"#fb9f3a\"], [0.8888888888888888, \"#fdca26\"], [1.0, \"#f0f921\"]]}, \"colorway\": [\"#636efa\", \"#EF553B\", \"#00cc96\", \"#ab63fa\", \"#FFA15A\", \"#19d3f3\", \"#FF6692\", \"#B6E880\", \"#FF97FF\", \"#FECB52\"], \"font\": {\"color\": \"#2a3f5f\"}, \"geo\": {\"bgcolor\": \"white\", \"lakecolor\": \"white\", \"landcolor\": \"#E5ECF6\", \"showlakes\": true, \"showland\": true, \"subunitcolor\": \"white\"}, \"hoverlabel\": {\"align\": \"left\"}, \"hovermode\": \"closest\", \"mapbox\": {\"style\": \"light\"}, \"paper_bgcolor\": \"white\", \"plot_bgcolor\": \"#E5ECF6\", \"polar\": {\"angularaxis\": {\"gridcolor\": \"white\", \"linecolor\": \"white\", \"ticks\": \"\"}, \"bgcolor\": \"#E5ECF6\", \"radialaxis\": {\"gridcolor\": \"white\", \"linecolor\": \"white\", \"ticks\": \"\"}}, \"scene\": {\"xaxis\": {\"backgroundcolor\": \"#E5ECF6\", \"gridcolor\": \"white\", \"gridwidth\": 2, \"linecolor\": \"white\", \"showbackground\": true, \"ticks\": \"\", \"zerolinecolor\": \"white\"}, \"yaxis\": {\"backgroundcolor\": \"#E5ECF6\", \"gridcolor\": \"white\", \"gridwidth\": 2, \"linecolor\": \"white\", \"showbackground\": true, \"ticks\": \"\", \"zerolinecolor\": \"white\"}, \"zaxis\": {\"backgroundcolor\": \"#E5ECF6\", \"gridcolor\": \"white\", \"gridwidth\": 2, \"linecolor\": \"white\", \"showbackground\": true, \"ticks\": \"\", \"zerolinecolor\": \"white\"}}, \"shapedefaults\": {\"line\": {\"color\": \"#2a3f5f\"}}, \"ternary\": {\"aaxis\": {\"gridcolor\": \"white\", \"linecolor\": \"white\", \"ticks\": \"\"}, \"baxis\": {\"gridcolor\": \"white\", \"linecolor\": \"white\", \"ticks\": \"\"}, \"bgcolor\": \"#E5ECF6\", \"caxis\": {\"gridcolor\": \"white\", \"linecolor\": \"white\", \"ticks\": \"\"}}, \"title\": {\"x\": 0.05}, \"xaxis\": {\"automargin\": true, \"gridcolor\": \"white\", \"linecolor\": \"white\", \"ticks\": \"\", \"zerolinecolor\": \"white\", \"zerolinewidth\": 2}, \"yaxis\": {\"automargin\": true, \"gridcolor\": \"white\", \"linecolor\": \"white\", \"ticks\": \"\", \"zerolinecolor\": \"white\", \"zerolinewidth\": 2}}}, \"xaxis\": {\"tickangle\": -45}},\n",
       "                        {\"responsive\": true}\n",
       "                    ).then(function(){\n",
       "                            \n",
       "var gd = document.getElementById('e9db028b-c1ee-4424-bef4-d17720aa3e52');\n",
       "var x = new MutationObserver(function (mutations, observer) {{\n",
       "        var display = window.getComputedStyle(gd).display;\n",
       "        if (!display || display === 'none') {{\n",
       "            console.log([gd, 'removed!']);\n",
       "            Plotly.purge(gd);\n",
       "            observer.disconnect();\n",
       "        }}\n",
       "}});\n",
       "\n",
       "// Listen for the removal of the full notebook cells\n",
       "var notebookContainer = gd.closest('#notebook-container');\n",
       "if (notebookContainer) {{\n",
       "    x.observe(notebookContainer, {childList: true});\n",
       "}}\n",
       "\n",
       "// Listen for the clearing of the current output cell\n",
       "var outputEl = gd.closest('.output');\n",
       "if (outputEl) {{\n",
       "    x.observe(outputEl, {childList: true});\n",
       "}}\n",
       "\n",
       "                        })\n",
       "                };\n",
       "                });\n",
       "            </script>\n",
       "        </div>"
      ]
     },
     "metadata": {},
     "output_type": "display_data"
    }
   ],
   "source": [
    "barplot(Client_Category,Client_Group)"
   ]
  },
  {
   "cell_type": "markdown",
   "metadata": {},
   "source": [
    "## Group By Industry"
   ]
  },
  {
   "cell_type": "code",
   "execution_count": 316,
   "metadata": {},
   "outputs": [
    {
     "data": {
      "text/html": [
       "<div>\n",
       "<style scoped>\n",
       "    .dataframe tbody tr th:only-of-type {\n",
       "        vertical-align: middle;\n",
       "    }\n",
       "\n",
       "    .dataframe tbody tr th {\n",
       "        vertical-align: top;\n",
       "    }\n",
       "\n",
       "    .dataframe thead th {\n",
       "        text-align: right;\n",
       "    }\n",
       "</style>\n",
       "<table border=\"1\" class=\"dataframe\">\n",
       "  <thead>\n",
       "    <tr style=\"text-align: right;\">\n",
       "      <th></th>\n",
       "      <th>Absent</th>\n",
       "      <th>Present</th>\n",
       "      <th>Industry_Category</th>\n",
       "    </tr>\n",
       "  </thead>\n",
       "  <tbody>\n",
       "    <tr>\n",
       "      <th>0</th>\n",
       "      <td>224</td>\n",
       "      <td>395</td>\n",
       "      <td>BFSI</td>\n",
       "    </tr>\n",
       "    <tr>\n",
       "      <th>1</th>\n",
       "      <td>2</td>\n",
       "      <td>23</td>\n",
       "      <td>IT Products and Services</td>\n",
       "    </tr>\n",
       "    <tr>\n",
       "      <th>2</th>\n",
       "      <td>20</td>\n",
       "      <td>50</td>\n",
       "      <td>Pharmaceuticals</td>\n",
       "    </tr>\n",
       "  </tbody>\n",
       "</table>\n",
       "</div>"
      ],
      "text/plain": [
       "   Absent  Present         Industry_Category\n",
       "0     224      395                      BFSI\n",
       "1       2       23  IT Products and Services\n",
       "2      20       50           Pharmaceuticals"
      ]
     },
     "execution_count": 316,
     "metadata": {},
     "output_type": "execute_result"
    }
   ],
   "source": [
    "Industry_Group=  reframe('Industry','Industry_Category')\n",
    "Industry_Group.head()"
   ]
  },
  {
   "cell_type": "code",
   "execution_count": 317,
   "metadata": {},
   "outputs": [],
   "source": [
    "Absentlist = Industry_Group['Absent'].tolist()\n",
    "Industry_Category=Industry_Group['Industry_Category'].tolist()\n",
    "Presentlist=Industry_Group['Present'].tolist"
   ]
  },
  {
   "cell_type": "code",
   "execution_count": 318,
   "metadata": {},
   "outputs": [
    {
     "data": {
      "application/vnd.plotly.v1+json": {
       "config": {
        "plotlyServerURL": "https://plot.ly"
       },
       "data": [
        {
         "marker": {
          "color": "green"
         },
         "name": "Absent",
         "type": "bar",
         "x": [
          "BFSI",
          "IT Products and Services",
          "Pharmaceuticals"
         ],
         "y": [
          224,
          2,
          20
         ]
        },
        {
         "marker": {
          "color": "red"
         },
         "name": "Present",
         "type": "bar",
         "x": [
          "BFSI",
          "IT Products and Services",
          "Pharmaceuticals"
         ],
         "y": [
          395,
          23,
          50
         ]
        }
       ],
       "layout": {
        "barmode": "group",
        "template": {
         "data": {
          "bar": [
           {
            "error_x": {
             "color": "#2a3f5f"
            },
            "error_y": {
             "color": "#2a3f5f"
            },
            "marker": {
             "line": {
              "color": "#E5ECF6",
              "width": 0.5
             }
            },
            "type": "bar"
           }
          ],
          "barpolar": [
           {
            "marker": {
             "line": {
              "color": "#E5ECF6",
              "width": 0.5
             }
            },
            "type": "barpolar"
           }
          ],
          "carpet": [
           {
            "aaxis": {
             "endlinecolor": "#2a3f5f",
             "gridcolor": "white",
             "linecolor": "white",
             "minorgridcolor": "white",
             "startlinecolor": "#2a3f5f"
            },
            "baxis": {
             "endlinecolor": "#2a3f5f",
             "gridcolor": "white",
             "linecolor": "white",
             "minorgridcolor": "white",
             "startlinecolor": "#2a3f5f"
            },
            "type": "carpet"
           }
          ],
          "choropleth": [
           {
            "colorbar": {
             "outlinewidth": 0,
             "ticks": ""
            },
            "type": "choropleth"
           }
          ],
          "contour": [
           {
            "colorbar": {
             "outlinewidth": 0,
             "ticks": ""
            },
            "colorscale": [
             [
              0,
              "#0d0887"
             ],
             [
              0.1111111111111111,
              "#46039f"
             ],
             [
              0.2222222222222222,
              "#7201a8"
             ],
             [
              0.3333333333333333,
              "#9c179e"
             ],
             [
              0.4444444444444444,
              "#bd3786"
             ],
             [
              0.5555555555555556,
              "#d8576b"
             ],
             [
              0.6666666666666666,
              "#ed7953"
             ],
             [
              0.7777777777777778,
              "#fb9f3a"
             ],
             [
              0.8888888888888888,
              "#fdca26"
             ],
             [
              1,
              "#f0f921"
             ]
            ],
            "type": "contour"
           }
          ],
          "contourcarpet": [
           {
            "colorbar": {
             "outlinewidth": 0,
             "ticks": ""
            },
            "type": "contourcarpet"
           }
          ],
          "heatmap": [
           {
            "colorbar": {
             "outlinewidth": 0,
             "ticks": ""
            },
            "colorscale": [
             [
              0,
              "#0d0887"
             ],
             [
              0.1111111111111111,
              "#46039f"
             ],
             [
              0.2222222222222222,
              "#7201a8"
             ],
             [
              0.3333333333333333,
              "#9c179e"
             ],
             [
              0.4444444444444444,
              "#bd3786"
             ],
             [
              0.5555555555555556,
              "#d8576b"
             ],
             [
              0.6666666666666666,
              "#ed7953"
             ],
             [
              0.7777777777777778,
              "#fb9f3a"
             ],
             [
              0.8888888888888888,
              "#fdca26"
             ],
             [
              1,
              "#f0f921"
             ]
            ],
            "type": "heatmap"
           }
          ],
          "heatmapgl": [
           {
            "colorbar": {
             "outlinewidth": 0,
             "ticks": ""
            },
            "colorscale": [
             [
              0,
              "#0d0887"
             ],
             [
              0.1111111111111111,
              "#46039f"
             ],
             [
              0.2222222222222222,
              "#7201a8"
             ],
             [
              0.3333333333333333,
              "#9c179e"
             ],
             [
              0.4444444444444444,
              "#bd3786"
             ],
             [
              0.5555555555555556,
              "#d8576b"
             ],
             [
              0.6666666666666666,
              "#ed7953"
             ],
             [
              0.7777777777777778,
              "#fb9f3a"
             ],
             [
              0.8888888888888888,
              "#fdca26"
             ],
             [
              1,
              "#f0f921"
             ]
            ],
            "type": "heatmapgl"
           }
          ],
          "histogram": [
           {
            "marker": {
             "colorbar": {
              "outlinewidth": 0,
              "ticks": ""
             }
            },
            "type": "histogram"
           }
          ],
          "histogram2d": [
           {
            "colorbar": {
             "outlinewidth": 0,
             "ticks": ""
            },
            "colorscale": [
             [
              0,
              "#0d0887"
             ],
             [
              0.1111111111111111,
              "#46039f"
             ],
             [
              0.2222222222222222,
              "#7201a8"
             ],
             [
              0.3333333333333333,
              "#9c179e"
             ],
             [
              0.4444444444444444,
              "#bd3786"
             ],
             [
              0.5555555555555556,
              "#d8576b"
             ],
             [
              0.6666666666666666,
              "#ed7953"
             ],
             [
              0.7777777777777778,
              "#fb9f3a"
             ],
             [
              0.8888888888888888,
              "#fdca26"
             ],
             [
              1,
              "#f0f921"
             ]
            ],
            "type": "histogram2d"
           }
          ],
          "histogram2dcontour": [
           {
            "colorbar": {
             "outlinewidth": 0,
             "ticks": ""
            },
            "colorscale": [
             [
              0,
              "#0d0887"
             ],
             [
              0.1111111111111111,
              "#46039f"
             ],
             [
              0.2222222222222222,
              "#7201a8"
             ],
             [
              0.3333333333333333,
              "#9c179e"
             ],
             [
              0.4444444444444444,
              "#bd3786"
             ],
             [
              0.5555555555555556,
              "#d8576b"
             ],
             [
              0.6666666666666666,
              "#ed7953"
             ],
             [
              0.7777777777777778,
              "#fb9f3a"
             ],
             [
              0.8888888888888888,
              "#fdca26"
             ],
             [
              1,
              "#f0f921"
             ]
            ],
            "type": "histogram2dcontour"
           }
          ],
          "mesh3d": [
           {
            "colorbar": {
             "outlinewidth": 0,
             "ticks": ""
            },
            "type": "mesh3d"
           }
          ],
          "parcoords": [
           {
            "line": {
             "colorbar": {
              "outlinewidth": 0,
              "ticks": ""
             }
            },
            "type": "parcoords"
           }
          ],
          "scatter": [
           {
            "marker": {
             "colorbar": {
              "outlinewidth": 0,
              "ticks": ""
             }
            },
            "type": "scatter"
           }
          ],
          "scatter3d": [
           {
            "line": {
             "colorbar": {
              "outlinewidth": 0,
              "ticks": ""
             }
            },
            "marker": {
             "colorbar": {
              "outlinewidth": 0,
              "ticks": ""
             }
            },
            "type": "scatter3d"
           }
          ],
          "scattercarpet": [
           {
            "marker": {
             "colorbar": {
              "outlinewidth": 0,
              "ticks": ""
             }
            },
            "type": "scattercarpet"
           }
          ],
          "scattergeo": [
           {
            "marker": {
             "colorbar": {
              "outlinewidth": 0,
              "ticks": ""
             }
            },
            "type": "scattergeo"
           }
          ],
          "scattergl": [
           {
            "marker": {
             "colorbar": {
              "outlinewidth": 0,
              "ticks": ""
             }
            },
            "type": "scattergl"
           }
          ],
          "scattermapbox": [
           {
            "marker": {
             "colorbar": {
              "outlinewidth": 0,
              "ticks": ""
             }
            },
            "type": "scattermapbox"
           }
          ],
          "scatterpolar": [
           {
            "marker": {
             "colorbar": {
              "outlinewidth": 0,
              "ticks": ""
             }
            },
            "type": "scatterpolar"
           }
          ],
          "scatterpolargl": [
           {
            "marker": {
             "colorbar": {
              "outlinewidth": 0,
              "ticks": ""
             }
            },
            "type": "scatterpolargl"
           }
          ],
          "scatterternary": [
           {
            "marker": {
             "colorbar": {
              "outlinewidth": 0,
              "ticks": ""
             }
            },
            "type": "scatterternary"
           }
          ],
          "surface": [
           {
            "colorbar": {
             "outlinewidth": 0,
             "ticks": ""
            },
            "colorscale": [
             [
              0,
              "#0d0887"
             ],
             [
              0.1111111111111111,
              "#46039f"
             ],
             [
              0.2222222222222222,
              "#7201a8"
             ],
             [
              0.3333333333333333,
              "#9c179e"
             ],
             [
              0.4444444444444444,
              "#bd3786"
             ],
             [
              0.5555555555555556,
              "#d8576b"
             ],
             [
              0.6666666666666666,
              "#ed7953"
             ],
             [
              0.7777777777777778,
              "#fb9f3a"
             ],
             [
              0.8888888888888888,
              "#fdca26"
             ],
             [
              1,
              "#f0f921"
             ]
            ],
            "type": "surface"
           }
          ],
          "table": [
           {
            "cells": {
             "fill": {
              "color": "#EBF0F8"
             },
             "line": {
              "color": "white"
             }
            },
            "header": {
             "fill": {
              "color": "#C8D4E3"
             },
             "line": {
              "color": "white"
             }
            },
            "type": "table"
           }
          ]
         },
         "layout": {
          "annotationdefaults": {
           "arrowcolor": "#2a3f5f",
           "arrowhead": 0,
           "arrowwidth": 1
          },
          "colorscale": {
           "diverging": [
            [
             0,
             "#8e0152"
            ],
            [
             0.1,
             "#c51b7d"
            ],
            [
             0.2,
             "#de77ae"
            ],
            [
             0.3,
             "#f1b6da"
            ],
            [
             0.4,
             "#fde0ef"
            ],
            [
             0.5,
             "#f7f7f7"
            ],
            [
             0.6,
             "#e6f5d0"
            ],
            [
             0.7,
             "#b8e186"
            ],
            [
             0.8,
             "#7fbc41"
            ],
            [
             0.9,
             "#4d9221"
            ],
            [
             1,
             "#276419"
            ]
           ],
           "sequential": [
            [
             0,
             "#0d0887"
            ],
            [
             0.1111111111111111,
             "#46039f"
            ],
            [
             0.2222222222222222,
             "#7201a8"
            ],
            [
             0.3333333333333333,
             "#9c179e"
            ],
            [
             0.4444444444444444,
             "#bd3786"
            ],
            [
             0.5555555555555556,
             "#d8576b"
            ],
            [
             0.6666666666666666,
             "#ed7953"
            ],
            [
             0.7777777777777778,
             "#fb9f3a"
            ],
            [
             0.8888888888888888,
             "#fdca26"
            ],
            [
             1,
             "#f0f921"
            ]
           ],
           "sequentialminus": [
            [
             0,
             "#0d0887"
            ],
            [
             0.1111111111111111,
             "#46039f"
            ],
            [
             0.2222222222222222,
             "#7201a8"
            ],
            [
             0.3333333333333333,
             "#9c179e"
            ],
            [
             0.4444444444444444,
             "#bd3786"
            ],
            [
             0.5555555555555556,
             "#d8576b"
            ],
            [
             0.6666666666666666,
             "#ed7953"
            ],
            [
             0.7777777777777778,
             "#fb9f3a"
            ],
            [
             0.8888888888888888,
             "#fdca26"
            ],
            [
             1,
             "#f0f921"
            ]
           ]
          },
          "colorway": [
           "#636efa",
           "#EF553B",
           "#00cc96",
           "#ab63fa",
           "#FFA15A",
           "#19d3f3",
           "#FF6692",
           "#B6E880",
           "#FF97FF",
           "#FECB52"
          ],
          "font": {
           "color": "#2a3f5f"
          },
          "geo": {
           "bgcolor": "white",
           "lakecolor": "white",
           "landcolor": "#E5ECF6",
           "showlakes": true,
           "showland": true,
           "subunitcolor": "white"
          },
          "hoverlabel": {
           "align": "left"
          },
          "hovermode": "closest",
          "mapbox": {
           "style": "light"
          },
          "paper_bgcolor": "white",
          "plot_bgcolor": "#E5ECF6",
          "polar": {
           "angularaxis": {
            "gridcolor": "white",
            "linecolor": "white",
            "ticks": ""
           },
           "bgcolor": "#E5ECF6",
           "radialaxis": {
            "gridcolor": "white",
            "linecolor": "white",
            "ticks": ""
           }
          },
          "scene": {
           "xaxis": {
            "backgroundcolor": "#E5ECF6",
            "gridcolor": "white",
            "gridwidth": 2,
            "linecolor": "white",
            "showbackground": true,
            "ticks": "",
            "zerolinecolor": "white"
           },
           "yaxis": {
            "backgroundcolor": "#E5ECF6",
            "gridcolor": "white",
            "gridwidth": 2,
            "linecolor": "white",
            "showbackground": true,
            "ticks": "",
            "zerolinecolor": "white"
           },
           "zaxis": {
            "backgroundcolor": "#E5ECF6",
            "gridcolor": "white",
            "gridwidth": 2,
            "linecolor": "white",
            "showbackground": true,
            "ticks": "",
            "zerolinecolor": "white"
           }
          },
          "shapedefaults": {
           "line": {
            "color": "#2a3f5f"
           }
          },
          "ternary": {
           "aaxis": {
            "gridcolor": "white",
            "linecolor": "white",
            "ticks": ""
           },
           "baxis": {
            "gridcolor": "white",
            "linecolor": "white",
            "ticks": ""
           },
           "bgcolor": "#E5ECF6",
           "caxis": {
            "gridcolor": "white",
            "linecolor": "white",
            "ticks": ""
           }
          },
          "title": {
           "x": 0.05
          },
          "xaxis": {
           "automargin": true,
           "gridcolor": "white",
           "linecolor": "white",
           "ticks": "",
           "zerolinecolor": "white",
           "zerolinewidth": 2
          },
          "yaxis": {
           "automargin": true,
           "gridcolor": "white",
           "linecolor": "white",
           "ticks": "",
           "zerolinecolor": "white",
           "zerolinewidth": 2
          }
         }
        },
        "xaxis": {
         "tickangle": -45
        }
       }
      },
      "text/html": [
       "<div>\n",
       "        \n",
       "        \n",
       "            <div id=\"27f4bcfa-b1a8-4490-9385-2140eb4a531c\" class=\"plotly-graph-div\" style=\"height:525px; width:100%;\"></div>\n",
       "            <script type=\"text/javascript\">\n",
       "                require([\"plotly\"], function(Plotly) {\n",
       "                    window.PLOTLYENV=window.PLOTLYENV || {};\n",
       "                    \n",
       "                if (document.getElementById(\"27f4bcfa-b1a8-4490-9385-2140eb4a531c\")) {\n",
       "                    Plotly.newPlot(\n",
       "                        '27f4bcfa-b1a8-4490-9385-2140eb4a531c',\n",
       "                        [{\"marker\": {\"color\": \"green\"}, \"name\": \"Absent\", \"type\": \"bar\", \"x\": [\"BFSI\", \"IT Products and Services\", \"Pharmaceuticals\"], \"y\": [224, 2, 20]}, {\"marker\": {\"color\": \"red\"}, \"name\": \"Present\", \"type\": \"bar\", \"x\": [\"BFSI\", \"IT Products and Services\", \"Pharmaceuticals\"], \"y\": [395, 23, 50]}],\n",
       "                        {\"barmode\": \"group\", \"template\": {\"data\": {\"bar\": [{\"error_x\": {\"color\": \"#2a3f5f\"}, \"error_y\": {\"color\": \"#2a3f5f\"}, \"marker\": {\"line\": {\"color\": \"#E5ECF6\", \"width\": 0.5}}, \"type\": \"bar\"}], \"barpolar\": [{\"marker\": {\"line\": {\"color\": \"#E5ECF6\", \"width\": 0.5}}, \"type\": \"barpolar\"}], \"carpet\": [{\"aaxis\": {\"endlinecolor\": \"#2a3f5f\", \"gridcolor\": \"white\", \"linecolor\": \"white\", \"minorgridcolor\": \"white\", \"startlinecolor\": \"#2a3f5f\"}, \"baxis\": {\"endlinecolor\": \"#2a3f5f\", \"gridcolor\": \"white\", \"linecolor\": \"white\", \"minorgridcolor\": \"white\", \"startlinecolor\": \"#2a3f5f\"}, \"type\": \"carpet\"}], \"choropleth\": [{\"colorbar\": {\"outlinewidth\": 0, \"ticks\": \"\"}, \"type\": \"choropleth\"}], \"contour\": [{\"colorbar\": {\"outlinewidth\": 0, \"ticks\": \"\"}, \"colorscale\": [[0.0, \"#0d0887\"], [0.1111111111111111, \"#46039f\"], [0.2222222222222222, \"#7201a8\"], [0.3333333333333333, \"#9c179e\"], [0.4444444444444444, \"#bd3786\"], [0.5555555555555556, \"#d8576b\"], [0.6666666666666666, \"#ed7953\"], [0.7777777777777778, \"#fb9f3a\"], [0.8888888888888888, \"#fdca26\"], [1.0, \"#f0f921\"]], \"type\": \"contour\"}], \"contourcarpet\": [{\"colorbar\": {\"outlinewidth\": 0, \"ticks\": \"\"}, \"type\": \"contourcarpet\"}], \"heatmap\": [{\"colorbar\": {\"outlinewidth\": 0, \"ticks\": \"\"}, \"colorscale\": [[0.0, \"#0d0887\"], [0.1111111111111111, \"#46039f\"], [0.2222222222222222, \"#7201a8\"], [0.3333333333333333, \"#9c179e\"], [0.4444444444444444, \"#bd3786\"], [0.5555555555555556, \"#d8576b\"], [0.6666666666666666, \"#ed7953\"], [0.7777777777777778, \"#fb9f3a\"], [0.8888888888888888, \"#fdca26\"], [1.0, \"#f0f921\"]], \"type\": \"heatmap\"}], \"heatmapgl\": [{\"colorbar\": {\"outlinewidth\": 0, \"ticks\": \"\"}, \"colorscale\": [[0.0, \"#0d0887\"], [0.1111111111111111, \"#46039f\"], [0.2222222222222222, \"#7201a8\"], [0.3333333333333333, \"#9c179e\"], [0.4444444444444444, \"#bd3786\"], [0.5555555555555556, \"#d8576b\"], [0.6666666666666666, \"#ed7953\"], [0.7777777777777778, \"#fb9f3a\"], [0.8888888888888888, \"#fdca26\"], [1.0, \"#f0f921\"]], \"type\": \"heatmapgl\"}], \"histogram\": [{\"marker\": {\"colorbar\": {\"outlinewidth\": 0, \"ticks\": \"\"}}, \"type\": \"histogram\"}], \"histogram2d\": [{\"colorbar\": {\"outlinewidth\": 0, \"ticks\": \"\"}, \"colorscale\": [[0.0, \"#0d0887\"], [0.1111111111111111, \"#46039f\"], [0.2222222222222222, \"#7201a8\"], [0.3333333333333333, \"#9c179e\"], [0.4444444444444444, \"#bd3786\"], [0.5555555555555556, \"#d8576b\"], [0.6666666666666666, \"#ed7953\"], [0.7777777777777778, \"#fb9f3a\"], [0.8888888888888888, \"#fdca26\"], [1.0, \"#f0f921\"]], \"type\": \"histogram2d\"}], \"histogram2dcontour\": [{\"colorbar\": {\"outlinewidth\": 0, \"ticks\": \"\"}, \"colorscale\": [[0.0, \"#0d0887\"], [0.1111111111111111, \"#46039f\"], [0.2222222222222222, \"#7201a8\"], [0.3333333333333333, \"#9c179e\"], [0.4444444444444444, \"#bd3786\"], [0.5555555555555556, \"#d8576b\"], [0.6666666666666666, \"#ed7953\"], [0.7777777777777778, \"#fb9f3a\"], [0.8888888888888888, \"#fdca26\"], [1.0, \"#f0f921\"]], \"type\": \"histogram2dcontour\"}], \"mesh3d\": [{\"colorbar\": {\"outlinewidth\": 0, \"ticks\": \"\"}, \"type\": \"mesh3d\"}], \"parcoords\": [{\"line\": {\"colorbar\": {\"outlinewidth\": 0, \"ticks\": \"\"}}, \"type\": \"parcoords\"}], \"scatter\": [{\"marker\": {\"colorbar\": {\"outlinewidth\": 0, \"ticks\": \"\"}}, \"type\": \"scatter\"}], \"scatter3d\": [{\"line\": {\"colorbar\": {\"outlinewidth\": 0, \"ticks\": \"\"}}, \"marker\": {\"colorbar\": {\"outlinewidth\": 0, \"ticks\": \"\"}}, \"type\": \"scatter3d\"}], \"scattercarpet\": [{\"marker\": {\"colorbar\": {\"outlinewidth\": 0, \"ticks\": \"\"}}, \"type\": \"scattercarpet\"}], \"scattergeo\": [{\"marker\": {\"colorbar\": {\"outlinewidth\": 0, \"ticks\": \"\"}}, \"type\": \"scattergeo\"}], \"scattergl\": [{\"marker\": {\"colorbar\": {\"outlinewidth\": 0, \"ticks\": \"\"}}, \"type\": \"scattergl\"}], \"scattermapbox\": [{\"marker\": {\"colorbar\": {\"outlinewidth\": 0, \"ticks\": \"\"}}, \"type\": \"scattermapbox\"}], \"scatterpolar\": [{\"marker\": {\"colorbar\": {\"outlinewidth\": 0, \"ticks\": \"\"}}, \"type\": \"scatterpolar\"}], \"scatterpolargl\": [{\"marker\": {\"colorbar\": {\"outlinewidth\": 0, \"ticks\": \"\"}}, \"type\": \"scatterpolargl\"}], \"scatterternary\": [{\"marker\": {\"colorbar\": {\"outlinewidth\": 0, \"ticks\": \"\"}}, \"type\": \"scatterternary\"}], \"surface\": [{\"colorbar\": {\"outlinewidth\": 0, \"ticks\": \"\"}, \"colorscale\": [[0.0, \"#0d0887\"], [0.1111111111111111, \"#46039f\"], [0.2222222222222222, \"#7201a8\"], [0.3333333333333333, \"#9c179e\"], [0.4444444444444444, \"#bd3786\"], [0.5555555555555556, \"#d8576b\"], [0.6666666666666666, \"#ed7953\"], [0.7777777777777778, \"#fb9f3a\"], [0.8888888888888888, \"#fdca26\"], [1.0, \"#f0f921\"]], \"type\": \"surface\"}], \"table\": [{\"cells\": {\"fill\": {\"color\": \"#EBF0F8\"}, \"line\": {\"color\": \"white\"}}, \"header\": {\"fill\": {\"color\": \"#C8D4E3\"}, \"line\": {\"color\": \"white\"}}, \"type\": \"table\"}]}, \"layout\": {\"annotationdefaults\": {\"arrowcolor\": \"#2a3f5f\", \"arrowhead\": 0, \"arrowwidth\": 1}, \"colorscale\": {\"diverging\": [[0, \"#8e0152\"], [0.1, \"#c51b7d\"], [0.2, \"#de77ae\"], [0.3, \"#f1b6da\"], [0.4, \"#fde0ef\"], [0.5, \"#f7f7f7\"], [0.6, \"#e6f5d0\"], [0.7, \"#b8e186\"], [0.8, \"#7fbc41\"], [0.9, \"#4d9221\"], [1, \"#276419\"]], \"sequential\": [[0.0, \"#0d0887\"], [0.1111111111111111, \"#46039f\"], [0.2222222222222222, \"#7201a8\"], [0.3333333333333333, \"#9c179e\"], [0.4444444444444444, \"#bd3786\"], [0.5555555555555556, \"#d8576b\"], [0.6666666666666666, \"#ed7953\"], [0.7777777777777778, \"#fb9f3a\"], [0.8888888888888888, \"#fdca26\"], [1.0, \"#f0f921\"]], \"sequentialminus\": [[0.0, \"#0d0887\"], [0.1111111111111111, \"#46039f\"], [0.2222222222222222, \"#7201a8\"], [0.3333333333333333, \"#9c179e\"], [0.4444444444444444, \"#bd3786\"], [0.5555555555555556, \"#d8576b\"], [0.6666666666666666, \"#ed7953\"], [0.7777777777777778, \"#fb9f3a\"], [0.8888888888888888, \"#fdca26\"], [1.0, \"#f0f921\"]]}, \"colorway\": [\"#636efa\", \"#EF553B\", \"#00cc96\", \"#ab63fa\", \"#FFA15A\", \"#19d3f3\", \"#FF6692\", \"#B6E880\", \"#FF97FF\", \"#FECB52\"], \"font\": {\"color\": \"#2a3f5f\"}, \"geo\": {\"bgcolor\": \"white\", \"lakecolor\": \"white\", \"landcolor\": \"#E5ECF6\", \"showlakes\": true, \"showland\": true, \"subunitcolor\": \"white\"}, \"hoverlabel\": {\"align\": \"left\"}, \"hovermode\": \"closest\", \"mapbox\": {\"style\": \"light\"}, \"paper_bgcolor\": \"white\", \"plot_bgcolor\": \"#E5ECF6\", \"polar\": {\"angularaxis\": {\"gridcolor\": \"white\", \"linecolor\": \"white\", \"ticks\": \"\"}, \"bgcolor\": \"#E5ECF6\", \"radialaxis\": {\"gridcolor\": \"white\", \"linecolor\": \"white\", \"ticks\": \"\"}}, \"scene\": {\"xaxis\": {\"backgroundcolor\": \"#E5ECF6\", \"gridcolor\": \"white\", \"gridwidth\": 2, \"linecolor\": \"white\", \"showbackground\": true, \"ticks\": \"\", \"zerolinecolor\": \"white\"}, \"yaxis\": {\"backgroundcolor\": \"#E5ECF6\", \"gridcolor\": \"white\", \"gridwidth\": 2, \"linecolor\": \"white\", \"showbackground\": true, \"ticks\": \"\", \"zerolinecolor\": \"white\"}, \"zaxis\": {\"backgroundcolor\": \"#E5ECF6\", \"gridcolor\": \"white\", \"gridwidth\": 2, \"linecolor\": \"white\", \"showbackground\": true, \"ticks\": \"\", \"zerolinecolor\": \"white\"}}, \"shapedefaults\": {\"line\": {\"color\": \"#2a3f5f\"}}, \"ternary\": {\"aaxis\": {\"gridcolor\": \"white\", \"linecolor\": \"white\", \"ticks\": \"\"}, \"baxis\": {\"gridcolor\": \"white\", \"linecolor\": \"white\", \"ticks\": \"\"}, \"bgcolor\": \"#E5ECF6\", \"caxis\": {\"gridcolor\": \"white\", \"linecolor\": \"white\", \"ticks\": \"\"}}, \"title\": {\"x\": 0.05}, \"xaxis\": {\"automargin\": true, \"gridcolor\": \"white\", \"linecolor\": \"white\", \"ticks\": \"\", \"zerolinecolor\": \"white\", \"zerolinewidth\": 2}, \"yaxis\": {\"automargin\": true, \"gridcolor\": \"white\", \"linecolor\": \"white\", \"ticks\": \"\", \"zerolinecolor\": \"white\", \"zerolinewidth\": 2}}}, \"xaxis\": {\"tickangle\": -45}},\n",
       "                        {\"responsive\": true}\n",
       "                    ).then(function(){\n",
       "                            \n",
       "var gd = document.getElementById('27f4bcfa-b1a8-4490-9385-2140eb4a531c');\n",
       "var x = new MutationObserver(function (mutations, observer) {{\n",
       "        var display = window.getComputedStyle(gd).display;\n",
       "        if (!display || display === 'none') {{\n",
       "            console.log([gd, 'removed!']);\n",
       "            Plotly.purge(gd);\n",
       "            observer.disconnect();\n",
       "        }}\n",
       "}});\n",
       "\n",
       "// Listen for the removal of the full notebook cells\n",
       "var notebookContainer = gd.closest('#notebook-container');\n",
       "if (notebookContainer) {{\n",
       "    x.observe(notebookContainer, {childList: true});\n",
       "}}\n",
       "\n",
       "// Listen for the clearing of the current output cell\n",
       "var outputEl = gd.closest('.output');\n",
       "if (outputEl) {{\n",
       "    x.observe(outputEl, {childList: true});\n",
       "}}\n",
       "\n",
       "                        })\n",
       "                };\n",
       "                });\n",
       "            </script>\n",
       "        </div>"
      ]
     },
     "metadata": {},
     "output_type": "display_data"
    }
   ],
   "source": [
    "barplot(Industry_Category,Industry_Group)"
   ]
  },
  {
   "cell_type": "markdown",
   "metadata": {},
   "source": [
    "## Group By Interview location"
   ]
  },
  {
   "cell_type": "code",
   "execution_count": 319,
   "metadata": {},
   "outputs": [
    {
     "data": {
      "text/html": [
       "<div>\n",
       "<style scoped>\n",
       "    .dataframe tbody tr th:only-of-type {\n",
       "        vertical-align: middle;\n",
       "    }\n",
       "\n",
       "    .dataframe tbody tr th {\n",
       "        vertical-align: top;\n",
       "    }\n",
       "\n",
       "    .dataframe thead th {\n",
       "        text-align: right;\n",
       "    }\n",
       "</style>\n",
       "<table border=\"1\" class=\"dataframe\">\n",
       "  <thead>\n",
       "    <tr style=\"text-align: right;\">\n",
       "      <th></th>\n",
       "      <th>Absent</th>\n",
       "      <th>Present</th>\n",
       "      <th>Interview_Venue_Category</th>\n",
       "    </tr>\n",
       "  </thead>\n",
       "  <tbody>\n",
       "    <tr>\n",
       "      <th>0</th>\n",
       "      <td>52</td>\n",
       "      <td>100</td>\n",
       "      <td>Bangalore</td>\n",
       "    </tr>\n",
       "    <tr>\n",
       "      <th>1</th>\n",
       "      <td>185</td>\n",
       "      <td>334</td>\n",
       "      <td>Chennai</td>\n",
       "    </tr>\n",
       "    <tr>\n",
       "      <th>2</th>\n",
       "      <td>1</td>\n",
       "      <td>9</td>\n",
       "      <td>Gurgaon</td>\n",
       "    </tr>\n",
       "    <tr>\n",
       "      <th>3</th>\n",
       "      <td>7</td>\n",
       "      <td>11</td>\n",
       "      <td>Hyderabad</td>\n",
       "    </tr>\n",
       "    <tr>\n",
       "      <th>4</th>\n",
       "      <td>1</td>\n",
       "      <td>14</td>\n",
       "      <td>Noida</td>\n",
       "    </tr>\n",
       "  </tbody>\n",
       "</table>\n",
       "</div>"
      ],
      "text/plain": [
       "   Absent  Present Interview_Venue_Category\n",
       "0      52      100                Bangalore\n",
       "1     185      334                  Chennai\n",
       "2       1        9                  Gurgaon\n",
       "3       7       11                Hyderabad\n",
       "4       1       14                    Noida"
      ]
     },
     "execution_count": 319,
     "metadata": {},
     "output_type": "execute_result"
    }
   ],
   "source": [
    "Interview_Venue_Group=  reframe('Interview_Venue','Interview_Venue_Category')\n",
    "Interview_Venue_Group.head()"
   ]
  },
  {
   "cell_type": "code",
   "execution_count": 320,
   "metadata": {},
   "outputs": [],
   "source": [
    "Absentlist = Interview_Venue_Group['Absent'].tolist()\n",
    "Interview_Venue_Category=Interview_Venue_Group['Interview_Venue_Category'].tolist()\n",
    "Presentlist=Interview_Venue_Group['Present'].tolist"
   ]
  },
  {
   "cell_type": "code",
   "execution_count": 321,
   "metadata": {},
   "outputs": [
    {
     "data": {
      "application/vnd.plotly.v1+json": {
       "config": {
        "plotlyServerURL": "https://plot.ly"
       },
       "data": [
        {
         "marker": {
          "color": "green"
         },
         "name": "Absent",
         "type": "bar",
         "x": [
          "Bangalore",
          "Chennai",
          "Gurgaon",
          "Hyderabad",
          "Noida"
         ],
         "y": [
          52,
          185,
          1,
          7,
          1
         ]
        },
        {
         "marker": {
          "color": "red"
         },
         "name": "Present",
         "type": "bar",
         "x": [
          "Bangalore",
          "Chennai",
          "Gurgaon",
          "Hyderabad",
          "Noida"
         ],
         "y": [
          100,
          334,
          9,
          11,
          14
         ]
        }
       ],
       "layout": {
        "barmode": "group",
        "template": {
         "data": {
          "bar": [
           {
            "error_x": {
             "color": "#2a3f5f"
            },
            "error_y": {
             "color": "#2a3f5f"
            },
            "marker": {
             "line": {
              "color": "#E5ECF6",
              "width": 0.5
             }
            },
            "type": "bar"
           }
          ],
          "barpolar": [
           {
            "marker": {
             "line": {
              "color": "#E5ECF6",
              "width": 0.5
             }
            },
            "type": "barpolar"
           }
          ],
          "carpet": [
           {
            "aaxis": {
             "endlinecolor": "#2a3f5f",
             "gridcolor": "white",
             "linecolor": "white",
             "minorgridcolor": "white",
             "startlinecolor": "#2a3f5f"
            },
            "baxis": {
             "endlinecolor": "#2a3f5f",
             "gridcolor": "white",
             "linecolor": "white",
             "minorgridcolor": "white",
             "startlinecolor": "#2a3f5f"
            },
            "type": "carpet"
           }
          ],
          "choropleth": [
           {
            "colorbar": {
             "outlinewidth": 0,
             "ticks": ""
            },
            "type": "choropleth"
           }
          ],
          "contour": [
           {
            "colorbar": {
             "outlinewidth": 0,
             "ticks": ""
            },
            "colorscale": [
             [
              0,
              "#0d0887"
             ],
             [
              0.1111111111111111,
              "#46039f"
             ],
             [
              0.2222222222222222,
              "#7201a8"
             ],
             [
              0.3333333333333333,
              "#9c179e"
             ],
             [
              0.4444444444444444,
              "#bd3786"
             ],
             [
              0.5555555555555556,
              "#d8576b"
             ],
             [
              0.6666666666666666,
              "#ed7953"
             ],
             [
              0.7777777777777778,
              "#fb9f3a"
             ],
             [
              0.8888888888888888,
              "#fdca26"
             ],
             [
              1,
              "#f0f921"
             ]
            ],
            "type": "contour"
           }
          ],
          "contourcarpet": [
           {
            "colorbar": {
             "outlinewidth": 0,
             "ticks": ""
            },
            "type": "contourcarpet"
           }
          ],
          "heatmap": [
           {
            "colorbar": {
             "outlinewidth": 0,
             "ticks": ""
            },
            "colorscale": [
             [
              0,
              "#0d0887"
             ],
             [
              0.1111111111111111,
              "#46039f"
             ],
             [
              0.2222222222222222,
              "#7201a8"
             ],
             [
              0.3333333333333333,
              "#9c179e"
             ],
             [
              0.4444444444444444,
              "#bd3786"
             ],
             [
              0.5555555555555556,
              "#d8576b"
             ],
             [
              0.6666666666666666,
              "#ed7953"
             ],
             [
              0.7777777777777778,
              "#fb9f3a"
             ],
             [
              0.8888888888888888,
              "#fdca26"
             ],
             [
              1,
              "#f0f921"
             ]
            ],
            "type": "heatmap"
           }
          ],
          "heatmapgl": [
           {
            "colorbar": {
             "outlinewidth": 0,
             "ticks": ""
            },
            "colorscale": [
             [
              0,
              "#0d0887"
             ],
             [
              0.1111111111111111,
              "#46039f"
             ],
             [
              0.2222222222222222,
              "#7201a8"
             ],
             [
              0.3333333333333333,
              "#9c179e"
             ],
             [
              0.4444444444444444,
              "#bd3786"
             ],
             [
              0.5555555555555556,
              "#d8576b"
             ],
             [
              0.6666666666666666,
              "#ed7953"
             ],
             [
              0.7777777777777778,
              "#fb9f3a"
             ],
             [
              0.8888888888888888,
              "#fdca26"
             ],
             [
              1,
              "#f0f921"
             ]
            ],
            "type": "heatmapgl"
           }
          ],
          "histogram": [
           {
            "marker": {
             "colorbar": {
              "outlinewidth": 0,
              "ticks": ""
             }
            },
            "type": "histogram"
           }
          ],
          "histogram2d": [
           {
            "colorbar": {
             "outlinewidth": 0,
             "ticks": ""
            },
            "colorscale": [
             [
              0,
              "#0d0887"
             ],
             [
              0.1111111111111111,
              "#46039f"
             ],
             [
              0.2222222222222222,
              "#7201a8"
             ],
             [
              0.3333333333333333,
              "#9c179e"
             ],
             [
              0.4444444444444444,
              "#bd3786"
             ],
             [
              0.5555555555555556,
              "#d8576b"
             ],
             [
              0.6666666666666666,
              "#ed7953"
             ],
             [
              0.7777777777777778,
              "#fb9f3a"
             ],
             [
              0.8888888888888888,
              "#fdca26"
             ],
             [
              1,
              "#f0f921"
             ]
            ],
            "type": "histogram2d"
           }
          ],
          "histogram2dcontour": [
           {
            "colorbar": {
             "outlinewidth": 0,
             "ticks": ""
            },
            "colorscale": [
             [
              0,
              "#0d0887"
             ],
             [
              0.1111111111111111,
              "#46039f"
             ],
             [
              0.2222222222222222,
              "#7201a8"
             ],
             [
              0.3333333333333333,
              "#9c179e"
             ],
             [
              0.4444444444444444,
              "#bd3786"
             ],
             [
              0.5555555555555556,
              "#d8576b"
             ],
             [
              0.6666666666666666,
              "#ed7953"
             ],
             [
              0.7777777777777778,
              "#fb9f3a"
             ],
             [
              0.8888888888888888,
              "#fdca26"
             ],
             [
              1,
              "#f0f921"
             ]
            ],
            "type": "histogram2dcontour"
           }
          ],
          "mesh3d": [
           {
            "colorbar": {
             "outlinewidth": 0,
             "ticks": ""
            },
            "type": "mesh3d"
           }
          ],
          "parcoords": [
           {
            "line": {
             "colorbar": {
              "outlinewidth": 0,
              "ticks": ""
             }
            },
            "type": "parcoords"
           }
          ],
          "scatter": [
           {
            "marker": {
             "colorbar": {
              "outlinewidth": 0,
              "ticks": ""
             }
            },
            "type": "scatter"
           }
          ],
          "scatter3d": [
           {
            "line": {
             "colorbar": {
              "outlinewidth": 0,
              "ticks": ""
             }
            },
            "marker": {
             "colorbar": {
              "outlinewidth": 0,
              "ticks": ""
             }
            },
            "type": "scatter3d"
           }
          ],
          "scattercarpet": [
           {
            "marker": {
             "colorbar": {
              "outlinewidth": 0,
              "ticks": ""
             }
            },
            "type": "scattercarpet"
           }
          ],
          "scattergeo": [
           {
            "marker": {
             "colorbar": {
              "outlinewidth": 0,
              "ticks": ""
             }
            },
            "type": "scattergeo"
           }
          ],
          "scattergl": [
           {
            "marker": {
             "colorbar": {
              "outlinewidth": 0,
              "ticks": ""
             }
            },
            "type": "scattergl"
           }
          ],
          "scattermapbox": [
           {
            "marker": {
             "colorbar": {
              "outlinewidth": 0,
              "ticks": ""
             }
            },
            "type": "scattermapbox"
           }
          ],
          "scatterpolar": [
           {
            "marker": {
             "colorbar": {
              "outlinewidth": 0,
              "ticks": ""
             }
            },
            "type": "scatterpolar"
           }
          ],
          "scatterpolargl": [
           {
            "marker": {
             "colorbar": {
              "outlinewidth": 0,
              "ticks": ""
             }
            },
            "type": "scatterpolargl"
           }
          ],
          "scatterternary": [
           {
            "marker": {
             "colorbar": {
              "outlinewidth": 0,
              "ticks": ""
             }
            },
            "type": "scatterternary"
           }
          ],
          "surface": [
           {
            "colorbar": {
             "outlinewidth": 0,
             "ticks": ""
            },
            "colorscale": [
             [
              0,
              "#0d0887"
             ],
             [
              0.1111111111111111,
              "#46039f"
             ],
             [
              0.2222222222222222,
              "#7201a8"
             ],
             [
              0.3333333333333333,
              "#9c179e"
             ],
             [
              0.4444444444444444,
              "#bd3786"
             ],
             [
              0.5555555555555556,
              "#d8576b"
             ],
             [
              0.6666666666666666,
              "#ed7953"
             ],
             [
              0.7777777777777778,
              "#fb9f3a"
             ],
             [
              0.8888888888888888,
              "#fdca26"
             ],
             [
              1,
              "#f0f921"
             ]
            ],
            "type": "surface"
           }
          ],
          "table": [
           {
            "cells": {
             "fill": {
              "color": "#EBF0F8"
             },
             "line": {
              "color": "white"
             }
            },
            "header": {
             "fill": {
              "color": "#C8D4E3"
             },
             "line": {
              "color": "white"
             }
            },
            "type": "table"
           }
          ]
         },
         "layout": {
          "annotationdefaults": {
           "arrowcolor": "#2a3f5f",
           "arrowhead": 0,
           "arrowwidth": 1
          },
          "colorscale": {
           "diverging": [
            [
             0,
             "#8e0152"
            ],
            [
             0.1,
             "#c51b7d"
            ],
            [
             0.2,
             "#de77ae"
            ],
            [
             0.3,
             "#f1b6da"
            ],
            [
             0.4,
             "#fde0ef"
            ],
            [
             0.5,
             "#f7f7f7"
            ],
            [
             0.6,
             "#e6f5d0"
            ],
            [
             0.7,
             "#b8e186"
            ],
            [
             0.8,
             "#7fbc41"
            ],
            [
             0.9,
             "#4d9221"
            ],
            [
             1,
             "#276419"
            ]
           ],
           "sequential": [
            [
             0,
             "#0d0887"
            ],
            [
             0.1111111111111111,
             "#46039f"
            ],
            [
             0.2222222222222222,
             "#7201a8"
            ],
            [
             0.3333333333333333,
             "#9c179e"
            ],
            [
             0.4444444444444444,
             "#bd3786"
            ],
            [
             0.5555555555555556,
             "#d8576b"
            ],
            [
             0.6666666666666666,
             "#ed7953"
            ],
            [
             0.7777777777777778,
             "#fb9f3a"
            ],
            [
             0.8888888888888888,
             "#fdca26"
            ],
            [
             1,
             "#f0f921"
            ]
           ],
           "sequentialminus": [
            [
             0,
             "#0d0887"
            ],
            [
             0.1111111111111111,
             "#46039f"
            ],
            [
             0.2222222222222222,
             "#7201a8"
            ],
            [
             0.3333333333333333,
             "#9c179e"
            ],
            [
             0.4444444444444444,
             "#bd3786"
            ],
            [
             0.5555555555555556,
             "#d8576b"
            ],
            [
             0.6666666666666666,
             "#ed7953"
            ],
            [
             0.7777777777777778,
             "#fb9f3a"
            ],
            [
             0.8888888888888888,
             "#fdca26"
            ],
            [
             1,
             "#f0f921"
            ]
           ]
          },
          "colorway": [
           "#636efa",
           "#EF553B",
           "#00cc96",
           "#ab63fa",
           "#FFA15A",
           "#19d3f3",
           "#FF6692",
           "#B6E880",
           "#FF97FF",
           "#FECB52"
          ],
          "font": {
           "color": "#2a3f5f"
          },
          "geo": {
           "bgcolor": "white",
           "lakecolor": "white",
           "landcolor": "#E5ECF6",
           "showlakes": true,
           "showland": true,
           "subunitcolor": "white"
          },
          "hoverlabel": {
           "align": "left"
          },
          "hovermode": "closest",
          "mapbox": {
           "style": "light"
          },
          "paper_bgcolor": "white",
          "plot_bgcolor": "#E5ECF6",
          "polar": {
           "angularaxis": {
            "gridcolor": "white",
            "linecolor": "white",
            "ticks": ""
           },
           "bgcolor": "#E5ECF6",
           "radialaxis": {
            "gridcolor": "white",
            "linecolor": "white",
            "ticks": ""
           }
          },
          "scene": {
           "xaxis": {
            "backgroundcolor": "#E5ECF6",
            "gridcolor": "white",
            "gridwidth": 2,
            "linecolor": "white",
            "showbackground": true,
            "ticks": "",
            "zerolinecolor": "white"
           },
           "yaxis": {
            "backgroundcolor": "#E5ECF6",
            "gridcolor": "white",
            "gridwidth": 2,
            "linecolor": "white",
            "showbackground": true,
            "ticks": "",
            "zerolinecolor": "white"
           },
           "zaxis": {
            "backgroundcolor": "#E5ECF6",
            "gridcolor": "white",
            "gridwidth": 2,
            "linecolor": "white",
            "showbackground": true,
            "ticks": "",
            "zerolinecolor": "white"
           }
          },
          "shapedefaults": {
           "line": {
            "color": "#2a3f5f"
           }
          },
          "ternary": {
           "aaxis": {
            "gridcolor": "white",
            "linecolor": "white",
            "ticks": ""
           },
           "baxis": {
            "gridcolor": "white",
            "linecolor": "white",
            "ticks": ""
           },
           "bgcolor": "#E5ECF6",
           "caxis": {
            "gridcolor": "white",
            "linecolor": "white",
            "ticks": ""
           }
          },
          "title": {
           "x": 0.05
          },
          "xaxis": {
           "automargin": true,
           "gridcolor": "white",
           "linecolor": "white",
           "ticks": "",
           "zerolinecolor": "white",
           "zerolinewidth": 2
          },
          "yaxis": {
           "automargin": true,
           "gridcolor": "white",
           "linecolor": "white",
           "ticks": "",
           "zerolinecolor": "white",
           "zerolinewidth": 2
          }
         }
        },
        "xaxis": {
         "tickangle": -45
        }
       }
      },
      "text/html": [
       "<div>\n",
       "        \n",
       "        \n",
       "            <div id=\"a75547da-8cfc-4e11-a3d1-cfcc7632cd3f\" class=\"plotly-graph-div\" style=\"height:525px; width:100%;\"></div>\n",
       "            <script type=\"text/javascript\">\n",
       "                require([\"plotly\"], function(Plotly) {\n",
       "                    window.PLOTLYENV=window.PLOTLYENV || {};\n",
       "                    \n",
       "                if (document.getElementById(\"a75547da-8cfc-4e11-a3d1-cfcc7632cd3f\")) {\n",
       "                    Plotly.newPlot(\n",
       "                        'a75547da-8cfc-4e11-a3d1-cfcc7632cd3f',\n",
       "                        [{\"marker\": {\"color\": \"green\"}, \"name\": \"Absent\", \"type\": \"bar\", \"x\": [\"Bangalore\", \"Chennai\", \"Gurgaon\", \"Hyderabad\", \"Noida\"], \"y\": [52, 185, 1, 7, 1]}, {\"marker\": {\"color\": \"red\"}, \"name\": \"Present\", \"type\": \"bar\", \"x\": [\"Bangalore\", \"Chennai\", \"Gurgaon\", \"Hyderabad\", \"Noida\"], \"y\": [100, 334, 9, 11, 14]}],\n",
       "                        {\"barmode\": \"group\", \"template\": {\"data\": {\"bar\": [{\"error_x\": {\"color\": \"#2a3f5f\"}, \"error_y\": {\"color\": \"#2a3f5f\"}, \"marker\": {\"line\": {\"color\": \"#E5ECF6\", \"width\": 0.5}}, \"type\": \"bar\"}], \"barpolar\": [{\"marker\": {\"line\": {\"color\": \"#E5ECF6\", \"width\": 0.5}}, \"type\": \"barpolar\"}], \"carpet\": [{\"aaxis\": {\"endlinecolor\": \"#2a3f5f\", \"gridcolor\": \"white\", \"linecolor\": \"white\", \"minorgridcolor\": \"white\", \"startlinecolor\": \"#2a3f5f\"}, \"baxis\": {\"endlinecolor\": \"#2a3f5f\", \"gridcolor\": \"white\", \"linecolor\": \"white\", \"minorgridcolor\": \"white\", \"startlinecolor\": \"#2a3f5f\"}, \"type\": \"carpet\"}], \"choropleth\": [{\"colorbar\": {\"outlinewidth\": 0, \"ticks\": \"\"}, \"type\": \"choropleth\"}], \"contour\": [{\"colorbar\": {\"outlinewidth\": 0, \"ticks\": \"\"}, \"colorscale\": [[0.0, \"#0d0887\"], [0.1111111111111111, \"#46039f\"], [0.2222222222222222, \"#7201a8\"], [0.3333333333333333, \"#9c179e\"], [0.4444444444444444, \"#bd3786\"], [0.5555555555555556, \"#d8576b\"], [0.6666666666666666, \"#ed7953\"], [0.7777777777777778, \"#fb9f3a\"], [0.8888888888888888, \"#fdca26\"], [1.0, \"#f0f921\"]], \"type\": \"contour\"}], \"contourcarpet\": [{\"colorbar\": {\"outlinewidth\": 0, \"ticks\": \"\"}, \"type\": \"contourcarpet\"}], \"heatmap\": [{\"colorbar\": {\"outlinewidth\": 0, \"ticks\": \"\"}, \"colorscale\": [[0.0, \"#0d0887\"], [0.1111111111111111, \"#46039f\"], [0.2222222222222222, \"#7201a8\"], [0.3333333333333333, \"#9c179e\"], [0.4444444444444444, \"#bd3786\"], [0.5555555555555556, \"#d8576b\"], [0.6666666666666666, \"#ed7953\"], [0.7777777777777778, \"#fb9f3a\"], [0.8888888888888888, \"#fdca26\"], [1.0, \"#f0f921\"]], \"type\": \"heatmap\"}], \"heatmapgl\": [{\"colorbar\": {\"outlinewidth\": 0, \"ticks\": \"\"}, \"colorscale\": [[0.0, \"#0d0887\"], [0.1111111111111111, \"#46039f\"], [0.2222222222222222, \"#7201a8\"], [0.3333333333333333, \"#9c179e\"], [0.4444444444444444, \"#bd3786\"], [0.5555555555555556, \"#d8576b\"], [0.6666666666666666, \"#ed7953\"], [0.7777777777777778, \"#fb9f3a\"], [0.8888888888888888, \"#fdca26\"], [1.0, \"#f0f921\"]], \"type\": \"heatmapgl\"}], \"histogram\": [{\"marker\": {\"colorbar\": {\"outlinewidth\": 0, \"ticks\": \"\"}}, \"type\": \"histogram\"}], \"histogram2d\": [{\"colorbar\": {\"outlinewidth\": 0, \"ticks\": \"\"}, \"colorscale\": [[0.0, \"#0d0887\"], [0.1111111111111111, \"#46039f\"], [0.2222222222222222, \"#7201a8\"], [0.3333333333333333, \"#9c179e\"], [0.4444444444444444, \"#bd3786\"], [0.5555555555555556, \"#d8576b\"], [0.6666666666666666, \"#ed7953\"], [0.7777777777777778, \"#fb9f3a\"], [0.8888888888888888, \"#fdca26\"], [1.0, \"#f0f921\"]], \"type\": \"histogram2d\"}], \"histogram2dcontour\": [{\"colorbar\": {\"outlinewidth\": 0, \"ticks\": \"\"}, \"colorscale\": [[0.0, \"#0d0887\"], [0.1111111111111111, \"#46039f\"], [0.2222222222222222, \"#7201a8\"], [0.3333333333333333, \"#9c179e\"], [0.4444444444444444, \"#bd3786\"], [0.5555555555555556, \"#d8576b\"], [0.6666666666666666, \"#ed7953\"], [0.7777777777777778, \"#fb9f3a\"], [0.8888888888888888, \"#fdca26\"], [1.0, \"#f0f921\"]], \"type\": \"histogram2dcontour\"}], \"mesh3d\": [{\"colorbar\": {\"outlinewidth\": 0, \"ticks\": \"\"}, \"type\": \"mesh3d\"}], \"parcoords\": [{\"line\": {\"colorbar\": {\"outlinewidth\": 0, \"ticks\": \"\"}}, \"type\": \"parcoords\"}], \"scatter\": [{\"marker\": {\"colorbar\": {\"outlinewidth\": 0, \"ticks\": \"\"}}, \"type\": \"scatter\"}], \"scatter3d\": [{\"line\": {\"colorbar\": {\"outlinewidth\": 0, \"ticks\": \"\"}}, \"marker\": {\"colorbar\": {\"outlinewidth\": 0, \"ticks\": \"\"}}, \"type\": \"scatter3d\"}], \"scattercarpet\": [{\"marker\": {\"colorbar\": {\"outlinewidth\": 0, \"ticks\": \"\"}}, \"type\": \"scattercarpet\"}], \"scattergeo\": [{\"marker\": {\"colorbar\": {\"outlinewidth\": 0, \"ticks\": \"\"}}, \"type\": \"scattergeo\"}], \"scattergl\": [{\"marker\": {\"colorbar\": {\"outlinewidth\": 0, \"ticks\": \"\"}}, \"type\": \"scattergl\"}], \"scattermapbox\": [{\"marker\": {\"colorbar\": {\"outlinewidth\": 0, \"ticks\": \"\"}}, \"type\": \"scattermapbox\"}], \"scatterpolar\": [{\"marker\": {\"colorbar\": {\"outlinewidth\": 0, \"ticks\": \"\"}}, \"type\": \"scatterpolar\"}], \"scatterpolargl\": [{\"marker\": {\"colorbar\": {\"outlinewidth\": 0, \"ticks\": \"\"}}, \"type\": \"scatterpolargl\"}], \"scatterternary\": [{\"marker\": {\"colorbar\": {\"outlinewidth\": 0, \"ticks\": \"\"}}, \"type\": \"scatterternary\"}], \"surface\": [{\"colorbar\": {\"outlinewidth\": 0, \"ticks\": \"\"}, \"colorscale\": [[0.0, \"#0d0887\"], [0.1111111111111111, \"#46039f\"], [0.2222222222222222, \"#7201a8\"], [0.3333333333333333, \"#9c179e\"], [0.4444444444444444, \"#bd3786\"], [0.5555555555555556, \"#d8576b\"], [0.6666666666666666, \"#ed7953\"], [0.7777777777777778, \"#fb9f3a\"], [0.8888888888888888, \"#fdca26\"], [1.0, \"#f0f921\"]], \"type\": \"surface\"}], \"table\": [{\"cells\": {\"fill\": {\"color\": \"#EBF0F8\"}, \"line\": {\"color\": \"white\"}}, \"header\": {\"fill\": {\"color\": \"#C8D4E3\"}, \"line\": {\"color\": \"white\"}}, \"type\": \"table\"}]}, \"layout\": {\"annotationdefaults\": {\"arrowcolor\": \"#2a3f5f\", \"arrowhead\": 0, \"arrowwidth\": 1}, \"colorscale\": {\"diverging\": [[0, \"#8e0152\"], [0.1, \"#c51b7d\"], [0.2, \"#de77ae\"], [0.3, \"#f1b6da\"], [0.4, \"#fde0ef\"], [0.5, \"#f7f7f7\"], [0.6, \"#e6f5d0\"], [0.7, \"#b8e186\"], [0.8, \"#7fbc41\"], [0.9, \"#4d9221\"], [1, \"#276419\"]], \"sequential\": [[0.0, \"#0d0887\"], [0.1111111111111111, \"#46039f\"], [0.2222222222222222, \"#7201a8\"], [0.3333333333333333, \"#9c179e\"], [0.4444444444444444, \"#bd3786\"], [0.5555555555555556, \"#d8576b\"], [0.6666666666666666, \"#ed7953\"], [0.7777777777777778, \"#fb9f3a\"], [0.8888888888888888, \"#fdca26\"], [1.0, \"#f0f921\"]], \"sequentialminus\": [[0.0, \"#0d0887\"], [0.1111111111111111, \"#46039f\"], [0.2222222222222222, \"#7201a8\"], [0.3333333333333333, \"#9c179e\"], [0.4444444444444444, \"#bd3786\"], [0.5555555555555556, \"#d8576b\"], [0.6666666666666666, \"#ed7953\"], [0.7777777777777778, \"#fb9f3a\"], [0.8888888888888888, \"#fdca26\"], [1.0, \"#f0f921\"]]}, \"colorway\": [\"#636efa\", \"#EF553B\", \"#00cc96\", \"#ab63fa\", \"#FFA15A\", \"#19d3f3\", \"#FF6692\", \"#B6E880\", \"#FF97FF\", \"#FECB52\"], \"font\": {\"color\": \"#2a3f5f\"}, \"geo\": {\"bgcolor\": \"white\", \"lakecolor\": \"white\", \"landcolor\": \"#E5ECF6\", \"showlakes\": true, \"showland\": true, \"subunitcolor\": \"white\"}, \"hoverlabel\": {\"align\": \"left\"}, \"hovermode\": \"closest\", \"mapbox\": {\"style\": \"light\"}, \"paper_bgcolor\": \"white\", \"plot_bgcolor\": \"#E5ECF6\", \"polar\": {\"angularaxis\": {\"gridcolor\": \"white\", \"linecolor\": \"white\", \"ticks\": \"\"}, \"bgcolor\": \"#E5ECF6\", \"radialaxis\": {\"gridcolor\": \"white\", \"linecolor\": \"white\", \"ticks\": \"\"}}, \"scene\": {\"xaxis\": {\"backgroundcolor\": \"#E5ECF6\", \"gridcolor\": \"white\", \"gridwidth\": 2, \"linecolor\": \"white\", \"showbackground\": true, \"ticks\": \"\", \"zerolinecolor\": \"white\"}, \"yaxis\": {\"backgroundcolor\": \"#E5ECF6\", \"gridcolor\": \"white\", \"gridwidth\": 2, \"linecolor\": \"white\", \"showbackground\": true, \"ticks\": \"\", \"zerolinecolor\": \"white\"}, \"zaxis\": {\"backgroundcolor\": \"#E5ECF6\", \"gridcolor\": \"white\", \"gridwidth\": 2, \"linecolor\": \"white\", \"showbackground\": true, \"ticks\": \"\", \"zerolinecolor\": \"white\"}}, \"shapedefaults\": {\"line\": {\"color\": \"#2a3f5f\"}}, \"ternary\": {\"aaxis\": {\"gridcolor\": \"white\", \"linecolor\": \"white\", \"ticks\": \"\"}, \"baxis\": {\"gridcolor\": \"white\", \"linecolor\": \"white\", \"ticks\": \"\"}, \"bgcolor\": \"#E5ECF6\", \"caxis\": {\"gridcolor\": \"white\", \"linecolor\": \"white\", \"ticks\": \"\"}}, \"title\": {\"x\": 0.05}, \"xaxis\": {\"automargin\": true, \"gridcolor\": \"white\", \"linecolor\": \"white\", \"ticks\": \"\", \"zerolinecolor\": \"white\", \"zerolinewidth\": 2}, \"yaxis\": {\"automargin\": true, \"gridcolor\": \"white\", \"linecolor\": \"white\", \"ticks\": \"\", \"zerolinecolor\": \"white\", \"zerolinewidth\": 2}}}, \"xaxis\": {\"tickangle\": -45}},\n",
       "                        {\"responsive\": true}\n",
       "                    ).then(function(){\n",
       "                            \n",
       "var gd = document.getElementById('a75547da-8cfc-4e11-a3d1-cfcc7632cd3f');\n",
       "var x = new MutationObserver(function (mutations, observer) {{\n",
       "        var display = window.getComputedStyle(gd).display;\n",
       "        if (!display || display === 'none') {{\n",
       "            console.log([gd, 'removed!']);\n",
       "            Plotly.purge(gd);\n",
       "            observer.disconnect();\n",
       "        }}\n",
       "}});\n",
       "\n",
       "// Listen for the removal of the full notebook cells\n",
       "var notebookContainer = gd.closest('#notebook-container');\n",
       "if (notebookContainer) {{\n",
       "    x.observe(notebookContainer, {childList: true});\n",
       "}}\n",
       "\n",
       "// Listen for the clearing of the current output cell\n",
       "var outputEl = gd.closest('.output');\n",
       "if (outputEl) {{\n",
       "    x.observe(outputEl, {childList: true});\n",
       "}}\n",
       "\n",
       "                        })\n",
       "                };\n",
       "                });\n",
       "            </script>\n",
       "        </div>"
      ]
     },
     "metadata": {},
     "output_type": "display_data"
    }
   ],
   "source": [
    "barplot(Interview_Venue_Category,Interview_Venue_Group)"
   ]
  },
  {
   "cell_type": "markdown",
   "metadata": {},
   "source": [
    "## Group By Gender"
   ]
  },
  {
   "cell_type": "code",
   "execution_count": 322,
   "metadata": {},
   "outputs": [
    {
     "data": {
      "text/html": [
       "<div>\n",
       "<style scoped>\n",
       "    .dataframe tbody tr th:only-of-type {\n",
       "        vertical-align: middle;\n",
       "    }\n",
       "\n",
       "    .dataframe tbody tr th {\n",
       "        vertical-align: top;\n",
       "    }\n",
       "\n",
       "    .dataframe thead th {\n",
       "        text-align: right;\n",
       "    }\n",
       "</style>\n",
       "<table border=\"1\" class=\"dataframe\">\n",
       "  <thead>\n",
       "    <tr style=\"text-align: right;\">\n",
       "      <th></th>\n",
       "      <th>Absent</th>\n",
       "      <th>Present</th>\n",
       "      <th>Gender_Category</th>\n",
       "    </tr>\n",
       "  </thead>\n",
       "  <tbody>\n",
       "    <tr>\n",
       "      <th>0</th>\n",
       "      <td>47</td>\n",
       "      <td>95</td>\n",
       "      <td>Female</td>\n",
       "    </tr>\n",
       "    <tr>\n",
       "      <th>1</th>\n",
       "      <td>199</td>\n",
       "      <td>373</td>\n",
       "      <td>Male</td>\n",
       "    </tr>\n",
       "  </tbody>\n",
       "</table>\n",
       "</div>"
      ],
      "text/plain": [
       "   Absent  Present Gender_Category\n",
       "0      47       95          Female\n",
       "1     199      373            Male"
      ]
     },
     "execution_count": 322,
     "metadata": {},
     "output_type": "execute_result"
    }
   ],
   "source": [
    "Gender_Group=  reframe('Gender','Gender_Category')\n",
    "Gender_Group.head()"
   ]
  },
  {
   "cell_type": "code",
   "execution_count": 323,
   "metadata": {},
   "outputs": [],
   "source": [
    "Absentlist = Gender_Group['Absent'].tolist()\n",
    "Gender_Category=Gender_Group['Gender_Category'].tolist()\n",
    "Presentlist=Gender_Group['Present'].tolist"
   ]
  },
  {
   "cell_type": "code",
   "execution_count": 324,
   "metadata": {},
   "outputs": [
    {
     "data": {
      "application/vnd.plotly.v1+json": {
       "config": {
        "plotlyServerURL": "https://plot.ly"
       },
       "data": [
        {
         "marker": {
          "color": "green"
         },
         "name": "Absent",
         "type": "bar",
         "x": [
          "Female",
          "Male"
         ],
         "y": [
          47,
          199
         ]
        },
        {
         "marker": {
          "color": "red"
         },
         "name": "Present",
         "type": "bar",
         "x": [
          "Female",
          "Male"
         ],
         "y": [
          95,
          373
         ]
        }
       ],
       "layout": {
        "barmode": "group",
        "template": {
         "data": {
          "bar": [
           {
            "error_x": {
             "color": "#2a3f5f"
            },
            "error_y": {
             "color": "#2a3f5f"
            },
            "marker": {
             "line": {
              "color": "#E5ECF6",
              "width": 0.5
             }
            },
            "type": "bar"
           }
          ],
          "barpolar": [
           {
            "marker": {
             "line": {
              "color": "#E5ECF6",
              "width": 0.5
             }
            },
            "type": "barpolar"
           }
          ],
          "carpet": [
           {
            "aaxis": {
             "endlinecolor": "#2a3f5f",
             "gridcolor": "white",
             "linecolor": "white",
             "minorgridcolor": "white",
             "startlinecolor": "#2a3f5f"
            },
            "baxis": {
             "endlinecolor": "#2a3f5f",
             "gridcolor": "white",
             "linecolor": "white",
             "minorgridcolor": "white",
             "startlinecolor": "#2a3f5f"
            },
            "type": "carpet"
           }
          ],
          "choropleth": [
           {
            "colorbar": {
             "outlinewidth": 0,
             "ticks": ""
            },
            "type": "choropleth"
           }
          ],
          "contour": [
           {
            "colorbar": {
             "outlinewidth": 0,
             "ticks": ""
            },
            "colorscale": [
             [
              0,
              "#0d0887"
             ],
             [
              0.1111111111111111,
              "#46039f"
             ],
             [
              0.2222222222222222,
              "#7201a8"
             ],
             [
              0.3333333333333333,
              "#9c179e"
             ],
             [
              0.4444444444444444,
              "#bd3786"
             ],
             [
              0.5555555555555556,
              "#d8576b"
             ],
             [
              0.6666666666666666,
              "#ed7953"
             ],
             [
              0.7777777777777778,
              "#fb9f3a"
             ],
             [
              0.8888888888888888,
              "#fdca26"
             ],
             [
              1,
              "#f0f921"
             ]
            ],
            "type": "contour"
           }
          ],
          "contourcarpet": [
           {
            "colorbar": {
             "outlinewidth": 0,
             "ticks": ""
            },
            "type": "contourcarpet"
           }
          ],
          "heatmap": [
           {
            "colorbar": {
             "outlinewidth": 0,
             "ticks": ""
            },
            "colorscale": [
             [
              0,
              "#0d0887"
             ],
             [
              0.1111111111111111,
              "#46039f"
             ],
             [
              0.2222222222222222,
              "#7201a8"
             ],
             [
              0.3333333333333333,
              "#9c179e"
             ],
             [
              0.4444444444444444,
              "#bd3786"
             ],
             [
              0.5555555555555556,
              "#d8576b"
             ],
             [
              0.6666666666666666,
              "#ed7953"
             ],
             [
              0.7777777777777778,
              "#fb9f3a"
             ],
             [
              0.8888888888888888,
              "#fdca26"
             ],
             [
              1,
              "#f0f921"
             ]
            ],
            "type": "heatmap"
           }
          ],
          "heatmapgl": [
           {
            "colorbar": {
             "outlinewidth": 0,
             "ticks": ""
            },
            "colorscale": [
             [
              0,
              "#0d0887"
             ],
             [
              0.1111111111111111,
              "#46039f"
             ],
             [
              0.2222222222222222,
              "#7201a8"
             ],
             [
              0.3333333333333333,
              "#9c179e"
             ],
             [
              0.4444444444444444,
              "#bd3786"
             ],
             [
              0.5555555555555556,
              "#d8576b"
             ],
             [
              0.6666666666666666,
              "#ed7953"
             ],
             [
              0.7777777777777778,
              "#fb9f3a"
             ],
             [
              0.8888888888888888,
              "#fdca26"
             ],
             [
              1,
              "#f0f921"
             ]
            ],
            "type": "heatmapgl"
           }
          ],
          "histogram": [
           {
            "marker": {
             "colorbar": {
              "outlinewidth": 0,
              "ticks": ""
             }
            },
            "type": "histogram"
           }
          ],
          "histogram2d": [
           {
            "colorbar": {
             "outlinewidth": 0,
             "ticks": ""
            },
            "colorscale": [
             [
              0,
              "#0d0887"
             ],
             [
              0.1111111111111111,
              "#46039f"
             ],
             [
              0.2222222222222222,
              "#7201a8"
             ],
             [
              0.3333333333333333,
              "#9c179e"
             ],
             [
              0.4444444444444444,
              "#bd3786"
             ],
             [
              0.5555555555555556,
              "#d8576b"
             ],
             [
              0.6666666666666666,
              "#ed7953"
             ],
             [
              0.7777777777777778,
              "#fb9f3a"
             ],
             [
              0.8888888888888888,
              "#fdca26"
             ],
             [
              1,
              "#f0f921"
             ]
            ],
            "type": "histogram2d"
           }
          ],
          "histogram2dcontour": [
           {
            "colorbar": {
             "outlinewidth": 0,
             "ticks": ""
            },
            "colorscale": [
             [
              0,
              "#0d0887"
             ],
             [
              0.1111111111111111,
              "#46039f"
             ],
             [
              0.2222222222222222,
              "#7201a8"
             ],
             [
              0.3333333333333333,
              "#9c179e"
             ],
             [
              0.4444444444444444,
              "#bd3786"
             ],
             [
              0.5555555555555556,
              "#d8576b"
             ],
             [
              0.6666666666666666,
              "#ed7953"
             ],
             [
              0.7777777777777778,
              "#fb9f3a"
             ],
             [
              0.8888888888888888,
              "#fdca26"
             ],
             [
              1,
              "#f0f921"
             ]
            ],
            "type": "histogram2dcontour"
           }
          ],
          "mesh3d": [
           {
            "colorbar": {
             "outlinewidth": 0,
             "ticks": ""
            },
            "type": "mesh3d"
           }
          ],
          "parcoords": [
           {
            "line": {
             "colorbar": {
              "outlinewidth": 0,
              "ticks": ""
             }
            },
            "type": "parcoords"
           }
          ],
          "scatter": [
           {
            "marker": {
             "colorbar": {
              "outlinewidth": 0,
              "ticks": ""
             }
            },
            "type": "scatter"
           }
          ],
          "scatter3d": [
           {
            "line": {
             "colorbar": {
              "outlinewidth": 0,
              "ticks": ""
             }
            },
            "marker": {
             "colorbar": {
              "outlinewidth": 0,
              "ticks": ""
             }
            },
            "type": "scatter3d"
           }
          ],
          "scattercarpet": [
           {
            "marker": {
             "colorbar": {
              "outlinewidth": 0,
              "ticks": ""
             }
            },
            "type": "scattercarpet"
           }
          ],
          "scattergeo": [
           {
            "marker": {
             "colorbar": {
              "outlinewidth": 0,
              "ticks": ""
             }
            },
            "type": "scattergeo"
           }
          ],
          "scattergl": [
           {
            "marker": {
             "colorbar": {
              "outlinewidth": 0,
              "ticks": ""
             }
            },
            "type": "scattergl"
           }
          ],
          "scattermapbox": [
           {
            "marker": {
             "colorbar": {
              "outlinewidth": 0,
              "ticks": ""
             }
            },
            "type": "scattermapbox"
           }
          ],
          "scatterpolar": [
           {
            "marker": {
             "colorbar": {
              "outlinewidth": 0,
              "ticks": ""
             }
            },
            "type": "scatterpolar"
           }
          ],
          "scatterpolargl": [
           {
            "marker": {
             "colorbar": {
              "outlinewidth": 0,
              "ticks": ""
             }
            },
            "type": "scatterpolargl"
           }
          ],
          "scatterternary": [
           {
            "marker": {
             "colorbar": {
              "outlinewidth": 0,
              "ticks": ""
             }
            },
            "type": "scatterternary"
           }
          ],
          "surface": [
           {
            "colorbar": {
             "outlinewidth": 0,
             "ticks": ""
            },
            "colorscale": [
             [
              0,
              "#0d0887"
             ],
             [
              0.1111111111111111,
              "#46039f"
             ],
             [
              0.2222222222222222,
              "#7201a8"
             ],
             [
              0.3333333333333333,
              "#9c179e"
             ],
             [
              0.4444444444444444,
              "#bd3786"
             ],
             [
              0.5555555555555556,
              "#d8576b"
             ],
             [
              0.6666666666666666,
              "#ed7953"
             ],
             [
              0.7777777777777778,
              "#fb9f3a"
             ],
             [
              0.8888888888888888,
              "#fdca26"
             ],
             [
              1,
              "#f0f921"
             ]
            ],
            "type": "surface"
           }
          ],
          "table": [
           {
            "cells": {
             "fill": {
              "color": "#EBF0F8"
             },
             "line": {
              "color": "white"
             }
            },
            "header": {
             "fill": {
              "color": "#C8D4E3"
             },
             "line": {
              "color": "white"
             }
            },
            "type": "table"
           }
          ]
         },
         "layout": {
          "annotationdefaults": {
           "arrowcolor": "#2a3f5f",
           "arrowhead": 0,
           "arrowwidth": 1
          },
          "colorscale": {
           "diverging": [
            [
             0,
             "#8e0152"
            ],
            [
             0.1,
             "#c51b7d"
            ],
            [
             0.2,
             "#de77ae"
            ],
            [
             0.3,
             "#f1b6da"
            ],
            [
             0.4,
             "#fde0ef"
            ],
            [
             0.5,
             "#f7f7f7"
            ],
            [
             0.6,
             "#e6f5d0"
            ],
            [
             0.7,
             "#b8e186"
            ],
            [
             0.8,
             "#7fbc41"
            ],
            [
             0.9,
             "#4d9221"
            ],
            [
             1,
             "#276419"
            ]
           ],
           "sequential": [
            [
             0,
             "#0d0887"
            ],
            [
             0.1111111111111111,
             "#46039f"
            ],
            [
             0.2222222222222222,
             "#7201a8"
            ],
            [
             0.3333333333333333,
             "#9c179e"
            ],
            [
             0.4444444444444444,
             "#bd3786"
            ],
            [
             0.5555555555555556,
             "#d8576b"
            ],
            [
             0.6666666666666666,
             "#ed7953"
            ],
            [
             0.7777777777777778,
             "#fb9f3a"
            ],
            [
             0.8888888888888888,
             "#fdca26"
            ],
            [
             1,
             "#f0f921"
            ]
           ],
           "sequentialminus": [
            [
             0,
             "#0d0887"
            ],
            [
             0.1111111111111111,
             "#46039f"
            ],
            [
             0.2222222222222222,
             "#7201a8"
            ],
            [
             0.3333333333333333,
             "#9c179e"
            ],
            [
             0.4444444444444444,
             "#bd3786"
            ],
            [
             0.5555555555555556,
             "#d8576b"
            ],
            [
             0.6666666666666666,
             "#ed7953"
            ],
            [
             0.7777777777777778,
             "#fb9f3a"
            ],
            [
             0.8888888888888888,
             "#fdca26"
            ],
            [
             1,
             "#f0f921"
            ]
           ]
          },
          "colorway": [
           "#636efa",
           "#EF553B",
           "#00cc96",
           "#ab63fa",
           "#FFA15A",
           "#19d3f3",
           "#FF6692",
           "#B6E880",
           "#FF97FF",
           "#FECB52"
          ],
          "font": {
           "color": "#2a3f5f"
          },
          "geo": {
           "bgcolor": "white",
           "lakecolor": "white",
           "landcolor": "#E5ECF6",
           "showlakes": true,
           "showland": true,
           "subunitcolor": "white"
          },
          "hoverlabel": {
           "align": "left"
          },
          "hovermode": "closest",
          "mapbox": {
           "style": "light"
          },
          "paper_bgcolor": "white",
          "plot_bgcolor": "#E5ECF6",
          "polar": {
           "angularaxis": {
            "gridcolor": "white",
            "linecolor": "white",
            "ticks": ""
           },
           "bgcolor": "#E5ECF6",
           "radialaxis": {
            "gridcolor": "white",
            "linecolor": "white",
            "ticks": ""
           }
          },
          "scene": {
           "xaxis": {
            "backgroundcolor": "#E5ECF6",
            "gridcolor": "white",
            "gridwidth": 2,
            "linecolor": "white",
            "showbackground": true,
            "ticks": "",
            "zerolinecolor": "white"
           },
           "yaxis": {
            "backgroundcolor": "#E5ECF6",
            "gridcolor": "white",
            "gridwidth": 2,
            "linecolor": "white",
            "showbackground": true,
            "ticks": "",
            "zerolinecolor": "white"
           },
           "zaxis": {
            "backgroundcolor": "#E5ECF6",
            "gridcolor": "white",
            "gridwidth": 2,
            "linecolor": "white",
            "showbackground": true,
            "ticks": "",
            "zerolinecolor": "white"
           }
          },
          "shapedefaults": {
           "line": {
            "color": "#2a3f5f"
           }
          },
          "ternary": {
           "aaxis": {
            "gridcolor": "white",
            "linecolor": "white",
            "ticks": ""
           },
           "baxis": {
            "gridcolor": "white",
            "linecolor": "white",
            "ticks": ""
           },
           "bgcolor": "#E5ECF6",
           "caxis": {
            "gridcolor": "white",
            "linecolor": "white",
            "ticks": ""
           }
          },
          "title": {
           "x": 0.05
          },
          "xaxis": {
           "automargin": true,
           "gridcolor": "white",
           "linecolor": "white",
           "ticks": "",
           "zerolinecolor": "white",
           "zerolinewidth": 2
          },
          "yaxis": {
           "automargin": true,
           "gridcolor": "white",
           "linecolor": "white",
           "ticks": "",
           "zerolinecolor": "white",
           "zerolinewidth": 2
          }
         }
        },
        "xaxis": {
         "tickangle": -45
        }
       }
      },
      "text/html": [
       "<div>\n",
       "        \n",
       "        \n",
       "            <div id=\"46db7753-eb49-495d-811b-be8ad3e74aa5\" class=\"plotly-graph-div\" style=\"height:525px; width:100%;\"></div>\n",
       "            <script type=\"text/javascript\">\n",
       "                require([\"plotly\"], function(Plotly) {\n",
       "                    window.PLOTLYENV=window.PLOTLYENV || {};\n",
       "                    \n",
       "                if (document.getElementById(\"46db7753-eb49-495d-811b-be8ad3e74aa5\")) {\n",
       "                    Plotly.newPlot(\n",
       "                        '46db7753-eb49-495d-811b-be8ad3e74aa5',\n",
       "                        [{\"marker\": {\"color\": \"green\"}, \"name\": \"Absent\", \"type\": \"bar\", \"x\": [\"Female\", \"Male\"], \"y\": [47, 199]}, {\"marker\": {\"color\": \"red\"}, \"name\": \"Present\", \"type\": \"bar\", \"x\": [\"Female\", \"Male\"], \"y\": [95, 373]}],\n",
       "                        {\"barmode\": \"group\", \"template\": {\"data\": {\"bar\": [{\"error_x\": {\"color\": \"#2a3f5f\"}, \"error_y\": {\"color\": \"#2a3f5f\"}, \"marker\": {\"line\": {\"color\": \"#E5ECF6\", \"width\": 0.5}}, \"type\": \"bar\"}], \"barpolar\": [{\"marker\": {\"line\": {\"color\": \"#E5ECF6\", \"width\": 0.5}}, \"type\": \"barpolar\"}], \"carpet\": [{\"aaxis\": {\"endlinecolor\": \"#2a3f5f\", \"gridcolor\": \"white\", \"linecolor\": \"white\", \"minorgridcolor\": \"white\", \"startlinecolor\": \"#2a3f5f\"}, \"baxis\": {\"endlinecolor\": \"#2a3f5f\", \"gridcolor\": \"white\", \"linecolor\": \"white\", \"minorgridcolor\": \"white\", \"startlinecolor\": \"#2a3f5f\"}, \"type\": \"carpet\"}], \"choropleth\": [{\"colorbar\": {\"outlinewidth\": 0, \"ticks\": \"\"}, \"type\": \"choropleth\"}], \"contour\": [{\"colorbar\": {\"outlinewidth\": 0, \"ticks\": \"\"}, \"colorscale\": [[0.0, \"#0d0887\"], [0.1111111111111111, \"#46039f\"], [0.2222222222222222, \"#7201a8\"], [0.3333333333333333, \"#9c179e\"], [0.4444444444444444, \"#bd3786\"], [0.5555555555555556, \"#d8576b\"], [0.6666666666666666, \"#ed7953\"], [0.7777777777777778, \"#fb9f3a\"], [0.8888888888888888, \"#fdca26\"], [1.0, \"#f0f921\"]], \"type\": \"contour\"}], \"contourcarpet\": [{\"colorbar\": {\"outlinewidth\": 0, \"ticks\": \"\"}, \"type\": \"contourcarpet\"}], \"heatmap\": [{\"colorbar\": {\"outlinewidth\": 0, \"ticks\": \"\"}, \"colorscale\": [[0.0, \"#0d0887\"], [0.1111111111111111, \"#46039f\"], [0.2222222222222222, \"#7201a8\"], [0.3333333333333333, \"#9c179e\"], [0.4444444444444444, \"#bd3786\"], [0.5555555555555556, \"#d8576b\"], [0.6666666666666666, \"#ed7953\"], [0.7777777777777778, \"#fb9f3a\"], [0.8888888888888888, \"#fdca26\"], [1.0, \"#f0f921\"]], \"type\": \"heatmap\"}], \"heatmapgl\": [{\"colorbar\": {\"outlinewidth\": 0, \"ticks\": \"\"}, \"colorscale\": [[0.0, \"#0d0887\"], [0.1111111111111111, \"#46039f\"], [0.2222222222222222, \"#7201a8\"], [0.3333333333333333, \"#9c179e\"], [0.4444444444444444, \"#bd3786\"], [0.5555555555555556, \"#d8576b\"], [0.6666666666666666, \"#ed7953\"], [0.7777777777777778, \"#fb9f3a\"], [0.8888888888888888, \"#fdca26\"], [1.0, \"#f0f921\"]], \"type\": \"heatmapgl\"}], \"histogram\": [{\"marker\": {\"colorbar\": {\"outlinewidth\": 0, \"ticks\": \"\"}}, \"type\": \"histogram\"}], \"histogram2d\": [{\"colorbar\": {\"outlinewidth\": 0, \"ticks\": \"\"}, \"colorscale\": [[0.0, \"#0d0887\"], [0.1111111111111111, \"#46039f\"], [0.2222222222222222, \"#7201a8\"], [0.3333333333333333, \"#9c179e\"], [0.4444444444444444, \"#bd3786\"], [0.5555555555555556, \"#d8576b\"], [0.6666666666666666, \"#ed7953\"], [0.7777777777777778, \"#fb9f3a\"], [0.8888888888888888, \"#fdca26\"], [1.0, \"#f0f921\"]], \"type\": \"histogram2d\"}], \"histogram2dcontour\": [{\"colorbar\": {\"outlinewidth\": 0, \"ticks\": \"\"}, \"colorscale\": [[0.0, \"#0d0887\"], [0.1111111111111111, \"#46039f\"], [0.2222222222222222, \"#7201a8\"], [0.3333333333333333, \"#9c179e\"], [0.4444444444444444, \"#bd3786\"], [0.5555555555555556, \"#d8576b\"], [0.6666666666666666, \"#ed7953\"], [0.7777777777777778, \"#fb9f3a\"], [0.8888888888888888, \"#fdca26\"], [1.0, \"#f0f921\"]], \"type\": \"histogram2dcontour\"}], \"mesh3d\": [{\"colorbar\": {\"outlinewidth\": 0, \"ticks\": \"\"}, \"type\": \"mesh3d\"}], \"parcoords\": [{\"line\": {\"colorbar\": {\"outlinewidth\": 0, \"ticks\": \"\"}}, \"type\": \"parcoords\"}], \"scatter\": [{\"marker\": {\"colorbar\": {\"outlinewidth\": 0, \"ticks\": \"\"}}, \"type\": \"scatter\"}], \"scatter3d\": [{\"line\": {\"colorbar\": {\"outlinewidth\": 0, \"ticks\": \"\"}}, \"marker\": {\"colorbar\": {\"outlinewidth\": 0, \"ticks\": \"\"}}, \"type\": \"scatter3d\"}], \"scattercarpet\": [{\"marker\": {\"colorbar\": {\"outlinewidth\": 0, \"ticks\": \"\"}}, \"type\": \"scattercarpet\"}], \"scattergeo\": [{\"marker\": {\"colorbar\": {\"outlinewidth\": 0, \"ticks\": \"\"}}, \"type\": \"scattergeo\"}], \"scattergl\": [{\"marker\": {\"colorbar\": {\"outlinewidth\": 0, \"ticks\": \"\"}}, \"type\": \"scattergl\"}], \"scattermapbox\": [{\"marker\": {\"colorbar\": {\"outlinewidth\": 0, \"ticks\": \"\"}}, \"type\": \"scattermapbox\"}], \"scatterpolar\": [{\"marker\": {\"colorbar\": {\"outlinewidth\": 0, \"ticks\": \"\"}}, \"type\": \"scatterpolar\"}], \"scatterpolargl\": [{\"marker\": {\"colorbar\": {\"outlinewidth\": 0, \"ticks\": \"\"}}, \"type\": \"scatterpolargl\"}], \"scatterternary\": [{\"marker\": {\"colorbar\": {\"outlinewidth\": 0, \"ticks\": \"\"}}, \"type\": \"scatterternary\"}], \"surface\": [{\"colorbar\": {\"outlinewidth\": 0, \"ticks\": \"\"}, \"colorscale\": [[0.0, \"#0d0887\"], [0.1111111111111111, \"#46039f\"], [0.2222222222222222, \"#7201a8\"], [0.3333333333333333, \"#9c179e\"], [0.4444444444444444, \"#bd3786\"], [0.5555555555555556, \"#d8576b\"], [0.6666666666666666, \"#ed7953\"], [0.7777777777777778, \"#fb9f3a\"], [0.8888888888888888, \"#fdca26\"], [1.0, \"#f0f921\"]], \"type\": \"surface\"}], \"table\": [{\"cells\": {\"fill\": {\"color\": \"#EBF0F8\"}, \"line\": {\"color\": \"white\"}}, \"header\": {\"fill\": {\"color\": \"#C8D4E3\"}, \"line\": {\"color\": \"white\"}}, \"type\": \"table\"}]}, \"layout\": {\"annotationdefaults\": {\"arrowcolor\": \"#2a3f5f\", \"arrowhead\": 0, \"arrowwidth\": 1}, \"colorscale\": {\"diverging\": [[0, \"#8e0152\"], [0.1, \"#c51b7d\"], [0.2, \"#de77ae\"], [0.3, \"#f1b6da\"], [0.4, \"#fde0ef\"], [0.5, \"#f7f7f7\"], [0.6, \"#e6f5d0\"], [0.7, \"#b8e186\"], [0.8, \"#7fbc41\"], [0.9, \"#4d9221\"], [1, \"#276419\"]], \"sequential\": [[0.0, \"#0d0887\"], [0.1111111111111111, \"#46039f\"], [0.2222222222222222, \"#7201a8\"], [0.3333333333333333, \"#9c179e\"], [0.4444444444444444, \"#bd3786\"], [0.5555555555555556, \"#d8576b\"], [0.6666666666666666, \"#ed7953\"], [0.7777777777777778, \"#fb9f3a\"], [0.8888888888888888, \"#fdca26\"], [1.0, \"#f0f921\"]], \"sequentialminus\": [[0.0, \"#0d0887\"], [0.1111111111111111, \"#46039f\"], [0.2222222222222222, \"#7201a8\"], [0.3333333333333333, \"#9c179e\"], [0.4444444444444444, \"#bd3786\"], [0.5555555555555556, \"#d8576b\"], [0.6666666666666666, \"#ed7953\"], [0.7777777777777778, \"#fb9f3a\"], [0.8888888888888888, \"#fdca26\"], [1.0, \"#f0f921\"]]}, \"colorway\": [\"#636efa\", \"#EF553B\", \"#00cc96\", \"#ab63fa\", \"#FFA15A\", \"#19d3f3\", \"#FF6692\", \"#B6E880\", \"#FF97FF\", \"#FECB52\"], \"font\": {\"color\": \"#2a3f5f\"}, \"geo\": {\"bgcolor\": \"white\", \"lakecolor\": \"white\", \"landcolor\": \"#E5ECF6\", \"showlakes\": true, \"showland\": true, \"subunitcolor\": \"white\"}, \"hoverlabel\": {\"align\": \"left\"}, \"hovermode\": \"closest\", \"mapbox\": {\"style\": \"light\"}, \"paper_bgcolor\": \"white\", \"plot_bgcolor\": \"#E5ECF6\", \"polar\": {\"angularaxis\": {\"gridcolor\": \"white\", \"linecolor\": \"white\", \"ticks\": \"\"}, \"bgcolor\": \"#E5ECF6\", \"radialaxis\": {\"gridcolor\": \"white\", \"linecolor\": \"white\", \"ticks\": \"\"}}, \"scene\": {\"xaxis\": {\"backgroundcolor\": \"#E5ECF6\", \"gridcolor\": \"white\", \"gridwidth\": 2, \"linecolor\": \"white\", \"showbackground\": true, \"ticks\": \"\", \"zerolinecolor\": \"white\"}, \"yaxis\": {\"backgroundcolor\": \"#E5ECF6\", \"gridcolor\": \"white\", \"gridwidth\": 2, \"linecolor\": \"white\", \"showbackground\": true, \"ticks\": \"\", \"zerolinecolor\": \"white\"}, \"zaxis\": {\"backgroundcolor\": \"#E5ECF6\", \"gridcolor\": \"white\", \"gridwidth\": 2, \"linecolor\": \"white\", \"showbackground\": true, \"ticks\": \"\", \"zerolinecolor\": \"white\"}}, \"shapedefaults\": {\"line\": {\"color\": \"#2a3f5f\"}}, \"ternary\": {\"aaxis\": {\"gridcolor\": \"white\", \"linecolor\": \"white\", \"ticks\": \"\"}, \"baxis\": {\"gridcolor\": \"white\", \"linecolor\": \"white\", \"ticks\": \"\"}, \"bgcolor\": \"#E5ECF6\", \"caxis\": {\"gridcolor\": \"white\", \"linecolor\": \"white\", \"ticks\": \"\"}}, \"title\": {\"x\": 0.05}, \"xaxis\": {\"automargin\": true, \"gridcolor\": \"white\", \"linecolor\": \"white\", \"ticks\": \"\", \"zerolinecolor\": \"white\", \"zerolinewidth\": 2}, \"yaxis\": {\"automargin\": true, \"gridcolor\": \"white\", \"linecolor\": \"white\", \"ticks\": \"\", \"zerolinecolor\": \"white\", \"zerolinewidth\": 2}}}, \"xaxis\": {\"tickangle\": -45}},\n",
       "                        {\"responsive\": true}\n",
       "                    ).then(function(){\n",
       "                            \n",
       "var gd = document.getElementById('46db7753-eb49-495d-811b-be8ad3e74aa5');\n",
       "var x = new MutationObserver(function (mutations, observer) {{\n",
       "        var display = window.getComputedStyle(gd).display;\n",
       "        if (!display || display === 'none') {{\n",
       "            console.log([gd, 'removed!']);\n",
       "            Plotly.purge(gd);\n",
       "            observer.disconnect();\n",
       "        }}\n",
       "}});\n",
       "\n",
       "// Listen for the removal of the full notebook cells\n",
       "var notebookContainer = gd.closest('#notebook-container');\n",
       "if (notebookContainer) {{\n",
       "    x.observe(notebookContainer, {childList: true});\n",
       "}}\n",
       "\n",
       "// Listen for the clearing of the current output cell\n",
       "var outputEl = gd.closest('.output');\n",
       "if (outputEl) {{\n",
       "    x.observe(outputEl, {childList: true});\n",
       "}}\n",
       "\n",
       "                        })\n",
       "                };\n",
       "                });\n",
       "            </script>\n",
       "        </div>"
      ]
     },
     "metadata": {},
     "output_type": "display_data"
    }
   ],
   "source": [
    "barplot(Gender_Category,Gender_Group)"
   ]
  },
  {
   "cell_type": "markdown",
   "metadata": {},
   "source": [
    "## Group by Marital Status"
   ]
  },
  {
   "cell_type": "code",
   "execution_count": 325,
   "metadata": {},
   "outputs": [
    {
     "data": {
      "text/html": [
       "<div>\n",
       "<style scoped>\n",
       "    .dataframe tbody tr th:only-of-type {\n",
       "        vertical-align: middle;\n",
       "    }\n",
       "\n",
       "    .dataframe tbody tr th {\n",
       "        vertical-align: top;\n",
       "    }\n",
       "\n",
       "    .dataframe thead th {\n",
       "        text-align: right;\n",
       "    }\n",
       "</style>\n",
       "<table border=\"1\" class=\"dataframe\">\n",
       "  <thead>\n",
       "    <tr style=\"text-align: right;\">\n",
       "      <th></th>\n",
       "      <th>Absent</th>\n",
       "      <th>Present</th>\n",
       "      <th>Marital_Status_Category</th>\n",
       "    </tr>\n",
       "  </thead>\n",
       "  <tbody>\n",
       "    <tr>\n",
       "      <th>0</th>\n",
       "      <td>89</td>\n",
       "      <td>172</td>\n",
       "      <td>Married</td>\n",
       "    </tr>\n",
       "    <tr>\n",
       "      <th>1</th>\n",
       "      <td>157</td>\n",
       "      <td>296</td>\n",
       "      <td>Single</td>\n",
       "    </tr>\n",
       "  </tbody>\n",
       "</table>\n",
       "</div>"
      ],
      "text/plain": [
       "   Absent  Present Marital_Status_Category\n",
       "0      89      172                 Married\n",
       "1     157      296                  Single"
      ]
     },
     "execution_count": 325,
     "metadata": {},
     "output_type": "execute_result"
    }
   ],
   "source": [
    "Marital_Status_Group=  reframe('Marital_Status','Marital_Status_Category')\n",
    "Marital_Status_Group.head()"
   ]
  },
  {
   "cell_type": "code",
   "execution_count": 326,
   "metadata": {},
   "outputs": [],
   "source": [
    "Absentlist = Marital_Status_Group['Absent'].tolist()\n",
    "Marital_Status_Category=Marital_Status_Group['Marital_Status_Category'].tolist()\n",
    "Presentlist=Marital_Status_Group['Present'].tolist"
   ]
  },
  {
   "cell_type": "code",
   "execution_count": 327,
   "metadata": {},
   "outputs": [
    {
     "data": {
      "application/vnd.plotly.v1+json": {
       "config": {
        "plotlyServerURL": "https://plot.ly"
       },
       "data": [
        {
         "marker": {
          "color": "green"
         },
         "name": "Absent",
         "type": "bar",
         "x": [
          "Married",
          "Single"
         ],
         "y": [
          89,
          157
         ]
        },
        {
         "marker": {
          "color": "red"
         },
         "name": "Present",
         "type": "bar",
         "x": [
          "Married",
          "Single"
         ],
         "y": [
          172,
          296
         ]
        }
       ],
       "layout": {
        "barmode": "group",
        "template": {
         "data": {
          "bar": [
           {
            "error_x": {
             "color": "#2a3f5f"
            },
            "error_y": {
             "color": "#2a3f5f"
            },
            "marker": {
             "line": {
              "color": "#E5ECF6",
              "width": 0.5
             }
            },
            "type": "bar"
           }
          ],
          "barpolar": [
           {
            "marker": {
             "line": {
              "color": "#E5ECF6",
              "width": 0.5
             }
            },
            "type": "barpolar"
           }
          ],
          "carpet": [
           {
            "aaxis": {
             "endlinecolor": "#2a3f5f",
             "gridcolor": "white",
             "linecolor": "white",
             "minorgridcolor": "white",
             "startlinecolor": "#2a3f5f"
            },
            "baxis": {
             "endlinecolor": "#2a3f5f",
             "gridcolor": "white",
             "linecolor": "white",
             "minorgridcolor": "white",
             "startlinecolor": "#2a3f5f"
            },
            "type": "carpet"
           }
          ],
          "choropleth": [
           {
            "colorbar": {
             "outlinewidth": 0,
             "ticks": ""
            },
            "type": "choropleth"
           }
          ],
          "contour": [
           {
            "colorbar": {
             "outlinewidth": 0,
             "ticks": ""
            },
            "colorscale": [
             [
              0,
              "#0d0887"
             ],
             [
              0.1111111111111111,
              "#46039f"
             ],
             [
              0.2222222222222222,
              "#7201a8"
             ],
             [
              0.3333333333333333,
              "#9c179e"
             ],
             [
              0.4444444444444444,
              "#bd3786"
             ],
             [
              0.5555555555555556,
              "#d8576b"
             ],
             [
              0.6666666666666666,
              "#ed7953"
             ],
             [
              0.7777777777777778,
              "#fb9f3a"
             ],
             [
              0.8888888888888888,
              "#fdca26"
             ],
             [
              1,
              "#f0f921"
             ]
            ],
            "type": "contour"
           }
          ],
          "contourcarpet": [
           {
            "colorbar": {
             "outlinewidth": 0,
             "ticks": ""
            },
            "type": "contourcarpet"
           }
          ],
          "heatmap": [
           {
            "colorbar": {
             "outlinewidth": 0,
             "ticks": ""
            },
            "colorscale": [
             [
              0,
              "#0d0887"
             ],
             [
              0.1111111111111111,
              "#46039f"
             ],
             [
              0.2222222222222222,
              "#7201a8"
             ],
             [
              0.3333333333333333,
              "#9c179e"
             ],
             [
              0.4444444444444444,
              "#bd3786"
             ],
             [
              0.5555555555555556,
              "#d8576b"
             ],
             [
              0.6666666666666666,
              "#ed7953"
             ],
             [
              0.7777777777777778,
              "#fb9f3a"
             ],
             [
              0.8888888888888888,
              "#fdca26"
             ],
             [
              1,
              "#f0f921"
             ]
            ],
            "type": "heatmap"
           }
          ],
          "heatmapgl": [
           {
            "colorbar": {
             "outlinewidth": 0,
             "ticks": ""
            },
            "colorscale": [
             [
              0,
              "#0d0887"
             ],
             [
              0.1111111111111111,
              "#46039f"
             ],
             [
              0.2222222222222222,
              "#7201a8"
             ],
             [
              0.3333333333333333,
              "#9c179e"
             ],
             [
              0.4444444444444444,
              "#bd3786"
             ],
             [
              0.5555555555555556,
              "#d8576b"
             ],
             [
              0.6666666666666666,
              "#ed7953"
             ],
             [
              0.7777777777777778,
              "#fb9f3a"
             ],
             [
              0.8888888888888888,
              "#fdca26"
             ],
             [
              1,
              "#f0f921"
             ]
            ],
            "type": "heatmapgl"
           }
          ],
          "histogram": [
           {
            "marker": {
             "colorbar": {
              "outlinewidth": 0,
              "ticks": ""
             }
            },
            "type": "histogram"
           }
          ],
          "histogram2d": [
           {
            "colorbar": {
             "outlinewidth": 0,
             "ticks": ""
            },
            "colorscale": [
             [
              0,
              "#0d0887"
             ],
             [
              0.1111111111111111,
              "#46039f"
             ],
             [
              0.2222222222222222,
              "#7201a8"
             ],
             [
              0.3333333333333333,
              "#9c179e"
             ],
             [
              0.4444444444444444,
              "#bd3786"
             ],
             [
              0.5555555555555556,
              "#d8576b"
             ],
             [
              0.6666666666666666,
              "#ed7953"
             ],
             [
              0.7777777777777778,
              "#fb9f3a"
             ],
             [
              0.8888888888888888,
              "#fdca26"
             ],
             [
              1,
              "#f0f921"
             ]
            ],
            "type": "histogram2d"
           }
          ],
          "histogram2dcontour": [
           {
            "colorbar": {
             "outlinewidth": 0,
             "ticks": ""
            },
            "colorscale": [
             [
              0,
              "#0d0887"
             ],
             [
              0.1111111111111111,
              "#46039f"
             ],
             [
              0.2222222222222222,
              "#7201a8"
             ],
             [
              0.3333333333333333,
              "#9c179e"
             ],
             [
              0.4444444444444444,
              "#bd3786"
             ],
             [
              0.5555555555555556,
              "#d8576b"
             ],
             [
              0.6666666666666666,
              "#ed7953"
             ],
             [
              0.7777777777777778,
              "#fb9f3a"
             ],
             [
              0.8888888888888888,
              "#fdca26"
             ],
             [
              1,
              "#f0f921"
             ]
            ],
            "type": "histogram2dcontour"
           }
          ],
          "mesh3d": [
           {
            "colorbar": {
             "outlinewidth": 0,
             "ticks": ""
            },
            "type": "mesh3d"
           }
          ],
          "parcoords": [
           {
            "line": {
             "colorbar": {
              "outlinewidth": 0,
              "ticks": ""
             }
            },
            "type": "parcoords"
           }
          ],
          "scatter": [
           {
            "marker": {
             "colorbar": {
              "outlinewidth": 0,
              "ticks": ""
             }
            },
            "type": "scatter"
           }
          ],
          "scatter3d": [
           {
            "line": {
             "colorbar": {
              "outlinewidth": 0,
              "ticks": ""
             }
            },
            "marker": {
             "colorbar": {
              "outlinewidth": 0,
              "ticks": ""
             }
            },
            "type": "scatter3d"
           }
          ],
          "scattercarpet": [
           {
            "marker": {
             "colorbar": {
              "outlinewidth": 0,
              "ticks": ""
             }
            },
            "type": "scattercarpet"
           }
          ],
          "scattergeo": [
           {
            "marker": {
             "colorbar": {
              "outlinewidth": 0,
              "ticks": ""
             }
            },
            "type": "scattergeo"
           }
          ],
          "scattergl": [
           {
            "marker": {
             "colorbar": {
              "outlinewidth": 0,
              "ticks": ""
             }
            },
            "type": "scattergl"
           }
          ],
          "scattermapbox": [
           {
            "marker": {
             "colorbar": {
              "outlinewidth": 0,
              "ticks": ""
             }
            },
            "type": "scattermapbox"
           }
          ],
          "scatterpolar": [
           {
            "marker": {
             "colorbar": {
              "outlinewidth": 0,
              "ticks": ""
             }
            },
            "type": "scatterpolar"
           }
          ],
          "scatterpolargl": [
           {
            "marker": {
             "colorbar": {
              "outlinewidth": 0,
              "ticks": ""
             }
            },
            "type": "scatterpolargl"
           }
          ],
          "scatterternary": [
           {
            "marker": {
             "colorbar": {
              "outlinewidth": 0,
              "ticks": ""
             }
            },
            "type": "scatterternary"
           }
          ],
          "surface": [
           {
            "colorbar": {
             "outlinewidth": 0,
             "ticks": ""
            },
            "colorscale": [
             [
              0,
              "#0d0887"
             ],
             [
              0.1111111111111111,
              "#46039f"
             ],
             [
              0.2222222222222222,
              "#7201a8"
             ],
             [
              0.3333333333333333,
              "#9c179e"
             ],
             [
              0.4444444444444444,
              "#bd3786"
             ],
             [
              0.5555555555555556,
              "#d8576b"
             ],
             [
              0.6666666666666666,
              "#ed7953"
             ],
             [
              0.7777777777777778,
              "#fb9f3a"
             ],
             [
              0.8888888888888888,
              "#fdca26"
             ],
             [
              1,
              "#f0f921"
             ]
            ],
            "type": "surface"
           }
          ],
          "table": [
           {
            "cells": {
             "fill": {
              "color": "#EBF0F8"
             },
             "line": {
              "color": "white"
             }
            },
            "header": {
             "fill": {
              "color": "#C8D4E3"
             },
             "line": {
              "color": "white"
             }
            },
            "type": "table"
           }
          ]
         },
         "layout": {
          "annotationdefaults": {
           "arrowcolor": "#2a3f5f",
           "arrowhead": 0,
           "arrowwidth": 1
          },
          "colorscale": {
           "diverging": [
            [
             0,
             "#8e0152"
            ],
            [
             0.1,
             "#c51b7d"
            ],
            [
             0.2,
             "#de77ae"
            ],
            [
             0.3,
             "#f1b6da"
            ],
            [
             0.4,
             "#fde0ef"
            ],
            [
             0.5,
             "#f7f7f7"
            ],
            [
             0.6,
             "#e6f5d0"
            ],
            [
             0.7,
             "#b8e186"
            ],
            [
             0.8,
             "#7fbc41"
            ],
            [
             0.9,
             "#4d9221"
            ],
            [
             1,
             "#276419"
            ]
           ],
           "sequential": [
            [
             0,
             "#0d0887"
            ],
            [
             0.1111111111111111,
             "#46039f"
            ],
            [
             0.2222222222222222,
             "#7201a8"
            ],
            [
             0.3333333333333333,
             "#9c179e"
            ],
            [
             0.4444444444444444,
             "#bd3786"
            ],
            [
             0.5555555555555556,
             "#d8576b"
            ],
            [
             0.6666666666666666,
             "#ed7953"
            ],
            [
             0.7777777777777778,
             "#fb9f3a"
            ],
            [
             0.8888888888888888,
             "#fdca26"
            ],
            [
             1,
             "#f0f921"
            ]
           ],
           "sequentialminus": [
            [
             0,
             "#0d0887"
            ],
            [
             0.1111111111111111,
             "#46039f"
            ],
            [
             0.2222222222222222,
             "#7201a8"
            ],
            [
             0.3333333333333333,
             "#9c179e"
            ],
            [
             0.4444444444444444,
             "#bd3786"
            ],
            [
             0.5555555555555556,
             "#d8576b"
            ],
            [
             0.6666666666666666,
             "#ed7953"
            ],
            [
             0.7777777777777778,
             "#fb9f3a"
            ],
            [
             0.8888888888888888,
             "#fdca26"
            ],
            [
             1,
             "#f0f921"
            ]
           ]
          },
          "colorway": [
           "#636efa",
           "#EF553B",
           "#00cc96",
           "#ab63fa",
           "#FFA15A",
           "#19d3f3",
           "#FF6692",
           "#B6E880",
           "#FF97FF",
           "#FECB52"
          ],
          "font": {
           "color": "#2a3f5f"
          },
          "geo": {
           "bgcolor": "white",
           "lakecolor": "white",
           "landcolor": "#E5ECF6",
           "showlakes": true,
           "showland": true,
           "subunitcolor": "white"
          },
          "hoverlabel": {
           "align": "left"
          },
          "hovermode": "closest",
          "mapbox": {
           "style": "light"
          },
          "paper_bgcolor": "white",
          "plot_bgcolor": "#E5ECF6",
          "polar": {
           "angularaxis": {
            "gridcolor": "white",
            "linecolor": "white",
            "ticks": ""
           },
           "bgcolor": "#E5ECF6",
           "radialaxis": {
            "gridcolor": "white",
            "linecolor": "white",
            "ticks": ""
           }
          },
          "scene": {
           "xaxis": {
            "backgroundcolor": "#E5ECF6",
            "gridcolor": "white",
            "gridwidth": 2,
            "linecolor": "white",
            "showbackground": true,
            "ticks": "",
            "zerolinecolor": "white"
           },
           "yaxis": {
            "backgroundcolor": "#E5ECF6",
            "gridcolor": "white",
            "gridwidth": 2,
            "linecolor": "white",
            "showbackground": true,
            "ticks": "",
            "zerolinecolor": "white"
           },
           "zaxis": {
            "backgroundcolor": "#E5ECF6",
            "gridcolor": "white",
            "gridwidth": 2,
            "linecolor": "white",
            "showbackground": true,
            "ticks": "",
            "zerolinecolor": "white"
           }
          },
          "shapedefaults": {
           "line": {
            "color": "#2a3f5f"
           }
          },
          "ternary": {
           "aaxis": {
            "gridcolor": "white",
            "linecolor": "white",
            "ticks": ""
           },
           "baxis": {
            "gridcolor": "white",
            "linecolor": "white",
            "ticks": ""
           },
           "bgcolor": "#E5ECF6",
           "caxis": {
            "gridcolor": "white",
            "linecolor": "white",
            "ticks": ""
           }
          },
          "title": {
           "x": 0.05
          },
          "xaxis": {
           "automargin": true,
           "gridcolor": "white",
           "linecolor": "white",
           "ticks": "",
           "zerolinecolor": "white",
           "zerolinewidth": 2
          },
          "yaxis": {
           "automargin": true,
           "gridcolor": "white",
           "linecolor": "white",
           "ticks": "",
           "zerolinecolor": "white",
           "zerolinewidth": 2
          }
         }
        },
        "xaxis": {
         "tickangle": -45
        }
       }
      },
      "text/html": [
       "<div>\n",
       "        \n",
       "        \n",
       "            <div id=\"d95604a5-0a26-4ec6-9380-7d1a3c276626\" class=\"plotly-graph-div\" style=\"height:525px; width:100%;\"></div>\n",
       "            <script type=\"text/javascript\">\n",
       "                require([\"plotly\"], function(Plotly) {\n",
       "                    window.PLOTLYENV=window.PLOTLYENV || {};\n",
       "                    \n",
       "                if (document.getElementById(\"d95604a5-0a26-4ec6-9380-7d1a3c276626\")) {\n",
       "                    Plotly.newPlot(\n",
       "                        'd95604a5-0a26-4ec6-9380-7d1a3c276626',\n",
       "                        [{\"marker\": {\"color\": \"green\"}, \"name\": \"Absent\", \"type\": \"bar\", \"x\": [\"Married\", \"Single\"], \"y\": [89, 157]}, {\"marker\": {\"color\": \"red\"}, \"name\": \"Present\", \"type\": \"bar\", \"x\": [\"Married\", \"Single\"], \"y\": [172, 296]}],\n",
       "                        {\"barmode\": \"group\", \"template\": {\"data\": {\"bar\": [{\"error_x\": {\"color\": \"#2a3f5f\"}, \"error_y\": {\"color\": \"#2a3f5f\"}, \"marker\": {\"line\": {\"color\": \"#E5ECF6\", \"width\": 0.5}}, \"type\": \"bar\"}], \"barpolar\": [{\"marker\": {\"line\": {\"color\": \"#E5ECF6\", \"width\": 0.5}}, \"type\": \"barpolar\"}], \"carpet\": [{\"aaxis\": {\"endlinecolor\": \"#2a3f5f\", \"gridcolor\": \"white\", \"linecolor\": \"white\", \"minorgridcolor\": \"white\", \"startlinecolor\": \"#2a3f5f\"}, \"baxis\": {\"endlinecolor\": \"#2a3f5f\", \"gridcolor\": \"white\", \"linecolor\": \"white\", \"minorgridcolor\": \"white\", \"startlinecolor\": \"#2a3f5f\"}, \"type\": \"carpet\"}], \"choropleth\": [{\"colorbar\": {\"outlinewidth\": 0, \"ticks\": \"\"}, \"type\": \"choropleth\"}], \"contour\": [{\"colorbar\": {\"outlinewidth\": 0, \"ticks\": \"\"}, \"colorscale\": [[0.0, \"#0d0887\"], [0.1111111111111111, \"#46039f\"], [0.2222222222222222, \"#7201a8\"], [0.3333333333333333, \"#9c179e\"], [0.4444444444444444, \"#bd3786\"], [0.5555555555555556, \"#d8576b\"], [0.6666666666666666, \"#ed7953\"], [0.7777777777777778, \"#fb9f3a\"], [0.8888888888888888, \"#fdca26\"], [1.0, \"#f0f921\"]], \"type\": \"contour\"}], \"contourcarpet\": [{\"colorbar\": {\"outlinewidth\": 0, \"ticks\": \"\"}, \"type\": \"contourcarpet\"}], \"heatmap\": [{\"colorbar\": {\"outlinewidth\": 0, \"ticks\": \"\"}, \"colorscale\": [[0.0, \"#0d0887\"], [0.1111111111111111, \"#46039f\"], [0.2222222222222222, \"#7201a8\"], [0.3333333333333333, \"#9c179e\"], [0.4444444444444444, \"#bd3786\"], [0.5555555555555556, \"#d8576b\"], [0.6666666666666666, \"#ed7953\"], [0.7777777777777778, \"#fb9f3a\"], [0.8888888888888888, \"#fdca26\"], [1.0, \"#f0f921\"]], \"type\": \"heatmap\"}], \"heatmapgl\": [{\"colorbar\": {\"outlinewidth\": 0, \"ticks\": \"\"}, \"colorscale\": [[0.0, \"#0d0887\"], [0.1111111111111111, \"#46039f\"], [0.2222222222222222, \"#7201a8\"], [0.3333333333333333, \"#9c179e\"], [0.4444444444444444, \"#bd3786\"], [0.5555555555555556, \"#d8576b\"], [0.6666666666666666, \"#ed7953\"], [0.7777777777777778, \"#fb9f3a\"], [0.8888888888888888, \"#fdca26\"], [1.0, \"#f0f921\"]], \"type\": \"heatmapgl\"}], \"histogram\": [{\"marker\": {\"colorbar\": {\"outlinewidth\": 0, \"ticks\": \"\"}}, \"type\": \"histogram\"}], \"histogram2d\": [{\"colorbar\": {\"outlinewidth\": 0, \"ticks\": \"\"}, \"colorscale\": [[0.0, \"#0d0887\"], [0.1111111111111111, \"#46039f\"], [0.2222222222222222, \"#7201a8\"], [0.3333333333333333, \"#9c179e\"], [0.4444444444444444, \"#bd3786\"], [0.5555555555555556, \"#d8576b\"], [0.6666666666666666, \"#ed7953\"], [0.7777777777777778, \"#fb9f3a\"], [0.8888888888888888, \"#fdca26\"], [1.0, \"#f0f921\"]], \"type\": \"histogram2d\"}], \"histogram2dcontour\": [{\"colorbar\": {\"outlinewidth\": 0, \"ticks\": \"\"}, \"colorscale\": [[0.0, \"#0d0887\"], [0.1111111111111111, \"#46039f\"], [0.2222222222222222, \"#7201a8\"], [0.3333333333333333, \"#9c179e\"], [0.4444444444444444, \"#bd3786\"], [0.5555555555555556, \"#d8576b\"], [0.6666666666666666, \"#ed7953\"], [0.7777777777777778, \"#fb9f3a\"], [0.8888888888888888, \"#fdca26\"], [1.0, \"#f0f921\"]], \"type\": \"histogram2dcontour\"}], \"mesh3d\": [{\"colorbar\": {\"outlinewidth\": 0, \"ticks\": \"\"}, \"type\": \"mesh3d\"}], \"parcoords\": [{\"line\": {\"colorbar\": {\"outlinewidth\": 0, \"ticks\": \"\"}}, \"type\": \"parcoords\"}], \"scatter\": [{\"marker\": {\"colorbar\": {\"outlinewidth\": 0, \"ticks\": \"\"}}, \"type\": \"scatter\"}], \"scatter3d\": [{\"line\": {\"colorbar\": {\"outlinewidth\": 0, \"ticks\": \"\"}}, \"marker\": {\"colorbar\": {\"outlinewidth\": 0, \"ticks\": \"\"}}, \"type\": \"scatter3d\"}], \"scattercarpet\": [{\"marker\": {\"colorbar\": {\"outlinewidth\": 0, \"ticks\": \"\"}}, \"type\": \"scattercarpet\"}], \"scattergeo\": [{\"marker\": {\"colorbar\": {\"outlinewidth\": 0, \"ticks\": \"\"}}, \"type\": \"scattergeo\"}], \"scattergl\": [{\"marker\": {\"colorbar\": {\"outlinewidth\": 0, \"ticks\": \"\"}}, \"type\": \"scattergl\"}], \"scattermapbox\": [{\"marker\": {\"colorbar\": {\"outlinewidth\": 0, \"ticks\": \"\"}}, \"type\": \"scattermapbox\"}], \"scatterpolar\": [{\"marker\": {\"colorbar\": {\"outlinewidth\": 0, \"ticks\": \"\"}}, \"type\": \"scatterpolar\"}], \"scatterpolargl\": [{\"marker\": {\"colorbar\": {\"outlinewidth\": 0, \"ticks\": \"\"}}, \"type\": \"scatterpolargl\"}], \"scatterternary\": [{\"marker\": {\"colorbar\": {\"outlinewidth\": 0, \"ticks\": \"\"}}, \"type\": \"scatterternary\"}], \"surface\": [{\"colorbar\": {\"outlinewidth\": 0, \"ticks\": \"\"}, \"colorscale\": [[0.0, \"#0d0887\"], [0.1111111111111111, \"#46039f\"], [0.2222222222222222, \"#7201a8\"], [0.3333333333333333, \"#9c179e\"], [0.4444444444444444, \"#bd3786\"], [0.5555555555555556, \"#d8576b\"], [0.6666666666666666, \"#ed7953\"], [0.7777777777777778, \"#fb9f3a\"], [0.8888888888888888, \"#fdca26\"], [1.0, \"#f0f921\"]], \"type\": \"surface\"}], \"table\": [{\"cells\": {\"fill\": {\"color\": \"#EBF0F8\"}, \"line\": {\"color\": \"white\"}}, \"header\": {\"fill\": {\"color\": \"#C8D4E3\"}, \"line\": {\"color\": \"white\"}}, \"type\": \"table\"}]}, \"layout\": {\"annotationdefaults\": {\"arrowcolor\": \"#2a3f5f\", \"arrowhead\": 0, \"arrowwidth\": 1}, \"colorscale\": {\"diverging\": [[0, \"#8e0152\"], [0.1, \"#c51b7d\"], [0.2, \"#de77ae\"], [0.3, \"#f1b6da\"], [0.4, \"#fde0ef\"], [0.5, \"#f7f7f7\"], [0.6, \"#e6f5d0\"], [0.7, \"#b8e186\"], [0.8, \"#7fbc41\"], [0.9, \"#4d9221\"], [1, \"#276419\"]], \"sequential\": [[0.0, \"#0d0887\"], [0.1111111111111111, \"#46039f\"], [0.2222222222222222, \"#7201a8\"], [0.3333333333333333, \"#9c179e\"], [0.4444444444444444, \"#bd3786\"], [0.5555555555555556, \"#d8576b\"], [0.6666666666666666, \"#ed7953\"], [0.7777777777777778, \"#fb9f3a\"], [0.8888888888888888, \"#fdca26\"], [1.0, \"#f0f921\"]], \"sequentialminus\": [[0.0, \"#0d0887\"], [0.1111111111111111, \"#46039f\"], [0.2222222222222222, \"#7201a8\"], [0.3333333333333333, \"#9c179e\"], [0.4444444444444444, \"#bd3786\"], [0.5555555555555556, \"#d8576b\"], [0.6666666666666666, \"#ed7953\"], [0.7777777777777778, \"#fb9f3a\"], [0.8888888888888888, \"#fdca26\"], [1.0, \"#f0f921\"]]}, \"colorway\": [\"#636efa\", \"#EF553B\", \"#00cc96\", \"#ab63fa\", \"#FFA15A\", \"#19d3f3\", \"#FF6692\", \"#B6E880\", \"#FF97FF\", \"#FECB52\"], \"font\": {\"color\": \"#2a3f5f\"}, \"geo\": {\"bgcolor\": \"white\", \"lakecolor\": \"white\", \"landcolor\": \"#E5ECF6\", \"showlakes\": true, \"showland\": true, \"subunitcolor\": \"white\"}, \"hoverlabel\": {\"align\": \"left\"}, \"hovermode\": \"closest\", \"mapbox\": {\"style\": \"light\"}, \"paper_bgcolor\": \"white\", \"plot_bgcolor\": \"#E5ECF6\", \"polar\": {\"angularaxis\": {\"gridcolor\": \"white\", \"linecolor\": \"white\", \"ticks\": \"\"}, \"bgcolor\": \"#E5ECF6\", \"radialaxis\": {\"gridcolor\": \"white\", \"linecolor\": \"white\", \"ticks\": \"\"}}, \"scene\": {\"xaxis\": {\"backgroundcolor\": \"#E5ECF6\", \"gridcolor\": \"white\", \"gridwidth\": 2, \"linecolor\": \"white\", \"showbackground\": true, \"ticks\": \"\", \"zerolinecolor\": \"white\"}, \"yaxis\": {\"backgroundcolor\": \"#E5ECF6\", \"gridcolor\": \"white\", \"gridwidth\": 2, \"linecolor\": \"white\", \"showbackground\": true, \"ticks\": \"\", \"zerolinecolor\": \"white\"}, \"zaxis\": {\"backgroundcolor\": \"#E5ECF6\", \"gridcolor\": \"white\", \"gridwidth\": 2, \"linecolor\": \"white\", \"showbackground\": true, \"ticks\": \"\", \"zerolinecolor\": \"white\"}}, \"shapedefaults\": {\"line\": {\"color\": \"#2a3f5f\"}}, \"ternary\": {\"aaxis\": {\"gridcolor\": \"white\", \"linecolor\": \"white\", \"ticks\": \"\"}, \"baxis\": {\"gridcolor\": \"white\", \"linecolor\": \"white\", \"ticks\": \"\"}, \"bgcolor\": \"#E5ECF6\", \"caxis\": {\"gridcolor\": \"white\", \"linecolor\": \"white\", \"ticks\": \"\"}}, \"title\": {\"x\": 0.05}, \"xaxis\": {\"automargin\": true, \"gridcolor\": \"white\", \"linecolor\": \"white\", \"ticks\": \"\", \"zerolinecolor\": \"white\", \"zerolinewidth\": 2}, \"yaxis\": {\"automargin\": true, \"gridcolor\": \"white\", \"linecolor\": \"white\", \"ticks\": \"\", \"zerolinecolor\": \"white\", \"zerolinewidth\": 2}}}, \"xaxis\": {\"tickangle\": -45}},\n",
       "                        {\"responsive\": true}\n",
       "                    ).then(function(){\n",
       "                            \n",
       "var gd = document.getElementById('d95604a5-0a26-4ec6-9380-7d1a3c276626');\n",
       "var x = new MutationObserver(function (mutations, observer) {{\n",
       "        var display = window.getComputedStyle(gd).display;\n",
       "        if (!display || display === 'none') {{\n",
       "            console.log([gd, 'removed!']);\n",
       "            Plotly.purge(gd);\n",
       "            observer.disconnect();\n",
       "        }}\n",
       "}});\n",
       "\n",
       "// Listen for the removal of the full notebook cells\n",
       "var notebookContainer = gd.closest('#notebook-container');\n",
       "if (notebookContainer) {{\n",
       "    x.observe(notebookContainer, {childList: true});\n",
       "}}\n",
       "\n",
       "// Listen for the clearing of the current output cell\n",
       "var outputEl = gd.closest('.output');\n",
       "if (outputEl) {{\n",
       "    x.observe(outputEl, {childList: true});\n",
       "}}\n",
       "\n",
       "                        })\n",
       "                };\n",
       "                });\n",
       "            </script>\n",
       "        </div>"
      ]
     },
     "metadata": {},
     "output_type": "display_data"
    }
   ],
   "source": [
    "barplot(Marital_Status_Category,Marital_Status_Group)"
   ]
  },
  {
   "cell_type": "markdown",
   "metadata": {},
   "source": [
    "## Month wise Analysis"
   ]
  },
  {
   "cell_type": "code",
   "execution_count": 329,
   "metadata": {},
   "outputs": [
    {
     "data": {
      "text/plain": [
       "array([5.0, 4.0, 2.0, 7.0, 12.0, 10.0, 'NA', 6.0, 3.0, 1.0, 9.0, 8.0],\n",
       "      dtype=object)"
      ]
     },
     "execution_count": 329,
     "metadata": {},
     "output_type": "execute_result"
    }
   ],
   "source": [
    "data.Month.unique()"
   ]
  },
  {
   "cell_type": "code",
   "execution_count": 332,
   "metadata": {},
   "outputs": [
    {
     "data": {
      "text/html": [
       "<div>\n",
       "<style scoped>\n",
       "    .dataframe tbody tr th:only-of-type {\n",
       "        vertical-align: middle;\n",
       "    }\n",
       "\n",
       "    .dataframe tbody tr th {\n",
       "        vertical-align: top;\n",
       "    }\n",
       "\n",
       "    .dataframe thead th {\n",
       "        text-align: right;\n",
       "    }\n",
       "</style>\n",
       "<table border=\"1\" class=\"dataframe\">\n",
       "  <thead>\n",
       "    <tr style=\"text-align: right;\">\n",
       "      <th></th>\n",
       "      <th>Absent</th>\n",
       "      <th>Present</th>\n",
       "      <th>Date_of_Interview_Category</th>\n",
       "    </tr>\n",
       "  </thead>\n",
       "  <tbody>\n",
       "    <tr>\n",
       "      <th>0</th>\n",
       "      <td>9</td>\n",
       "      <td>19</td>\n",
       "      <td>2016-01-14 00:00:00</td>\n",
       "    </tr>\n",
       "    <tr>\n",
       "      <th>1</th>\n",
       "      <td>12</td>\n",
       "      <td>22</td>\n",
       "      <td>2016-01-22 00:00:00</td>\n",
       "    </tr>\n",
       "    <tr>\n",
       "      <th>2</th>\n",
       "      <td>5</td>\n",
       "      <td>13</td>\n",
       "      <td>2016-01-30 00:00:00</td>\n",
       "    </tr>\n",
       "    <tr>\n",
       "      <th>3</th>\n",
       "      <td>16</td>\n",
       "      <td>27</td>\n",
       "      <td>2016-02-09 00:00:00</td>\n",
       "    </tr>\n",
       "    <tr>\n",
       "      <th>4</th>\n",
       "      <td>11</td>\n",
       "      <td>11</td>\n",
       "      <td>2016-02-23 00:00:00</td>\n",
       "    </tr>\n",
       "  </tbody>\n",
       "</table>\n",
       "</div>"
      ],
      "text/plain": [
       "   Absent  Present Date_of_Interview_Category\n",
       "0       9       19        2016-01-14 00:00:00\n",
       "1      12       22        2016-01-22 00:00:00\n",
       "2       5       13        2016-01-30 00:00:00\n",
       "3      16       27        2016-02-09 00:00:00\n",
       "4      11       11        2016-02-23 00:00:00"
      ]
     },
     "execution_count": 332,
     "metadata": {},
     "output_type": "execute_result"
    }
   ],
   "source": [
    "Date_of_Interview_Group=  reframe('Date_of_Interview','Date_of_Interview_Category')\n",
    "Date_of_Interview_Group.head()"
   ]
  },
  {
   "cell_type": "code",
   "execution_count": 337,
   "metadata": {},
   "outputs": [
    {
     "data": {
      "application/vnd.plotly.v1+json": {
       "config": {
        "plotlyServerURL": "https://plot.ly"
       },
       "data": [
        {
         "type": "scatter",
         "x": [
          "2016-01-14T00:00:00",
          "2016-01-22T00:00:00",
          "2016-01-30T00:00:00",
          "2016-02-09T00:00:00",
          "2016-02-23T00:00:00",
          "2016-02-26T00:00:00",
          "2016-02-27T00:00:00",
          "2016-03-22T00:00:00",
          "2016-04-13T00:00:00",
          "2016-04-21T00:00:00",
          "2016-05-24T00:00:00",
          "2016-05-25T00:00:00",
          "2016-05-26T00:00:00",
          "2016-05-30T00:00:00",
          "2016-06-02T00:00:00",
          "2016-06-05T00:00:00",
          "2016-06-13T00:00:00",
          "2016-07-05T00:00:00",
          "2016-07-06T00:00:00",
          "2016-08-20T00:00:00",
          "2016-09-01T00:00:00",
          "2016-10-05T00:00:00",
          "2016-12-04T00:00:00",
          "NA"
         ],
         "y": [
          9,
          12,
          5,
          16,
          11,
          12,
          13,
          6,
          34,
          7,
          0,
          15,
          1,
          1,
          72,
          0,
          5,
          7,
          0,
          9,
          0,
          3,
          1,
          7
         ]
        },
        {
         "line": {
          "color": "deepskyblue"
         },
         "name": "Absent",
         "type": "scatter",
         "x": [
          "2016-01-14T00:00:00",
          "2016-01-22T00:00:00",
          "2016-01-30T00:00:00",
          "2016-02-09T00:00:00",
          "2016-02-23T00:00:00",
          "2016-02-26T00:00:00",
          "2016-02-27T00:00:00",
          "2016-03-22T00:00:00",
          "2016-04-13T00:00:00",
          "2016-04-21T00:00:00",
          "2016-05-24T00:00:00",
          "2016-05-25T00:00:00",
          "2016-05-26T00:00:00",
          "2016-05-30T00:00:00",
          "2016-06-02T00:00:00",
          "2016-06-05T00:00:00",
          "2016-06-13T00:00:00",
          "2016-07-05T00:00:00",
          "2016-07-06T00:00:00",
          "2016-08-20T00:00:00",
          "2016-09-01T00:00:00",
          "2016-10-05T00:00:00",
          "2016-12-04T00:00:00",
          "NA"
         ],
         "y": [
          9,
          12,
          5,
          16,
          11,
          12,
          13,
          6,
          34,
          7,
          0,
          15,
          1,
          1,
          72,
          0,
          5,
          7,
          0,
          9,
          0,
          3,
          1,
          7
         ]
        },
        {
         "line": {
          "color": "dimgray"
         },
         "name": "Present",
         "type": "scatter",
         "x": [
          "2016-01-14T00:00:00",
          "2016-01-22T00:00:00",
          "2016-01-30T00:00:00",
          "2016-02-09T00:00:00",
          "2016-02-23T00:00:00",
          "2016-02-26T00:00:00",
          "2016-02-27T00:00:00",
          "2016-03-22T00:00:00",
          "2016-04-13T00:00:00",
          "2016-04-21T00:00:00",
          "2016-05-24T00:00:00",
          "2016-05-25T00:00:00",
          "2016-05-26T00:00:00",
          "2016-05-30T00:00:00",
          "2016-06-02T00:00:00",
          "2016-06-05T00:00:00",
          "2016-06-13T00:00:00",
          "2016-07-05T00:00:00",
          "2016-07-06T00:00:00",
          "2016-08-20T00:00:00",
          "2016-09-01T00:00:00",
          "2016-10-05T00:00:00",
          "2016-12-04T00:00:00",
          "NA"
         ],
         "y": [
          19,
          22,
          13,
          27,
          11,
          14,
          13,
          7,
          50,
          7,
          2,
          38,
          2,
          7,
          148,
          3,
          10,
          24,
          12,
          16,
          6,
          4,
          0,
          13
         ]
        }
       ],
       "layout": {
        "template": {
         "data": {
          "bar": [
           {
            "error_x": {
             "color": "#2a3f5f"
            },
            "error_y": {
             "color": "#2a3f5f"
            },
            "marker": {
             "line": {
              "color": "#E5ECF6",
              "width": 0.5
             }
            },
            "type": "bar"
           }
          ],
          "barpolar": [
           {
            "marker": {
             "line": {
              "color": "#E5ECF6",
              "width": 0.5
             }
            },
            "type": "barpolar"
           }
          ],
          "carpet": [
           {
            "aaxis": {
             "endlinecolor": "#2a3f5f",
             "gridcolor": "white",
             "linecolor": "white",
             "minorgridcolor": "white",
             "startlinecolor": "#2a3f5f"
            },
            "baxis": {
             "endlinecolor": "#2a3f5f",
             "gridcolor": "white",
             "linecolor": "white",
             "minorgridcolor": "white",
             "startlinecolor": "#2a3f5f"
            },
            "type": "carpet"
           }
          ],
          "choropleth": [
           {
            "colorbar": {
             "outlinewidth": 0,
             "ticks": ""
            },
            "type": "choropleth"
           }
          ],
          "contour": [
           {
            "colorbar": {
             "outlinewidth": 0,
             "ticks": ""
            },
            "colorscale": [
             [
              0,
              "#0d0887"
             ],
             [
              0.1111111111111111,
              "#46039f"
             ],
             [
              0.2222222222222222,
              "#7201a8"
             ],
             [
              0.3333333333333333,
              "#9c179e"
             ],
             [
              0.4444444444444444,
              "#bd3786"
             ],
             [
              0.5555555555555556,
              "#d8576b"
             ],
             [
              0.6666666666666666,
              "#ed7953"
             ],
             [
              0.7777777777777778,
              "#fb9f3a"
             ],
             [
              0.8888888888888888,
              "#fdca26"
             ],
             [
              1,
              "#f0f921"
             ]
            ],
            "type": "contour"
           }
          ],
          "contourcarpet": [
           {
            "colorbar": {
             "outlinewidth": 0,
             "ticks": ""
            },
            "type": "contourcarpet"
           }
          ],
          "heatmap": [
           {
            "colorbar": {
             "outlinewidth": 0,
             "ticks": ""
            },
            "colorscale": [
             [
              0,
              "#0d0887"
             ],
             [
              0.1111111111111111,
              "#46039f"
             ],
             [
              0.2222222222222222,
              "#7201a8"
             ],
             [
              0.3333333333333333,
              "#9c179e"
             ],
             [
              0.4444444444444444,
              "#bd3786"
             ],
             [
              0.5555555555555556,
              "#d8576b"
             ],
             [
              0.6666666666666666,
              "#ed7953"
             ],
             [
              0.7777777777777778,
              "#fb9f3a"
             ],
             [
              0.8888888888888888,
              "#fdca26"
             ],
             [
              1,
              "#f0f921"
             ]
            ],
            "type": "heatmap"
           }
          ],
          "heatmapgl": [
           {
            "colorbar": {
             "outlinewidth": 0,
             "ticks": ""
            },
            "colorscale": [
             [
              0,
              "#0d0887"
             ],
             [
              0.1111111111111111,
              "#46039f"
             ],
             [
              0.2222222222222222,
              "#7201a8"
             ],
             [
              0.3333333333333333,
              "#9c179e"
             ],
             [
              0.4444444444444444,
              "#bd3786"
             ],
             [
              0.5555555555555556,
              "#d8576b"
             ],
             [
              0.6666666666666666,
              "#ed7953"
             ],
             [
              0.7777777777777778,
              "#fb9f3a"
             ],
             [
              0.8888888888888888,
              "#fdca26"
             ],
             [
              1,
              "#f0f921"
             ]
            ],
            "type": "heatmapgl"
           }
          ],
          "histogram": [
           {
            "marker": {
             "colorbar": {
              "outlinewidth": 0,
              "ticks": ""
             }
            },
            "type": "histogram"
           }
          ],
          "histogram2d": [
           {
            "colorbar": {
             "outlinewidth": 0,
             "ticks": ""
            },
            "colorscale": [
             [
              0,
              "#0d0887"
             ],
             [
              0.1111111111111111,
              "#46039f"
             ],
             [
              0.2222222222222222,
              "#7201a8"
             ],
             [
              0.3333333333333333,
              "#9c179e"
             ],
             [
              0.4444444444444444,
              "#bd3786"
             ],
             [
              0.5555555555555556,
              "#d8576b"
             ],
             [
              0.6666666666666666,
              "#ed7953"
             ],
             [
              0.7777777777777778,
              "#fb9f3a"
             ],
             [
              0.8888888888888888,
              "#fdca26"
             ],
             [
              1,
              "#f0f921"
             ]
            ],
            "type": "histogram2d"
           }
          ],
          "histogram2dcontour": [
           {
            "colorbar": {
             "outlinewidth": 0,
             "ticks": ""
            },
            "colorscale": [
             [
              0,
              "#0d0887"
             ],
             [
              0.1111111111111111,
              "#46039f"
             ],
             [
              0.2222222222222222,
              "#7201a8"
             ],
             [
              0.3333333333333333,
              "#9c179e"
             ],
             [
              0.4444444444444444,
              "#bd3786"
             ],
             [
              0.5555555555555556,
              "#d8576b"
             ],
             [
              0.6666666666666666,
              "#ed7953"
             ],
             [
              0.7777777777777778,
              "#fb9f3a"
             ],
             [
              0.8888888888888888,
              "#fdca26"
             ],
             [
              1,
              "#f0f921"
             ]
            ],
            "type": "histogram2dcontour"
           }
          ],
          "mesh3d": [
           {
            "colorbar": {
             "outlinewidth": 0,
             "ticks": ""
            },
            "type": "mesh3d"
           }
          ],
          "parcoords": [
           {
            "line": {
             "colorbar": {
              "outlinewidth": 0,
              "ticks": ""
             }
            },
            "type": "parcoords"
           }
          ],
          "scatter": [
           {
            "marker": {
             "colorbar": {
              "outlinewidth": 0,
              "ticks": ""
             }
            },
            "type": "scatter"
           }
          ],
          "scatter3d": [
           {
            "line": {
             "colorbar": {
              "outlinewidth": 0,
              "ticks": ""
             }
            },
            "marker": {
             "colorbar": {
              "outlinewidth": 0,
              "ticks": ""
             }
            },
            "type": "scatter3d"
           }
          ],
          "scattercarpet": [
           {
            "marker": {
             "colorbar": {
              "outlinewidth": 0,
              "ticks": ""
             }
            },
            "type": "scattercarpet"
           }
          ],
          "scattergeo": [
           {
            "marker": {
             "colorbar": {
              "outlinewidth": 0,
              "ticks": ""
             }
            },
            "type": "scattergeo"
           }
          ],
          "scattergl": [
           {
            "marker": {
             "colorbar": {
              "outlinewidth": 0,
              "ticks": ""
             }
            },
            "type": "scattergl"
           }
          ],
          "scattermapbox": [
           {
            "marker": {
             "colorbar": {
              "outlinewidth": 0,
              "ticks": ""
             }
            },
            "type": "scattermapbox"
           }
          ],
          "scatterpolar": [
           {
            "marker": {
             "colorbar": {
              "outlinewidth": 0,
              "ticks": ""
             }
            },
            "type": "scatterpolar"
           }
          ],
          "scatterpolargl": [
           {
            "marker": {
             "colorbar": {
              "outlinewidth": 0,
              "ticks": ""
             }
            },
            "type": "scatterpolargl"
           }
          ],
          "scatterternary": [
           {
            "marker": {
             "colorbar": {
              "outlinewidth": 0,
              "ticks": ""
             }
            },
            "type": "scatterternary"
           }
          ],
          "surface": [
           {
            "colorbar": {
             "outlinewidth": 0,
             "ticks": ""
            },
            "colorscale": [
             [
              0,
              "#0d0887"
             ],
             [
              0.1111111111111111,
              "#46039f"
             ],
             [
              0.2222222222222222,
              "#7201a8"
             ],
             [
              0.3333333333333333,
              "#9c179e"
             ],
             [
              0.4444444444444444,
              "#bd3786"
             ],
             [
              0.5555555555555556,
              "#d8576b"
             ],
             [
              0.6666666666666666,
              "#ed7953"
             ],
             [
              0.7777777777777778,
              "#fb9f3a"
             ],
             [
              0.8888888888888888,
              "#fdca26"
             ],
             [
              1,
              "#f0f921"
             ]
            ],
            "type": "surface"
           }
          ],
          "table": [
           {
            "cells": {
             "fill": {
              "color": "#EBF0F8"
             },
             "line": {
              "color": "white"
             }
            },
            "header": {
             "fill": {
              "color": "#C8D4E3"
             },
             "line": {
              "color": "white"
             }
            },
            "type": "table"
           }
          ]
         },
         "layout": {
          "annotationdefaults": {
           "arrowcolor": "#2a3f5f",
           "arrowhead": 0,
           "arrowwidth": 1
          },
          "colorscale": {
           "diverging": [
            [
             0,
             "#8e0152"
            ],
            [
             0.1,
             "#c51b7d"
            ],
            [
             0.2,
             "#de77ae"
            ],
            [
             0.3,
             "#f1b6da"
            ],
            [
             0.4,
             "#fde0ef"
            ],
            [
             0.5,
             "#f7f7f7"
            ],
            [
             0.6,
             "#e6f5d0"
            ],
            [
             0.7,
             "#b8e186"
            ],
            [
             0.8,
             "#7fbc41"
            ],
            [
             0.9,
             "#4d9221"
            ],
            [
             1,
             "#276419"
            ]
           ],
           "sequential": [
            [
             0,
             "#0d0887"
            ],
            [
             0.1111111111111111,
             "#46039f"
            ],
            [
             0.2222222222222222,
             "#7201a8"
            ],
            [
             0.3333333333333333,
             "#9c179e"
            ],
            [
             0.4444444444444444,
             "#bd3786"
            ],
            [
             0.5555555555555556,
             "#d8576b"
            ],
            [
             0.6666666666666666,
             "#ed7953"
            ],
            [
             0.7777777777777778,
             "#fb9f3a"
            ],
            [
             0.8888888888888888,
             "#fdca26"
            ],
            [
             1,
             "#f0f921"
            ]
           ],
           "sequentialminus": [
            [
             0,
             "#0d0887"
            ],
            [
             0.1111111111111111,
             "#46039f"
            ],
            [
             0.2222222222222222,
             "#7201a8"
            ],
            [
             0.3333333333333333,
             "#9c179e"
            ],
            [
             0.4444444444444444,
             "#bd3786"
            ],
            [
             0.5555555555555556,
             "#d8576b"
            ],
            [
             0.6666666666666666,
             "#ed7953"
            ],
            [
             0.7777777777777778,
             "#fb9f3a"
            ],
            [
             0.8888888888888888,
             "#fdca26"
            ],
            [
             1,
             "#f0f921"
            ]
           ]
          },
          "colorway": [
           "#636efa",
           "#EF553B",
           "#00cc96",
           "#ab63fa",
           "#FFA15A",
           "#19d3f3",
           "#FF6692",
           "#B6E880",
           "#FF97FF",
           "#FECB52"
          ],
          "font": {
           "color": "#2a3f5f"
          },
          "geo": {
           "bgcolor": "white",
           "lakecolor": "white",
           "landcolor": "#E5ECF6",
           "showlakes": true,
           "showland": true,
           "subunitcolor": "white"
          },
          "hoverlabel": {
           "align": "left"
          },
          "hovermode": "closest",
          "mapbox": {
           "style": "light"
          },
          "paper_bgcolor": "white",
          "plot_bgcolor": "#E5ECF6",
          "polar": {
           "angularaxis": {
            "gridcolor": "white",
            "linecolor": "white",
            "ticks": ""
           },
           "bgcolor": "#E5ECF6",
           "radialaxis": {
            "gridcolor": "white",
            "linecolor": "white",
            "ticks": ""
           }
          },
          "scene": {
           "xaxis": {
            "backgroundcolor": "#E5ECF6",
            "gridcolor": "white",
            "gridwidth": 2,
            "linecolor": "white",
            "showbackground": true,
            "ticks": "",
            "zerolinecolor": "white"
           },
           "yaxis": {
            "backgroundcolor": "#E5ECF6",
            "gridcolor": "white",
            "gridwidth": 2,
            "linecolor": "white",
            "showbackground": true,
            "ticks": "",
            "zerolinecolor": "white"
           },
           "zaxis": {
            "backgroundcolor": "#E5ECF6",
            "gridcolor": "white",
            "gridwidth": 2,
            "linecolor": "white",
            "showbackground": true,
            "ticks": "",
            "zerolinecolor": "white"
           }
          },
          "shapedefaults": {
           "line": {
            "color": "#2a3f5f"
           }
          },
          "ternary": {
           "aaxis": {
            "gridcolor": "white",
            "linecolor": "white",
            "ticks": ""
           },
           "baxis": {
            "gridcolor": "white",
            "linecolor": "white",
            "ticks": ""
           },
           "bgcolor": "#E5ECF6",
           "caxis": {
            "gridcolor": "white",
            "linecolor": "white",
            "ticks": ""
           }
          },
          "title": {
           "x": 0.05
          },
          "xaxis": {
           "automargin": true,
           "gridcolor": "white",
           "linecolor": "white",
           "ticks": "",
           "zerolinecolor": "white",
           "zerolinewidth": 2
          },
          "yaxis": {
           "automargin": true,
           "gridcolor": "white",
           "linecolor": "white",
           "ticks": "",
           "zerolinecolor": "white",
           "zerolinewidth": 2
          }
         }
        },
        "title": {
         "text": "Month wise category"
        },
        "xaxis": {
         "rangeslider": {
          "visible": true
         }
        }
       }
      },
      "text/html": [
       "<div>\n",
       "        \n",
       "        \n",
       "            <div id=\"50dbd42f-adc6-4e8e-87af-205565889017\" class=\"plotly-graph-div\" style=\"height:525px; width:100%;\"></div>\n",
       "            <script type=\"text/javascript\">\n",
       "                require([\"plotly\"], function(Plotly) {\n",
       "                    window.PLOTLYENV=window.PLOTLYENV || {};\n",
       "                    \n",
       "                if (document.getElementById(\"50dbd42f-adc6-4e8e-87af-205565889017\")) {\n",
       "                    Plotly.newPlot(\n",
       "                        '50dbd42f-adc6-4e8e-87af-205565889017',\n",
       "                        [{\"type\": \"scatter\", \"x\": [\"2016-01-14T00:00:00\", \"2016-01-22T00:00:00\", \"2016-01-30T00:00:00\", \"2016-02-09T00:00:00\", \"2016-02-23T00:00:00\", \"2016-02-26T00:00:00\", \"2016-02-27T00:00:00\", \"2016-03-22T00:00:00\", \"2016-04-13T00:00:00\", \"2016-04-21T00:00:00\", \"2016-05-24T00:00:00\", \"2016-05-25T00:00:00\", \"2016-05-26T00:00:00\", \"2016-05-30T00:00:00\", \"2016-06-02T00:00:00\", \"2016-06-05T00:00:00\", \"2016-06-13T00:00:00\", \"2016-07-05T00:00:00\", \"2016-07-06T00:00:00\", \"2016-08-20T00:00:00\", \"2016-09-01T00:00:00\", \"2016-10-05T00:00:00\", \"2016-12-04T00:00:00\", \"NA\"], \"y\": [9, 12, 5, 16, 11, 12, 13, 6, 34, 7, 0, 15, 1, 1, 72, 0, 5, 7, 0, 9, 0, 3, 1, 7]}, {\"line\": {\"color\": \"deepskyblue\"}, \"name\": \"Absent\", \"type\": \"scatter\", \"x\": [\"2016-01-14T00:00:00\", \"2016-01-22T00:00:00\", \"2016-01-30T00:00:00\", \"2016-02-09T00:00:00\", \"2016-02-23T00:00:00\", \"2016-02-26T00:00:00\", \"2016-02-27T00:00:00\", \"2016-03-22T00:00:00\", \"2016-04-13T00:00:00\", \"2016-04-21T00:00:00\", \"2016-05-24T00:00:00\", \"2016-05-25T00:00:00\", \"2016-05-26T00:00:00\", \"2016-05-30T00:00:00\", \"2016-06-02T00:00:00\", \"2016-06-05T00:00:00\", \"2016-06-13T00:00:00\", \"2016-07-05T00:00:00\", \"2016-07-06T00:00:00\", \"2016-08-20T00:00:00\", \"2016-09-01T00:00:00\", \"2016-10-05T00:00:00\", \"2016-12-04T00:00:00\", \"NA\"], \"y\": [9, 12, 5, 16, 11, 12, 13, 6, 34, 7, 0, 15, 1, 1, 72, 0, 5, 7, 0, 9, 0, 3, 1, 7]}, {\"line\": {\"color\": \"dimgray\"}, \"name\": \"Present\", \"type\": \"scatter\", \"x\": [\"2016-01-14T00:00:00\", \"2016-01-22T00:00:00\", \"2016-01-30T00:00:00\", \"2016-02-09T00:00:00\", \"2016-02-23T00:00:00\", \"2016-02-26T00:00:00\", \"2016-02-27T00:00:00\", \"2016-03-22T00:00:00\", \"2016-04-13T00:00:00\", \"2016-04-21T00:00:00\", \"2016-05-24T00:00:00\", \"2016-05-25T00:00:00\", \"2016-05-26T00:00:00\", \"2016-05-30T00:00:00\", \"2016-06-02T00:00:00\", \"2016-06-05T00:00:00\", \"2016-06-13T00:00:00\", \"2016-07-05T00:00:00\", \"2016-07-06T00:00:00\", \"2016-08-20T00:00:00\", \"2016-09-01T00:00:00\", \"2016-10-05T00:00:00\", \"2016-12-04T00:00:00\", \"NA\"], \"y\": [19, 22, 13, 27, 11, 14, 13, 7, 50, 7, 2, 38, 2, 7, 148, 3, 10, 24, 12, 16, 6, 4, 0, 13]}],\n",
       "                        {\"template\": {\"data\": {\"bar\": [{\"error_x\": {\"color\": \"#2a3f5f\"}, \"error_y\": {\"color\": \"#2a3f5f\"}, \"marker\": {\"line\": {\"color\": \"#E5ECF6\", \"width\": 0.5}}, \"type\": \"bar\"}], \"barpolar\": [{\"marker\": {\"line\": {\"color\": \"#E5ECF6\", \"width\": 0.5}}, \"type\": \"barpolar\"}], \"carpet\": [{\"aaxis\": {\"endlinecolor\": \"#2a3f5f\", \"gridcolor\": \"white\", \"linecolor\": \"white\", \"minorgridcolor\": \"white\", \"startlinecolor\": \"#2a3f5f\"}, \"baxis\": {\"endlinecolor\": \"#2a3f5f\", \"gridcolor\": \"white\", \"linecolor\": \"white\", \"minorgridcolor\": \"white\", \"startlinecolor\": \"#2a3f5f\"}, \"type\": \"carpet\"}], \"choropleth\": [{\"colorbar\": {\"outlinewidth\": 0, \"ticks\": \"\"}, \"type\": \"choropleth\"}], \"contour\": [{\"colorbar\": {\"outlinewidth\": 0, \"ticks\": \"\"}, \"colorscale\": [[0.0, \"#0d0887\"], [0.1111111111111111, \"#46039f\"], [0.2222222222222222, \"#7201a8\"], [0.3333333333333333, \"#9c179e\"], [0.4444444444444444, \"#bd3786\"], [0.5555555555555556, \"#d8576b\"], [0.6666666666666666, \"#ed7953\"], [0.7777777777777778, \"#fb9f3a\"], [0.8888888888888888, \"#fdca26\"], [1.0, \"#f0f921\"]], \"type\": \"contour\"}], \"contourcarpet\": [{\"colorbar\": {\"outlinewidth\": 0, \"ticks\": \"\"}, \"type\": \"contourcarpet\"}], \"heatmap\": [{\"colorbar\": {\"outlinewidth\": 0, \"ticks\": \"\"}, \"colorscale\": [[0.0, \"#0d0887\"], [0.1111111111111111, \"#46039f\"], [0.2222222222222222, \"#7201a8\"], [0.3333333333333333, \"#9c179e\"], [0.4444444444444444, \"#bd3786\"], [0.5555555555555556, \"#d8576b\"], [0.6666666666666666, \"#ed7953\"], [0.7777777777777778, \"#fb9f3a\"], [0.8888888888888888, \"#fdca26\"], [1.0, \"#f0f921\"]], \"type\": \"heatmap\"}], \"heatmapgl\": [{\"colorbar\": {\"outlinewidth\": 0, \"ticks\": \"\"}, \"colorscale\": [[0.0, \"#0d0887\"], [0.1111111111111111, \"#46039f\"], [0.2222222222222222, \"#7201a8\"], [0.3333333333333333, \"#9c179e\"], [0.4444444444444444, \"#bd3786\"], [0.5555555555555556, \"#d8576b\"], [0.6666666666666666, \"#ed7953\"], [0.7777777777777778, \"#fb9f3a\"], [0.8888888888888888, \"#fdca26\"], [1.0, \"#f0f921\"]], \"type\": \"heatmapgl\"}], \"histogram\": [{\"marker\": {\"colorbar\": {\"outlinewidth\": 0, \"ticks\": \"\"}}, \"type\": \"histogram\"}], \"histogram2d\": [{\"colorbar\": {\"outlinewidth\": 0, \"ticks\": \"\"}, \"colorscale\": [[0.0, \"#0d0887\"], [0.1111111111111111, \"#46039f\"], [0.2222222222222222, \"#7201a8\"], [0.3333333333333333, \"#9c179e\"], [0.4444444444444444, \"#bd3786\"], [0.5555555555555556, \"#d8576b\"], [0.6666666666666666, \"#ed7953\"], [0.7777777777777778, \"#fb9f3a\"], [0.8888888888888888, \"#fdca26\"], [1.0, \"#f0f921\"]], \"type\": \"histogram2d\"}], \"histogram2dcontour\": [{\"colorbar\": {\"outlinewidth\": 0, \"ticks\": \"\"}, \"colorscale\": [[0.0, \"#0d0887\"], [0.1111111111111111, \"#46039f\"], [0.2222222222222222, \"#7201a8\"], [0.3333333333333333, \"#9c179e\"], [0.4444444444444444, \"#bd3786\"], [0.5555555555555556, \"#d8576b\"], [0.6666666666666666, \"#ed7953\"], [0.7777777777777778, \"#fb9f3a\"], [0.8888888888888888, \"#fdca26\"], [1.0, \"#f0f921\"]], \"type\": \"histogram2dcontour\"}], \"mesh3d\": [{\"colorbar\": {\"outlinewidth\": 0, \"ticks\": \"\"}, \"type\": \"mesh3d\"}], \"parcoords\": [{\"line\": {\"colorbar\": {\"outlinewidth\": 0, \"ticks\": \"\"}}, \"type\": \"parcoords\"}], \"scatter\": [{\"marker\": {\"colorbar\": {\"outlinewidth\": 0, \"ticks\": \"\"}}, \"type\": \"scatter\"}], \"scatter3d\": [{\"line\": {\"colorbar\": {\"outlinewidth\": 0, \"ticks\": \"\"}}, \"marker\": {\"colorbar\": {\"outlinewidth\": 0, \"ticks\": \"\"}}, \"type\": \"scatter3d\"}], \"scattercarpet\": [{\"marker\": {\"colorbar\": {\"outlinewidth\": 0, \"ticks\": \"\"}}, \"type\": \"scattercarpet\"}], \"scattergeo\": [{\"marker\": {\"colorbar\": {\"outlinewidth\": 0, \"ticks\": \"\"}}, \"type\": \"scattergeo\"}], \"scattergl\": [{\"marker\": {\"colorbar\": {\"outlinewidth\": 0, \"ticks\": \"\"}}, \"type\": \"scattergl\"}], \"scattermapbox\": [{\"marker\": {\"colorbar\": {\"outlinewidth\": 0, \"ticks\": \"\"}}, \"type\": \"scattermapbox\"}], \"scatterpolar\": [{\"marker\": {\"colorbar\": {\"outlinewidth\": 0, \"ticks\": \"\"}}, \"type\": \"scatterpolar\"}], \"scatterpolargl\": [{\"marker\": {\"colorbar\": {\"outlinewidth\": 0, \"ticks\": \"\"}}, \"type\": \"scatterpolargl\"}], \"scatterternary\": [{\"marker\": {\"colorbar\": {\"outlinewidth\": 0, \"ticks\": \"\"}}, \"type\": \"scatterternary\"}], \"surface\": [{\"colorbar\": {\"outlinewidth\": 0, \"ticks\": \"\"}, \"colorscale\": [[0.0, \"#0d0887\"], [0.1111111111111111, \"#46039f\"], [0.2222222222222222, \"#7201a8\"], [0.3333333333333333, \"#9c179e\"], [0.4444444444444444, \"#bd3786\"], [0.5555555555555556, \"#d8576b\"], [0.6666666666666666, \"#ed7953\"], [0.7777777777777778, \"#fb9f3a\"], [0.8888888888888888, \"#fdca26\"], [1.0, \"#f0f921\"]], \"type\": \"surface\"}], \"table\": [{\"cells\": {\"fill\": {\"color\": \"#EBF0F8\"}, \"line\": {\"color\": \"white\"}}, \"header\": {\"fill\": {\"color\": \"#C8D4E3\"}, \"line\": {\"color\": \"white\"}}, \"type\": \"table\"}]}, \"layout\": {\"annotationdefaults\": {\"arrowcolor\": \"#2a3f5f\", \"arrowhead\": 0, \"arrowwidth\": 1}, \"colorscale\": {\"diverging\": [[0, \"#8e0152\"], [0.1, \"#c51b7d\"], [0.2, \"#de77ae\"], [0.3, \"#f1b6da\"], [0.4, \"#fde0ef\"], [0.5, \"#f7f7f7\"], [0.6, \"#e6f5d0\"], [0.7, \"#b8e186\"], [0.8, \"#7fbc41\"], [0.9, \"#4d9221\"], [1, \"#276419\"]], \"sequential\": [[0.0, \"#0d0887\"], [0.1111111111111111, \"#46039f\"], [0.2222222222222222, \"#7201a8\"], [0.3333333333333333, \"#9c179e\"], [0.4444444444444444, \"#bd3786\"], [0.5555555555555556, \"#d8576b\"], [0.6666666666666666, \"#ed7953\"], [0.7777777777777778, \"#fb9f3a\"], [0.8888888888888888, \"#fdca26\"], [1.0, \"#f0f921\"]], \"sequentialminus\": [[0.0, \"#0d0887\"], [0.1111111111111111, \"#46039f\"], [0.2222222222222222, \"#7201a8\"], [0.3333333333333333, \"#9c179e\"], [0.4444444444444444, \"#bd3786\"], [0.5555555555555556, \"#d8576b\"], [0.6666666666666666, \"#ed7953\"], [0.7777777777777778, \"#fb9f3a\"], [0.8888888888888888, \"#fdca26\"], [1.0, \"#f0f921\"]]}, \"colorway\": [\"#636efa\", \"#EF553B\", \"#00cc96\", \"#ab63fa\", \"#FFA15A\", \"#19d3f3\", \"#FF6692\", \"#B6E880\", \"#FF97FF\", \"#FECB52\"], \"font\": {\"color\": \"#2a3f5f\"}, \"geo\": {\"bgcolor\": \"white\", \"lakecolor\": \"white\", \"landcolor\": \"#E5ECF6\", \"showlakes\": true, \"showland\": true, \"subunitcolor\": \"white\"}, \"hoverlabel\": {\"align\": \"left\"}, \"hovermode\": \"closest\", \"mapbox\": {\"style\": \"light\"}, \"paper_bgcolor\": \"white\", \"plot_bgcolor\": \"#E5ECF6\", \"polar\": {\"angularaxis\": {\"gridcolor\": \"white\", \"linecolor\": \"white\", \"ticks\": \"\"}, \"bgcolor\": \"#E5ECF6\", \"radialaxis\": {\"gridcolor\": \"white\", \"linecolor\": \"white\", \"ticks\": \"\"}}, \"scene\": {\"xaxis\": {\"backgroundcolor\": \"#E5ECF6\", \"gridcolor\": \"white\", \"gridwidth\": 2, \"linecolor\": \"white\", \"showbackground\": true, \"ticks\": \"\", \"zerolinecolor\": \"white\"}, \"yaxis\": {\"backgroundcolor\": \"#E5ECF6\", \"gridcolor\": \"white\", \"gridwidth\": 2, \"linecolor\": \"white\", \"showbackground\": true, \"ticks\": \"\", \"zerolinecolor\": \"white\"}, \"zaxis\": {\"backgroundcolor\": \"#E5ECF6\", \"gridcolor\": \"white\", \"gridwidth\": 2, \"linecolor\": \"white\", \"showbackground\": true, \"ticks\": \"\", \"zerolinecolor\": \"white\"}}, \"shapedefaults\": {\"line\": {\"color\": \"#2a3f5f\"}}, \"ternary\": {\"aaxis\": {\"gridcolor\": \"white\", \"linecolor\": \"white\", \"ticks\": \"\"}, \"baxis\": {\"gridcolor\": \"white\", \"linecolor\": \"white\", \"ticks\": \"\"}, \"bgcolor\": \"#E5ECF6\", \"caxis\": {\"gridcolor\": \"white\", \"linecolor\": \"white\", \"ticks\": \"\"}}, \"title\": {\"x\": 0.05}, \"xaxis\": {\"automargin\": true, \"gridcolor\": \"white\", \"linecolor\": \"white\", \"ticks\": \"\", \"zerolinecolor\": \"white\", \"zerolinewidth\": 2}, \"yaxis\": {\"automargin\": true, \"gridcolor\": \"white\", \"linecolor\": \"white\", \"ticks\": \"\", \"zerolinecolor\": \"white\", \"zerolinewidth\": 2}}}, \"title\": {\"text\": \"Month wise category\"}, \"xaxis\": {\"rangeslider\": {\"visible\": true}}},\n",
       "                        {\"responsive\": true}\n",
       "                    ).then(function(){\n",
       "                            \n",
       "var gd = document.getElementById('50dbd42f-adc6-4e8e-87af-205565889017');\n",
       "var x = new MutationObserver(function (mutations, observer) {{\n",
       "        var display = window.getComputedStyle(gd).display;\n",
       "        if (!display || display === 'none') {{\n",
       "            console.log([gd, 'removed!']);\n",
       "            Plotly.purge(gd);\n",
       "            observer.disconnect();\n",
       "        }}\n",
       "}});\n",
       "\n",
       "// Listen for the removal of the full notebook cells\n",
       "var notebookContainer = gd.closest('#notebook-container');\n",
       "if (notebookContainer) {{\n",
       "    x.observe(notebookContainer, {childList: true});\n",
       "}}\n",
       "\n",
       "// Listen for the clearing of the current output cell\n",
       "var outputEl = gd.closest('.output');\n",
       "if (outputEl) {{\n",
       "    x.observe(outputEl, {childList: true});\n",
       "}}\n",
       "\n",
       "                        })\n",
       "                };\n",
       "                });\n",
       "            </script>\n",
       "        </div>"
      ]
     },
     "metadata": {},
     "output_type": "display_data"
    }
   ],
   "source": [
    "import plotly.graph_objects as go\n",
    "fig.add_trace(go.Scatter(x=Date_of_Interview_Group['Date_of_Interview_Category'], y=Date_of_Interview_Group['Absent'], name=\"Absent\",\n",
    "                         line_color='deepskyblue'))\n",
    "\n",
    "fig.add_trace(go.Scatter(x=Date_of_Interview_Group['Date_of_Interview_Category'], y=Date_of_Interview_Group['Present'], name=\"Present\",\n",
    "                         line_color='dimgray'))\n",
    "\n",
    "fig.update_layout(title_text='Month wise category',\n",
    "                  xaxis_rangeslider_visible=True)\n",
    "fig.show()"
   ]
  },
  {
   "cell_type": "code",
   "execution_count": 341,
   "metadata": {},
   "outputs": [
    {
     "data": {
      "text/plain": [
       "array(['Bangalore', 'Chennai', 'Gurgaon', 'Hyderabad', 'Noida'],\n",
       "      dtype=object)"
      ]
     },
     "execution_count": 341,
     "metadata": {},
     "output_type": "execute_result"
    }
   ],
   "source": [
    "Interview_Venue_Group.Interview_Venue_Category.unique()"
   ]
  },
  {
   "cell_type": "code",
   "execution_count": 350,
   "metadata": {},
   "outputs": [
    {
     "data": {
      "text/plain": [
       "Index(['Date_of_Interview', 'Client_name', 'Industry', 'Location',\n",
       "       'Position_Status', 'Technical_Skillset', 'Interview_Type', 'ID',\n",
       "       'Gender', 'Candidate_Current_Location', 'Candidate_Job_Location',\n",
       "       'Interview_Venue', 'Candidate_Native_location', 'Q1', 'Q2', 'Q3', 'Q4',\n",
       "       'Q5', 'Q6', 'Q7', 'Expected_Attendance', 'Observed_Attendance',\n",
       "       'Marital_Status', 'Year', 'Month', 'Day',\n",
       "       'Observed_Attendance_Numeric'],\n",
       "      dtype='object')"
      ]
     },
     "execution_count": 350,
     "metadata": {},
     "output_type": "execute_result"
    }
   ],
   "source": [
    "Present.columns"
   ]
  },
  {
   "cell_type": "markdown",
   "metadata": {},
   "source": [
    "**EDA Conclusion**\n",
    "Normalised gender distribution of employees in the dataset for Present: Male = 65.2%; Female 66.9%.\n",
    "Normalised gender distribution of employees in the dataset for Absent: Male = 34.8%; Female 33.1%.\n",
    "People who are absent from Technical Domain Java, AML/CCD/KYC, Accounting Operations are more here.\n",
    "And from the client Standard chartered Bank people is more absent.\n",
    "By Industry-wise BFSI people showing more percentage in absent.\n",
    "People who are turning out more absent from geographic location Chennai leading the most then comes Bangalore.\n",
    "By Gender category Male remains absent most & Single people mostly.\n",
    "By Monthly Category June is the most number of candidates got absent.\n",
    "\n"
   ]
  },
  {
   "cell_type": "markdown",
   "metadata": {},
   "source": [
    "# Data Creation for Model Building"
   ]
  },
  {
   "cell_type": "code",
   "execution_count": 66,
   "metadata": {},
   "outputs": [],
   "source": [
    "# Drop the Attrition_numerical column from attrition dataset first - Don't want to include that\n",
    "data = data.drop(['Observed_Attendance_Numeric'], axis=1)\n",
    "\n",
    "# Empty list to store columns with categorical data\n",
    "categorical = []\n",
    "for col, value in data.iteritems():\n",
    "    if value.dtype == 'object':\n",
    "        categorical.append(col)\n",
    "\n",
    "# Store the numerical columns in a list numerical\n",
    "numerical = data.columns.difference(categorical)"
   ]
  },
  {
   "cell_type": "code",
   "execution_count": 67,
   "metadata": {},
   "outputs": [
    {
     "name": "stdout",
     "output_type": "stream",
     "text": [
      "Index(['ID'], dtype='object')\n",
      "['Date_of_Interview', 'Client_name', 'Industry', 'Location', 'Position_Status', 'Technical_Skillset', 'Interview_Type', 'Gender', 'Candidate_Current_Location', 'Candidate_Job_Location', 'Interview_Venue', 'Candidate_Native_location', 'Q1', 'Q2', 'Q3', 'Q4', 'Q5', 'Q6', 'Q7', 'Expected_Attendance', 'Observed_Attendance', 'Marital_Status', 'Year', 'Month', 'Day']\n"
     ]
    }
   ],
   "source": [
    "print(numerical)\n",
    "print(categorical)"
   ]
  },
  {
   "cell_type": "code",
   "execution_count": 68,
   "metadata": {},
   "outputs": [],
   "source": [
    "# Store the categorical data in a dataframe called attrition_cat\n",
    "data_cat = data[categorical]\n",
    "data_cat = data_cat.drop(['Observed_Attendance','Date_of_Interview','Year', 'Month', 'Day'], axis=1) # Dropping the target column"
   ]
  },
  {
   "cell_type": "code",
   "execution_count": 69,
   "metadata": {},
   "outputs": [
    {
     "name": "stdout",
     "output_type": "stream",
     "text": [
      "(714, 138)\n"
     ]
    },
    {
     "data": {
      "text/html": [
       "<div>\n",
       "<style scoped>\n",
       "    .dataframe tbody tr th:only-of-type {\n",
       "        vertical-align: middle;\n",
       "    }\n",
       "\n",
       "    .dataframe tbody tr th {\n",
       "        vertical-align: top;\n",
       "    }\n",
       "\n",
       "    .dataframe thead th {\n",
       "        text-align: right;\n",
       "    }\n",
       "</style>\n",
       "<table border=\"1\" class=\"dataframe\">\n",
       "  <thead>\n",
       "    <tr style=\"text-align: right;\">\n",
       "      <th></th>\n",
       "      <th>Client_name_ANZ</th>\n",
       "      <th>Client_name_Aon Hewitt</th>\n",
       "      <th>Client_name_Astrazeneca</th>\n",
       "      <th>Client_name_Hospira</th>\n",
       "      <th>Client_name_Pfizer</th>\n",
       "      <th>Client_name_Standard Chartered Bank</th>\n",
       "      <th>Industry_BFSI</th>\n",
       "      <th>Industry_IT Products and Services</th>\n",
       "      <th>Industry_Pharmaceuticals</th>\n",
       "      <th>Location_Bangalore</th>\n",
       "      <th>...</th>\n",
       "      <th>Q7_Not Sure</th>\n",
       "      <th>Q7_Not yet</th>\n",
       "      <th>Q7_Yes</th>\n",
       "      <th>Q7_Yet to Check</th>\n",
       "      <th>Expected_Attendance_NA</th>\n",
       "      <th>Expected_Attendance_No</th>\n",
       "      <th>Expected_Attendance_Uncertain</th>\n",
       "      <th>Expected_Attendance_Yes</th>\n",
       "      <th>Marital_Status_Married</th>\n",
       "      <th>Marital_Status_Single</th>\n",
       "    </tr>\n",
       "  </thead>\n",
       "  <tbody>\n",
       "    <tr>\n",
       "      <th>0</th>\n",
       "      <td>0</td>\n",
       "      <td>0</td>\n",
       "      <td>0</td>\n",
       "      <td>0</td>\n",
       "      <td>0</td>\n",
       "      <td>1</td>\n",
       "      <td>1</td>\n",
       "      <td>0</td>\n",
       "      <td>0</td>\n",
       "      <td>0</td>\n",
       "      <td>...</td>\n",
       "      <td>0</td>\n",
       "      <td>0</td>\n",
       "      <td>1</td>\n",
       "      <td>0</td>\n",
       "      <td>0</td>\n",
       "      <td>0</td>\n",
       "      <td>0</td>\n",
       "      <td>1</td>\n",
       "      <td>0</td>\n",
       "      <td>1</td>\n",
       "    </tr>\n",
       "    <tr>\n",
       "      <th>1</th>\n",
       "      <td>0</td>\n",
       "      <td>0</td>\n",
       "      <td>0</td>\n",
       "      <td>0</td>\n",
       "      <td>0</td>\n",
       "      <td>1</td>\n",
       "      <td>1</td>\n",
       "      <td>0</td>\n",
       "      <td>0</td>\n",
       "      <td>0</td>\n",
       "      <td>...</td>\n",
       "      <td>0</td>\n",
       "      <td>0</td>\n",
       "      <td>1</td>\n",
       "      <td>0</td>\n",
       "      <td>0</td>\n",
       "      <td>0</td>\n",
       "      <td>0</td>\n",
       "      <td>1</td>\n",
       "      <td>1</td>\n",
       "      <td>0</td>\n",
       "    </tr>\n",
       "    <tr>\n",
       "      <th>2</th>\n",
       "      <td>0</td>\n",
       "      <td>0</td>\n",
       "      <td>0</td>\n",
       "      <td>0</td>\n",
       "      <td>0</td>\n",
       "      <td>1</td>\n",
       "      <td>1</td>\n",
       "      <td>0</td>\n",
       "      <td>0</td>\n",
       "      <td>0</td>\n",
       "      <td>...</td>\n",
       "      <td>0</td>\n",
       "      <td>0</td>\n",
       "      <td>1</td>\n",
       "      <td>0</td>\n",
       "      <td>0</td>\n",
       "      <td>0</td>\n",
       "      <td>0</td>\n",
       "      <td>1</td>\n",
       "      <td>1</td>\n",
       "      <td>0</td>\n",
       "    </tr>\n",
       "  </tbody>\n",
       "</table>\n",
       "<p>3 rows × 138 columns</p>\n",
       "</div>"
      ],
      "text/plain": [
       "   Client_name_ANZ  Client_name_Aon Hewitt  Client_name_Astrazeneca  \\\n",
       "0                0                       0                        0   \n",
       "1                0                       0                        0   \n",
       "2                0                       0                        0   \n",
       "\n",
       "   Client_name_Hospira  Client_name_Pfizer  \\\n",
       "0                    0                   0   \n",
       "1                    0                   0   \n",
       "2                    0                   0   \n",
       "\n",
       "   Client_name_Standard Chartered Bank  Industry_BFSI  \\\n",
       "0                                    1              1   \n",
       "1                                    1              1   \n",
       "2                                    1              1   \n",
       "\n",
       "   Industry_IT Products and Services  Industry_Pharmaceuticals  \\\n",
       "0                                  0                         0   \n",
       "1                                  0                         0   \n",
       "2                                  0                         0   \n",
       "\n",
       "   Location_Bangalore  ...  Q7_Not Sure  Q7_Not yet  Q7_Yes  Q7_Yet to Check  \\\n",
       "0                   0  ...            0           0       1                0   \n",
       "1                   0  ...            0           0       1                0   \n",
       "2                   0  ...            0           0       1                0   \n",
       "\n",
       "   Expected_Attendance_NA  Expected_Attendance_No  \\\n",
       "0                       0                       0   \n",
       "1                       0                       0   \n",
       "2                       0                       0   \n",
       "\n",
       "   Expected_Attendance_Uncertain  Expected_Attendance_Yes  \\\n",
       "0                              0                        1   \n",
       "1                              0                        1   \n",
       "2                              0                        1   \n",
       "\n",
       "   Marital_Status_Married  Marital_Status_Single  \n",
       "0                       0                      1  \n",
       "1                       1                      0  \n",
       "2                       1                      0  \n",
       "\n",
       "[3 rows x 138 columns]"
      ]
     },
     "execution_count": 69,
     "metadata": {},
     "output_type": "execute_result"
    }
   ],
   "source": [
    "data_cat = pd.get_dummies(data_cat)\n",
    "print(data_cat.shape)\n",
    "data_cat.head(3)"
   ]
  },
  {
   "cell_type": "code",
   "execution_count": 70,
   "metadata": {},
   "outputs": [],
   "source": [
    "# Store the numerical features to a dataframe attrition_num\n",
    "data_num = data[numerical]\n",
    "# Concat the two dataframes together columnwise\n",
    "#data_final = pd.concat([data_num, data_cat], axis=1)"
   ]
  },
  {
   "cell_type": "code",
   "execution_count": 71,
   "metadata": {},
   "outputs": [
    {
     "data": {
      "text/plain": [
       "0    1\n",
       "1    0\n",
       "2    0\n",
       "Name: Observed_Attendance, dtype: int64"
      ]
     },
     "execution_count": 71,
     "metadata": {},
     "output_type": "execute_result"
    }
   ],
   "source": [
    "# Define a dictionary for the target mapping\n",
    "Marker=['yes', 'Yes', 'yes']\n",
    "# Use the pandas apply method to numerically encode our attrition target variable\n",
    "\n",
    "target = data['Observed_Attendance'].apply(lambda x: 1 if x in Marker else 0)\n",
    "target.head(3)\n"
   ]
  },
  {
   "cell_type": "markdown",
   "metadata": {},
   "source": [
    "# Feature Selection"
   ]
  },
  {
   "cell_type": "markdown",
   "metadata": {},
   "source": [
    " **Note:  I have splitted the Dataset in .99 because to check the outcomes. So more training Data will reduce variance will increase F1 score and accuracy.**"
   ]
  },
  {
   "cell_type": "markdown",
   "metadata": {},
   "source": [
    "## Train/Test Split"
   ]
  },
  {
   "cell_type": "code",
   "execution_count": 144,
   "metadata": {},
   "outputs": [],
   "source": [
    "# Import the train_test_split method\n",
    "from sklearn.model_selection import train_test_split\n",
    "from sklearn.model_selection import StratifiedShuffleSplit\n",
    "\n",
    "# Split data into train and test sets as well as for validation and testing\n",
    "train, test, target_train, target_val = train_test_split(data_cat, \n",
    "                                                         target, \n",
    "                                                         train_size= 0.99,\n",
    "                                                         random_state=0);\n",
    "#train, test, target_train, target_val = StratifiedShuffleSplit(attrition_final, target, random_state=0);"
   ]
  },
  {
   "cell_type": "markdown",
   "metadata": {},
   "source": [
    "## Univariate feature selection"
   ]
  },
  {
   "cell_type": "code",
   "execution_count": 73,
   "metadata": {},
   "outputs": [],
   "source": [
    "from sklearn.feature_selection import SelectKBest\n",
    "from sklearn.feature_selection import chi2\n",
    "# find best scored 5 features\n",
    "select_feature = SelectKBest(chi2, k=6).fit(train,target_train)"
   ]
  },
  {
   "cell_type": "code",
   "execution_count": 74,
   "metadata": {},
   "outputs": [
    {
     "name": "stdout",
     "output_type": "stream",
     "text": [
      "                       Specs      Score\n",
      "133   Expected_Attendance_No  63.401639\n",
      "107                    Q1_No  49.795683\n",
      "110                    Q2_Na  43.898497\n",
      "113                    Q3_Na  43.898497\n",
      "119                    Q5_Na  42.958897\n",
      "126                    Q7_Na  36.962535\n",
      "116                    Q4_Na  33.621185\n",
      "123                    Q6_Na  24.406151\n",
      "130                   Q7_Yes  23.672612\n",
      "135  Expected_Attendance_Yes  19.877967\n"
     ]
    }
   ],
   "source": [
    "dfscores = pd.DataFrame(select_feature.scores_)\n",
    "dfcolumns = pd.DataFrame(train.columns)\n",
    "#concat two dataframes for better visualization \n",
    "featureScores = pd.concat([dfcolumns,dfscores],axis=1)\n",
    "featureScores.columns = ['Specs','Score']  #naming the dataframe columns\n",
    "print(featureScores.nlargest(10,'Score'))"
   ]
  },
  {
   "cell_type": "markdown",
   "metadata": {},
   "source": [
    "## Recursive feature elimination with cross validation and random forest classification"
   ]
  },
  {
   "cell_type": "code",
   "execution_count": 75,
   "metadata": {
    "scrolled": true
   },
   "outputs": [
    {
     "name": "stdout",
     "output_type": "stream",
     "text": [
      "Optimal number of features : 5\n",
      "Best features : Index(['Candidate_Native_location_Chennai', 'Q1_No', 'Q3_Yes', 'Q7_Yes',\n",
      "       'Expected_Attendance_Uncertain'],\n",
      "      dtype='object')\n"
     ]
    }
   ],
   "source": [
    "from sklearn.feature_selection import RFECV\n",
    "\n",
    "# The \"accuracy\" scoring is proportional to the number of correct classifications\n",
    "clf_rf_4 = RandomForestClassifier() \n",
    "rfecv = RFECV(estimator=clf_rf_4, step=1, cv=5,scoring='accuracy')   #5-fold cross-validation\n",
    "rfecv = rfecv.fit(train,target_train)\n",
    "\n",
    "print('Optimal number of features :', rfecv.n_features_)\n",
    "print('Best features :', train.columns[rfecv.support_])"
   ]
  },
  {
   "cell_type": "code",
   "execution_count": 76,
   "metadata": {},
   "outputs": [
    {
     "data": {
      "image/png": "[encoded data removed]",
      "text/plain": [
       "<Figure size 432x288 with 1 Axes>"
      ]
     },
     "metadata": {
      "needs_background": "light"
     },
     "output_type": "display_data"
    }
   ],
   "source": [
    "# Plot number of features VS. cross-validation scores\n",
    "import matplotlib.pyplot as plt\n",
    "plt.figure()\n",
    "plt.xlabel(\"Number of features selected\")\n",
    "plt.ylabel(\"Cross validation score of number of selected features\")\n",
    "plt.plot(range(1, len(rfecv.grid_scores_) + 1), rfecv.grid_scores_)\n",
    "plt.show()"
   ]
  },
  {
   "cell_type": "markdown",
   "metadata": {},
   "source": [
    "# Model Building"
   ]
  },
  {
   "cell_type": "markdown",
   "metadata": {},
   "source": [
    "## SMOTE"
   ]
  },
  {
   "cell_type": "code",
   "execution_count": 145,
   "metadata": {},
   "outputs": [],
   "source": [
    "from imblearn.over_sampling import SMOTE\n",
    "import xgboost\n",
    "oversampler=SMOTE(random_state=0)\n",
    "smote_train, smote_target = oversampler.fit_sample(train,target_train)"
   ]
  },
  {
   "cell_type": "code",
   "execution_count": 146,
   "metadata": {},
   "outputs": [
    {
     "data": {
      "text/plain": [
       "(922, 138)"
      ]
     },
     "execution_count": 146,
     "metadata": {},
     "output_type": "execute_result"
    }
   ],
   "source": [
    "smote_train.shape"
   ]
  },
  {
   "cell_type": "code",
   "execution_count": 224,
   "metadata": {},
   "outputs": [],
   "source": [
    "smote_train=pd.DataFrame(smote_train)\n",
    "smote_train.columns=train.columns\n",
    "smote_target=pd.DataFrame(smote_target)\n",
    "smote_target.columns=['Observed_Attendance']"
   ]
  },
  {
   "cell_type": "markdown",
   "metadata": {},
   "source": [
    "### PCA"
   ]
  },
  {
   "cell_type": "code",
   "execution_count": 225,
   "metadata": {},
   "outputs": [],
   "source": [
    "pca = PCA(n_components = 3)\n",
    "pca_std = pca.fit(smote_train, smote_target).transform(smote_train)\n",
    "\n",
    "pca_std = pd.DataFrame(pca_std,columns = ['ATT1','ATT2','ATT3'])\n",
    "pca_std = pca_std.merge(smote_target, left_index = True, right_index = True,how = 'left')\n",
    "pca_std['Observed_Attendance'] = pca_std['Observed_Attendance'].replace({1:'Present',0:'Absent'})"
   ]
  },
  {
   "cell_type": "code",
   "execution_count": 233,
   "metadata": {},
   "outputs": [],
   "source": [
    "P_pca = pca_std[(pca_std['Observed_Attendance'] == 'Present')]\n",
    "A_pca = pca_std[(pca_std['Observed_Attendance'] == 'Absent')]"
   ]
  },
  {
   "cell_type": "code",
   "execution_count": 239,
   "metadata": {},
   "outputs": [],
   "source": [
    "def PCA_scatter_3(P_pca,A_pca):\n",
    "    trace1 = go.Scatter3d(x = P_pca['ATT1'],y = P_pca['ATT3'],z = P_pca['ATT2'],\n",
    "                      mode = \"markers\",name = \"Present\",\n",
    "                      marker = dict(size = 4,color = '#2ca02c',line = dict(width = 1))\n",
    "                     )\n",
    "    trace2 = go.Scatter3d(x = A_pca['ATT1'],y = A_pca['ATT3'],z = A_pca['ATT2'],\n",
    "                      name = 'Absent', mode = 'markers',\n",
    "                      marker = dict(size = 4,color= '#d62728',line = dict(width = 1))\n",
    "                     )\n",
    "\n",
    "\n",
    "\n",
    "    layout = go.Layout(dict(title = 'PCA Scatter plot (3 comp = 72.7%)',\n",
    "                        scene = dict(camera = dict(up=dict(x= 0 , y=0, z=0),\n",
    "                                                   center=dict(x=0, y=0, z=0),\n",
    "                                                   eye=dict(x=1.25, y=1.25, z=1.25)),\n",
    "                                     xaxis  = dict(title = 'COMP1',\n",
    "                                                   gridcolor='rgb(255, 255, 255)',\n",
    "                                                   zerolinecolor='rgb(255, 255, 255)',\n",
    "                                                   showbackground=True,\n",
    "                                                   backgroundcolor='rgb(230, 230,230)'),\n",
    "                                     yaxis  = dict(title = 'COMP3',\n",
    "                                                   gridcolor='rgb(255, 255, 255)',\n",
    "                                                   zerolinecolor='rgb(255, 255, 255)',\n",
    "                                                   showbackground=True,\n",
    "                                                   backgroundcolor='rgb(230, 230,230)'\n",
    "                                                  ),\n",
    "                                     zaxis  = dict(title = 'COMP2',\n",
    "                                                   gridcolor='rgb(255, 255, 255)',\n",
    "                                                   zerolinecolor='rgb(255, 255, 255)',\n",
    "                                                   showbackground=True,\n",
    "                                                   backgroundcolor='rgb(230, 230,230)'\n",
    "                                                  )),height = 700))\n",
    "                  \n",
    "\n",
    "    plots = [trace1,trace2]\n",
    "    fig  = go.Figure(data = plots,layout = layout)\n",
    "    py.iplot(fig)\n",
    "    return"
   ]
  },
  {
   "cell_type": "code",
   "execution_count": 240,
   "metadata": {},
   "outputs": [
    {
     "data": {
      "application/vnd.plotly.v1+json": {
       "config": {
        "linkText": "Export to plot.ly",
        "plotlyServerURL": "https://plot.ly",
        "showLink": false
       },
       "data": [
        {
         "marker": {
          "color": "#2ca02c",
          "line": {
           "width": 1
          },
          "size": 4
         },
         "mode": "markers",
         "name": "Present",
         "type": "scatter3d",
         "x": [
          -7.6947313645520445,
          -7.9125557987127015,
          -7.20016857641483,
          -7.890706518559265,
          -7.246933118877268,
          -6.589579512082375,
          -6.653460819338006,
          -8.477707331770349,
          -7.672654638544185,
          -7.649994416598554,
          -6.514687660702791,
          -6.492633891705524,
          -7.48393287439235,
          -7.552737958000295,
          -7.147752076279302,
          -6.484986210537853,
          -7.55225203170842,
          -7.347977351329383,
          -7.1791719692119305,
          -7.013255033263806,
          -8.47636681950064,
          -6.663995477726664,
          -6.619934187967834,
          -6.591814934303491,
          -6.5499344744152665,
          -7.221896061998942,
          -7.544663236512194,
          -6.6661917974479845,
          -8.248529891300716,
          -6.591814934303491,
          -6.9567557152649515,
          -6.721850041401007,
          -6.492633891705524,
          -6.484986210537853,
          -7.270850077728683,
          -7.87125886111874,
          -7.4675359629114935,
          -6.721850041401007,
          -6.721850041401007,
          -8.016650629203003,
          -7.571155617536082,
          -6.821031083998974,
          -7.383739473788152,
          -7.420157894752556,
          -6.492633891705524,
          -6.5499344744152665,
          -7.409112995522008,
          -7.147752076279302,
          -6.721850041401007,
          -6.484986210537853,
          -7.061166774422071,
          -7.792902673419979,
          -6.514687660702791,
          -8.230555222816461,
          -6.514687660702791,
          -7.949420552170231,
          -7.124972733267851,
          -7.166895588956175,
          -6.8478207591168285,
          -7.017716969181785,
          -7.5454751619512175,
          -6.918535926583818,
          -7.8437933790449375,
          -7.033288054206141,
          -6.514687660702791,
          -7.481462437179799,
          -7.248796308731416,
          -6.6990706983895585,
          -7.115137118077783,
          -7.040897467953238,
          -7.501563085260555,
          -7.475852283375446,
          -7.266966139819602,
          -6.910888245416147,
          -6.696835276168443,
          -7.48665376383441,
          -7.08345844558063,
          -7.409031331713157,
          -7.409112995522008,
          -7.91091679593033,
          -6.492633891705524,
          -6.614995433074945,
          -7.277519224856824,
          -7.224092381720262,
          -7.0416339280332,
          -7.429952116987067,
          -7.2134484593501345,
          -7.571155617536082,
          -6.950789476653527,
          -8.031287451638397,
          -7.169805845276568,
          -6.829105805487075,
          -6.614995433074945,
          -7.221896061998942,
          -7.2134484593501345,
          -7.4760543014276895,
          -7.978058479024835,
          -6.492633891705524,
          -7.349543121979242,
          -7.636019836931575,
          -6.591814934303491,
          -6.619934187967834,
          -7.501563085260555,
          -7.508690060925803,
          -7.375312600601641,
          -6.5499344744152665,
          -7.050534475977802,
          -7.4264381265841735,
          -7.323811915432116,
          -7.949420552170231,
          -7.08345844558063,
          -7.697419484935518,
          -7.860828165802859,
          -7.674698343609711,
          -7.366664886485054,
          -6.918535926583818,
          -7.871299535103676,
          -7.422354214473877,
          -6.829527043636153,
          -6.926051425863926,
          -7.08345844558063,
          -7.025791690669886,
          -7.986904855716373,
          -7.497904785404972,
          -6.84207380715263,
          -6.492633891705524,
          -6.4800972342994445,
          -7.248796308731416,
          -6.492633891705524,
          -7.834909893758422,
          -7.270850077728683,
          -8.031250551817305,
          -6.514687660702791,
          -7.241148627563746,
          -6.5499344744152665,
          -6.492633891705524,
          -7.605693112445577,
          -6.492633891705524,
          -6.492633891705524,
          -7.749713950310407,
          -6.591814934303491,
          -6.876555307419506,
          -6.492633891705524,
          -7.688354274318591,
          -7.147752076279302,
          -7.354188882963335,
          -7.1401043951116305,
          -6.800529534338981,
          -7.871156996586563,
          -7.834909893758422,
          -6.962597216342648,
          -8.230318937289962,
          -6.949122032563374,
          -6.591814934303491,
          -7.248796308731416,
          -7.358278586514347,
          -6.6990706983895585,
          -6.599889655791591,
          -6.514687660702791,
          -7.705077441930184,
          -7.226483297197058,
          -7.037997818571723,
          -6.492633891705524,
          -6.743903810398274,
          -7.025791690669886,
          -7.246933118877268,
          -6.492633891705524,
          -7.667696888157376,
          -6.492633891705524,
          -6.492633891705524,
          -7.028018204366749,
          -7.344353267773266,
          -6.657190238501334,
          -6.492633891705524,
          -8.003375988854797,
          -7.279750625673286,
          -7.949420552170231,
          -7.009553360876318,
          -6.918535926583818,
          -7.652385332075352,
          -8.031287451638397,
          -6.5499344744152665,
          -7.9125557987127015,
          -6.6990706983895585,
          -7.013255033263806,
          -7.1324337308655705,
          -6.721850041401007,
          -6.514687660702791,
          -7.501563085260555,
          -8.031310924471425,
          -6.699537029866649,
          -7.3546552144404265,
          -6.492633891705524,
          -8.129292459562361,
          -7.048303075161341,
          -8.397521446878798,
          -6.599889655791591,
          -7.200735967291584,
          -6.743903810398274,
          -7.244697696656152,
          -7.275698384983279,
          -7.95076106443994,
          -6.829105805487075,
          -6.918535926583818,
          -6.492633891705524,
          -8.398205128449149,
          -7.696752112606977,
          -7.839620862606522,
          -8.089726772530945,
          -7.147752076279302,
          -7.279750625673286,
          -7.5168987782796375,
          -6.589579512082375,
          -6.699537029866649,
          -7.87125886111874,
          -6.941257067909626,
          -7.839620862606522,
          -7.08345844558063,
          -7.413352655527226,
          -6.492633891705524,
          -6.905999269177739,
          -7.270850077728683,
          -6.821031083998974,
          -7.420157894752556,
          -6.492633891705524,
          -7.257437614138927,
          -7.011932477868262,
          -7.356052072817484,
          -6.591814934303491,
          -7.147752076279302,
          -7.275283802635709,
          -7.784383881469336,
          -6.4800972342994445,
          -7.943801219733632,
          -6.599889655791591,
          -6.514687660702791,
          -6.492633891705524,
          -6.532358965835645,
          -6.587352998385512,
          -8.886941626378627,
          -7.873804086572466,
          -7.591487068588766,
          -6.591814934303491,
          -8.031286820021034,
          -7.08345844558063,
          -6.962597216342648,
          -7.050534475977802,
          -7.886283611544162,
          -6.9567557152649515,
          -7.413352655527226,
          -7.409112995522008,
          -7.591487068588766,
          -7.692540784524105,
          -7.653846808751084,
          -6.721850041401007,
          -6.663995477726664,
          -7.125439064744943,
          -7.422354214473877,
          -7.169805845276568,
          -7.409007227262766,
          -7.83490926214106,
          -6.514687660702791,
          -6.5499344744152665,
          -7.7033726699595535,
          -6.816569148080996,
          -7.246933118877268,
          -6.6661917974479845,
          -6.602116169488454,
          -7.35356353209147,
          -6.721850041401007,
          -6.591814934303491,
          -6.663995477726664,
          -7.950775587393835,
          -7.409031331713157,
          -7.1401043951116305,
          -6.492633891705524,
          -6.818795661777859,
          -7.3519534607422194,
          -6.743903810398274,
          -6.587352998385512,
          -7.871156996586563,
          -7.358278586514347,
          -7.360156620583883,
          -8.168305297183316,
          -7.806696893003695,
          -7.1324337308655705,
          -7.437834512746556,
          -7.683339649017219,
          -6.829105805487075,
          -6.591814934303491,
          -7.1559027810031575,
          -7.2260169657199675,
          -7.028018204366749,
          -6.893211627422147,
          -7.476436510856094,
          -7.354188882963335,
          -6.950157547087177,
          -7.413352655527226,
          -7.08345844558063,
          -6.492633891705524,
          -6.950789476653527,
          -7.806696893003695,
          -7.463899853450014,
          -7.240851708880522,
          -7.178338182258857,
          -6.765911331159838,
          -7.949420552170231,
          -6.5499344744152665,
          -7.205052658989044,
          -6.591814934303491,
          -7.2134484593501345,
          -7.978058479024835,
          -7.270850077728683,
          -7.277519224856824,
          -7.179815182017673,
          -6.918535926583818,
          -7.235571296200207,
          -6.721850041401007,
          -7.800608024985568,
          -6.492633891705524,
          -7.094595765736632,
          -7.879210566294037,
          -7.95076106443994,
          -7.410438228740986,
          -7.178338182258857,
          -8.527511460648302,
          -7.0580452407395935,
          -7.903139007228058,
          -6.948878085234358,
          -6.5499344744152665,
          -6.6990706983895585,
          -7.543315704017203,
          -6.653460819338006,
          -7.712918132290843,
          -7.865271880657454,
          -6.514687660702791,
          -7.674698343609711,
          -7.497906052372713,
          -7.241148627563746,
          -7.117641669546574,
          -8.610115976056289,
          -7.625716268993063,
          -6.721850041401007,
          -6.599889655791591,
          -6.591814934303491,
          -7.345741929108268,
          -7.67303770235006,
          -7.248796308731416,
          -7.353016211658055,
          -7.178338182258857,
          -7.246933118877268,
          -6.514687660702791,
          -7.011932477868262,
          -7.871299535103676,
          -8.168305297183316,
          -7.641359029852906,
          -8.063564474541133,
          -7.999561133351351,
          -7.092093832326278,
          -7.6519190005982605,
          -6.492633891705524,
          -7.306096891441159,
          -7.197515314193989,
          -7.1324337308655705,
          -7.949318687638053,
          -7.67303770235006,
          -6.948999642842033,
          -8.206185139785033,
          -6.587352998385512,
          -7.579144482075685,
          -7.839620862606522,
          -6.720520462854518,
          -7.859523996874353,
          -7.292857598490247,
          -7.301804394670552,
          -7.978058479024835,
          -6.492633891705524,
          -6.6737896999611745,
          -7.072588244975068,
          -7.8005984631304415,
          -7.95076106443994,
          -6.918535926583818,
          -6.492633891705524,
          -8.957446224991134,
          -7.126835923122,
          -6.589579512082375,
          -8.406156833624447,
          -7.28948790413194,
          -7.8202239875840505,
          -7.641359029852906,
          -6.484986210537853,
          -7.117641669546574,
          -7.125439064744943,
          -7.501563085260555,
          -7.383739473788152,
          -7.572627963772593,
          -6.918535926583818,
          -7.7713490436224095,
          -8.170476541110913,
          -6.492633891705524,
          -7.178338182258857,
          -7.6903343151378465,
          -6.918535926583818,
          -7.6814695914230775,
          -7.833598969255556,
          -7.949420552170231,
          -6.599889655791591,
          -7.99638132273417,
          -7.2134484593501345,
          -7.666753743758816,
          -7.5626971207599105,
          -6.918535926583818,
          -7.323114232558222,
          -6.983811071505572,
          -8.8856882602338,
          -6.536695181464355,
          -7.501563085260555,
          -7.68796619462621,
          -7.257437614138927,
          -7.48464522820993,
          -7.354188882963335,
          -6.721850041401007,
          -7.48665376383441,
          -7.200235304955369,
          -6.602116169488454,
          -6.492633891705524,
          -7.501563085260555,
          -6.599889655791591,
          -7.705077441930184,
          -7.6816160371019135,
          -7.270113617648722,
          -8.218466909533312,
          -6.961306905677146,
          -6.602116169488454,
          -7.820292001998833,
          -7.95076106443994,
          -7.2572343540622315,
          -7.850758182762525,
          -6.514687660702791,
          -7.2134484593501345,
          -6.536695181464355,
          -6.821031083998974,
          -8.59061840577153,
          -7.248796308731416,
          -7.08345844558063,
          -7.712423908364944,
          -7.179791709184645,
          -8.619550767048935,
          -7.6104047129110395,
          -6.614995433074945,
          -7.686017885558368,
          -7.2853503947405684,
          -6.721850041401007,
          -7.554381373667348,
          -7.705284449589266,
          -7.147752076279302,
          -7.410438228740986,
          -7.211361403610285,
          -6.6990706983895585,
          -7.7403947266805435,
          -6.831332319183938
         ],
         "y": [
          -2.064904827120935,
          0.21082896981768473,
          -1.966907739333496,
          -1.5466525232914883,
          -1.7066740096969644,
          -2.1698943701622273,
          -2.28544979627895,
          -1.4314959520907533,
          -1.6477115225850434,
          -0.2890213905897812,
          -2.2578706990057316,
          -2.2861067758137468,
          -0.4453882865772567,
          -1.7407283250747894,
          -1.7398408212237306,
          -1.6042343136492232,
          -1.669344329378537,
          -2.2719478519106477,
          -1.0632711332613092,
          -1.5746676221717801,
          -1.4319190460094662,
          -2.290285605348478,
          -2.357437934414146,
          -2.25293996428698,
          -2.3434661184597023,
          -0.7734075534249079,
          -1.8525263258864335,
          -2.2887431828204665,
          -0.6195374312077082,
          -2.25293996428698,
          -2.059155075459051,
          -2.222684561530846,
          -2.2861067758137468,
          -1.6042343136492232,
          -2.2768785866293992,
          -1.467586555653868,
          -1.8574570606051843,
          -2.222684561530846,
          -2.222684561530846,
          0.2403891430511449,
          -0.05778957024821052,
          -2.189517750004079,
          -1.548621517967268,
          -2.3092934929721456,
          -2.2861067758137468,
          -2.3434661184597023,
          -0.8457200634473525,
          -1.7398408212237306,
          -2.222684561530846,
          -1.6042343136492232,
          -1.9810589858051573,
          -1.5591168691688617,
          -2.2578706990057316,
          -0.13083347066147355,
          -2.2578706990057316,
          -1.3494889441028974,
          -1.6251314116414544,
          -1.8815021895088622,
          -1.5550059249963346,
          -1.7700962239798648,
          -0.6971028564991506,
          -1.803263035506631,
          -0.25070944284308827,
          -1.8173015261624166,
          -2.2578706990057316,
          -0.8519477698651781,
          -2.3051146634374144,
          -2.10797515194857,
          -1.9003274670501789,
          -1.785248861515468,
          -0.7943836133152546,
          -2.141002949349234,
          -1.9493079136876,
          -1.121390573342108,
          -2.024929557823817,
          -0.27201477048943057,
          -1.618552919487282,
          -1.7928498131799984,
          -0.8457200634473525,
          0.5346051082237522,
          -2.2861067758137468,
          -2.268092601822584,
          -1.9620520423569414,
          -0.7718651308968966,
          -2.3403008009123,
          -2.302036338849013,
          -1.7613390668313773,
          -0.05778957024821052,
          -2.0592008629828826,
          -1.0919023776996442,
          -1.7116047444157152,
          -2.0777197491924357,
          -2.268092601822584,
          -0.7734075534249079,
          -1.7613390668313773,
          -1.4597127152010962,
          -0.7924154410485756,
          -2.2861067758137468,
          -1.999348867428296,
          -1.62876501884702,
          -2.25293996428698,
          -2.357437934414146,
          -0.7943836133152546,
          -0.5423228110593129,
          -1.5648898599132375,
          -2.3434661184597023,
          -0.7692287238901768,
          -0.7272081059325559,
          -0.6386541805416075,
          -1.3494889441028974,
          -1.618552919487282,
          -1.3957077904820976,
          -1.4548904086107273,
          -1.8222709231302994,
          -0.7287671863099767,
          -1.803263035506631,
          -1.9193353546738465,
          -2.307751070444134,
          -1.9951011840399966,
          -1.9615073435409165,
          -1.618552919487282,
          -1.6582982231682206,
          -1.7776676373822506,
          -2.1127663901215064,
          -1.5802486958186446,
          -2.2861067758137468,
          -2.202476174817306,
          -2.3051146634374144,
          -2.2861067758137468,
          -1.3100417421767045,
          -2.2768785866293992,
          -1.0918949295929723,
          -2.2578706990057316,
          -1.6232422012728913,
          -2.3434661184597023,
          -2.2861067758137468,
          -1.3734659026690146,
          -2.2861067758137468,
          -2.2861067758137468,
          -0.15581044023449225,
          -2.25293996428698,
          -2.0523446586051275,
          -2.2861067758137468,
          -1.2760973481071876,
          -1.7398408212237306,
          -1.561709197358554,
          -1.0579683590592073,
          -1.4841682011051012,
          -1.4675635954696027,
          -1.3100417421767045,
          -1.7361107064409627,
          -0.17765725036242086,
          -2.058641068166609,
          -2.25293996428698,
          -2.3051146634374144,
          -2.272532858782336,
          -2.10797515194857,
          -2.1411419634753366,
          -2.2578706990057316,
          -2.0775865154048065,
          -1.9347451386024699,
          -0.6855981228937359,
          -2.2861067758137468,
          -2.1944484847228307,
          -1.6582982231682206,
          -1.7066740096969644,
          -2.2861067758137468,
          -1.0172565702998355,
          -2.2861067758137468,
          -2.2861067758137468,
          -1.7706812308515525,
          -1.836905252767278,
          -2.198501306121292,
          -2.2861067758137468,
          0.30986581259542545,
          -0.705806509607276,
          -1.3494889441028974,
          -1.2319949691737004,
          -1.803263035506631,
          -1.4519013982953544,
          -1.0919023776996442,
          -2.3434661184597023,
          0.21082896981768473,
          -2.10797515194857,
          -1.5746676221717801,
          -1.495804751134194,
          -2.222684561530846,
          -2.2578706990057316,
          -0.7943836133152546,
          -1.091866708395823,
          -1.8523150366959014,
          -1.3060490821058852,
          -2.2861067758137468,
          -0.15590888223532284,
          -2.0254742566398423,
          -0.12068275518738003,
          -2.1411419634753366,
          -2.365458553131914,
          -2.1944484847228307,
          -1.6236284155722112,
          -1.70806756802257,
          -1.3490658501841848,
          -2.0777197491924357,
          -1.803263035506631,
          -2.2861067758137468,
          -1.5500166575604368,
          -1.794034846322284,
          -1.6375608071109498,
          -1.3913864640398317,
          -1.7398408212237306,
          -0.705806509607276,
          -1.7047730569262316,
          -2.1698943701622273,
          -1.8523150366959014,
          -1.467586555653868,
          -1.3766999028584295,
          -1.6375608071109498,
          -1.618552919487282,
          -2.2175091937449602,
          -2.2861067758137468,
          -1.71963243451019,
          -2.2768785866293992,
          -2.189517750004079,
          -2.3092934929721456,
          -2.2861067758137468,
          -0.3354369847723314,
          -1.686664415555792,
          -2.1601498510990043,
          -2.25293996428698,
          -1.7398408212237306,
          -1.8790064482321887,
          -0.41786708667890005,
          -2.202476174817306,
          -1.3190157952398218,
          -2.1411419634753366,
          -2.2578706990057316,
          -2.2861067758137468,
          -2.2163839968641215,
          -2.0575113624788957,
          0.27915902733827774,
          -1.047153618147542,
          -0.8454002441170534,
          -2.25293996428698,
          -1.091904323909054,
          -1.618552919487282,
          -1.7361107064409627,
          -0.7692287238901768,
          -2.074521815211732,
          -2.059155075459051,
          -2.2175091937449602,
          -0.8457200634473525,
          -0.8454002441170534,
          -1.9939559144083658,
          -0.32702660896486097,
          -2.222684561530846,
          -2.290285605348478,
          -1.3694712963887856,
          -2.307751070444134,
          -1.7116047444157152,
          -1.7928874286932295,
          -1.3100436883861142,
          -2.2578706990057316,
          -2.3434661184597023,
          -0.09522714845585223,
          -1.994089148195995,
          -1.7066740096969644,
          -2.2887431828204665,
          -2.2535249711586682,
          -1.9984150557067015,
          -2.222684561530846,
          -2.25293996428698,
          -2.290285605348478,
          -0.045063070134734984,
          -1.7928498131799984,
          -1.0579683590592073,
          -2.2861067758137468,
          -2.1064721558793265,
          -1.4786636032338012,
          -2.1944484847228307,
          -2.0575113624788957,
          -1.4675635954696027,
          -2.272532858782336,
          -1.1988671653824534,
          -0.18410496947028088,
          -0.7882366115138446,
          -1.495804751134194,
          -1.2038206752486766,
          0.14740675553478394,
          -2.0777197491924357,
          -2.25293996428698,
          -1.6248013474225629,
          -2.1904052538551384,
          -1.7706812308515525,
          -2.226863391065577,
          -0.28638498358306147,
          -1.561709197358554,
          -2.059048806502351,
          -2.2175091937449602,
          -1.618552919487282,
          -2.2861067758137468,
          -2.0592008629828826,
          -0.7882366115138446,
          -0.20275438258662054,
          -1.4985437824545484,
          -1.9952188538837081,
          -2.1555322324651773,
          -1.3494889441028974,
          -2.3434661184597023,
          -1.7972001638696864,
          -2.25293996428698,
          -1.7613390668313773,
          -0.7924154410485756,
          -2.2768785866293992,
          -1.9620520423569414,
          -1.8562720274628992,
          -1.803263035506631,
          -0.6204130372129433,
          -2.222684561530846,
          -1.609364719875992,
          -2.2861067758137468,
          -0.7020763948245083,
          -0.22559917630688042,
          -1.3490658501841848,
          -1.79278520438959,
          -1.9952188538837081,
          -0.2634689025314752,
          -1.9142360506444724,
          -1.7205627648924076,
          -2.058566695593422,
          -2.3434661184597023,
          -2.10797515194857,
          -1.0991082953974396,
          -2.28544979627895,
          -2.0781629630827188,
          -1.5653506709160492,
          -2.2578706990057316,
          -1.8222709231302994,
          -2.112766872541219,
          -1.6232422012728913,
          -1.028145730523874,
          -0.2141637508527271,
          -1.2663381933983313,
          -2.222684561530846,
          -2.1411419634753366,
          -2.25293996428698,
          -2.188902257785895,
          -0.3834494151266088,
          -2.3051146634374144,
          -0.9822729436998174,
          -1.9952188538837081,
          -1.7066740096969644,
          -2.2578706990057316,
          -1.686664415555792,
          -1.9193353546738465,
          -0.18410496947028088,
          -0.10167486756371225,
          -1.3478045358720738,
          -0.8715663854505579,
          -1.8058994425133508,
          -1.707561513548023,
          -2.2861067758137468,
          -2.3624740060833704,
          -0.5545411326021414,
          -1.495804751134194,
          -1.349465983918632,
          -0.3834494151266088,
          -2.0585930865404083,
          -0.12270121560250258,
          -2.0575113624788957,
          -0.857030947417295,
          -1.6375608071109498,
          -1.4836747663959353,
          -1.9304755777275335,
          -2.2379623343717463,
          -0.6775704327992607,
          -0.7924154410485756,
          -2.2861067758137468,
          -2.283028451225345,
          -0.7409926470821615,
          -1.609364479987677,
          -1.3490658501841848,
          -1.803263035506631,
          -2.2861067758137468,
          -0.032715511718154566,
          -2.223572065381905,
          -2.1698943701622273,
          -0.30802927821344905,
          -1.9631968440449032,
          -1.4532361179012137,
          -0.10167486756371225,
          -1.6042343136492232,
          -1.028145730523874,
          -1.3694712963887856,
          -0.7943836133152546,
          -1.548621517967268,
          -0.7878744260781416,
          -1.803263035506631,
          -0.24446101490780736,
          0.3427273639787093,
          -2.2861067758137468,
          -1.9952188538837081,
          0.021073300789375637,
          -1.803263035506631,
          -1.6944738341567374,
          -0.19118951609900003,
          -1.3494889441028974,
          -2.1411419634753366,
          0.43619926734083375,
          -1.7613390668313773,
          -1.0157000421474334,
          -1.965290856051369,
          -1.803263035506631,
          -1.7327894388527008,
          -1.9073798462667173,
          -0.174991595103139,
          -2.218954446748078,
          -0.7943836133152546,
          -1.213066694589524,
          -0.3354369847723314,
          -1.4488352294499802,
          -1.561709197358554,
          -2.222684561530846,
          -0.27201477048943057,
          -1.9669339610855496,
          -2.2535249711586682,
          -2.2861067758137468,
          -0.7943836133152546,
          -2.1411419634753366,
          -2.0775865154048065,
          -0.5448071615855009,
          -1.7218266472325676,
          -0.79547624479806,
          -1.0162529842628718,
          -2.2535249711586682,
          -1.4532479930253501,
          -1.3490658501841848,
          -1.707259016568652,
          -0.7210842824481762,
          -2.2578706990057316,
          -1.7613390668313773,
          -2.218954446748078,
          -2.189517750004079,
          0.42507595231815554,
          -2.3051146634374144,
          -1.618552919487282,
          -0.09516568032659922,
          -1.8563076967667205,
          0.16967267930614482,
          -1.7009830213938506,
          -2.268092601822584,
          -0.5464558530702122,
          -1.850179347822709,
          -2.222684561530846,
          -0.47255424458585604,
          -2.0776489557902766,
          -1.7398408212237306,
          -1.79278520438959,
          -0.7685717443553803,
          -2.10797515194857,
          -1.8437691687379458,
          -2.1901027568757674
         ],
         "z": [
          -1.2346791951069112,
          -2.282274869906253,
          -1.382059140702805,
          -1.5331551523617597,
          -1.493562195590089,
          -1.2185699216143424,
          -1.087626365021062,
          0.16034052156469547,
          -0.2498976185019708,
          -1.9876376104382694,
          -1.1193886948444298,
          -1.1040408658133398,
          -1.9833882409830719,
          -0.47183780461148483,
          -1.3883008179811103,
          -1.111861089916348,
          -1.0486468657767856,
          -1.704590171686956,
          -1.2689257764300768,
          -0.6029295453438568,
          0.1608125110929547,
          -1.076374232891841,
          -1.0906383456410293,
          -1.2093022434223186,
          -1.2271729418959085,
          -2.325638736309274,
          -0.7255557273074391,
          -1.08576035312671,
          -1.3717488195637106,
          -1.2093022434223186,
          -0.7369216523125864,
          -1.7356880640869834,
          -1.1040408658133398,
          -1.111861089916348,
          -1.614676623109067,
          -0.08133366815085163,
          -0.6356421787295503,
          -1.7356880640869834,
          -1.7356880640869834,
          -1.2778722859828944,
          -1.8521940487612893,
          -1.8409494416959624,
          -1.0122995164169872,
          -1.5716621611564783,
          -1.1040408658133398,
          -1.2271729418959085,
          -0.11610021544242932,
          -1.3883008179811103,
          -1.7356880640869834,
          -1.111861089916348,
          -0.7777853826039283,
          -1.0429017925893804,
          -1.1193886948444298,
          -1.4991621219194036,
          -1.1193886948444298,
          0.024453241083948196,
          -0.7134584522294702,
          -0.7065880732331842,
          -1.4777033206791093,
          -0.8619149973164455,
          -1.4316450926035669,
          -0.7566536197074666,
          -1.7040735095163069,
          -0.5856671924786641,
          -1.1193886948444298,
          -0.15855580460212515,
          -1.599328794077977,
          -1.0608456983353434,
          -0.7162028937292725,
          -0.7928916623081272,
          -0.07435795476609486,
          -0.5987047615011677,
          -1.4762998427248963,
          -0.7644738438104748,
          -1.0701133765273672,
          -2.6296621160121267,
          -0.33731442892652674,
          -1.4543412023508504,
          -0.11610021544242932,
          -1.3070274489709772,
          -1.1040408658133398,
          -1.1402789084140004,
          -1.472026261157291,
          -2.335024856544143,
          -0.9830294248354234,
          -1.6359563734409526,
          -0.41235202934845316,
          -1.8521940487612893,
          -0.7354565209373548,
          -0.7135956484535578,
          -1.4036486470122003,
          -1.5872315190000081,
          -1.1402789084140004,
          -2.325638736309274,
          -0.41235202934845316,
          -0.6083826064065883,
          -2.8209266645739115,
          -1.1040408658133398,
          -1.3390544410911778,
          -0.4537098341775587,
          -1.2093022434223186,
          -1.0906383456410293,
          -0.07435795476609486,
          -1.9847210243547877,
          -0.9707604324064256,
          -1.2271729418959085,
          -2.3533053692307733,
          -3.0561595727455466,
          -2.9706884547552286,
          0.024453241083948196,
          -0.33731442892652674,
          -1.2381686219461583,
          -0.0856630778238876,
          -1.2519415479721039,
          -0.03285238288879966,
          -0.7566536197074666,
          -1.2114908219939096,
          -1.5810482813913471,
          -0.8237880147429759,
          -1.7017605748010107,
          -0.33731442892652674,
          -0.6081970746204913,
          -0.6151584059571285,
          -0.6140490286005966,
          -1.6340521847833307,
          -1.1040408658133398,
          -1.0987733365367052,
          -1.599328794077977,
          -1.1040408658133398,
          -1.1069557091730933,
          -1.614676623109067,
          -0.7135891500366867,
          -1.1193886948444298,
          -1.607149018180985,
          -1.2271729418959085,
          -1.1040408658133398,
          -0.4753082237215467,
          -1.1040408658133398,
          -1.1040408658133398,
          -2.623301208649355,
          -1.2093022434223186,
          -0.6926048804188171,
          -1.1040408658133398,
          -0.6131113264609098,
          -1.3883008179811103,
          -1.3451056505031138,
          -1.3961210420841184,
          -1.8388396318765898,
          -0.08132848517642133,
          -1.1069557091730933,
          -0.7423895069582782,
          -1.4970060487584096,
          -0.7351176852746685,
          -1.2093022434223186,
          -1.599328794077977,
          -1.7191253791556143,
          -1.0608456983353434,
          -0.9555843207263646,
          -1.1193886948444298,
          -1.2303551219072466,
          -0.612391144312043,
          -2.3480378399541384,
          -1.1040408658133398,
          -1.7510358931180736,
          -0.6081970746204913,
          -1.493562195590089,
          -1.1040408658133398,
          -0.6753612605433041,
          -1.1040408658133398,
          -1.1040408658133398,
          -0.8764502047851039,
          -1.3478500920029162,
          -1.0787163968089333,
          -1.1040408658133398,
          -1.290284204014572,
          -2.984952567504417,
          0.024453241083948196,
          -1.0972885173246767,
          -0.7566536197074666,
          -0.26500389820616976,
          -0.7135956484535578,
          -1.2271729418959085,
          -2.282274869906253,
          -1.0608456983353434,
          -0.6029295453438568,
          -0.3986688065426548,
          -1.7356880640869834,
          -1.1193886948444298,
          -0.07435795476609486,
          -0.7135938955254417,
          -0.7487504143210495,
          -1.03301036648882,
          -1.1040408658133398,
          -1.5964867418913382,
          -0.8403790628836473,
          -2.0818668606085966,
          -0.9555843207263646,
          -1.004309175167309,
          -1.7510358931180736,
          -1.5028298737821129,
          -0.4612944889329037,
          0.023981251555688976,
          -1.5872315190000081,
          -0.7566536197074666,
          -1.1040408658133398,
          0.05502560185815486,
          -1.2672893770031939,
          -0.8326023571911639,
          -0.7173190864548563,
          -1.3883008179811103,
          -2.984952567504417,
          -1.0868508681406346,
          -1.2185699216143424,
          -0.7487504143210495,
          -0.08133366815085163,
          -0.7428806936815211,
          -0.8326023571911639,
          -0.33731442892652674,
          -1.5740043250735705,
          -1.1040408658133398,
          -0.751386090430832,
          -1.614676623109067,
          -1.8409494416959624,
          -1.5716621611564783,
          -1.1040408658133398,
          -1.9980149177384827,
          -0.9755018199073415,
          -1.4508722489910015,
          -1.2093022434223186,
          -1.3883008179811103,
          -1.4812939393493147,
          -1.8616556477294761,
          -1.0987733365367052,
          -2.750126096706412,
          -0.9555843207263646,
          -1.1193886948444298,
          -1.1040408658133398,
          -1.1012804351111865,
          -0.9503167914497299,
          -1.1948519306602243,
          -0.981081868425255,
          -1.8921030933048109,
          -1.2093022434223186,
          -0.7135953612756547,
          -0.33731442892652674,
          -0.7423895069582782,
          -2.3533053692307733,
          -1.2669893833666457,
          -0.7369216523125864,
          -1.5740043250735705,
          -0.11610021544242932,
          -1.8921030933048109,
          -1.225087592630612,
          -1.833121403367337,
          -1.7356880640869834,
          -1.076374232891841,
          -0.40136316821517626,
          -1.5810482813913471,
          -1.4036486470122003,
          -1.4543426681010634,
          -1.1069554219951903,
          -1.1193886948444298,
          -1.2271729418959085,
          -1.6333653187674162,
          -1.5819639897233735,
          -1.493562195590089,
          -1.08576035312671,
          -1.223837450890977,
          -1.3488232065243686,
          -1.7356880640869834,
          -1.2093022434223186,
          -1.076374232891841,
          -2.262542902511372,
          -1.4543412023508504,
          -1.3961210420841184,
          -1.1040408658133398,
          -1.850217119887986,
          -1.3543733286951376,
          -1.7510358931180736,
          -0.9503167914497299,
          -0.08132848517642133,
          -1.7191253791556143,
          -0.15043169375667653,
          -1.4502196623349528,
          -2.8485932974954107,
          -0.3986688065426548,
          -0.6281145738014684,
          -1.650627671632609,
          -1.5872315190000081,
          -1.2093022434223186,
          -0.3797714056769478,
          -0.9244864283263369,
          -0.8764502047851039,
          -1.7080214311654847,
          -2.0059181231248995,
          -1.3451056505031138,
          -0.7352480332425221,
          -1.5740043250735705,
          -0.33731442892652674,
          -1.1040408658133398,
          -0.7354565209373548,
          -2.8485932974954107,
          -2.0006505938482646,
          -1.0195635202708564,
          -1.3667648835483122,
          -1.7214239513377951,
          0.024453241083948196,
          -1.2271729418959085,
          -1.511432894063679,
          -1.2093022434223186,
          -0.41235202934845316,
          -2.8209266645739115,
          -1.614676623109067,
          -1.472026261157291,
          -0.8226940040772068,
          -0.7566536197074666,
          -0.8319393148988228,
          -1.7356880640869834,
          -0.9788694367475491,
          -1.1040408658133398,
          -2.339041256481585,
          -2.619284808711913,
          0.023981251555688976,
          -1.4547543401977197,
          -1.3667648835483122,
          -2.156904461030523,
          -0.5869999758503796,
          -0.2929746733486649,
          -0.7350575401830065,
          -1.2271729418959085,
          -1.0608456983353434,
          -1.9694530109472177,
          -1.087626365021062,
          -1.2322095805772237,
          -1.0853629454639349,
          -1.1193886948444298,
          -1.2519415479721039,
          -0.6140525905322578,
          -1.607149018180985,
          -0.48579394016061783,
          -1.4477011318633426,
          -0.6113125212546546,
          -1.7356880640869834,
          -0.9555843207263646,
          -1.2093022434223186,
          -1.7138578498789796,
          -1.9654673971467056,
          -1.599328794077977,
          -0.057762945553544554,
          -1.3667648835483122,
          -1.493562195590089,
          -1.1193886948444298,
          -0.9755018199073415,
          -1.2114908219939096,
          -1.4502196623349528,
          -1.5865789323439594,
          -0.69239679675533,
          -1.600470941243845,
          -0.7383731070208366,
          -0.5770991822204637,
          -1.1040408658133398,
          -1.7224608701605457,
          -2.2020883934416444,
          -0.3986688065426548,
          0.024458424058378503,
          -1.9654673971467056,
          -0.7350618571692381,
          -1.5017536213507445,
          -0.9503167914497299,
          -2.184995692262527,
          -0.8326023571911639,
          -1.4911058408514197,
          -1.2115107992634984,
          -1.5850646813287887,
          -3.000300396535507,
          -2.8209266645739115,
          -1.1040408658133398,
          -1.1406684451763156,
          -2.368653198261863,
          -0.9788671200718556,
          0.023981251555688976,
          -0.7566536197074666,
          -1.1040408658133398,
          -1.1947108910875373,
          -0.8192250507173581,
          -1.2185699216143424,
          -2.4829255387029066,
          -1.4869003042886357,
          -0.07930637560619958,
          -1.5865789323439594,
          -1.111861089916348,
          -0.48579394016061783,
          -0.40136316821517626,
          -0.07435795476609486,
          -1.0122995164169872,
          -0.11769584398291189,
          -0.7566536197074666,
          -1.6616165327658858,
          -1.917080283088177,
          -1.1040408658133398,
          -1.3667648835483122,
          -1.6479333099600877,
          -0.7566536197074666,
          -0.24429304813433705,
          -1.7105589923503366,
          0.024453241083948196,
          -0.9555843207263646,
          -1.2929785656870931,
          -0.41235202934845316,
          -0.6721762741649834,
          -0.7197171257952639,
          -0.7566536197074666,
          -0.4170143025803614,
          -0.5441483353318418,
          -2.091832144872671,
          -1.0897767530641516,
          -0.07435795476609486,
          -0.6602549808391052,
          -1.9980149177384827,
          -1.1080479669107464,
          -1.3451056505031138,
          -1.7356880640869834,
          -2.6296621160121267,
          -1.3820689030437667,
          -1.223837450890977,
          -1.1040408658133398,
          -0.07435795476609486,
          -0.9555843207263646,
          -1.2303551219072466,
          -1.966232023973325,
          -1.4245388605817708,
          -2.2364506102497943,
          -0.3715290846747791,
          -1.223837450890977,
          -0.07930845091172722,
          0.023981251555688976,
          -1.5080974030587475,
          -2.834329184746222,
          -1.1193886948444298,
          -0.41235202934845316,
          -1.0897767530641516,
          -1.8409494416959624,
          -1.963271536789744,
          -1.599328794077977,
          -0.33731442892652674,
          -1.6299168215607762,
          -0.8226957570053229,
          -1.9412706455615947,
          -0.20095515891752025,
          -1.1402789084140004,
          -1.9585195228085206,
          -1.2182488946808492,
          -1.7356880640869834,
          -1.983425725027866,
          -1.2304056135393058,
          -1.3883008179811103,
          -1.4547543401977197,
          -2.3368908684384953,
          -1.0608456983353434,
          -0.2759927593394468,
          -1.8554846491646206
         ]
        },
        {
         "marker": {
          "color": "#d62728",
          "line": {
           "width": 1
          },
          "size": 4
         },
         "mode": "markers",
         "name": "Absent",
         "type": "scatter3d",
         "x": [
          -7.270850077728683,
          -6.484986210537853,
          -7.451112211694426,
          -6.6990706983895585,
          -7.828750662000961,
          -8.283355854915987,
          -7.395777146947605,
          -7.317288614467738,
          -6.743903810398274,
          -6.492633891705524,
          -6.591814934303491,
          -7.778496281660049,
          -7.712423908364944,
          -7.632717724445397,
          -8.170476541110913,
          -6.639614729921712,
          -7.10336157984846,
          -6.4800972342994445,
          -7.270850077728683,
          -8.811904357474805,
          -6.938568947526153,
          -7.701210030181717,
          -6.5499344744152665,
          -7.0061876184270755,
          -7.037986275650618,
          -7.693116003145498,
          -6.6661917974479845,
          -7.1454720856872775,
          -6.849150337663317,
          -7.049338589685144,
          -8.000565193317893,
          -6.5499344744152665,
          -6.514687660702791,
          -7.501563085260555,
          -8.252868234350819,
          -7.2134484593501345,
          -7.422354214473877,
          -7.246933118877268,
          -7.18763880270774,
          -6.492633891705524,
          -7.19722197688869,
          -7.386632392812939,
          -7.301804394670552,
          -6.9669826061659155,
          -7.850758182762525,
          -7.832428099550821,
          -7.496705817324927,
          -7.998301998243221,
          -7.787933738991541,
          -7.784383881469336,
          -6.492633891705524,
          -8.68919968831074,
          -7.995438178335609,
          -7.017716969181785,
          -8.125332647813183,
          -6.599889655791591,
          -6.492633891705524,
          -7.050534475977802,
          -7.038885411017397,
          -6.619934187967834,
          -7.641359029852906,
          -6.514687660702791,
          -7.978058479024835,
          -7.312601275577358,
          -6.821031083998974,
          -6.484986210537853,
          -6.514687660702791,
          -6.492633891705524,
          -7.444588910730047,
          -7.221896061998942,
          -7.950775587393835,
          -7.017716969181785,
          -7.211361403610285,
          -6.721850041401007,
          -7.329337799708248,
          -7.672654638544185,
          -7.908455022150107,
          -7.86647958818406,
          -8.17691386131066,
          -6.514687660702791,
          -8.59061840577153,
          -6.818795661777859,
          -8.028634872803877,
          -6.9489653862626195,
          -8.512816249489358,
          -7.262423744635074,
          -7.700110669266126,
          -7.257437614138927,
          -6.92711417677976,
          -7.27205268853229,
          -7.496705817324927,
          -8.129369196907154,
          -7.064114067213365,
          -6.944098090173201,
          -8.200751327755938,
          -7.476436510856094,
          -7.9813294002949675,
          -7.246933118877268,
          -7.833598969255556,
          -7.246933118877268,
          -8.577241646239772,
          -7.921747450736365,
          -7.255007840365369,
          -6.905999269177739,
          -7.484557239611231,
          -6.602116169488454,
          -7.019580159035933,
          -6.949122032563374,
          -7.460906433928936,
          -7.295281093706174,
          -7.177834772240111,
          -6.536695181464355,
          -7.305431470862084,
          -8.586525535015474,
          -7.323811915432116,
          -7.146096450906159,
          -7.705284449589266,
          -7.169805845276568,
          -7.257437614138927,
          -8.138377280691662,
          -6.77915062411075,
          -7.050534475977802,
          -7.429952116987067,
          -7.14525358265779,
          -6.492633891705524,
          -8.230318937289962,
          -8.26523866121331,
          -7.358278586514347,
          -7.1187612016339,
          -7.901077051587896,
          -6.9489653862626195,
          -7.094595765736632,
          -6.9489653862626195,
          -6.492633891705524,
          -8.429200119375952,
          -7.830741856692784,
          -7.476436510856094,
          -7.248796308731416,
          -7.317288614467738,
          -6.918535926583818,
          -6.972648290584789,
          -6.591814934303491,
          -7.224092381720262,
          -7.828750662000961,
          -7.895730551081165,
          -8.398205128449149,
          -7.941640058060427,
          -8.07345103149363,
          -6.589579512082375,
          -6.492633891705524,
          -6.422251500037252,
          -8.096167103035793,
          -7.358278586514347,
          -8.12889884936265,
          -7.714766898371426,
          -6.492633891705524,
          -7.019580159035933,
          -7.323811915432116,
          -7.550538370545494,
          -6.5499344744152665,
          -7.169805845276568,
          -6.514687660702791,
          -6.484986210537853,
          -8.023652084655335,
          -7.641359029852906,
          -8.842206977510415,
          -7.124972733267851,
          -8.0293897417348,
          -6.6990706983895585,
          -7.257437614138927,
          -6.92828684808504,
          -7.4467852304513675,
          -7.2572343540622315,
          -8.248505705028762,
          -7.928345509282682,
          -7.682728353864834,
          -7.758636551563862,
          -7.683339649017219,
          -7.287261390435077,
          -6.6990706983895585,
          -7.050534475977802,
          -7.191813366038132,
          -6.492633891705524,
          -7.7033726699595535,
          -6.492633891705524,
          -7.737349148268333,
          -8.477374580508483,
          -7.147752076279302,
          -8.101903415025141,
          -8.119740116246156,
          -7.850758182762525,
          -7.367946431388895,
          -6.591814934303491,
          -6.743903810398274,
          -7.946187950197077,
          -6.910888245416147,
          -7.221896061998942,
          -7.08345844558063,
          -7.649994416598554,
          -6.6661917974479845,
          -6.6990706983895585,
          -6.484986210537853,
          -6.663995477726664,
          -7.850758182762525,
          -7.257437614138927,
          -6.484986210537853,
          -7.6519190005982605,
          -6.492633891705524,
          -6.492633891705524,
          -7.145005754210187,
          -6.829105805487075,
          -7.4467852304513675,
          -7.169805845276568,
          -6.591814934303491,
          -7.641359029852906,
          -8.619574239881963,
          -7.5841579310484,
          -8.589211679653648,
          -7.9125557987127015,
          -6.602116169488454,
          -6.663995477726664,
          -7.124972733267851,
          -6.9489653862626195,
          -7.9125557987127015,
          -7.3546552144404265,
          -7.683339649017219,
          -7.422354214473877,
          -7.978058479024835,
          -6.591814934303491,
          -7.870575179548389,
          -7.591060334543774,
          -7.597162581084378,
          -8.034832403807426,
          -7.017716969181785,
          -8.051443510732065,
          -6.6661917974479845,
          -7.248796308731416,
          -7.94480934878241,
          -6.918535926583818,
          -7.076880741745676,
          -6.602116169488454,
          -7.969217738895495,
          -7.652385332075352,
          -7.224092381720262,
          -6.484986210537853,
          49.06649599987921,
          3.1086018876530517,
          -1.4315274402204903,
          -3.628632997562491,
          26.48841911692213,
          197.72857348309043,
          -6.903867254407045,
          5.406462194779575,
          -8.550096648112438,
          47.96243841046036,
          21.08697773164219,
          -6.591814934303491,
          -7.935065180077702,
          -3.0786396524634796,
          0.6803930469150719,
          -2.9056082492028024,
          47.799452503635806,
          -7.257437614138927,
          9.377176868379676,
          -6.492633891705524,
          63.7104126254382,
          85.67468985550371,
          65.4682986855511,
          1.4936176292695187,
          -0.26613983916684214,
          25.764208049812687,
          -6.602116169488454,
          59.47459084587082,
          -8.832057011430566,
          -1.2977279139654296,
          -1.0466728112921952,
          -6.492633891705524,
          282.8049217894738,
          89.3169303353674,
          24.413566159230477,
          48.58623088723035,
          11.522799662773119,
          -7.836042706292247,
          49.087152323647594,
          -3.5239128708896015,
          -5.114451924479021,
          -7.671174354251827,
          43.01277304892583,
          52.176190269200575,
          177.6210488311419,
          21.54272943759468,
          -9.9233600795216,
          -9.72699903671424,
          4.825306712019682,
          -6.708261823149634,
          44.903391825232745,
          -6.492633891705524,
          66.10431885665841,
          -6.591814934303491,
          40.32899963358001,
          -7.696177471627254,
          36.02855261321355,
          59.0085236910254,
          -2.8600733406089884,
          -6.591814934303491,
          -6.492633891705524,
          -1.595984967769933,
          49.417959777467445,
          2.630161166724308,
          -6.514687660702791,
          -6.257707207007732,
          -4.3504844026186715,
          20.573625831707393,
          97.60463923382952,
          -7.082085528768207,
          -6.185243635105403,
          170.30978701928123,
          5.653750881782665,
          -7.641359029852906,
          2.0181554857171786,
          26.84022278786504,
          24.336243624491154,
          127.90380061082068,
          17.51543657399405,
          -7.218018807793313,
          -4.921325424260005,
          0.2124036474118869,
          -8.113963887459656,
          -4.747800032353235,
          -7.386846902465511,
          99.91007837250366,
          62.75067189178115,
          -8.786670751027675,
          -6.484986210537853,
          160.94620157412655,
          -9.905415284724448,
          35.416761598178724,
          79.03956153208871,
          -2.520072304953454,
          -1.494617654583167,
          -8.291481521638616,
          -9.401763418607295,
          -7.434769005869693,
          2.9895783036114167,
          -5.502810471808196,
          -3.8444434190355796,
          -6.6661917974479845,
          102.52004384759564,
          -5.367636551869025,
          78.02190466118027,
          -7.518213990454583,
          -7.068653118476155,
          -5.221794660480854,
          68.39055742983302,
          -8.08406309631635,
          108.2239718059432,
          -0.691027115702207,
          49.97759537699903,
          -6.591814934303491,
          80.95111667749055,
          -6.591814934303491,
          -7.169805845276568,
          -6.492633891705524,
          -1.374619777915206,
          -6.591814934303491,
          -7.884874073721059,
          41.552332308679254,
          16.448726166078266,
          -6.514687660702791,
          -7.489076980732058,
          17.356871974642495,
          30.854036344604477,
          36.89641704884396,
          -6.514687660702791,
          -6.711333965216952,
          6.845854468073635,
          4.829648598698617,
          123.7782803952565,
          44.84628152452579,
          -7.050534475977802,
          14.23787862860702,
          107.52253318719326,
          132.70298887354562,
          2.9729806597352706,
          -6.492633891705524,
          -5.6867313810692375,
          -7.496705817324927,
          -7.422354214473877,
          44.83078782754274,
          -7.643822684329292,
          -6.492633891705524,
          -8.890530972044628,
          -7.257437614138927,
          -4.855919466223268,
          -2.5793367208072397,
          11.717642220355918,
          -4.651754871085657,
          -6.6661917974479845,
          -4.0233349433223005,
          -1.284593756813715,
          13.974441463441373,
          5.954706147571774,
          17.98923742044417,
          5.592213578080762,
          -6.591814934303491,
          179.46627176732707,
          18.292984980152458,
          144.63476587910327,
          -4.651666119633057,
          26.103546483216924,
          -5.747399351570486,
          -6.602116169488454,
          -6.6661917974479845,
          -7.257437614138927,
          34.53511540240193,
          146.43315668388797,
          40.080668878210254,
          -6.492633891705524,
          106.77766926936607,
          -6.5499344744152665,
          277.9042129342985,
          -7.226250770488348,
          -6.484986210537853,
          42.75880251322043,
          -7.899012561956999,
          34.26868152300018,
          105.74907474117614,
          -6.484986210537853,
          -1.863581841894561,
          30.84929071312679,
          -7.257437614138927,
          92.92593863032964,
          444.93505186521224,
          -0.3430820495543676,
          -5.778260862433459,
          -6.492633891705524,
          -7.43348095905592,
          11.467267310442079,
          -6.492633891705524,
          8.686753976778693,
          -5.50673490867377,
          -7.641359029852906,
          -6.514687660702791,
          7.413563013581317,
          -7.917870766690266,
          55.21879661870552,
          19.887614256278244,
          -6.514687660702791,
          0.8780511313949897,
          19.740640722287534,
          2.3650018802585695,
          -6.335188565680218,
          -7.561943171944472,
          -6.492633891705524,
          15.462282393358322,
          -6.492633891705524,
          -8.797210975735238,
          -7.904354621063998,
          41.94534231258282,
          -6.591814934303491,
          4.205760672695778
         ],
         "y": [
          -2.2768785866293992,
          -1.6042343136492232,
          -0.709985339142007,
          -2.10797515194857,
          -0.7600005347058292,
          -0.7431202300042726,
          -2.0904270721493794,
          -1.8921230677521683,
          -2.1944484847228307,
          -2.2861067758137468,
          -2.25293996428698,
          -0.2859891338036403,
          -0.09516568032659922,
          -2.071352546228795,
          0.3427273639787093,
          -2.0714191845257113,
          -1.9114676901038659,
          -2.202476174817306,
          -2.2768785866293992,
          -0.7650353293999127,
          -2.0458969394972675,
          -1.6583609505435484,
          -2.3434661184597023,
          -2.1159286996311586,
          -1.9659063482695536,
          -0.13933216830371975,
          -2.2887431828204665,
          -1.612105200379422,
          -2.294015720131245,
          -2.025881994975584,
          -0.18103880062490652,
          -2.3434661184597023,
          -2.2578706990057316,
          -0.7943836133152546,
          -0.5012029954964181,
          -1.7613390668313773,
          -2.307751070444134,
          -1.7066740096969644,
          -1.3000079076161537,
          -2.2861067758137468,
          -0.7906303202154568,
          -1.5610115886832698,
          -0.6775704327992607,
          -2.037660828158224,
          -0.7210842824481762,
          -2.1489312984005333,
          -0.48219510787275033,
          -0.8588369909517076,
          -0.41170248018691197,
          -0.41786708667890005,
          -2.2861067758137468,
          -1.31443867957777,
          0.4377557954932359,
          -1.7700962239798648,
          -0.16323954427910148,
          -2.1411419634753366,
          -2.2861067758137468,
          -0.7692287238901768,
          -1.0398345632371582,
          -2.357437934414146,
          -0.10167486756371225,
          -2.2578706990057316,
          -0.7924154410485756,
          -1.3074774664274695,
          -2.189517750004079,
          -1.6042343136492232,
          -2.2578706990057316,
          -2.2861067758137468,
          -1.9634542263525676,
          -0.7734075534249079,
          -0.045063070134734984,
          -1.7700962239798648,
          -0.7685717443553803,
          -2.222684561530846,
          -2.0315871451669607,
          -1.6477115225850434,
          0.0231511005869669,
          -0.2223057897653642,
          -1.0030141525165917,
          -2.2578706990057316,
          0.42507595231815554,
          -2.1064721558793265,
          0.18026143986458232,
          -2.058592252176466,
          -0.5024685174306323,
          -1.6385908984782893,
          -0.265665623049128,
          -0.3354369847723314,
          -1.4651166840069332,
          -0.9133461001323415,
          -0.48219510787275033,
          -0.15593489148932826,
          -1.4529452715487123,
          -1.5143242851061496,
          -1.9824621139762355,
          -0.28638498358306147,
          -2.038627174136004,
          -1.7066740096969644,
          -0.19118951609900003,
          -1.7066740096969644,
          -1.28986400292386,
          -1.3472518720478373,
          -1.5948760088853202,
          -1.71963243451019,
          -0.4615951603939731,
          -2.2535249711586682,
          -2.3685368777203153,
          -2.058641068166609,
          -0.7027281850188742,
          -1.9310393200098213,
          -0.8405598824905762,
          -2.218954446748078,
          -2.0664875720986373,
          -0.8447317455380995,
          -0.6386541805416075,
          -1.6283120741961383,
          -2.0776489557902766,
          -1.7116047444157152,
          -0.3354369847723314,
          0.44500416124431486,
          -2.2800439041768015,
          -0.7692287238901768,
          -2.302036338849013,
          -0.5406333105553258,
          -2.2861067758137468,
          -0.17765725036242086,
          -1.1220038504540701,
          -2.272532858782336,
          -2.3353700661935486,
          -1.7359885187054296,
          -2.058592252176466,
          -0.7020763948245083,
          -2.058592252176466,
          -2.2861067758137468,
          -0.40245730275027647,
          -0.24967716790134403,
          -0.28638498358306147,
          -2.3051146634374144,
          -1.8921230677521683,
          -1.803263035506631,
          -1.4478686516829093,
          -2.25293996428698,
          -0.7718651308968966,
          -0.7600005347058292,
          -1.5734960880542688,
          -1.5500166575604368,
          -0.031743466043698376,
          -1.911130955375836,
          -2.1698943701622273,
          -2.2861067758137468,
          -2.320563240674755,
          -1.538685917438432,
          -2.272532858782336,
          -0.565910213227541,
          -0.530581196572723,
          -2.2861067758137468,
          -2.3685368777203153,
          -0.6386541805416075,
          -0.6716354449621669,
          -2.3434661184597023,
          -1.7116047444157152,
          -2.2578706990057316,
          -1.6042343136492232,
          -0.564625209779319,
          -0.10167486756371225,
          -1.020372061091149,
          -1.6251314116414544,
          -1.9782832844415046,
          -2.10797515194857,
          -0.3354369847723314,
          -2.044552937665669,
          -1.9619118038245564,
          -1.707259016568652,
          -0.19091538632420446,
          -1.4130094422278205,
          -1.7072045167761245,
          -0.8485805012083437,
          0.14740675553478394,
          -1.8508138363615716,
          -2.10797515194857,
          -0.7692287238901768,
          -1.6726884921580623,
          -2.2861067758137468,
          -0.09522714845585223,
          -2.2861067758137468,
          -1.7323236964631403,
          -0.9329976271653083,
          -1.7398408212237306,
          -1.4156458492345403,
          -1.6598221757531872,
          -0.7210842824481762,
          -1.7306799834829858,
          -2.25293996428698,
          -2.1944484847228307,
          -1.5846944335058868,
          -1.121390573342108,
          -0.7734075534249079,
          -1.618552919487282,
          -0.2890213905897812,
          -2.2887431828204665,
          -2.10797515194857,
          -1.6042343136492232,
          -2.290285605348478,
          -0.7210842824481762,
          -0.3354369847723314,
          -1.6042343136492232,
          -1.707561513548023,
          -2.2861067758137468,
          -2.2861067758137468,
          -1.8677653156320906,
          -2.0777197491924357,
          -1.9619118038245564,
          -1.7116047444157152,
          -2.25293996428698,
          -0.10167486756371225,
          0.1697083486099663,
          -1.0330612532120211,
          0.42519622083579733,
          0.21082896981768473,
          -2.2535249711586682,
          -2.290285605348478,
          -1.6251314116414544,
          -2.058592252176466,
          0.21082896981768473,
          -1.3060490821058852,
          0.14740675553478394,
          -2.307751070444134,
          -0.7924154410485756,
          -2.25293996428698,
          -0.0382526532808114,
          -1.535375373455281,
          -1.667257769200085,
          -1.20037847044014,
          -1.7700962239798648,
          -1.9500472076334892,
          -2.2887431828204665,
          -2.3051146634374144,
          -0.04510885765856665,
          -1.803263035506631,
          -2.4258962203662713,
          -2.2535249711586682,
          -0.6162645550903246,
          -1.4519013982953544,
          -0.7718651308968966,
          -1.6042343136492232,
          -28.757048860256784,
          -19.16190333946011,
          52.047578478424526,
          -12.366200761363961,
          2.279406487768044,
          -33.52794776224053,
          0.38762059403298205,
          -8.430041363688648,
          -0.09002108190842717,
          -12.912584307485014,
          13.289519333985801,
          -2.25293996428698,
          -0.8841791855307746,
          -10.350101547521433,
          -5.172792146089394,
          -1.7616514195971784,
          -29.363753899615585,
          -0.3354369847723314,
          15.214022535969454,
          -2.2861067758137468,
          -37.385127102203256,
          -47.567971448169985,
          301.45102991816816,
          -4.097370862763045,
          -3.2986690856728385,
          -36.30172236346638,
          -2.2535249711586682,
          276.7950361343467,
          2.6923312620707183,
          -10.880759722769211,
          -14.251589876184333,
          -2.2861067758137468,
          -15.358173203659796,
          -50.070189935464036,
          -19.91292497273139,
          -11.776367384672795,
          -4.761247165789537,
          -1.1349390003903985,
          -32.693553305182476,
          2.845419280001929,
          -1.3516329265257685,
          -1.978281898427109,
          4.645745679796866,
          139.32907445902856,
          157.49413904128423,
          -16.30213017947672,
          -0.9639646062657462,
          -0.913181882028612,
          26.567084442681487,
          9.513931885550116,
          -22.714590671061337,
          -2.2861067758137468,
          -9.038529120238243,
          -2.25293996428698,
          -10.891273219405058,
          0.07029898663242751,
          93.01664029731648,
          61.21915656025759,
          0.9488741571032193,
          -2.25293996428698,
          -2.2861067758137468,
          51.176065752046895,
          -30.095795288315173,
          -19.669054102891735,
          -2.2578706990057316,
          -3.1693251621991334,
          -8.351383902172188,
          11.801762902577797,
          -71.3234956947058,
          -1.5033704094126636,
          7.228843041110364,
          -46.27150384833936,
          -4.545774204523746,
          -0.10167486756371225,
          -7.447285760064922,
          -8.363122571737737,
          -6.004394521387193,
          15.589080984840708,
          -8.709130573941142,
          -2.0894541766788457,
          -7.607272791142191,
          -7.76842361405517,
          -0.8760263311476723,
          -5.268089623446943,
          -1.8009474418493248,
          -55.53913695517014,
          -27.810040248391864,
          -0.10776766550330574,
          -1.6042343136492232,
          241.03030356304888,
          3.5014558520223322,
          18.114851237907917,
          332.0631336911001,
          -3.0563259150949436,
          0.42692857816763896,
          0.37484925824753945,
          -0.1539087828499901,
          -1.1093862495616138,
          -18.95269924982813,
          -6.237818339854919,
          -0.26443129608216864,
          -2.2887431828204665,
          11.069187458772753,
          12.377822540682644,
          274.02513328860744,
          3.529735302974688,
          -2.0331612524225227,
          -1.1236932009390057,
          0.5842011396176954,
          -2.261094832787591,
          76.29792951606306,
          10.770212482176849,
          4.461832457232091,
          -2.25293996428698,
          -17.59201643877825,
          -2.25293996428698,
          -1.7116047444157152,
          -2.2861067758137468,
          -11.281882629988889,
          -2.25293996428698,
          -2.5336067465888257,
          -10.229986985710715,
          -7.835900592191774,
          -2.2578706990057316,
          -2.4187363016096772,
          -39.2673160702172,
          159.89544142968393,
          -4.482775330278734,
          -2.2578706990057316,
          -1.9585382809317107,
          -0.1323130668937429,
          38.12079713634052,
          -120.90293319599826,
          -11.825734986817714,
          -0.7692287238901768,
          -8.053574318382479,
          -32.819680282955176,
          14.468830029533226,
          2.2968009491880235,
          -2.2861067758137468,
          14.776343759206426,
          -0.48219510787275033,
          -2.307751070444134,
          -12.22299882276025,
          -0.31144292121425143,
          -2.2861067758137468,
          1.542584329311063,
          -0.3354369847723314,
          -0.2916505375389007,
          0.3336456171562241,
          -5.548866230965414,
          0.766084525416535,
          -2.2887431828204665,
          47.97895267648205,
          46.48169585037966,
          1.0551586097160373,
          46.33200134762185,
          92.67342958097771,
          1.0363772567755507,
          -2.25293996428698,
          4.92054899205298,
          -16.459300455376987,
          17.836862808630425,
          18.14334177496216,
          -6.6071583272199526,
          14.265742784874579,
          -2.2535249711586682,
          -2.2887431828204665,
          -0.3354369847723314,
          -10.216801804911434,
          -102.18263408897184,
          -11.126011853058216,
          -2.2861067758137468,
          -95.2412879793788,
          -2.3434661184597023,
          -20.47466986710935,
          -2.703371047893684,
          -1.6042343136492232,
          -26.832542038254456,
          -0.7494903247097504,
          -23.01155069928588,
          -57.579874586382424,
          -1.6042343136492232,
          -2.2613225998276496,
          17.860798451171505,
          -0.3354369847723314,
          -30.07359684330061,
          -177.239715004906,
          -13.094984740132714,
          -4.518723282604418,
          -2.2861067758137468,
          -0.703213367499731,
          69.55628663599776,
          -2.2861067758137468,
          -5.706601186728984,
          -0.2852418781323191,
          -0.10167486756371225,
          -2.2578706990057316,
          -0.0428242820069491,
          -2.6579353717007335,
          -17.666581380158235,
          107.66635323903364,
          -2.2578706990057316,
          0.7238156877029124,
          10.415094633476867,
          -3.0959767612455487,
          13.486454302445708,
          -0.9933175309464611,
          -2.2861067758137468,
          14.387830512322992,
          -2.2861067758137468,
          0.4376241931718089,
          -1.7369966101281324,
          -25.220081679068823,
          -2.25293996428698,
          -7.655486560111437
         ],
         "z": [
          -1.614676623109067,
          -1.111861089916348,
          -2.957285934582918,
          -1.0608456983353434,
          -2.8639411265265005,
          -1.3364046325148644,
          -1.4481118182888484,
          -2.076640058815783,
          -1.7510358931180736,
          -1.1040408658133398,
          -1.2093022434223186,
          -2.5432349781956995,
          -1.6299168215607762,
          -1.1878928086834544,
          -1.917080283088177,
          -0.9528238900242112,
          -0.7162228709988611,
          -1.0987733365367052,
          -1.614676623109067,
          -1.700457201277073,
          -0.7393912668422739,
          -1.6652040734212599,
          -1.2271729418959085,
          -0.8581913167443821,
          -0.8468087176122465,
          -2.6322977921219084,
          -1.08576035312671,
          -0.3841008153499835,
          -1.722285543914673,
          -0.8405094108515009,
          -2.29326373103953,
          -1.2271729418959085,
          -1.1193886948444298,
          -0.07435795476609486,
          -2.4860997716853372,
          -0.41235202934845316,
          -1.5810482813913471,
          -1.493562195590089,
          -2.2548381684417746,
          -1.1040408658133398,
          -2.424512374471903,
          -1.0118793690693653,
          -3.000300396535507,
          -0.758064648787101,
          -2.834329184746222,
          -1.2169592838313597,
          -1.9908118434207005,
          -1.6013549147695108,
          -2.6035692412544744,
          -1.8616556477294761,
          -1.1040408658133398,
          -1.8571510734621959,
          -1.2897935793087725,
          -0.8619149973164455,
          -1.6041433510893763,
          -0.9555843207263646,
          -1.1040408658133398,
          -2.3533053692307733,
          -1.8109737592783393,
          -1.0906383456410293,
          -1.5865789323439594,
          -1.1193886948444298,
          -2.8209266645739115,
          -1.1738994367858782,
          -1.8409494416959624,
          -1.111861089916348,
          -1.1193886948444298,
          -1.1040408658133398,
          -2.0632375386434725,
          -2.325638736309274,
          -2.262542902511372,
          -0.8619149973164455,
          -2.3368908684384953,
          -1.7356880640869834,
          -2.212435535969956,
          -0.2498976185019708,
          -2.2697600896333947,
          -2.6211508206062653,
          -0.9674640933252954,
          -1.1193886948444298,
          -1.963271536789744,
          -1.850217119887986,
          -1.2717814669169816,
          -0.7350738757390328,
          -0.34691309066311293,
          -0.4737064069645812,
          -2.629603430449387,
          -1.9980149177384827,
          -0.4051501916594178,
          -0.8837347416323897,
          -1.9908118434207005,
          -1.5965004070723983,
          -1.9357183218941438,
          -1.7146867806557533,
          -2.55852546690811,
          -2.0059181231248995,
          -1.9911724809189406,
          -1.493562195590089,
          -1.7105589923503366,
          -1.493562195590089,
          -1.973389351697218,
          -2.7347782676753223,
          -1.239844272894135,
          -0.751386090430832,
          -1.93840065976587,
          -1.223837450890977,
          -0.9676815958043334,
          -0.7351176852746685,
          -3.0215801468673926,
          -2.1062520005960614,
          -2.3399028490584626,
          -1.0897767530641516,
          -1.3533118717439425,
          -0.49140677180247794,
          -2.9706884547552286,
          -0.33911323413278194,
          -1.2304056135393058,
          -1.4036486470122003,
          -1.9980149177384827,
          -1.928535955668009,
          -1.858820140169552,
          -2.3533053692307733,
          -1.6359563734409526,
          -2.1995812948671634,
          -1.1040408658133398,
          -1.4970060487584096,
          -2.0949112726623778,
          -1.7191253791556143,
          -1.0729429734133122,
          -1.6943143581048008,
          -0.7350738757390328,
          -2.339041256481585,
          -0.7350738757390328,
          -1.1040408658133398,
          -2.460755325411343,
          -2.4622516588376406,
          -2.0059181231248995,
          -1.599328794077977,
          -2.076640058815783,
          -0.7566536197074666,
          -1.9950367151725041,
          -1.2093022434223186,
          -2.335024856544143,
          -2.8639411265265005,
          -1.703066199480904,
          0.05502560185815486,
          -2.2615640198344202,
          -2.5719279870804206,
          -1.2185699216143424,
          -1.1040408658133398,
          -1.247093912269309,
          -2.356055261267942,
          -1.7191253791556143,
          -1.2133717673980045,
          -2.019056705277902,
          -1.1040408658133398,
          -0.9676815958043334,
          -2.9706884547552286,
          -0.13571233238222313,
          -1.2271729418959085,
          -1.4036486470122003,
          -1.1193886948444298,
          -1.111861089916348,
          -1.8544525734116941,
          -1.5865789323439594,
          -1.678860277483298,
          -0.7134584522294702,
          -2.586192099829609,
          -1.0608456983353434,
          -1.9980149177384827,
          -1.6924928966089872,
          -2.0726236588783413,
          -1.5080974030587475,
          -1.4945364342287224,
          -2.3751641237327417,
          -0.24340710528040654,
          -2.2535736785847424,
          -1.650627671632609,
          -1.2186471741240232,
          -1.0608456983353434,
          -2.3533053692307733,
          -1.374036705231922,
          -1.1040408658133398,
          -1.6333653187674162,
          -1.1040408658133398,
          -1.7237849580642175,
          -1.6415137162231026,
          -1.3883008179811103,
          -2.3568836110461113,
          -2.3302351379460498,
          -2.834329184746222,
          -1.9371800972013615,
          -1.2093022434223186,
          -1.7510358931180736,
          -2.3483101683912495,
          -0.7644738438104748,
          -2.325638736309274,
          -0.33731442892652674,
          -1.9876376104382694,
          -1.08576035312671,
          -1.0608456983353434,
          -1.111861089916348,
          -1.076374232891841,
          -2.834329184746222,
          -1.9980149177384827,
          -1.111861089916348,
          -0.5770991822204637,
          -1.1040408658133398,
          -1.1040408658133398,
          -0.6961960993642775,
          -1.5872315190000081,
          -2.0726236588783413,
          -1.4036486470122003,
          -1.2093022434223186,
          -1.5865789323439594,
          -1.9412688926334787,
          -1.1209494529825885,
          -1.9629131884044768,
          -2.282274869906253,
          -1.223837450890977,
          -1.076374232891841,
          -0.7134584522294702,
          -0.7350738757390328,
          -2.282274869906253,
          -1.03301036648882,
          -1.650627671632609,
          -1.5810482813913471,
          -2.8209266645739115,
          -1.2093022434223186,
          -2.2182261306176034,
          -1.7993590518851375,
          -2.5688272954750055,
          -1.4616633627111504,
          -0.8619149973164455,
          -2.601539928860699,
          -1.08576035312671,
          -1.599328794077977,
          -2.261077771136141,
          -0.7566536197074666,
          -1.0908136718869021,
          -1.223837450890977,
          -1.622065764841344,
          -0.26500389820616976,
          -2.335024856544143,
          -1.111861089916348,
          -47.73838562438819,
          -1.7754087335688662,
          -6.415052583996592,
          -7.150181109906605,
          -1.2936204670452434,
          -72.53406411100246,
          -1.3295700679575582,
          -13.927365546787575,
          -2.4042964926489345,
          153.01216694076848,
          5.810494640469477,
          -1.2093022434223186,
          -2.1078203828389386,
          -4.653193596453798,
          -8.277663004475416,
          12.430757716345544,
          -45.01318355169733,
          -1.9980149177384827,
          40.59130554531488,
          -1.1040408658133398,
          -58.05076935892226,
          -75.64670833822363,
          -43.77933907258448,
          -6.266087611326429,
          5.357469207360337,
          -40.28016525799091,
          -1.223837450890977,
          -40.41544868660549,
          -3.593159653987655,
          -2.7555712404066046,
          -3.074459640015446,
          -1.1040408658133398,
          -7.102138102097232,
          -78.59076325266747,
          23.680492597661825,
          159.40709851257688,
          53.281447422787046,
          -0.7170575856616412,
          -49.06597017622215,
          -1.1861396664648445,
          -1.4331821655550427,
          -1.2986566625975868,
          2.9804145480089788,
          -14.278710511573255,
          -17.305113705741675,
          -24.628068216855958,
          -0.9288737825690143,
          -1.0828687672757233,
          5.074698522585435,
          -0.8474419585687838,
          -28.57495178175851,
          -1.1040408658133398,
          121.1396402321751,
          -1.2093022434223186,
          138.740904827613,
          -1.641438671389184,
          34.00997127630811,
          1.193849452030932,
          2.874444296812717,
          -1.2093022434223186,
          -1.1040408658133398,
          -6.9733241808303115,
          -46.44592595349275,
          -2.29011639354544,
          -1.1193886948444298,
          6.327389017147199,
          -4.303180873973734,
          23.811089317667122,
          -97.00948841489982,
          3.5906548047649856,
          -2.2494623130268763,
          372.5106436384729,
          11.748838090435656,
          -1.5865789323439594,
          5.801176200651076,
          94.8526890599362,
          73.63633314507554,
          8.9595892461849,
          25.112252341120683,
          -0.8656037377785903,
          -5.854083735580581,
          -7.005751005865932,
          -2.144937263040094,
          -1.7784815932899873,
          -0.4712467739610686,
          -88.06463334640928,
          -39.32990642553078,
          -2.460251857176919,
          -1.111861089916348,
          -34.37057761904126,
          -3.882207098161321,
          7.232322835853697,
          -51.620170820100945,
          10.136072971789734,
          2.0218064791304755,
          -3.3016777883733495,
          -2.6057358049496804,
          3.6824884384789622,
          -1.7670859914066075,
          -5.256055213769765,
          -2.9522491460395437,
          -1.08576035312671,
          8.190448356582458,
          -3.726324091428333,
          -41.2955778582333,
          -2.5630377706684886,
          -0.8433828070645266,
          5.645470563703871,
          58.006994439164295,
          -0.4039964347876177,
          -92.10454113578295,
          -0.6551309726817773,
          -0.3192037743792763,
          -1.2093022434223186,
          100.319045302894,
          -1.2093022434223186,
          -1.4036486470122003,
          -1.1040408658133398,
          -1.461918778790459,
          -1.2093022434223186,
          6.699343795860294,
          135.67798115870625,
          39.47602425148936,
          -1.1193886948444298,
          -0.8227922122642046,
          -34.65690274334426,
          -27.556443174269006,
          30.389258334121365,
          -1.1193886948444298,
          -1.0769369779534401,
          -1.8393294466157184,
          -6.361436768787907,
          -123.54661373039085,
          145.8840156602792,
          -2.3533053692307733,
          21.863655080620966,
          194.4671132246233,
          0.1870312102191034,
          1.723705245238524,
          -1.1040408658133398,
          -3.280149749661197,
          -1.9908118434207005,
          -1.5810482813913471,
          144.28772687666188,
          -2.296992976114052,
          -1.1040408658133398,
          -2.1459409590888363,
          -1.9980149177384827,
          1.4606057380162527,
          1.3850325829879266,
          18.427386363294296,
          -1.701715389939981,
          -1.08576035312671,
          -7.529214179473815,
          -4.943775631475093,
          1.4814506038068023,
          -7.58962145816501,
          -15.949324484785578,
          6.182062600595105,
          -1.2093022434223186,
          148.48051940960028,
          -23.010001312386645,
          0.6807223770007109,
          -2.5464924018898563,
          31.587550629023518,
          -3.236955457236238,
          -1.223837450890977,
          -1.08576035312671,
          -1.9980149177384827,
          115.02845429372066,
          -138.10647796164076,
          136.00711587412366,
          -1.1040408658133398,
          -100.02603216259399,
          -1.2271729418959085,
          205.39547735655313,
          4.058738395134345,
          -1.111861089916348,
          -40.96970306522655,
          -2.707940665766765,
          -35.176908495048096,
          -91.88202160023117,
          -1.111861089916348,
          16.19152389638,
          32.180354271574245,
          -1.9980149177384827,
          170.26122938555488,
          -259.42928005173076,
          -1.534049210863367,
          -3.6172357819111998,
          -1.1040408658133398,
          -2.6834418207110082,
          -10.396791975691102,
          -1.1040408658133398,
          26.266556441279093,
          -1.3419275421151624,
          -1.5865789323439594,
          -1.1193886948444298,
          -1.8385173343843086,
          2.664575217020356,
          20.704791649019008,
          -20.382963584818437,
          -1.1193886948444298,
          6.372294873895239,
          6.7328554991018255,
          29.542073479283307,
          -3.405326472955193,
          -0.3212971500930566,
          -1.1040408658133398,
          18.24085121556988,
          -1.1040408658133398,
          -2.0217460349034484,
          -1.6951101112406595,
          -42.08095441042995,
          -1.2093022434223186,
          -10.606661308758541
         ]
        }
       ],
       "layout": {
        "height": 700,
        "scene": {
         "camera": {
          "center": {
           "x": 0,
           "y": 0,
           "z": 0
          },
          "eye": {
           "x": 1.25,
           "y": 1.25,
           "z": 1.25
          },
          "up": {
           "x": 0,
           "y": 0,
           "z": 0
          }
         },
         "xaxis": {
          "backgroundcolor": "rgb(230, 230,230)",
          "gridcolor": "rgb(255, 255, 255)",
          "showbackground": true,
          "title": {
           "text": "COMP1"
          },
          "zerolinecolor": "rgb(255, 255, 255)"
         },
         "yaxis": {
          "backgroundcolor": "rgb(230, 230,230)",
          "gridcolor": "rgb(255, 255, 255)",
          "showbackground": true,
          "title": {
           "text": "COMP3"
          },
          "zerolinecolor": "rgb(255, 255, 255)"
         },
         "zaxis": {
          "backgroundcolor": "rgb(230, 230,230)",
          "gridcolor": "rgb(255, 255, 255)",
          "showbackground": true,
          "title": {
           "text": "COMP2"
          },
          "zerolinecolor": "rgb(255, 255, 255)"
         }
        },
        "template": {
         "data": {
          "bar": [
           {
            "error_x": {
             "color": "#2a3f5f"
            },
            "error_y": {
             "color": "#2a3f5f"
            },
            "marker": {
             "line": {
              "color": "#E5ECF6",
              "width": 0.5
             }
            },
            "type": "bar"
           }
          ],
          "barpolar": [
           {
            "marker": {
             "line": {
              "color": "#E5ECF6",
              "width": 0.5
             }
            },
            "type": "barpolar"
           }
          ],
          "carpet": [
           {
            "aaxis": {
             "endlinecolor": "#2a3f5f",
             "gridcolor": "white",
             "linecolor": "white",
             "minorgridcolor": "white",
             "startlinecolor": "#2a3f5f"
            },
            "baxis": {
             "endlinecolor": "#2a3f5f",
             "gridcolor": "white",
             "linecolor": "white",
             "minorgridcolor": "white",
             "startlinecolor": "#2a3f5f"
            },
            "type": "carpet"
           }
          ],
          "choropleth": [
           {
            "colorbar": {
             "outlinewidth": 0,
             "ticks": ""
            },
            "type": "choropleth"
           }
          ],
          "contour": [
           {
            "colorbar": {
             "outlinewidth": 0,
             "ticks": ""
            },
            "colorscale": [
             [
              0,
              "#0d0887"
             ],
             [
              0.1111111111111111,
              "#46039f"
             ],
             [
              0.2222222222222222,
              "#7201a8"
             ],
             [
              0.3333333333333333,
              "#9c179e"
             ],
             [
              0.4444444444444444,
              "#bd3786"
             ],
             [
              0.5555555555555556,
              "#d8576b"
             ],
             [
              0.6666666666666666,
              "#ed7953"
             ],
             [
              0.7777777777777778,
              "#fb9f3a"
             ],
             [
              0.8888888888888888,
              "#fdca26"
             ],
             [
              1,
              "#f0f921"
             ]
            ],
            "type": "contour"
           }
          ],
          "contourcarpet": [
           {
            "colorbar": {
             "outlinewidth": 0,
             "ticks": ""
            },
            "type": "contourcarpet"
           }
          ],
          "heatmap": [
           {
            "colorbar": {
             "outlinewidth": 0,
             "ticks": ""
            },
            "colorscale": [
             [
              0,
              "#0d0887"
             ],
             [
              0.1111111111111111,
              "#46039f"
             ],
             [
              0.2222222222222222,
              "#7201a8"
             ],
             [
              0.3333333333333333,
              "#9c179e"
             ],
             [
              0.4444444444444444,
              "#bd3786"
             ],
             [
              0.5555555555555556,
              "#d8576b"
             ],
             [
              0.6666666666666666,
              "#ed7953"
             ],
             [
              0.7777777777777778,
              "#fb9f3a"
             ],
             [
              0.8888888888888888,
              "#fdca26"
             ],
             [
              1,
              "#f0f921"
             ]
            ],
            "type": "heatmap"
           }
          ],
          "heatmapgl": [
           {
            "colorbar": {
             "outlinewidth": 0,
             "ticks": ""
            },
            "colorscale": [
             [
              0,
              "#0d0887"
             ],
             [
              0.1111111111111111,
              "#46039f"
             ],
             [
              0.2222222222222222,
              "#7201a8"
             ],
             [
              0.3333333333333333,
              "#9c179e"
             ],
             [
              0.4444444444444444,
              "#bd3786"
             ],
             [
              0.5555555555555556,
              "#d8576b"
             ],
             [
              0.6666666666666666,
              "#ed7953"
             ],
             [
              0.7777777777777778,
              "#fb9f3a"
             ],
             [
              0.8888888888888888,
              "#fdca26"
             ],
             [
              1,
              "#f0f921"
             ]
            ],
            "type": "heatmapgl"
           }
          ],
          "histogram": [
           {
            "marker": {
             "colorbar": {
              "outlinewidth": 0,
              "ticks": ""
             }
            },
            "type": "histogram"
           }
          ],
          "histogram2d": [
           {
            "colorbar": {
             "outlinewidth": 0,
             "ticks": ""
            },
            "colorscale": [
             [
              0,
              "#0d0887"
             ],
             [
              0.1111111111111111,
              "#46039f"
             ],
             [
              0.2222222222222222,
              "#7201a8"
             ],
             [
              0.3333333333333333,
              "#9c179e"
             ],
             [
              0.4444444444444444,
              "#bd3786"
             ],
             [
              0.5555555555555556,
              "#d8576b"
             ],
             [
              0.6666666666666666,
              "#ed7953"
             ],
             [
              0.7777777777777778,
              "#fb9f3a"
             ],
             [
              0.8888888888888888,
              "#fdca26"
             ],
             [
              1,
              "#f0f921"
             ]
            ],
            "type": "histogram2d"
           }
          ],
          "histogram2dcontour": [
           {
            "colorbar": {
             "outlinewidth": 0,
             "ticks": ""
            },
            "colorscale": [
             [
              0,
              "#0d0887"
             ],
             [
              0.1111111111111111,
              "#46039f"
             ],
             [
              0.2222222222222222,
              "#7201a8"
             ],
             [
              0.3333333333333333,
              "#9c179e"
             ],
             [
              0.4444444444444444,
              "#bd3786"
             ],
             [
              0.5555555555555556,
              "#d8576b"
             ],
             [
              0.6666666666666666,
              "#ed7953"
             ],
             [
              0.7777777777777778,
              "#fb9f3a"
             ],
             [
              0.8888888888888888,
              "#fdca26"
             ],
             [
              1,
              "#f0f921"
             ]
            ],
            "type": "histogram2dcontour"
           }
          ],
          "mesh3d": [
           {
            "colorbar": {
             "outlinewidth": 0,
             "ticks": ""
            },
            "type": "mesh3d"
           }
          ],
          "parcoords": [
           {
            "line": {
             "colorbar": {
              "outlinewidth": 0,
              "ticks": ""
             }
            },
            "type": "parcoords"
           }
          ],
          "scatter": [
           {
            "marker": {
             "colorbar": {
              "outlinewidth": 0,
              "ticks": ""
             }
            },
            "type": "scatter"
           }
          ],
          "scatter3d": [
           {
            "line": {
             "colorbar": {
              "outlinewidth": 0,
              "ticks": ""
             }
            },
            "marker": {
             "colorbar": {
              "outlinewidth": 0,
              "ticks": ""
             }
            },
            "type": "scatter3d"
           }
          ],
          "scattercarpet": [
           {
            "marker": {
             "colorbar": {
              "outlinewidth": 0,
              "ticks": ""
             }
            },
            "type": "scattercarpet"
           }
          ],
          "scattergeo": [
           {
            "marker": {
             "colorbar": {
              "outlinewidth": 0,
              "ticks": ""
             }
            },
            "type": "scattergeo"
           }
          ],
          "scattergl": [
           {
            "marker": {
             "colorbar": {
              "outlinewidth": 0,
              "ticks": ""
             }
            },
            "type": "scattergl"
           }
          ],
          "scattermapbox": [
           {
            "marker": {
             "colorbar": {
              "outlinewidth": 0,
              "ticks": ""
             }
            },
            "type": "scattermapbox"
           }
          ],
          "scatterpolar": [
           {
            "marker": {
             "colorbar": {
              "outlinewidth": 0,
              "ticks": ""
             }
            },
            "type": "scatterpolar"
           }
          ],
          "scatterpolargl": [
           {
            "marker": {
             "colorbar": {
              "outlinewidth": 0,
              "ticks": ""
             }
            },
            "type": "scatterpolargl"
           }
          ],
          "scatterternary": [
           {
            "marker": {
             "colorbar": {
              "outlinewidth": 0,
              "ticks": ""
             }
            },
            "type": "scatterternary"
           }
          ],
          "surface": [
           {
            "colorbar": {
             "outlinewidth": 0,
             "ticks": ""
            },
            "colorscale": [
             [
              0,
              "#0d0887"
             ],
             [
              0.1111111111111111,
              "#46039f"
             ],
             [
              0.2222222222222222,
              "#7201a8"
             ],
             [
              0.3333333333333333,
              "#9c179e"
             ],
             [
              0.4444444444444444,
              "#bd3786"
             ],
             [
              0.5555555555555556,
              "#d8576b"
             ],
             [
              0.6666666666666666,
              "#ed7953"
             ],
             [
              0.7777777777777778,
              "#fb9f3a"
             ],
             [
              0.8888888888888888,
              "#fdca26"
             ],
             [
              1,
              "#f0f921"
             ]
            ],
            "type": "surface"
           }
          ],
          "table": [
           {
            "cells": {
             "fill": {
              "color": "#EBF0F8"
             },
             "line": {
              "color": "white"
             }
            },
            "header": {
             "fill": {
              "color": "#C8D4E3"
             },
             "line": {
              "color": "white"
             }
            },
            "type": "table"
           }
          ]
         },
         "layout": {
          "annotationdefaults": {
           "arrowcolor": "#2a3f5f",
           "arrowhead": 0,
           "arrowwidth": 1
          },
          "colorscale": {
           "diverging": [
            [
             0,
             "#8e0152"
            ],
            [
             0.1,
             "#c51b7d"
            ],
            [
             0.2,
             "#de77ae"
            ],
            [
             0.3,
             "#f1b6da"
            ],
            [
             0.4,
             "#fde0ef"
            ],
            [
             0.5,
             "#f7f7f7"
            ],
            [
             0.6,
             "#e6f5d0"
            ],
            [
             0.7,
             "#b8e186"
            ],
            [
             0.8,
             "#7fbc41"
            ],
            [
             0.9,
             "#4d9221"
            ],
            [
             1,
             "#276419"
            ]
           ],
           "sequential": [
            [
             0,
             "#0d0887"
            ],
            [
             0.1111111111111111,
             "#46039f"
            ],
            [
             0.2222222222222222,
             "#7201a8"
            ],
            [
             0.3333333333333333,
             "#9c179e"
            ],
            [
             0.4444444444444444,
             "#bd3786"
            ],
            [
             0.5555555555555556,
             "#d8576b"
            ],
            [
             0.6666666666666666,
             "#ed7953"
            ],
            [
             0.7777777777777778,
             "#fb9f3a"
            ],
            [
             0.8888888888888888,
             "#fdca26"
            ],
            [
             1,
             "#f0f921"
            ]
           ],
           "sequentialminus": [
            [
             0,
             "#0d0887"
            ],
            [
             0.1111111111111111,
             "#46039f"
            ],
            [
             0.2222222222222222,
             "#7201a8"
            ],
            [
             0.3333333333333333,
             "#9c179e"
            ],
            [
             0.4444444444444444,
             "#bd3786"
            ],
            [
             0.5555555555555556,
             "#d8576b"
            ],
            [
             0.6666666666666666,
             "#ed7953"
            ],
            [
             0.7777777777777778,
             "#fb9f3a"
            ],
            [
             0.8888888888888888,
             "#fdca26"
            ],
            [
             1,
             "#f0f921"
            ]
           ]
          },
          "colorway": [
           "#636efa",
           "#EF553B",
           "#00cc96",
           "#ab63fa",
           "#FFA15A",
           "#19d3f3",
           "#FF6692",
           "#B6E880",
           "#FF97FF",
           "#FECB52"
          ],
          "font": {
           "color": "#2a3f5f"
          },
          "geo": {
           "bgcolor": "white",
           "lakecolor": "white",
           "landcolor": "#E5ECF6",
           "showlakes": true,
           "showland": true,
           "subunitcolor": "white"
          },
          "hoverlabel": {
           "align": "left"
          },
          "hovermode": "closest",
          "mapbox": {
           "style": "light"
          },
          "paper_bgcolor": "white",
          "plot_bgcolor": "#E5ECF6",
          "polar": {
           "angularaxis": {
            "gridcolor": "white",
            "linecolor": "white",
            "ticks": ""
           },
           "bgcolor": "#E5ECF6",
           "radialaxis": {
            "gridcolor": "white",
            "linecolor": "white",
            "ticks": ""
           }
          },
          "scene": {
           "xaxis": {
            "backgroundcolor": "#E5ECF6",
            "gridcolor": "white",
            "gridwidth": 2,
            "linecolor": "white",
            "showbackground": true,
            "ticks": "",
            "zerolinecolor": "white"
           },
           "yaxis": {
            "backgroundcolor": "#E5ECF6",
            "gridcolor": "white",
            "gridwidth": 2,
            "linecolor": "white",
            "showbackground": true,
            "ticks": "",
            "zerolinecolor": "white"
           },
           "zaxis": {
            "backgroundcolor": "#E5ECF6",
            "gridcolor": "white",
            "gridwidth": 2,
            "linecolor": "white",
            "showbackground": true,
            "ticks": "",
            "zerolinecolor": "white"
           }
          },
          "shapedefaults": {
           "line": {
            "color": "#2a3f5f"
           }
          },
          "ternary": {
           "aaxis": {
            "gridcolor": "white",
            "linecolor": "white",
            "ticks": ""
           },
           "baxis": {
            "gridcolor": "white",
            "linecolor": "white",
            "ticks": ""
           },
           "bgcolor": "#E5ECF6",
           "caxis": {
            "gridcolor": "white",
            "linecolor": "white",
            "ticks": ""
           }
          },
          "title": {
           "x": 0.05
          },
          "xaxis": {
           "automargin": true,
           "gridcolor": "white",
           "linecolor": "white",
           "ticks": "",
           "zerolinecolor": "white",
           "zerolinewidth": 2
          },
          "yaxis": {
           "automargin": true,
           "gridcolor": "white",
           "linecolor": "white",
           "ticks": "",
           "zerolinecolor": "white",
           "zerolinewidth": 2
          }
         }
        },
        "title": {
         "text": "PCA Scatter plot (3 comp = 72.7%)"
        }
       }
      },
      "text/html": [
       "<div>\n",
       "        \n",
       "        \n",
       "            <div id=\"c3c0cc01-5257-4c85-a17c-8aa27f7975b6\" class=\"plotly-graph-div\" style=\"height:700px; width:100%;\"></div>\n",
       "            <script type=\"text/javascript\">\n",
       "                require([\"plotly\"], function(Plotly) {\n",
       "                    window.PLOTLYENV=window.PLOTLYENV || {};\n",
       "                    \n",
       "                if (document.getElementById(\"c3c0cc01-5257-4c85-a17c-8aa27f7975b6\")) {\n",
       "                    Plotly.newPlot(\n",
       "                        'c3c0cc01-5257-4c85-a17c-8aa27f7975b6',\n",
       "                        [{\"marker\": {\"color\": \"#2ca02c\", \"line\": {\"width\": 1}, \"size\": 4}, \"mode\": \"markers\", \"name\": \"Present\", \"type\": \"scatter3d\", \"x\": [-7.6947313645520445, -7.9125557987127015, -7.20016857641483, -7.890706518559265, -7.246933118877268, -6.589579512082375, -6.653460819338006, -8.477707331770349, -7.672654638544185, -7.649994416598554, -6.514687660702791, -6.492633891705524, -7.48393287439235, -7.552737958000295, -7.147752076279302, -6.484986210537853, -7.55225203170842, -7.347977351329383, -7.1791719692119305, -7.013255033263806, -8.47636681950064, -6.663995477726664, -6.619934187967834, -6.591814934303491, -6.5499344744152665, -7.221896061998942, -7.544663236512194, -6.6661917974479845, -8.248529891300716, -6.591814934303491, -6.9567557152649515, -6.721850041401007, -6.492633891705524, -6.484986210537853, -7.270850077728683, -7.87125886111874, -7.4675359629114935, -6.721850041401007, -6.721850041401007, -8.016650629203003, -7.571155617536082, -6.821031083998974, -7.383739473788152, -7.420157894752556, -6.492633891705524, -6.5499344744152665, -7.409112995522008, -7.147752076279302, -6.721850041401007, -6.484986210537853, -7.061166774422071, -7.792902673419979, -6.514687660702791, -8.230555222816461, -6.514687660702791, -7.949420552170231, -7.124972733267851, -7.166895588956175, -6.8478207591168285, -7.017716969181785, -7.5454751619512175, -6.918535926583818, -7.8437933790449375, -7.033288054206141, -6.514687660702791, -7.481462437179799, -7.248796308731416, -6.6990706983895585, -7.115137118077783, -7.040897467953238, -7.501563085260555, -7.475852283375446, -7.266966139819602, -6.910888245416147, -6.696835276168443, -7.48665376383441, -7.08345844558063, -7.409031331713157, -7.409112995522008, -7.91091679593033, -6.492633891705524, -6.614995433074945, -7.277519224856824, -7.224092381720262, -7.0416339280332, -7.429952116987067, -7.2134484593501345, -7.571155617536082, -6.950789476653527, -8.031287451638397, -7.169805845276568, -6.829105805487075, -6.614995433074945, -7.221896061998942, -7.2134484593501345, -7.4760543014276895, -7.978058479024835, -6.492633891705524, -7.349543121979242, -7.636019836931575, -6.591814934303491, -6.619934187967834, -7.501563085260555, -7.508690060925803, -7.375312600601641, -6.5499344744152665, -7.050534475977802, -7.4264381265841735, -7.323811915432116, -7.949420552170231, -7.08345844558063, -7.697419484935518, -7.860828165802859, -7.674698343609711, -7.366664886485054, -6.918535926583818, -7.871299535103676, -7.422354214473877, -6.829527043636153, -6.926051425863926, -7.08345844558063, -7.025791690669886, -7.986904855716373, -7.497904785404972, -6.84207380715263, -6.492633891705524, -6.4800972342994445, -7.248796308731416, -6.492633891705524, -7.834909893758422, -7.270850077728683, -8.031250551817305, -6.514687660702791, -7.241148627563746, -6.5499344744152665, -6.492633891705524, -7.605693112445577, -6.492633891705524, -6.492633891705524, -7.749713950310407, -6.591814934303491, -6.876555307419506, -6.492633891705524, -7.688354274318591, -7.147752076279302, -7.354188882963335, -7.1401043951116305, -6.800529534338981, -7.871156996586563, -7.834909893758422, -6.962597216342648, -8.230318937289962, -6.949122032563374, -6.591814934303491, -7.248796308731416, -7.358278586514347, -6.6990706983895585, -6.599889655791591, -6.514687660702791, -7.705077441930184, -7.226483297197058, -7.037997818571723, -6.492633891705524, -6.743903810398274, -7.025791690669886, -7.246933118877268, -6.492633891705524, -7.667696888157376, -6.492633891705524, -6.492633891705524, -7.028018204366749, -7.344353267773266, -6.657190238501334, -6.492633891705524, -8.003375988854797, -7.279750625673286, -7.949420552170231, -7.009553360876318, -6.918535926583818, -7.652385332075352, -8.031287451638397, -6.5499344744152665, -7.9125557987127015, -6.6990706983895585, -7.013255033263806, -7.1324337308655705, -6.721850041401007, -6.514687660702791, -7.501563085260555, -8.031310924471425, -6.699537029866649, -7.3546552144404265, -6.492633891705524, -8.129292459562361, -7.048303075161341, -8.397521446878798, -6.599889655791591, -7.200735967291584, -6.743903810398274, -7.244697696656152, -7.275698384983279, -7.95076106443994, -6.829105805487075, -6.918535926583818, -6.492633891705524, -8.398205128449149, -7.696752112606977, -7.839620862606522, -8.089726772530945, -7.147752076279302, -7.279750625673286, -7.5168987782796375, -6.589579512082375, -6.699537029866649, -7.87125886111874, -6.941257067909626, -7.839620862606522, -7.08345844558063, -7.413352655527226, -6.492633891705524, -6.905999269177739, -7.270850077728683, -6.821031083998974, -7.420157894752556, -6.492633891705524, -7.257437614138927, -7.011932477868262, -7.356052072817484, -6.591814934303491, -7.147752076279302, -7.275283802635709, -7.784383881469336, -6.4800972342994445, -7.943801219733632, -6.599889655791591, -6.514687660702791, -6.492633891705524, -6.532358965835645, -6.587352998385512, -8.886941626378627, -7.873804086572466, -7.591487068588766, -6.591814934303491, -8.031286820021034, -7.08345844558063, -6.962597216342648, -7.050534475977802, -7.886283611544162, -6.9567557152649515, -7.413352655527226, -7.409112995522008, -7.591487068588766, -7.692540784524105, -7.653846808751084, -6.721850041401007, -6.663995477726664, -7.125439064744943, -7.422354214473877, -7.169805845276568, -7.409007227262766, -7.83490926214106, -6.514687660702791, -6.5499344744152665, -7.7033726699595535, -6.816569148080996, -7.246933118877268, -6.6661917974479845, -6.602116169488454, -7.35356353209147, -6.721850041401007, -6.591814934303491, -6.663995477726664, -7.950775587393835, -7.409031331713157, -7.1401043951116305, -6.492633891705524, -6.818795661777859, -7.3519534607422194, -6.743903810398274, -6.587352998385512, -7.871156996586563, -7.358278586514347, -7.360156620583883, -8.168305297183316, -7.806696893003695, -7.1324337308655705, -7.437834512746556, -7.683339649017219, -6.829105805487075, -6.591814934303491, -7.1559027810031575, -7.2260169657199675, -7.028018204366749, -6.893211627422147, -7.476436510856094, -7.354188882963335, -6.950157547087177, -7.413352655527226, -7.08345844558063, -6.492633891705524, -6.950789476653527, -7.806696893003695, -7.463899853450014, -7.240851708880522, -7.178338182258857, -6.765911331159838, -7.949420552170231, -6.5499344744152665, -7.205052658989044, -6.591814934303491, -7.2134484593501345, -7.978058479024835, -7.270850077728683, -7.277519224856824, -7.179815182017673, -6.918535926583818, -7.235571296200207, -6.721850041401007, -7.800608024985568, -6.492633891705524, -7.094595765736632, -7.879210566294037, -7.95076106443994, -7.410438228740986, -7.178338182258857, -8.527511460648302, -7.0580452407395935, -7.903139007228058, -6.948878085234358, -6.5499344744152665, -6.6990706983895585, -7.543315704017203, -6.653460819338006, -7.712918132290843, -7.865271880657454, -6.514687660702791, -7.674698343609711, -7.497906052372713, -7.241148627563746, -7.117641669546574, -8.610115976056289, -7.625716268993063, -6.721850041401007, -6.599889655791591, -6.591814934303491, -7.345741929108268, -7.67303770235006, -7.248796308731416, -7.353016211658055, -7.178338182258857, -7.246933118877268, -6.514687660702791, -7.011932477868262, -7.871299535103676, -8.168305297183316, -7.641359029852906, -8.063564474541133, -7.999561133351351, -7.092093832326278, -7.6519190005982605, -6.492633891705524, -7.306096891441159, -7.197515314193989, -7.1324337308655705, -7.949318687638053, -7.67303770235006, -6.948999642842033, -8.206185139785033, -6.587352998385512, -7.579144482075685, -7.839620862606522, -6.720520462854518, -7.859523996874353, -7.292857598490247, -7.301804394670552, -7.978058479024835, -6.492633891705524, -6.6737896999611745, -7.072588244975068, -7.8005984631304415, -7.95076106443994, -6.918535926583818, -6.492633891705524, -8.957446224991134, -7.126835923122, -6.589579512082375, -8.406156833624447, -7.28948790413194, -7.8202239875840505, -7.641359029852906, -6.484986210537853, -7.117641669546574, -7.125439064744943, -7.501563085260555, -7.383739473788152, -7.572627963772593, -6.918535926583818, -7.7713490436224095, -8.170476541110913, -6.492633891705524, -7.178338182258857, -7.6903343151378465, -6.918535926583818, -7.6814695914230775, -7.833598969255556, -7.949420552170231, -6.599889655791591, -7.99638132273417, -7.2134484593501345, -7.666753743758816, -7.5626971207599105, -6.918535926583818, -7.323114232558222, -6.983811071505572, -8.8856882602338, -6.536695181464355, -7.501563085260555, -7.68796619462621, -7.257437614138927, -7.48464522820993, -7.354188882963335, -6.721850041401007, -7.48665376383441, -7.200235304955369, -6.602116169488454, -6.492633891705524, -7.501563085260555, -6.599889655791591, -7.705077441930184, -7.6816160371019135, -7.270113617648722, -8.218466909533312, -6.961306905677146, -6.602116169488454, -7.820292001998833, -7.95076106443994, -7.2572343540622315, -7.850758182762525, -6.514687660702791, -7.2134484593501345, -6.536695181464355, -6.821031083998974, -8.59061840577153, -7.248796308731416, -7.08345844558063, -7.712423908364944, -7.179791709184645, -8.619550767048935, -7.6104047129110395, -6.614995433074945, -7.686017885558368, -7.2853503947405684, -6.721850041401007, -7.554381373667348, -7.705284449589266, -7.147752076279302, -7.410438228740986, -7.211361403610285, -6.6990706983895585, -7.7403947266805435, -6.831332319183938], \"y\": [-2.064904827120935, 0.21082896981768473, -1.966907739333496, -1.5466525232914883, -1.7066740096969644, -2.1698943701622273, -2.28544979627895, -1.4314959520907533, -1.6477115225850434, -0.2890213905897812, -2.2578706990057316, -2.2861067758137468, -0.4453882865772567, -1.7407283250747894, -1.7398408212237306, -1.6042343136492232, -1.669344329378537, -2.2719478519106477, -1.0632711332613092, -1.5746676221717801, -1.4319190460094662, -2.290285605348478, -2.357437934414146, -2.25293996428698, -2.3434661184597023, -0.7734075534249079, -1.8525263258864335, -2.2887431828204665, -0.6195374312077082, -2.25293996428698, -2.059155075459051, -2.222684561530846, -2.2861067758137468, -1.6042343136492232, -2.2768785866293992, -1.467586555653868, -1.8574570606051843, -2.222684561530846, -2.222684561530846, 0.2403891430511449, -0.05778957024821052, -2.189517750004079, -1.548621517967268, -2.3092934929721456, -2.2861067758137468, -2.3434661184597023, -0.8457200634473525, -1.7398408212237306, -2.222684561530846, -1.6042343136492232, -1.9810589858051573, -1.5591168691688617, -2.2578706990057316, -0.13083347066147355, -2.2578706990057316, -1.3494889441028974, -1.6251314116414544, -1.8815021895088622, -1.5550059249963346, -1.7700962239798648, -0.6971028564991506, -1.803263035506631, -0.25070944284308827, -1.8173015261624166, -2.2578706990057316, -0.8519477698651781, -2.3051146634374144, -2.10797515194857, -1.9003274670501789, -1.785248861515468, -0.7943836133152546, -2.141002949349234, -1.9493079136876, -1.121390573342108, -2.024929557823817, -0.27201477048943057, -1.618552919487282, -1.7928498131799984, -0.8457200634473525, 0.5346051082237522, -2.2861067758137468, -2.268092601822584, -1.9620520423569414, -0.7718651308968966, -2.3403008009123, -2.302036338849013, -1.7613390668313773, -0.05778957024821052, -2.0592008629828826, -1.0919023776996442, -1.7116047444157152, -2.0777197491924357, -2.268092601822584, -0.7734075534249079, -1.7613390668313773, -1.4597127152010962, -0.7924154410485756, -2.2861067758137468, -1.999348867428296, -1.62876501884702, -2.25293996428698, -2.357437934414146, -0.7943836133152546, -0.5423228110593129, -1.5648898599132375, -2.3434661184597023, -0.7692287238901768, -0.7272081059325559, -0.6386541805416075, -1.3494889441028974, -1.618552919487282, -1.3957077904820976, -1.4548904086107273, -1.8222709231302994, -0.7287671863099767, -1.803263035506631, -1.9193353546738465, -2.307751070444134, -1.9951011840399966, -1.9615073435409165, -1.618552919487282, -1.6582982231682206, -1.7776676373822506, -2.1127663901215064, -1.5802486958186446, -2.2861067758137468, -2.202476174817306, -2.3051146634374144, -2.2861067758137468, -1.3100417421767045, -2.2768785866293992, -1.0918949295929723, -2.2578706990057316, -1.6232422012728913, -2.3434661184597023, -2.2861067758137468, -1.3734659026690146, -2.2861067758137468, -2.2861067758137468, -0.15581044023449225, -2.25293996428698, -2.0523446586051275, -2.2861067758137468, -1.2760973481071876, -1.7398408212237306, -1.561709197358554, -1.0579683590592073, -1.4841682011051012, -1.4675635954696027, -1.3100417421767045, -1.7361107064409627, -0.17765725036242086, -2.058641068166609, -2.25293996428698, -2.3051146634374144, -2.272532858782336, -2.10797515194857, -2.1411419634753366, -2.2578706990057316, -2.0775865154048065, -1.9347451386024699, -0.6855981228937359, -2.2861067758137468, -2.1944484847228307, -1.6582982231682206, -1.7066740096969644, -2.2861067758137468, -1.0172565702998355, -2.2861067758137468, -2.2861067758137468, -1.7706812308515525, -1.836905252767278, -2.198501306121292, -2.2861067758137468, 0.30986581259542545, -0.705806509607276, -1.3494889441028974, -1.2319949691737004, -1.803263035506631, -1.4519013982953544, -1.0919023776996442, -2.3434661184597023, 0.21082896981768473, -2.10797515194857, -1.5746676221717801, -1.495804751134194, -2.222684561530846, -2.2578706990057316, -0.7943836133152546, -1.091866708395823, -1.8523150366959014, -1.3060490821058852, -2.2861067758137468, -0.15590888223532284, -2.0254742566398423, -0.12068275518738003, -2.1411419634753366, -2.365458553131914, -2.1944484847228307, -1.6236284155722112, -1.70806756802257, -1.3490658501841848, -2.0777197491924357, -1.803263035506631, -2.2861067758137468, -1.5500166575604368, -1.794034846322284, -1.6375608071109498, -1.3913864640398317, -1.7398408212237306, -0.705806509607276, -1.7047730569262316, -2.1698943701622273, -1.8523150366959014, -1.467586555653868, -1.3766999028584295, -1.6375608071109498, -1.618552919487282, -2.2175091937449602, -2.2861067758137468, -1.71963243451019, -2.2768785866293992, -2.189517750004079, -2.3092934929721456, -2.2861067758137468, -0.3354369847723314, -1.686664415555792, -2.1601498510990043, -2.25293996428698, -1.7398408212237306, -1.8790064482321887, -0.41786708667890005, -2.202476174817306, -1.3190157952398218, -2.1411419634753366, -2.2578706990057316, -2.2861067758137468, -2.2163839968641215, -2.0575113624788957, 0.27915902733827774, -1.047153618147542, -0.8454002441170534, -2.25293996428698, -1.091904323909054, -1.618552919487282, -1.7361107064409627, -0.7692287238901768, -2.074521815211732, -2.059155075459051, -2.2175091937449602, -0.8457200634473525, -0.8454002441170534, -1.9939559144083658, -0.32702660896486097, -2.222684561530846, -2.290285605348478, -1.3694712963887856, -2.307751070444134, -1.7116047444157152, -1.7928874286932295, -1.3100436883861142, -2.2578706990057316, -2.3434661184597023, -0.09522714845585223, -1.994089148195995, -1.7066740096969644, -2.2887431828204665, -2.2535249711586682, -1.9984150557067015, -2.222684561530846, -2.25293996428698, -2.290285605348478, -0.045063070134734984, -1.7928498131799984, -1.0579683590592073, -2.2861067758137468, -2.1064721558793265, -1.4786636032338012, -2.1944484847228307, -2.0575113624788957, -1.4675635954696027, -2.272532858782336, -1.1988671653824534, -0.18410496947028088, -0.7882366115138446, -1.495804751134194, -1.2038206752486766, 0.14740675553478394, -2.0777197491924357, -2.25293996428698, -1.6248013474225629, -2.1904052538551384, -1.7706812308515525, -2.226863391065577, -0.28638498358306147, -1.561709197358554, -2.059048806502351, -2.2175091937449602, -1.618552919487282, -2.2861067758137468, -2.0592008629828826, -0.7882366115138446, -0.20275438258662054, -1.4985437824545484, -1.9952188538837081, -2.1555322324651773, -1.3494889441028974, -2.3434661184597023, -1.7972001638696864, -2.25293996428698, -1.7613390668313773, -0.7924154410485756, -2.2768785866293992, -1.9620520423569414, -1.8562720274628992, -1.803263035506631, -0.6204130372129433, -2.222684561530846, -1.609364719875992, -2.2861067758137468, -0.7020763948245083, -0.22559917630688042, -1.3490658501841848, -1.79278520438959, -1.9952188538837081, -0.2634689025314752, -1.9142360506444724, -1.7205627648924076, -2.058566695593422, -2.3434661184597023, -2.10797515194857, -1.0991082953974396, -2.28544979627895, -2.0781629630827188, -1.5653506709160492, -2.2578706990057316, -1.8222709231302994, -2.112766872541219, -1.6232422012728913, -1.028145730523874, -0.2141637508527271, -1.2663381933983313, -2.222684561530846, -2.1411419634753366, -2.25293996428698, -2.188902257785895, -0.3834494151266088, -2.3051146634374144, -0.9822729436998174, -1.9952188538837081, -1.7066740096969644, -2.2578706990057316, -1.686664415555792, -1.9193353546738465, -0.18410496947028088, -0.10167486756371225, -1.3478045358720738, -0.8715663854505579, -1.8058994425133508, -1.707561513548023, -2.2861067758137468, -2.3624740060833704, -0.5545411326021414, -1.495804751134194, -1.349465983918632, -0.3834494151266088, -2.0585930865404083, -0.12270121560250258, -2.0575113624788957, -0.857030947417295, -1.6375608071109498, -1.4836747663959353, -1.9304755777275335, -2.2379623343717463, -0.6775704327992607, -0.7924154410485756, -2.2861067758137468, -2.283028451225345, -0.7409926470821615, -1.609364479987677, -1.3490658501841848, -1.803263035506631, -2.2861067758137468, -0.032715511718154566, -2.223572065381905, -2.1698943701622273, -0.30802927821344905, -1.9631968440449032, -1.4532361179012137, -0.10167486756371225, -1.6042343136492232, -1.028145730523874, -1.3694712963887856, -0.7943836133152546, -1.548621517967268, -0.7878744260781416, -1.803263035506631, -0.24446101490780736, 0.3427273639787093, -2.2861067758137468, -1.9952188538837081, 0.021073300789375637, -1.803263035506631, -1.6944738341567374, -0.19118951609900003, -1.3494889441028974, -2.1411419634753366, 0.43619926734083375, -1.7613390668313773, -1.0157000421474334, -1.965290856051369, -1.803263035506631, -1.7327894388527008, -1.9073798462667173, -0.174991595103139, -2.218954446748078, -0.7943836133152546, -1.213066694589524, -0.3354369847723314, -1.4488352294499802, -1.561709197358554, -2.222684561530846, -0.27201477048943057, -1.9669339610855496, -2.2535249711586682, -2.2861067758137468, -0.7943836133152546, -2.1411419634753366, -2.0775865154048065, -0.5448071615855009, -1.7218266472325676, -0.79547624479806, -1.0162529842628718, -2.2535249711586682, -1.4532479930253501, -1.3490658501841848, -1.707259016568652, -0.7210842824481762, -2.2578706990057316, -1.7613390668313773, -2.218954446748078, -2.189517750004079, 0.42507595231815554, -2.3051146634374144, -1.618552919487282, -0.09516568032659922, -1.8563076967667205, 0.16967267930614482, -1.7009830213938506, -2.268092601822584, -0.5464558530702122, -1.850179347822709, -2.222684561530846, -0.47255424458585604, -2.0776489557902766, -1.7398408212237306, -1.79278520438959, -0.7685717443553803, -2.10797515194857, -1.8437691687379458, -2.1901027568757674], \"z\": [-1.2346791951069112, -2.282274869906253, -1.382059140702805, -1.5331551523617597, -1.493562195590089, -1.2185699216143424, -1.087626365021062, 0.16034052156469547, -0.2498976185019708, -1.9876376104382694, -1.1193886948444298, -1.1040408658133398, -1.9833882409830719, -0.47183780461148483, -1.3883008179811103, -1.111861089916348, -1.0486468657767856, -1.704590171686956, -1.2689257764300768, -0.6029295453438568, 0.1608125110929547, -1.076374232891841, -1.0906383456410293, -1.2093022434223186, -1.2271729418959085, -2.325638736309274, -0.7255557273074391, -1.08576035312671, -1.3717488195637106, -1.2093022434223186, -0.7369216523125864, -1.7356880640869834, -1.1040408658133398, -1.111861089916348, -1.614676623109067, -0.08133366815085163, -0.6356421787295503, -1.7356880640869834, -1.7356880640869834, -1.2778722859828944, -1.8521940487612893, -1.8409494416959624, -1.0122995164169872, -1.5716621611564783, -1.1040408658133398, -1.2271729418959085, -0.11610021544242932, -1.3883008179811103, -1.7356880640869834, -1.111861089916348, -0.7777853826039283, -1.0429017925893804, -1.1193886948444298, -1.4991621219194036, -1.1193886948444298, 0.024453241083948196, -0.7134584522294702, -0.7065880732331842, -1.4777033206791093, -0.8619149973164455, -1.4316450926035669, -0.7566536197074666, -1.7040735095163069, -0.5856671924786641, -1.1193886948444298, -0.15855580460212515, -1.599328794077977, -1.0608456983353434, -0.7162028937292725, -0.7928916623081272, -0.07435795476609486, -0.5987047615011677, -1.4762998427248963, -0.7644738438104748, -1.0701133765273672, -2.6296621160121267, -0.33731442892652674, -1.4543412023508504, -0.11610021544242932, -1.3070274489709772, -1.1040408658133398, -1.1402789084140004, -1.472026261157291, -2.335024856544143, -0.9830294248354234, -1.6359563734409526, -0.41235202934845316, -1.8521940487612893, -0.7354565209373548, -0.7135956484535578, -1.4036486470122003, -1.5872315190000081, -1.1402789084140004, -2.325638736309274, -0.41235202934845316, -0.6083826064065883, -2.8209266645739115, -1.1040408658133398, -1.3390544410911778, -0.4537098341775587, -1.2093022434223186, -1.0906383456410293, -0.07435795476609486, -1.9847210243547877, -0.9707604324064256, -1.2271729418959085, -2.3533053692307733, -3.0561595727455466, -2.9706884547552286, 0.024453241083948196, -0.33731442892652674, -1.2381686219461583, -0.0856630778238876, -1.2519415479721039, -0.03285238288879966, -0.7566536197074666, -1.2114908219939096, -1.5810482813913471, -0.8237880147429759, -1.7017605748010107, -0.33731442892652674, -0.6081970746204913, -0.6151584059571285, -0.6140490286005966, -1.6340521847833307, -1.1040408658133398, -1.0987733365367052, -1.599328794077977, -1.1040408658133398, -1.1069557091730933, -1.614676623109067, -0.7135891500366867, -1.1193886948444298, -1.607149018180985, -1.2271729418959085, -1.1040408658133398, -0.4753082237215467, -1.1040408658133398, -1.1040408658133398, -2.623301208649355, -1.2093022434223186, -0.6926048804188171, -1.1040408658133398, -0.6131113264609098, -1.3883008179811103, -1.3451056505031138, -1.3961210420841184, -1.8388396318765898, -0.08132848517642133, -1.1069557091730933, -0.7423895069582782, -1.4970060487584096, -0.7351176852746685, -1.2093022434223186, -1.599328794077977, -1.7191253791556143, -1.0608456983353434, -0.9555843207263646, -1.1193886948444298, -1.2303551219072466, -0.612391144312043, -2.3480378399541384, -1.1040408658133398, -1.7510358931180736, -0.6081970746204913, -1.493562195590089, -1.1040408658133398, -0.6753612605433041, -1.1040408658133398, -1.1040408658133398, -0.8764502047851039, -1.3478500920029162, -1.0787163968089333, -1.1040408658133398, -1.290284204014572, -2.984952567504417, 0.024453241083948196, -1.0972885173246767, -0.7566536197074666, -0.26500389820616976, -0.7135956484535578, -1.2271729418959085, -2.282274869906253, -1.0608456983353434, -0.6029295453438568, -0.3986688065426548, -1.7356880640869834, -1.1193886948444298, -0.07435795476609486, -0.7135938955254417, -0.7487504143210495, -1.03301036648882, -1.1040408658133398, -1.5964867418913382, -0.8403790628836473, -2.0818668606085966, -0.9555843207263646, -1.004309175167309, -1.7510358931180736, -1.5028298737821129, -0.4612944889329037, 0.023981251555688976, -1.5872315190000081, -0.7566536197074666, -1.1040408658133398, 0.05502560185815486, -1.2672893770031939, -0.8326023571911639, -0.7173190864548563, -1.3883008179811103, -2.984952567504417, -1.0868508681406346, -1.2185699216143424, -0.7487504143210495, -0.08133366815085163, -0.7428806936815211, -0.8326023571911639, -0.33731442892652674, -1.5740043250735705, -1.1040408658133398, -0.751386090430832, -1.614676623109067, -1.8409494416959624, -1.5716621611564783, -1.1040408658133398, -1.9980149177384827, -0.9755018199073415, -1.4508722489910015, -1.2093022434223186, -1.3883008179811103, -1.4812939393493147, -1.8616556477294761, -1.0987733365367052, -2.750126096706412, -0.9555843207263646, -1.1193886948444298, -1.1040408658133398, -1.1012804351111865, -0.9503167914497299, -1.1948519306602243, -0.981081868425255, -1.8921030933048109, -1.2093022434223186, -0.7135953612756547, -0.33731442892652674, -0.7423895069582782, -2.3533053692307733, -1.2669893833666457, -0.7369216523125864, -1.5740043250735705, -0.11610021544242932, -1.8921030933048109, -1.225087592630612, -1.833121403367337, -1.7356880640869834, -1.076374232891841, -0.40136316821517626, -1.5810482813913471, -1.4036486470122003, -1.4543426681010634, -1.1069554219951903, -1.1193886948444298, -1.2271729418959085, -1.6333653187674162, -1.5819639897233735, -1.493562195590089, -1.08576035312671, -1.223837450890977, -1.3488232065243686, -1.7356880640869834, -1.2093022434223186, -1.076374232891841, -2.262542902511372, -1.4543412023508504, -1.3961210420841184, -1.1040408658133398, -1.850217119887986, -1.3543733286951376, -1.7510358931180736, -0.9503167914497299, -0.08132848517642133, -1.7191253791556143, -0.15043169375667653, -1.4502196623349528, -2.8485932974954107, -0.3986688065426548, -0.6281145738014684, -1.650627671632609, -1.5872315190000081, -1.2093022434223186, -0.3797714056769478, -0.9244864283263369, -0.8764502047851039, -1.7080214311654847, -2.0059181231248995, -1.3451056505031138, -0.7352480332425221, -1.5740043250735705, -0.33731442892652674, -1.1040408658133398, -0.7354565209373548, -2.8485932974954107, -2.0006505938482646, -1.0195635202708564, -1.3667648835483122, -1.7214239513377951, 0.024453241083948196, -1.2271729418959085, -1.511432894063679, -1.2093022434223186, -0.41235202934845316, -2.8209266645739115, -1.614676623109067, -1.472026261157291, -0.8226940040772068, -0.7566536197074666, -0.8319393148988228, -1.7356880640869834, -0.9788694367475491, -1.1040408658133398, -2.339041256481585, -2.619284808711913, 0.023981251555688976, -1.4547543401977197, -1.3667648835483122, -2.156904461030523, -0.5869999758503796, -0.2929746733486649, -0.7350575401830065, -1.2271729418959085, -1.0608456983353434, -1.9694530109472177, -1.087626365021062, -1.2322095805772237, -1.0853629454639349, -1.1193886948444298, -1.2519415479721039, -0.6140525905322578, -1.607149018180985, -0.48579394016061783, -1.4477011318633426, -0.6113125212546546, -1.7356880640869834, -0.9555843207263646, -1.2093022434223186, -1.7138578498789796, -1.9654673971467056, -1.599328794077977, -0.057762945553544554, -1.3667648835483122, -1.493562195590089, -1.1193886948444298, -0.9755018199073415, -1.2114908219939096, -1.4502196623349528, -1.5865789323439594, -0.69239679675533, -1.600470941243845, -0.7383731070208366, -0.5770991822204637, -1.1040408658133398, -1.7224608701605457, -2.2020883934416444, -0.3986688065426548, 0.024458424058378503, -1.9654673971467056, -0.7350618571692381, -1.5017536213507445, -0.9503167914497299, -2.184995692262527, -0.8326023571911639, -1.4911058408514197, -1.2115107992634984, -1.5850646813287887, -3.000300396535507, -2.8209266645739115, -1.1040408658133398, -1.1406684451763156, -2.368653198261863, -0.9788671200718556, 0.023981251555688976, -0.7566536197074666, -1.1040408658133398, -1.1947108910875373, -0.8192250507173581, -1.2185699216143424, -2.4829255387029066, -1.4869003042886357, -0.07930637560619958, -1.5865789323439594, -1.111861089916348, -0.48579394016061783, -0.40136316821517626, -0.07435795476609486, -1.0122995164169872, -0.11769584398291189, -0.7566536197074666, -1.6616165327658858, -1.917080283088177, -1.1040408658133398, -1.3667648835483122, -1.6479333099600877, -0.7566536197074666, -0.24429304813433705, -1.7105589923503366, 0.024453241083948196, -0.9555843207263646, -1.2929785656870931, -0.41235202934845316, -0.6721762741649834, -0.7197171257952639, -0.7566536197074666, -0.4170143025803614, -0.5441483353318418, -2.091832144872671, -1.0897767530641516, -0.07435795476609486, -0.6602549808391052, -1.9980149177384827, -1.1080479669107464, -1.3451056505031138, -1.7356880640869834, -2.6296621160121267, -1.3820689030437667, -1.223837450890977, -1.1040408658133398, -0.07435795476609486, -0.9555843207263646, -1.2303551219072466, -1.966232023973325, -1.4245388605817708, -2.2364506102497943, -0.3715290846747791, -1.223837450890977, -0.07930845091172722, 0.023981251555688976, -1.5080974030587475, -2.834329184746222, -1.1193886948444298, -0.41235202934845316, -1.0897767530641516, -1.8409494416959624, -1.963271536789744, -1.599328794077977, -0.33731442892652674, -1.6299168215607762, -0.8226957570053229, -1.9412706455615947, -0.20095515891752025, -1.1402789084140004, -1.9585195228085206, -1.2182488946808492, -1.7356880640869834, -1.983425725027866, -1.2304056135393058, -1.3883008179811103, -1.4547543401977197, -2.3368908684384953, -1.0608456983353434, -0.2759927593394468, -1.8554846491646206]}, {\"marker\": {\"color\": \"#d62728\", \"line\": {\"width\": 1}, \"size\": 4}, \"mode\": \"markers\", \"name\": \"Absent\", \"type\": \"scatter3d\", \"x\": [-7.270850077728683, -6.484986210537853, -7.451112211694426, -6.6990706983895585, -7.828750662000961, -8.283355854915987, -7.395777146947605, -7.317288614467738, -6.743903810398274, -6.492633891705524, -6.591814934303491, -7.778496281660049, -7.712423908364944, -7.632717724445397, -8.170476541110913, -6.639614729921712, -7.10336157984846, -6.4800972342994445, -7.270850077728683, -8.811904357474805, -6.938568947526153, -7.701210030181717, -6.5499344744152665, -7.0061876184270755, -7.037986275650618, -7.693116003145498, -6.6661917974479845, -7.1454720856872775, -6.849150337663317, -7.049338589685144, -8.000565193317893, -6.5499344744152665, -6.514687660702791, -7.501563085260555, -8.252868234350819, -7.2134484593501345, -7.422354214473877, -7.246933118877268, -7.18763880270774, -6.492633891705524, -7.19722197688869, -7.386632392812939, -7.301804394670552, -6.9669826061659155, -7.850758182762525, -7.832428099550821, -7.496705817324927, -7.998301998243221, -7.787933738991541, -7.784383881469336, -6.492633891705524, -8.68919968831074, -7.995438178335609, -7.017716969181785, -8.125332647813183, -6.599889655791591, -6.492633891705524, -7.050534475977802, -7.038885411017397, -6.619934187967834, -7.641359029852906, -6.514687660702791, -7.978058479024835, -7.312601275577358, -6.821031083998974, -6.484986210537853, -6.514687660702791, -6.492633891705524, -7.444588910730047, -7.221896061998942, -7.950775587393835, -7.017716969181785, -7.211361403610285, -6.721850041401007, -7.329337799708248, -7.672654638544185, -7.908455022150107, -7.86647958818406, -8.17691386131066, -6.514687660702791, -8.59061840577153, -6.818795661777859, -8.028634872803877, -6.9489653862626195, -8.512816249489358, -7.262423744635074, -7.700110669266126, -7.257437614138927, -6.92711417677976, -7.27205268853229, -7.496705817324927, -8.129369196907154, -7.064114067213365, -6.944098090173201, -8.200751327755938, -7.476436510856094, -7.9813294002949675, -7.246933118877268, -7.833598969255556, -7.246933118877268, -8.577241646239772, -7.921747450736365, -7.255007840365369, -6.905999269177739, -7.484557239611231, -6.602116169488454, -7.019580159035933, -6.949122032563374, -7.460906433928936, -7.295281093706174, -7.177834772240111, -6.536695181464355, -7.305431470862084, -8.586525535015474, -7.323811915432116, -7.146096450906159, -7.705284449589266, -7.169805845276568, -7.257437614138927, -8.138377280691662, -6.77915062411075, -7.050534475977802, -7.429952116987067, -7.14525358265779, -6.492633891705524, -8.230318937289962, -8.26523866121331, -7.358278586514347, -7.1187612016339, -7.901077051587896, -6.9489653862626195, -7.094595765736632, -6.9489653862626195, -6.492633891705524, -8.429200119375952, -7.830741856692784, -7.476436510856094, -7.248796308731416, -7.317288614467738, -6.918535926583818, -6.972648290584789, -6.591814934303491, -7.224092381720262, -7.828750662000961, -7.895730551081165, -8.398205128449149, -7.941640058060427, -8.07345103149363, -6.589579512082375, -6.492633891705524, -6.422251500037252, -8.096167103035793, -7.358278586514347, -8.12889884936265, -7.714766898371426, -6.492633891705524, -7.019580159035933, -7.323811915432116, -7.550538370545494, -6.5499344744152665, -7.169805845276568, -6.514687660702791, -6.484986210537853, -8.023652084655335, -7.641359029852906, -8.842206977510415, -7.124972733267851, -8.0293897417348, -6.6990706983895585, -7.257437614138927, -6.92828684808504, -7.4467852304513675, -7.2572343540622315, -8.248505705028762, -7.928345509282682, -7.682728353864834, -7.758636551563862, -7.683339649017219, -7.287261390435077, -6.6990706983895585, -7.050534475977802, -7.191813366038132, -6.492633891705524, -7.7033726699595535, -6.492633891705524, -7.737349148268333, -8.477374580508483, -7.147752076279302, -8.101903415025141, -8.119740116246156, -7.850758182762525, -7.367946431388895, -6.591814934303491, -6.743903810398274, -7.946187950197077, -6.910888245416147, -7.221896061998942, -7.08345844558063, -7.649994416598554, -6.6661917974479845, -6.6990706983895585, -6.484986210537853, -6.663995477726664, -7.850758182762525, -7.257437614138927, -6.484986210537853, -7.6519190005982605, -6.492633891705524, -6.492633891705524, -7.145005754210187, -6.829105805487075, -7.4467852304513675, -7.169805845276568, -6.591814934303491, -7.641359029852906, -8.619574239881963, -7.5841579310484, -8.589211679653648, -7.9125557987127015, -6.602116169488454, -6.663995477726664, -7.124972733267851, -6.9489653862626195, -7.9125557987127015, -7.3546552144404265, -7.683339649017219, -7.422354214473877, -7.978058479024835, -6.591814934303491, -7.870575179548389, -7.591060334543774, -7.597162581084378, -8.034832403807426, -7.017716969181785, -8.051443510732065, -6.6661917974479845, -7.248796308731416, -7.94480934878241, -6.918535926583818, -7.076880741745676, -6.602116169488454, -7.969217738895495, -7.652385332075352, -7.224092381720262, -6.484986210537853, 49.06649599987921, 3.1086018876530517, -1.4315274402204903, -3.628632997562491, 26.48841911692213, 197.72857348309043, -6.903867254407045, 5.406462194779575, -8.550096648112438, 47.96243841046036, 21.08697773164219, -6.591814934303491, -7.935065180077702, -3.0786396524634796, 0.6803930469150719, -2.9056082492028024, 47.799452503635806, -7.257437614138927, 9.377176868379676, -6.492633891705524, 63.7104126254382, 85.67468985550371, 65.4682986855511, 1.4936176292695187, -0.26613983916684214, 25.764208049812687, -6.602116169488454, 59.47459084587082, -8.832057011430566, -1.2977279139654296, -1.0466728112921952, -6.492633891705524, 282.8049217894738, 89.3169303353674, 24.413566159230477, 48.58623088723035, 11.522799662773119, -7.836042706292247, 49.087152323647594, -3.5239128708896015, -5.114451924479021, -7.671174354251827, 43.01277304892583, 52.176190269200575, 177.6210488311419, 21.54272943759468, -9.9233600795216, -9.72699903671424, 4.825306712019682, -6.708261823149634, 44.903391825232745, -6.492633891705524, 66.10431885665841, -6.591814934303491, 40.32899963358001, -7.696177471627254, 36.02855261321355, 59.0085236910254, -2.8600733406089884, -6.591814934303491, -6.492633891705524, -1.595984967769933, 49.417959777467445, 2.630161166724308, -6.514687660702791, -6.257707207007732, -4.3504844026186715, 20.573625831707393, 97.60463923382952, -7.082085528768207, -6.185243635105403, 170.30978701928123, 5.653750881782665, -7.641359029852906, 2.0181554857171786, 26.84022278786504, 24.336243624491154, 127.90380061082068, 17.51543657399405, -7.218018807793313, -4.921325424260005, 0.2124036474118869, -8.113963887459656, -4.747800032353235, -7.386846902465511, 99.91007837250366, 62.75067189178115, -8.786670751027675, -6.484986210537853, 160.94620157412655, -9.905415284724448, 35.416761598178724, 79.03956153208871, -2.520072304953454, -1.494617654583167, -8.291481521638616, -9.401763418607295, -7.434769005869693, 2.9895783036114167, -5.502810471808196, -3.8444434190355796, -6.6661917974479845, 102.52004384759564, -5.367636551869025, 78.02190466118027, -7.518213990454583, -7.068653118476155, -5.221794660480854, 68.39055742983302, -8.08406309631635, 108.2239718059432, -0.691027115702207, 49.97759537699903, -6.591814934303491, 80.95111667749055, -6.591814934303491, -7.169805845276568, -6.492633891705524, -1.374619777915206, -6.591814934303491, -7.884874073721059, 41.552332308679254, 16.448726166078266, -6.514687660702791, -7.489076980732058, 17.356871974642495, 30.854036344604477, 36.89641704884396, -6.514687660702791, -6.711333965216952, 6.845854468073635, 4.829648598698617, 123.7782803952565, 44.84628152452579, -7.050534475977802, 14.23787862860702, 107.52253318719326, 132.70298887354562, 2.9729806597352706, -6.492633891705524, -5.6867313810692375, -7.496705817324927, -7.422354214473877, 44.83078782754274, -7.643822684329292, -6.492633891705524, -8.890530972044628, -7.257437614138927, -4.855919466223268, -2.5793367208072397, 11.717642220355918, -4.651754871085657, -6.6661917974479845, -4.0233349433223005, -1.284593756813715, 13.974441463441373, 5.954706147571774, 17.98923742044417, 5.592213578080762, -6.591814934303491, 179.46627176732707, 18.292984980152458, 144.63476587910327, -4.651666119633057, 26.103546483216924, -5.747399351570486, -6.602116169488454, -6.6661917974479845, -7.257437614138927, 34.53511540240193, 146.43315668388797, 40.080668878210254, -6.492633891705524, 106.77766926936607, -6.5499344744152665, 277.9042129342985, -7.226250770488348, -6.484986210537853, 42.75880251322043, -7.899012561956999, 34.26868152300018, 105.74907474117614, -6.484986210537853, -1.863581841894561, 30.84929071312679, -7.257437614138927, 92.92593863032964, 444.93505186521224, -0.3430820495543676, -5.778260862433459, -6.492633891705524, -7.43348095905592, 11.467267310442079, -6.492633891705524, 8.686753976778693, -5.50673490867377, -7.641359029852906, -6.514687660702791, 7.413563013581317, -7.917870766690266, 55.21879661870552, 19.887614256278244, -6.514687660702791, 0.8780511313949897, 19.740640722287534, 2.3650018802585695, -6.335188565680218, -7.561943171944472, -6.492633891705524, 15.462282393358322, -6.492633891705524, -8.797210975735238, -7.904354621063998, 41.94534231258282, -6.591814934303491, 4.205760672695778], \"y\": [-2.2768785866293992, -1.6042343136492232, -0.709985339142007, -2.10797515194857, -0.7600005347058292, -0.7431202300042726, -2.0904270721493794, -1.8921230677521683, -2.1944484847228307, -2.2861067758137468, -2.25293996428698, -0.2859891338036403, -0.09516568032659922, -2.071352546228795, 0.3427273639787093, -2.0714191845257113, -1.9114676901038659, -2.202476174817306, -2.2768785866293992, -0.7650353293999127, -2.0458969394972675, -1.6583609505435484, -2.3434661184597023, -2.1159286996311586, -1.9659063482695536, -0.13933216830371975, -2.2887431828204665, -1.612105200379422, -2.294015720131245, -2.025881994975584, -0.18103880062490652, -2.3434661184597023, -2.2578706990057316, -0.7943836133152546, -0.5012029954964181, -1.7613390668313773, -2.307751070444134, -1.7066740096969644, -1.3000079076161537, -2.2861067758137468, -0.7906303202154568, -1.5610115886832698, -0.6775704327992607, -2.037660828158224, -0.7210842824481762, -2.1489312984005333, -0.48219510787275033, -0.8588369909517076, -0.41170248018691197, -0.41786708667890005, -2.2861067758137468, -1.31443867957777, 0.4377557954932359, -1.7700962239798648, -0.16323954427910148, -2.1411419634753366, -2.2861067758137468, -0.7692287238901768, -1.0398345632371582, -2.357437934414146, -0.10167486756371225, -2.2578706990057316, -0.7924154410485756, -1.3074774664274695, -2.189517750004079, -1.6042343136492232, -2.2578706990057316, -2.2861067758137468, -1.9634542263525676, -0.7734075534249079, -0.045063070134734984, -1.7700962239798648, -0.7685717443553803, -2.222684561530846, -2.0315871451669607, -1.6477115225850434, 0.0231511005869669, -0.2223057897653642, -1.0030141525165917, -2.2578706990057316, 0.42507595231815554, -2.1064721558793265, 0.18026143986458232, -2.058592252176466, -0.5024685174306323, -1.6385908984782893, -0.265665623049128, -0.3354369847723314, -1.4651166840069332, -0.9133461001323415, -0.48219510787275033, -0.15593489148932826, -1.4529452715487123, -1.5143242851061496, -1.9824621139762355, -0.28638498358306147, -2.038627174136004, -1.7066740096969644, -0.19118951609900003, -1.7066740096969644, -1.28986400292386, -1.3472518720478373, -1.5948760088853202, -1.71963243451019, -0.4615951603939731, -2.2535249711586682, -2.3685368777203153, -2.058641068166609, -0.7027281850188742, -1.9310393200098213, -0.8405598824905762, -2.218954446748078, -2.0664875720986373, -0.8447317455380995, -0.6386541805416075, -1.6283120741961383, -2.0776489557902766, -1.7116047444157152, -0.3354369847723314, 0.44500416124431486, -2.2800439041768015, -0.7692287238901768, -2.302036338849013, -0.5406333105553258, -2.2861067758137468, -0.17765725036242086, -1.1220038504540701, -2.272532858782336, -2.3353700661935486, -1.7359885187054296, -2.058592252176466, -0.7020763948245083, -2.058592252176466, -2.2861067758137468, -0.40245730275027647, -0.24967716790134403, -0.28638498358306147, -2.3051146634374144, -1.8921230677521683, -1.803263035506631, -1.4478686516829093, -2.25293996428698, -0.7718651308968966, -0.7600005347058292, -1.5734960880542688, -1.5500166575604368, -0.031743466043698376, -1.911130955375836, -2.1698943701622273, -2.2861067758137468, -2.320563240674755, -1.538685917438432, -2.272532858782336, -0.565910213227541, -0.530581196572723, -2.2861067758137468, -2.3685368777203153, -0.6386541805416075, -0.6716354449621669, -2.3434661184597023, -1.7116047444157152, -2.2578706990057316, -1.6042343136492232, -0.564625209779319, -0.10167486756371225, -1.020372061091149, -1.6251314116414544, -1.9782832844415046, -2.10797515194857, -0.3354369847723314, -2.044552937665669, -1.9619118038245564, -1.707259016568652, -0.19091538632420446, -1.4130094422278205, -1.7072045167761245, -0.8485805012083437, 0.14740675553478394, -1.8508138363615716, -2.10797515194857, -0.7692287238901768, -1.6726884921580623, -2.2861067758137468, -0.09522714845585223, -2.2861067758137468, -1.7323236964631403, -0.9329976271653083, -1.7398408212237306, -1.4156458492345403, -1.6598221757531872, -0.7210842824481762, -1.7306799834829858, -2.25293996428698, -2.1944484847228307, -1.5846944335058868, -1.121390573342108, -0.7734075534249079, -1.618552919487282, -0.2890213905897812, -2.2887431828204665, -2.10797515194857, -1.6042343136492232, -2.290285605348478, -0.7210842824481762, -0.3354369847723314, -1.6042343136492232, -1.707561513548023, -2.2861067758137468, -2.2861067758137468, -1.8677653156320906, -2.0777197491924357, -1.9619118038245564, -1.7116047444157152, -2.25293996428698, -0.10167486756371225, 0.1697083486099663, -1.0330612532120211, 0.42519622083579733, 0.21082896981768473, -2.2535249711586682, -2.290285605348478, -1.6251314116414544, -2.058592252176466, 0.21082896981768473, -1.3060490821058852, 0.14740675553478394, -2.307751070444134, -0.7924154410485756, -2.25293996428698, -0.0382526532808114, -1.535375373455281, -1.667257769200085, -1.20037847044014, -1.7700962239798648, -1.9500472076334892, -2.2887431828204665, -2.3051146634374144, -0.04510885765856665, -1.803263035506631, -2.4258962203662713, -2.2535249711586682, -0.6162645550903246, -1.4519013982953544, -0.7718651308968966, -1.6042343136492232, -28.757048860256784, -19.16190333946011, 52.047578478424526, -12.366200761363961, 2.279406487768044, -33.52794776224053, 0.38762059403298205, -8.430041363688648, -0.09002108190842717, -12.912584307485014, 13.289519333985801, -2.25293996428698, -0.8841791855307746, -10.350101547521433, -5.172792146089394, -1.7616514195971784, -29.363753899615585, -0.3354369847723314, 15.214022535969454, -2.2861067758137468, -37.385127102203256, -47.567971448169985, 301.45102991816816, -4.097370862763045, -3.2986690856728385, -36.30172236346638, -2.2535249711586682, 276.7950361343467, 2.6923312620707183, -10.880759722769211, -14.251589876184333, -2.2861067758137468, -15.358173203659796, -50.070189935464036, -19.91292497273139, -11.776367384672795, -4.761247165789537, -1.1349390003903985, -32.693553305182476, 2.845419280001929, -1.3516329265257685, -1.978281898427109, 4.645745679796866, 139.32907445902856, 157.49413904128423, -16.30213017947672, -0.9639646062657462, -0.913181882028612, 26.567084442681487, 9.513931885550116, -22.714590671061337, -2.2861067758137468, -9.038529120238243, -2.25293996428698, -10.891273219405058, 0.07029898663242751, 93.01664029731648, 61.21915656025759, 0.9488741571032193, -2.25293996428698, -2.2861067758137468, 51.176065752046895, -30.095795288315173, -19.669054102891735, -2.2578706990057316, -3.1693251621991334, -8.351383902172188, 11.801762902577797, -71.3234956947058, -1.5033704094126636, 7.228843041110364, -46.27150384833936, -4.545774204523746, -0.10167486756371225, -7.447285760064922, -8.363122571737737, -6.004394521387193, 15.589080984840708, -8.709130573941142, -2.0894541766788457, -7.607272791142191, -7.76842361405517, -0.8760263311476723, -5.268089623446943, -1.8009474418493248, -55.53913695517014, -27.810040248391864, -0.10776766550330574, -1.6042343136492232, 241.03030356304888, 3.5014558520223322, 18.114851237907917, 332.0631336911001, -3.0563259150949436, 0.42692857816763896, 0.37484925824753945, -0.1539087828499901, -1.1093862495616138, -18.95269924982813, -6.237818339854919, -0.26443129608216864, -2.2887431828204665, 11.069187458772753, 12.377822540682644, 274.02513328860744, 3.529735302974688, -2.0331612524225227, -1.1236932009390057, 0.5842011396176954, -2.261094832787591, 76.29792951606306, 10.770212482176849, 4.461832457232091, -2.25293996428698, -17.59201643877825, -2.25293996428698, -1.7116047444157152, -2.2861067758137468, -11.281882629988889, -2.25293996428698, -2.5336067465888257, -10.229986985710715, -7.835900592191774, -2.2578706990057316, -2.4187363016096772, -39.2673160702172, 159.89544142968393, -4.482775330278734, -2.2578706990057316, -1.9585382809317107, -0.1323130668937429, 38.12079713634052, -120.90293319599826, -11.825734986817714, -0.7692287238901768, -8.053574318382479, -32.819680282955176, 14.468830029533226, 2.2968009491880235, -2.2861067758137468, 14.776343759206426, -0.48219510787275033, -2.307751070444134, -12.22299882276025, -0.31144292121425143, -2.2861067758137468, 1.542584329311063, -0.3354369847723314, -0.2916505375389007, 0.3336456171562241, -5.548866230965414, 0.766084525416535, -2.2887431828204665, 47.97895267648205, 46.48169585037966, 1.0551586097160373, 46.33200134762185, 92.67342958097771, 1.0363772567755507, -2.25293996428698, 4.92054899205298, -16.459300455376987, 17.836862808630425, 18.14334177496216, -6.6071583272199526, 14.265742784874579, -2.2535249711586682, -2.2887431828204665, -0.3354369847723314, -10.216801804911434, -102.18263408897184, -11.126011853058216, -2.2861067758137468, -95.2412879793788, -2.3434661184597023, -20.47466986710935, -2.703371047893684, -1.6042343136492232, -26.832542038254456, -0.7494903247097504, -23.01155069928588, -57.579874586382424, -1.6042343136492232, -2.2613225998276496, 17.860798451171505, -0.3354369847723314, -30.07359684330061, -177.239715004906, -13.094984740132714, -4.518723282604418, -2.2861067758137468, -0.703213367499731, 69.55628663599776, -2.2861067758137468, -5.706601186728984, -0.2852418781323191, -0.10167486756371225, -2.2578706990057316, -0.0428242820069491, -2.6579353717007335, -17.666581380158235, 107.66635323903364, -2.2578706990057316, 0.7238156877029124, 10.415094633476867, -3.0959767612455487, 13.486454302445708, -0.9933175309464611, -2.2861067758137468, 14.387830512322992, -2.2861067758137468, 0.4376241931718089, -1.7369966101281324, -25.220081679068823, -2.25293996428698, -7.655486560111437], \"z\": [-1.614676623109067, -1.111861089916348, -2.957285934582918, -1.0608456983353434, -2.8639411265265005, -1.3364046325148644, -1.4481118182888484, -2.076640058815783, -1.7510358931180736, -1.1040408658133398, -1.2093022434223186, -2.5432349781956995, -1.6299168215607762, -1.1878928086834544, -1.917080283088177, -0.9528238900242112, -0.7162228709988611, -1.0987733365367052, -1.614676623109067, -1.700457201277073, -0.7393912668422739, -1.6652040734212599, -1.2271729418959085, -0.8581913167443821, -0.8468087176122465, -2.6322977921219084, -1.08576035312671, -0.3841008153499835, -1.722285543914673, -0.8405094108515009, -2.29326373103953, -1.2271729418959085, -1.1193886948444298, -0.07435795476609486, -2.4860997716853372, -0.41235202934845316, -1.5810482813913471, -1.493562195590089, -2.2548381684417746, -1.1040408658133398, -2.424512374471903, -1.0118793690693653, -3.000300396535507, -0.758064648787101, -2.834329184746222, -1.2169592838313597, -1.9908118434207005, -1.6013549147695108, -2.6035692412544744, -1.8616556477294761, -1.1040408658133398, -1.8571510734621959, -1.2897935793087725, -0.8619149973164455, -1.6041433510893763, -0.9555843207263646, -1.1040408658133398, -2.3533053692307733, -1.8109737592783393, -1.0906383456410293, -1.5865789323439594, -1.1193886948444298, -2.8209266645739115, -1.1738994367858782, -1.8409494416959624, -1.111861089916348, -1.1193886948444298, -1.1040408658133398, -2.0632375386434725, -2.325638736309274, -2.262542902511372, -0.8619149973164455, -2.3368908684384953, -1.7356880640869834, -2.212435535969956, -0.2498976185019708, -2.2697600896333947, -2.6211508206062653, -0.9674640933252954, -1.1193886948444298, -1.963271536789744, -1.850217119887986, -1.2717814669169816, -0.7350738757390328, -0.34691309066311293, -0.4737064069645812, -2.629603430449387, -1.9980149177384827, -0.4051501916594178, -0.8837347416323897, -1.9908118434207005, -1.5965004070723983, -1.9357183218941438, -1.7146867806557533, -2.55852546690811, -2.0059181231248995, -1.9911724809189406, -1.493562195590089, -1.7105589923503366, -1.493562195590089, -1.973389351697218, -2.7347782676753223, -1.239844272894135, -0.751386090430832, -1.93840065976587, -1.223837450890977, -0.9676815958043334, -0.7351176852746685, -3.0215801468673926, -2.1062520005960614, -2.3399028490584626, -1.0897767530641516, -1.3533118717439425, -0.49140677180247794, -2.9706884547552286, -0.33911323413278194, -1.2304056135393058, -1.4036486470122003, -1.9980149177384827, -1.928535955668009, -1.858820140169552, -2.3533053692307733, -1.6359563734409526, -2.1995812948671634, -1.1040408658133398, -1.4970060487584096, -2.0949112726623778, -1.7191253791556143, -1.0729429734133122, -1.6943143581048008, -0.7350738757390328, -2.339041256481585, -0.7350738757390328, -1.1040408658133398, -2.460755325411343, -2.4622516588376406, -2.0059181231248995, -1.599328794077977, -2.076640058815783, -0.7566536197074666, -1.9950367151725041, -1.2093022434223186, -2.335024856544143, -2.8639411265265005, -1.703066199480904, 0.05502560185815486, -2.2615640198344202, -2.5719279870804206, -1.2185699216143424, -1.1040408658133398, -1.247093912269309, -2.356055261267942, -1.7191253791556143, -1.2133717673980045, -2.019056705277902, -1.1040408658133398, -0.9676815958043334, -2.9706884547552286, -0.13571233238222313, -1.2271729418959085, -1.4036486470122003, -1.1193886948444298, -1.111861089916348, -1.8544525734116941, -1.5865789323439594, -1.678860277483298, -0.7134584522294702, -2.586192099829609, -1.0608456983353434, -1.9980149177384827, -1.6924928966089872, -2.0726236588783413, -1.5080974030587475, -1.4945364342287224, -2.3751641237327417, -0.24340710528040654, -2.2535736785847424, -1.650627671632609, -1.2186471741240232, -1.0608456983353434, -2.3533053692307733, -1.374036705231922, -1.1040408658133398, -1.6333653187674162, -1.1040408658133398, -1.7237849580642175, -1.6415137162231026, -1.3883008179811103, -2.3568836110461113, -2.3302351379460498, -2.834329184746222, -1.9371800972013615, -1.2093022434223186, -1.7510358931180736, -2.3483101683912495, -0.7644738438104748, -2.325638736309274, -0.33731442892652674, -1.9876376104382694, -1.08576035312671, -1.0608456983353434, -1.111861089916348, -1.076374232891841, -2.834329184746222, -1.9980149177384827, -1.111861089916348, -0.5770991822204637, -1.1040408658133398, -1.1040408658133398, -0.6961960993642775, -1.5872315190000081, -2.0726236588783413, -1.4036486470122003, -1.2093022434223186, -1.5865789323439594, -1.9412688926334787, -1.1209494529825885, -1.9629131884044768, -2.282274869906253, -1.223837450890977, -1.076374232891841, -0.7134584522294702, -0.7350738757390328, -2.282274869906253, -1.03301036648882, -1.650627671632609, -1.5810482813913471, -2.8209266645739115, -1.2093022434223186, -2.2182261306176034, -1.7993590518851375, -2.5688272954750055, -1.4616633627111504, -0.8619149973164455, -2.601539928860699, -1.08576035312671, -1.599328794077977, -2.261077771136141, -0.7566536197074666, -1.0908136718869021, -1.223837450890977, -1.622065764841344, -0.26500389820616976, -2.335024856544143, -1.111861089916348, -47.73838562438819, -1.7754087335688662, -6.415052583996592, -7.150181109906605, -1.2936204670452434, -72.53406411100246, -1.3295700679575582, -13.927365546787575, -2.4042964926489345, 153.01216694076848, 5.810494640469477, -1.2093022434223186, -2.1078203828389386, -4.653193596453798, -8.277663004475416, 12.430757716345544, -45.01318355169733, -1.9980149177384827, 40.59130554531488, -1.1040408658133398, -58.05076935892226, -75.64670833822363, -43.77933907258448, -6.266087611326429, 5.357469207360337, -40.28016525799091, -1.223837450890977, -40.41544868660549, -3.593159653987655, -2.7555712404066046, -3.074459640015446, -1.1040408658133398, -7.102138102097232, -78.59076325266747, 23.680492597661825, 159.40709851257688, 53.281447422787046, -0.7170575856616412, -49.06597017622215, -1.1861396664648445, -1.4331821655550427, -1.2986566625975868, 2.9804145480089788, -14.278710511573255, -17.305113705741675, -24.628068216855958, -0.9288737825690143, -1.0828687672757233, 5.074698522585435, -0.8474419585687838, -28.57495178175851, -1.1040408658133398, 121.1396402321751, -1.2093022434223186, 138.740904827613, -1.641438671389184, 34.00997127630811, 1.193849452030932, 2.874444296812717, -1.2093022434223186, -1.1040408658133398, -6.9733241808303115, -46.44592595349275, -2.29011639354544, -1.1193886948444298, 6.327389017147199, -4.303180873973734, 23.811089317667122, -97.00948841489982, 3.5906548047649856, -2.2494623130268763, 372.5106436384729, 11.748838090435656, -1.5865789323439594, 5.801176200651076, 94.8526890599362, 73.63633314507554, 8.9595892461849, 25.112252341120683, -0.8656037377785903, -5.854083735580581, -7.005751005865932, -2.144937263040094, -1.7784815932899873, -0.4712467739610686, -88.06463334640928, -39.32990642553078, -2.460251857176919, -1.111861089916348, -34.37057761904126, -3.882207098161321, 7.232322835853697, -51.620170820100945, 10.136072971789734, 2.0218064791304755, -3.3016777883733495, -2.6057358049496804, 3.6824884384789622, -1.7670859914066075, -5.256055213769765, -2.9522491460395437, -1.08576035312671, 8.190448356582458, -3.726324091428333, -41.2955778582333, -2.5630377706684886, -0.8433828070645266, 5.645470563703871, 58.006994439164295, -0.4039964347876177, -92.10454113578295, -0.6551309726817773, -0.3192037743792763, -1.2093022434223186, 100.319045302894, -1.2093022434223186, -1.4036486470122003, -1.1040408658133398, -1.461918778790459, -1.2093022434223186, 6.699343795860294, 135.67798115870625, 39.47602425148936, -1.1193886948444298, -0.8227922122642046, -34.65690274334426, -27.556443174269006, 30.389258334121365, -1.1193886948444298, -1.0769369779534401, -1.8393294466157184, -6.361436768787907, -123.54661373039085, 145.8840156602792, -2.3533053692307733, 21.863655080620966, 194.4671132246233, 0.1870312102191034, 1.723705245238524, -1.1040408658133398, -3.280149749661197, -1.9908118434207005, -1.5810482813913471, 144.28772687666188, -2.296992976114052, -1.1040408658133398, -2.1459409590888363, -1.9980149177384827, 1.4606057380162527, 1.3850325829879266, 18.427386363294296, -1.701715389939981, -1.08576035312671, -7.529214179473815, -4.943775631475093, 1.4814506038068023, -7.58962145816501, -15.949324484785578, 6.182062600595105, -1.2093022434223186, 148.48051940960028, -23.010001312386645, 0.6807223770007109, -2.5464924018898563, 31.587550629023518, -3.236955457236238, -1.223837450890977, -1.08576035312671, -1.9980149177384827, 115.02845429372066, -138.10647796164076, 136.00711587412366, -1.1040408658133398, -100.02603216259399, -1.2271729418959085, 205.39547735655313, 4.058738395134345, -1.111861089916348, -40.96970306522655, -2.707940665766765, -35.176908495048096, -91.88202160023117, -1.111861089916348, 16.19152389638, 32.180354271574245, -1.9980149177384827, 170.26122938555488, -259.42928005173076, -1.534049210863367, -3.6172357819111998, -1.1040408658133398, -2.6834418207110082, -10.396791975691102, -1.1040408658133398, 26.266556441279093, -1.3419275421151624, -1.5865789323439594, -1.1193886948444298, -1.8385173343843086, 2.664575217020356, 20.704791649019008, -20.382963584818437, -1.1193886948444298, 6.372294873895239, 6.7328554991018255, 29.542073479283307, -3.405326472955193, -0.3212971500930566, -1.1040408658133398, 18.24085121556988, -1.1040408658133398, -2.0217460349034484, -1.6951101112406595, -42.08095441042995, -1.2093022434223186, -10.606661308758541]}],\n",
       "                        {\"height\": 700, \"scene\": {\"camera\": {\"center\": {\"x\": 0, \"y\": 0, \"z\": 0}, \"eye\": {\"x\": 1.25, \"y\": 1.25, \"z\": 1.25}, \"up\": {\"x\": 0, \"y\": 0, \"z\": 0}}, \"xaxis\": {\"backgroundcolor\": \"rgb(230, 230,230)\", \"gridcolor\": \"rgb(255, 255, 255)\", \"showbackground\": true, \"title\": {\"text\": \"COMP1\"}, \"zerolinecolor\": \"rgb(255, 255, 255)\"}, \"yaxis\": {\"backgroundcolor\": \"rgb(230, 230,230)\", \"gridcolor\": \"rgb(255, 255, 255)\", \"showbackground\": true, \"title\": {\"text\": \"COMP3\"}, \"zerolinecolor\": \"rgb(255, 255, 255)\"}, \"zaxis\": {\"backgroundcolor\": \"rgb(230, 230,230)\", \"gridcolor\": \"rgb(255, 255, 255)\", \"showbackground\": true, \"title\": {\"text\": \"COMP2\"}, \"zerolinecolor\": \"rgb(255, 255, 255)\"}}, \"template\": {\"data\": {\"bar\": [{\"error_x\": {\"color\": \"#2a3f5f\"}, \"error_y\": {\"color\": \"#2a3f5f\"}, \"marker\": {\"line\": {\"color\": \"#E5ECF6\", \"width\": 0.5}}, \"type\": \"bar\"}], \"barpolar\": [{\"marker\": {\"line\": {\"color\": \"#E5ECF6\", \"width\": 0.5}}, \"type\": \"barpolar\"}], \"carpet\": [{\"aaxis\": {\"endlinecolor\": \"#2a3f5f\", \"gridcolor\": \"white\", \"linecolor\": \"white\", \"minorgridcolor\": \"white\", \"startlinecolor\": \"#2a3f5f\"}, \"baxis\": {\"endlinecolor\": \"#2a3f5f\", \"gridcolor\": \"white\", \"linecolor\": \"white\", \"minorgridcolor\": \"white\", \"startlinecolor\": \"#2a3f5f\"}, \"type\": \"carpet\"}], \"choropleth\": [{\"colorbar\": {\"outlinewidth\": 0, \"ticks\": \"\"}, \"type\": \"choropleth\"}], \"contour\": [{\"colorbar\": {\"outlinewidth\": 0, \"ticks\": \"\"}, \"colorscale\": [[0.0, \"#0d0887\"], [0.1111111111111111, \"#46039f\"], [0.2222222222222222, \"#7201a8\"], [0.3333333333333333, \"#9c179e\"], [0.4444444444444444, \"#bd3786\"], [0.5555555555555556, \"#d8576b\"], [0.6666666666666666, \"#ed7953\"], [0.7777777777777778, \"#fb9f3a\"], [0.8888888888888888, \"#fdca26\"], [1.0, \"#f0f921\"]], \"type\": \"contour\"}], \"contourcarpet\": [{\"colorbar\": {\"outlinewidth\": 0, \"ticks\": \"\"}, \"type\": \"contourcarpet\"}], \"heatmap\": [{\"colorbar\": {\"outlinewidth\": 0, \"ticks\": \"\"}, \"colorscale\": [[0.0, \"#0d0887\"], [0.1111111111111111, \"#46039f\"], [0.2222222222222222, \"#7201a8\"], [0.3333333333333333, \"#9c179e\"], [0.4444444444444444, \"#bd3786\"], [0.5555555555555556, \"#d8576b\"], [0.6666666666666666, \"#ed7953\"], [0.7777777777777778, \"#fb9f3a\"], [0.8888888888888888, \"#fdca26\"], [1.0, \"#f0f921\"]], \"type\": \"heatmap\"}], \"heatmapgl\": [{\"colorbar\": {\"outlinewidth\": 0, \"ticks\": \"\"}, \"colorscale\": [[0.0, \"#0d0887\"], [0.1111111111111111, \"#46039f\"], [0.2222222222222222, \"#7201a8\"], [0.3333333333333333, \"#9c179e\"], [0.4444444444444444, \"#bd3786\"], [0.5555555555555556, \"#d8576b\"], [0.6666666666666666, \"#ed7953\"], [0.7777777777777778, \"#fb9f3a\"], [0.8888888888888888, \"#fdca26\"], [1.0, \"#f0f921\"]], \"type\": \"heatmapgl\"}], \"histogram\": [{\"marker\": {\"colorbar\": {\"outlinewidth\": 0, \"ticks\": \"\"}}, \"type\": \"histogram\"}], \"histogram2d\": [{\"colorbar\": {\"outlinewidth\": 0, \"ticks\": \"\"}, \"colorscale\": [[0.0, \"#0d0887\"], [0.1111111111111111, \"#46039f\"], [0.2222222222222222, \"#7201a8\"], [0.3333333333333333, \"#9c179e\"], [0.4444444444444444, \"#bd3786\"], [0.5555555555555556, \"#d8576b\"], [0.6666666666666666, \"#ed7953\"], [0.7777777777777778, \"#fb9f3a\"], [0.8888888888888888, \"#fdca26\"], [1.0, \"#f0f921\"]], \"type\": \"histogram2d\"}], \"histogram2dcontour\": [{\"colorbar\": {\"outlinewidth\": 0, \"ticks\": \"\"}, \"colorscale\": [[0.0, \"#0d0887\"], [0.1111111111111111, \"#46039f\"], [0.2222222222222222, \"#7201a8\"], [0.3333333333333333, \"#9c179e\"], [0.4444444444444444, \"#bd3786\"], [0.5555555555555556, \"#d8576b\"], [0.6666666666666666, \"#ed7953\"], [0.7777777777777778, \"#fb9f3a\"], [0.8888888888888888, \"#fdca26\"], [1.0, \"#f0f921\"]], \"type\": \"histogram2dcontour\"}], \"mesh3d\": [{\"colorbar\": {\"outlinewidth\": 0, \"ticks\": \"\"}, \"type\": \"mesh3d\"}], \"parcoords\": [{\"line\": {\"colorbar\": {\"outlinewidth\": 0, \"ticks\": \"\"}}, \"type\": \"parcoords\"}], \"scatter\": [{\"marker\": {\"colorbar\": {\"outlinewidth\": 0, \"ticks\": \"\"}}, \"type\": \"scatter\"}], \"scatter3d\": [{\"line\": {\"colorbar\": {\"outlinewidth\": 0, \"ticks\": \"\"}}, \"marker\": {\"colorbar\": {\"outlinewidth\": 0, \"ticks\": \"\"}}, \"type\": \"scatter3d\"}], \"scattercarpet\": [{\"marker\": {\"colorbar\": {\"outlinewidth\": 0, \"ticks\": \"\"}}, \"type\": \"scattercarpet\"}], \"scattergeo\": [{\"marker\": {\"colorbar\": {\"outlinewidth\": 0, \"ticks\": \"\"}}, \"type\": \"scattergeo\"}], \"scattergl\": [{\"marker\": {\"colorbar\": {\"outlinewidth\": 0, \"ticks\": \"\"}}, \"type\": \"scattergl\"}], \"scattermapbox\": [{\"marker\": {\"colorbar\": {\"outlinewidth\": 0, \"ticks\": \"\"}}, \"type\": \"scattermapbox\"}], \"scatterpolar\": [{\"marker\": {\"colorbar\": {\"outlinewidth\": 0, \"ticks\": \"\"}}, \"type\": \"scatterpolar\"}], \"scatterpolargl\": [{\"marker\": {\"colorbar\": {\"outlinewidth\": 0, \"ticks\": \"\"}}, \"type\": \"scatterpolargl\"}], \"scatterternary\": [{\"marker\": {\"colorbar\": {\"outlinewidth\": 0, \"ticks\": \"\"}}, \"type\": \"scatterternary\"}], \"surface\": [{\"colorbar\": {\"outlinewidth\": 0, \"ticks\": \"\"}, \"colorscale\": [[0.0, \"#0d0887\"], [0.1111111111111111, \"#46039f\"], [0.2222222222222222, \"#7201a8\"], [0.3333333333333333, \"#9c179e\"], [0.4444444444444444, \"#bd3786\"], [0.5555555555555556, \"#d8576b\"], [0.6666666666666666, \"#ed7953\"], [0.7777777777777778, \"#fb9f3a\"], [0.8888888888888888, \"#fdca26\"], [1.0, \"#f0f921\"]], \"type\": \"surface\"}], \"table\": [{\"cells\": {\"fill\": {\"color\": \"#EBF0F8\"}, \"line\": {\"color\": \"white\"}}, \"header\": {\"fill\": {\"color\": \"#C8D4E3\"}, \"line\": {\"color\": \"white\"}}, \"type\": \"table\"}]}, \"layout\": {\"annotationdefaults\": {\"arrowcolor\": \"#2a3f5f\", \"arrowhead\": 0, \"arrowwidth\": 1}, \"colorscale\": {\"diverging\": [[0, \"#8e0152\"], [0.1, \"#c51b7d\"], [0.2, \"#de77ae\"], [0.3, \"#f1b6da\"], [0.4, \"#fde0ef\"], [0.5, \"#f7f7f7\"], [0.6, \"#e6f5d0\"], [0.7, \"#b8e186\"], [0.8, \"#7fbc41\"], [0.9, \"#4d9221\"], [1, \"#276419\"]], \"sequential\": [[0.0, \"#0d0887\"], [0.1111111111111111, \"#46039f\"], [0.2222222222222222, \"#7201a8\"], [0.3333333333333333, \"#9c179e\"], [0.4444444444444444, \"#bd3786\"], [0.5555555555555556, \"#d8576b\"], [0.6666666666666666, \"#ed7953\"], [0.7777777777777778, \"#fb9f3a\"], [0.8888888888888888, \"#fdca26\"], [1.0, \"#f0f921\"]], \"sequentialminus\": [[0.0, \"#0d0887\"], [0.1111111111111111, \"#46039f\"], [0.2222222222222222, \"#7201a8\"], [0.3333333333333333, \"#9c179e\"], [0.4444444444444444, \"#bd3786\"], [0.5555555555555556, \"#d8576b\"], [0.6666666666666666, \"#ed7953\"], [0.7777777777777778, \"#fb9f3a\"], [0.8888888888888888, \"#fdca26\"], [1.0, \"#f0f921\"]]}, \"colorway\": [\"#636efa\", \"#EF553B\", \"#00cc96\", \"#ab63fa\", \"#FFA15A\", \"#19d3f3\", \"#FF6692\", \"#B6E880\", \"#FF97FF\", \"#FECB52\"], \"font\": {\"color\": \"#2a3f5f\"}, \"geo\": {\"bgcolor\": \"white\", \"lakecolor\": \"white\", \"landcolor\": \"#E5ECF6\", \"showlakes\": true, \"showland\": true, \"subunitcolor\": \"white\"}, \"hoverlabel\": {\"align\": \"left\"}, \"hovermode\": \"closest\", \"mapbox\": {\"style\": \"light\"}, \"paper_bgcolor\": \"white\", \"plot_bgcolor\": \"#E5ECF6\", \"polar\": {\"angularaxis\": {\"gridcolor\": \"white\", \"linecolor\": \"white\", \"ticks\": \"\"}, \"bgcolor\": \"#E5ECF6\", \"radialaxis\": {\"gridcolor\": \"white\", \"linecolor\": \"white\", \"ticks\": \"\"}}, \"scene\": {\"xaxis\": {\"backgroundcolor\": \"#E5ECF6\", \"gridcolor\": \"white\", \"gridwidth\": 2, \"linecolor\": \"white\", \"showbackground\": true, \"ticks\": \"\", \"zerolinecolor\": \"white\"}, \"yaxis\": {\"backgroundcolor\": \"#E5ECF6\", \"gridcolor\": \"white\", \"gridwidth\": 2, \"linecolor\": \"white\", \"showbackground\": true, \"ticks\": \"\", \"zerolinecolor\": \"white\"}, \"zaxis\": {\"backgroundcolor\": \"#E5ECF6\", \"gridcolor\": \"white\", \"gridwidth\": 2, \"linecolor\": \"white\", \"showbackground\": true, \"ticks\": \"\", \"zerolinecolor\": \"white\"}}, \"shapedefaults\": {\"line\": {\"color\": \"#2a3f5f\"}}, \"ternary\": {\"aaxis\": {\"gridcolor\": \"white\", \"linecolor\": \"white\", \"ticks\": \"\"}, \"baxis\": {\"gridcolor\": \"white\", \"linecolor\": \"white\", \"ticks\": \"\"}, \"bgcolor\": \"#E5ECF6\", \"caxis\": {\"gridcolor\": \"white\", \"linecolor\": \"white\", \"ticks\": \"\"}}, \"title\": {\"x\": 0.05}, \"xaxis\": {\"automargin\": true, \"gridcolor\": \"white\", \"linecolor\": \"white\", \"ticks\": \"\", \"zerolinecolor\": \"white\", \"zerolinewidth\": 2}, \"yaxis\": {\"automargin\": true, \"gridcolor\": \"white\", \"linecolor\": \"white\", \"ticks\": \"\", \"zerolinecolor\": \"white\", \"zerolinewidth\": 2}}}, \"title\": {\"text\": \"PCA Scatter plot (3 comp = 72.7%)\"}},\n",
       "                        {\"responsive\": true}\n",
       "                    ).then(function(){\n",
       "                            \n",
       "var gd = document.getElementById('c3c0cc01-5257-4c85-a17c-8aa27f7975b6');\n",
       "var x = new MutationObserver(function (mutations, observer) {{\n",
       "        var display = window.getComputedStyle(gd).display;\n",
       "        if (!display || display === 'none') {{\n",
       "            console.log([gd, 'removed!']);\n",
       "            Plotly.purge(gd);\n",
       "            observer.disconnect();\n",
       "        }}\n",
       "}});\n",
       "\n",
       "// Listen for the removal of the full notebook cells\n",
       "var notebookContainer = gd.closest('#notebook-container');\n",
       "if (notebookContainer) {{\n",
       "    x.observe(notebookContainer, {childList: true});\n",
       "}}\n",
       "\n",
       "// Listen for the clearing of the current output cell\n",
       "var outputEl = gd.closest('.output');\n",
       "if (outputEl) {{\n",
       "    x.observe(outputEl, {childList: true});\n",
       "}}\n",
       "\n",
       "                        })\n",
       "                };\n",
       "                });\n",
       "            </script>\n",
       "        </div>"
      ]
     },
     "metadata": {},
     "output_type": "display_data"
    }
   ],
   "source": [
    "PCA_scatter_3(P_pca,A_pca)"
   ]
  },
  {
   "cell_type": "code",
   "execution_count": 241,
   "metadata": {},
   "outputs": [],
   "source": [
    "from sklearn.pipeline import Pipeline"
   ]
  },
  {
   "cell_type": "code",
   "execution_count": 247,
   "metadata": {},
   "outputs": [],
   "source": [
    "pipe = Pipeline(steps=[('pca', pca), ('Bernoulli', clf)])"
   ]
  },
  {
   "cell_type": "code",
   "execution_count": 245,
   "metadata": {},
   "outputs": [
    {
     "name": "stdout",
     "output_type": "stream",
     "text": [
      "0.75\n",
      "             precision    recall  f1-score   support\n",
      "\n",
      "          0       0.00      0.00      0.00         1\n",
      "          1       0.86      0.86      0.86         7\n",
      "\n",
      "avg / total       0.75      0.75      0.75         8\n",
      "\n"
     ]
    }
   ],
   "source": [
    "test_pca=pca.transform(test)\n",
    "pipe.fit(smote_train, smote_target)\n",
    "pipe_target_pred = clf.predict(test_pca)\n",
    "print(accuracy_score(target_val, pipe_target_pred))\n",
    "print(classification_report(target_val, pipe_target_pred))"
   ]
  },
  {
   "cell_type": "markdown",
   "metadata": {},
   "source": [
    "### Algorithms Basic Analysis"
   ]
  },
  {
   "cell_type": "code",
   "execution_count": 148,
   "metadata": {},
   "outputs": [],
   "source": [
    "MLA = [    \n",
    "        # Generalized Linear Models\n",
    "        LogisticRegressionCV(),\n",
    "    \n",
    "        # SVM\n",
    "        svm.SVC(probability = True),\n",
    "        svm.LinearSVC(),\n",
    "    \n",
    "        # KNN\n",
    "        neighbors.KNeighborsClassifier(weights='distance'),\n",
    "    \n",
    "        #Discriminant Analysis\n",
    "        discriminant_analysis.LinearDiscriminantAnalysis(),\n",
    "        discriminant_analysis.QuadraticDiscriminantAnalysis(),\n",
    "     \n",
    "        # Naive Bayes\n",
    "        naive_bayes.BernoulliNB(),\n",
    "        naive_bayes.GaussianNB(),\n",
    "    \n",
    "        #Trees    \n",
    "        tree.DecisionTreeClassifier(),\n",
    "    \n",
    "        # Ensemble Methods\n",
    "        ensemble.AdaBoostClassifier(),\n",
    "        ensemble.BaggingClassifier(),\n",
    "        ensemble.ExtraTreesClassifier(),\n",
    "        ensemble.GradientBoostingClassifier(),\n",
    "        ensemble.RandomForestClassifier()\n",
    "     \n",
    "    ]\n",
    "\n",
    "cv_split = ShuffleSplit(n_splits = 10, test_size = .02, train_size = .98, random_state = 0)\n",
    "MLA_columns = ['MLA Name','MLA Train Accuracy Mean', 'MLA Test Accuracy Mean','MLA Time']\n",
    "MLA_compare = pd.DataFrame(columns = MLA_columns)\n",
    "\n",
    "row_index = 0\n",
    "for alg in MLA:\n",
    "    MLA_name = alg.__class__.__name__\n",
    "    MLA_compare.loc[row_index, 'MLA Name'] = MLA_name\n",
    "    cv_results = cross_validate(alg, smote_train, smote_target , cv  = None, return_train_score=True)\n",
    "   \n",
    "    MLA_compare.loc[row_index, 'MLA Time'] = cv_results['fit_time'].mean()\n",
    "    MLA_compare.loc[row_index, 'MLA Train Accuracy Mean'] = cv_results['train_score'].mean()\n",
    "    MLA_compare.loc[row_index, 'MLA Test Accuracy Mean'] = cv_results['test_score'].mean()   \n",
    "        \n",
    "    row_index+=1\n",
    "   \n",
    "\n",
    "MLA_compare.sort_values(by = ['MLA Test Accuracy Mean'], ascending = False, inplace = True)"
   ]
  },
  {
   "cell_type": "code",
   "execution_count": 149,
   "metadata": {},
   "outputs": [
    {
     "data": {
      "text/html": [
       "<div>\n",
       "<style scoped>\n",
       "    .dataframe tbody tr th:only-of-type {\n",
       "        vertical-align: middle;\n",
       "    }\n",
       "\n",
       "    .dataframe tbody tr th {\n",
       "        vertical-align: top;\n",
       "    }\n",
       "\n",
       "    .dataframe thead th {\n",
       "        text-align: right;\n",
       "    }\n",
       "</style>\n",
       "<table border=\"1\" class=\"dataframe\">\n",
       "  <thead>\n",
       "    <tr style=\"text-align: right;\">\n",
       "      <th></th>\n",
       "      <th>MLA Name</th>\n",
       "      <th>MLA Train Accuracy Mean</th>\n",
       "      <th>MLA Test Accuracy Mean</th>\n",
       "      <th>MLA Time</th>\n",
       "    </tr>\n",
       "  </thead>\n",
       "  <tbody>\n",
       "    <tr>\n",
       "      <th>7</th>\n",
       "      <td>GaussianNB</td>\n",
       "      <td>0.738146</td>\n",
       "      <td>0.703102</td>\n",
       "      <td>0.00199763</td>\n",
       "    </tr>\n",
       "    <tr>\n",
       "      <th>5</th>\n",
       "      <td>QuadraticDiscriminantAnalysis</td>\n",
       "      <td>0.745734</td>\n",
       "      <td>0.701978</td>\n",
       "      <td>0.061997</td>\n",
       "    </tr>\n",
       "    <tr>\n",
       "      <th>12</th>\n",
       "      <td>GradientBoostingClassifier</td>\n",
       "      <td>0.789091</td>\n",
       "      <td>0.685567</td>\n",
       "      <td>0.176313</td>\n",
       "    </tr>\n",
       "    <tr>\n",
       "      <th>9</th>\n",
       "      <td>AdaBoostClassifier</td>\n",
       "      <td>0.770115</td>\n",
       "      <td>0.680142</td>\n",
       "      <td>0.11332</td>\n",
       "    </tr>\n",
       "    <tr>\n",
       "      <th>11</th>\n",
       "      <td>ExtraTreesClassifier</td>\n",
       "      <td>0.868254</td>\n",
       "      <td>0.674766</td>\n",
       "      <td>0.0229988</td>\n",
       "    </tr>\n",
       "    <tr>\n",
       "      <th>8</th>\n",
       "      <td>DecisionTreeClassifier</td>\n",
       "      <td>0.868254</td>\n",
       "      <td>0.674723</td>\n",
       "      <td>0.00566244</td>\n",
       "    </tr>\n",
       "    <tr>\n",
       "      <th>1</th>\n",
       "      <td>SVC</td>\n",
       "      <td>0.734311</td>\n",
       "      <td>0.6727</td>\n",
       "      <td>0.277012</td>\n",
       "    </tr>\n",
       "    <tr>\n",
       "      <th>3</th>\n",
       "      <td>KNeighborsClassifier</td>\n",
       "      <td>0.86337</td>\n",
       "      <td>0.66939</td>\n",
       "      <td>0.00333182</td>\n",
       "    </tr>\n",
       "    <tr>\n",
       "      <th>13</th>\n",
       "      <td>RandomForestClassifier</td>\n",
       "      <td>0.860122</td>\n",
       "      <td>0.665019</td>\n",
       "      <td>0.0243321</td>\n",
       "    </tr>\n",
       "    <tr>\n",
       "      <th>10</th>\n",
       "      <td>BaggingClassifier</td>\n",
       "      <td>0.859579</td>\n",
       "      <td>0.661729</td>\n",
       "      <td>0.0466499</td>\n",
       "    </tr>\n",
       "    <tr>\n",
       "      <th>2</th>\n",
       "      <td>LinearSVC</td>\n",
       "      <td>0.785843</td>\n",
       "      <td>0.659537</td>\n",
       "      <td>0.0423026</td>\n",
       "    </tr>\n",
       "    <tr>\n",
       "      <th>4</th>\n",
       "      <td>LinearDiscriminantAnalysis</td>\n",
       "      <td>0.74514</td>\n",
       "      <td>0.648608</td>\n",
       "      <td>0.0481313</td>\n",
       "    </tr>\n",
       "    <tr>\n",
       "      <th>0</th>\n",
       "      <td>LogisticRegressionCV</td>\n",
       "      <td>0.745713</td>\n",
       "      <td>0.645488</td>\n",
       "      <td>0.996668</td>\n",
       "    </tr>\n",
       "    <tr>\n",
       "      <th>6</th>\n",
       "      <td>BernoulliNB</td>\n",
       "      <td>0.649652</td>\n",
       "      <td>0.641945</td>\n",
       "      <td>0.00200041</td>\n",
       "    </tr>\n",
       "  </tbody>\n",
       "</table>\n",
       "</div>"
      ],
      "text/plain": [
       "                         MLA Name MLA Train Accuracy Mean  \\\n",
       "7                      GaussianNB                0.738146   \n",
       "5   QuadraticDiscriminantAnalysis                0.745734   \n",
       "12     GradientBoostingClassifier                0.789091   \n",
       "9              AdaBoostClassifier                0.770115   \n",
       "11           ExtraTreesClassifier                0.868254   \n",
       "8          DecisionTreeClassifier                0.868254   \n",
       "1                             SVC                0.734311   \n",
       "3            KNeighborsClassifier                 0.86337   \n",
       "13         RandomForestClassifier                0.860122   \n",
       "10              BaggingClassifier                0.859579   \n",
       "2                       LinearSVC                0.785843   \n",
       "4      LinearDiscriminantAnalysis                 0.74514   \n",
       "0            LogisticRegressionCV                0.745713   \n",
       "6                     BernoulliNB                0.649652   \n",
       "\n",
       "   MLA Test Accuracy Mean    MLA Time  \n",
       "7                0.703102  0.00199763  \n",
       "5                0.701978    0.061997  \n",
       "12               0.685567    0.176313  \n",
       "9                0.680142     0.11332  \n",
       "11               0.674766   0.0229988  \n",
       "8                0.674723  0.00566244  \n",
       "1                  0.6727    0.277012  \n",
       "3                 0.66939  0.00333182  \n",
       "13               0.665019   0.0243321  \n",
       "10               0.661729   0.0466499  \n",
       "2                0.659537   0.0423026  \n",
       "4                0.648608   0.0481313  \n",
       "0                0.645488    0.996668  \n",
       "6                0.641945  0.00200041  "
      ]
     },
     "execution_count": 149,
     "metadata": {},
     "output_type": "execute_result"
    }
   ],
   "source": [
    "MLA_compare"
   ]
  },
  {
   "cell_type": "markdown",
   "metadata": {},
   "source": [
    "### random Forest"
   ]
  },
  {
   "cell_type": "code",
   "execution_count": 150,
   "metadata": {},
   "outputs": [],
   "source": [
    "seed = 0   # We set our random seed to zero for reproducibility\n",
    "# Random Forest parameters\n",
    "rf_params = {\n",
    "    'n_jobs': -1,\n",
    "    'n_estimators': 1000,\n",
    "#     'warm_start': True, \n",
    "    'max_features': 0.3,\n",
    "    'max_depth': 4,\n",
    "    'min_samples_leaf': 2,\n",
    "    'max_features' : 'sqrt',\n",
    "    'random_state' : seed,\n",
    "    'verbose': 0\n",
    "}"
   ]
  },
  {
   "cell_type": "code",
   "execution_count": 151,
   "metadata": {},
   "outputs": [],
   "source": [
    "from sklearn.metrics import ( log_loss, classification_report)\n",
    "rf = RandomForestClassifier(**rf_params)"
   ]
  },
  {
   "cell_type": "code",
   "execution_count": 152,
   "metadata": {},
   "outputs": [
    {
     "name": "stdout",
     "output_type": "stream",
     "text": [
      "Fitting of Random Forest finished\n"
     ]
    }
   ],
   "source": [
    "rf.fit(smote_train, smote_target)\n",
    "print(\"Fitting of Random Forest finished\")"
   ]
  },
  {
   "cell_type": "code",
   "execution_count": 153,
   "metadata": {},
   "outputs": [
    {
     "name": "stdout",
     "output_type": "stream",
     "text": [
      "Predictions finished\n"
     ]
    }
   ],
   "source": [
    "rf_predictions = rf.predict(test)\n",
    "print(\"Predictions finished\")"
   ]
  },
  {
   "cell_type": "code",
   "execution_count": 154,
   "metadata": {},
   "outputs": [
    {
     "name": "stdout",
     "output_type": "stream",
     "text": [
      "Accuracy score: 0.75\n",
      "================================================================================\n",
      "             precision    recall  f1-score   support\n",
      "\n",
      "          0       0.00      0.00      0.00         1\n",
      "          1       0.86      0.86      0.86         7\n",
      "\n",
      "avg / total       0.75      0.75      0.75         8\n",
      "\n"
     ]
    }
   ],
   "source": [
    "print(\"Accuracy score: {}\".format(accuracy_score(target_val, rf_predictions)))\n",
    "print(\"=\"*80)\n",
    "print(classification_report(target_val, rf_predictions))"
   ]
  },
  {
   "cell_type": "markdown",
   "metadata": {},
   "source": [
    "### Gradient Boosting "
   ]
  },
  {
   "cell_type": "code",
   "execution_count": 155,
   "metadata": {},
   "outputs": [],
   "source": [
    "# Gradient Boosting Parameters\n",
    "gb_params ={\n",
    "    'n_estimators': 1500,\n",
    "    'max_features': 0.9,\n",
    "    'learning_rate' : 0.25,\n",
    "    'max_depth': 3,\n",
    "    'min_samples_leaf': 2,\n",
    "    'subsample': 1,\n",
    "    'max_features' : 'sqrt',\n",
    "    'random_state' : seed,\n",
    "    'verbose': 0\n",
    "}"
   ]
  },
  {
   "cell_type": "code",
   "execution_count": 156,
   "metadata": {},
   "outputs": [
    {
     "name": "stdout",
     "output_type": "stream",
     "text": [
      "Predictions have finished\n"
     ]
    }
   ],
   "source": [
    "gb = GradientBoostingClassifier(**gb_params)\n",
    "# Fit the model to our SMOTEd train and target\n",
    "gb.fit(smote_train, smote_target)\n",
    "# Get our predictions\n",
    "gb_predictions = gb.predict(test)\n",
    "print(\"Predictions have finished\")"
   ]
  },
  {
   "cell_type": "code",
   "execution_count": 157,
   "metadata": {},
   "outputs": [
    {
     "name": "stdout",
     "output_type": "stream",
     "text": [
      "0.875\n",
      "             precision    recall  f1-score   support\n",
      "\n",
      "          0       0.00      0.00      0.00         1\n",
      "          1       0.88      1.00      0.93         7\n",
      "\n",
      "avg / total       0.77      0.88      0.82         8\n",
      "\n"
     ]
    }
   ],
   "source": [
    "print(accuracy_score(target_val, gb_predictions))\n",
    "print(classification_report(target_val, gb_predictions))"
   ]
  },
  {
   "cell_type": "markdown",
   "metadata": {},
   "source": [
    "### BernoulliNB"
   ]
  },
  {
   "cell_type": "code",
   "execution_count": 209,
   "metadata": {},
   "outputs": [],
   "source": [
    "clf = BernoulliNB()\n",
    "clf.fit(smote_train, smote_target)\n",
    "target_pred = clf.predict(test)"
   ]
  },
  {
   "cell_type": "code",
   "execution_count": 211,
   "metadata": {},
   "outputs": [
    {
     "name": "stdout",
     "output_type": "stream",
     "text": [
      "0.875\n",
      "             precision    recall  f1-score   support\n",
      "\n",
      "          0       0.00      0.00      0.00         1\n",
      "          1       0.88      1.00      0.93         7\n",
      "\n",
      "avg / total       0.77      0.88      0.82         8\n",
      "\n"
     ]
    }
   ],
   "source": [
    "print(accuracy_score(target_val, target_pred))\n",
    "print(classification_report(target_val, target_pred))"
   ]
  },
  {
   "cell_type": "markdown",
   "metadata": {},
   "source": [
    "### GaussianProcess"
   ]
  },
  {
   "cell_type": "code",
   "execution_count": 160,
   "metadata": {},
   "outputs": [
    {
     "name": "stdout",
     "output_type": "stream",
     "text": [
      "0.875\n",
      "             precision    recall  f1-score   support\n",
      "\n",
      "          0       0.00      0.00      0.00         1\n",
      "          1       0.88      1.00      0.93         7\n",
      "\n",
      "avg / total       0.77      0.88      0.82         8\n",
      "\n"
     ]
    }
   ],
   "source": [
    "from sklearn.gaussian_process import GaussianProcessClassifier\n",
    "from sklearn.gaussian_process.kernels import RBF\n",
    "kernel = 1.0 * RBF(1.0)\n",
    "gpc = GaussianProcessClassifier(kernel=kernel, random_state=0).fit(smote_train, smote_target)\n",
    "target_pred = gpc.predict(test)\n",
    "print(accuracy_score(target_val, target_pred))\n",
    "print(classification_report(target_val,target_pred))"
   ]
  },
  {
   "cell_type": "markdown",
   "metadata": {},
   "source": [
    "### QuadraticDiscriminantAnalysis"
   ]
  },
  {
   "cell_type": "code",
   "execution_count": 212,
   "metadata": {},
   "outputs": [
    {
     "name": "stdout",
     "output_type": "stream",
     "text": [
      "0.875\n",
      "             precision    recall  f1-score   support\n",
      "\n",
      "          0       0.00      0.00      0.00         1\n",
      "          1       0.88      1.00      0.93         7\n",
      "\n",
      "avg / total       0.77      0.88      0.82         8\n",
      "\n"
     ]
    }
   ],
   "source": [
    "quad=discriminant_analysis.QuadraticDiscriminantAnalysis().fit(smote_train, smote_target)\n",
    "target_pred = quad.predict(test)\n",
    "print(accuracy_score(target_val, target_pred))\n",
    "print(classification_report(target_val,target_pred))"
   ]
  },
  {
   "cell_type": "markdown",
   "metadata": {},
   "source": [
    "### Voting Classification"
   ]
  },
  {
   "cell_type": "code",
   "execution_count": 162,
   "metadata": {},
   "outputs": [
    {
     "data": {
      "text/plain": [
       "VotingClassifier(estimators=[('Gaussian', GaussianProcessClassifier(copy_X_train=True,\n",
       "             kernel=1**2 * RBF(length_scale=1), max_iter_predict=100,\n",
       "             multi_class='one_vs_rest', n_jobs=1, n_restarts_optimizer=0,\n",
       "             optimizer='fmin_l_bfgs_b', random_state=0, warm_start=False)), ('Bernoulli', BernoulliNB(alpha=1.0, binarize=0.0, class_prior=None, fit_prior=True))],\n",
       "         flatten_transform=None, n_jobs=1, voting='soft', weights=[1, 1])"
      ]
     },
     "execution_count": 162,
     "metadata": {},
     "output_type": "execute_result"
    }
   ],
   "source": [
    "#Voting Classifier\n",
    "voting_clf = VotingClassifier (\n",
    "        estimators = [('Gaussian', gpc), ('Bernoulli', clf)],\n",
    "                     voting='soft', weights = [1, 1])\n",
    "    \n",
    "voting_clf.fit(data_cat, target)\n"
   ]
  },
  {
   "cell_type": "code",
   "execution_count": 163,
   "metadata": {},
   "outputs": [
    {
     "name": "stdout",
     "output_type": "stream",
     "text": [
      "0.875\n",
      "             precision    recall  f1-score   support\n",
      "\n",
      "          0       0.00      0.00      0.00         1\n",
      "          1       0.88      1.00      0.93         7\n",
      "\n",
      "avg / total       0.77      0.88      0.82         8\n",
      "\n"
     ]
    }
   ],
   "source": [
    "target_pred = voting_clf.predict(test)\n",
    "print(accuracy_score(target_val, target_pred))\n",
    "print(classification_report(target_val,target_pred))"
   ]
  },
  {
   "cell_type": "markdown",
   "metadata": {},
   "source": [
    "## Without SMOTE(Unbalanced Dataset)"
   ]
  },
  {
   "cell_type": "code",
   "execution_count": 164,
   "metadata": {},
   "outputs": [],
   "source": [
    "MLA = [    \n",
    "        # Generalized Linear Models\n",
    "        LogisticRegressionCV(),\n",
    "    \n",
    "        # SVM\n",
    "        svm.SVC(probability = True),\n",
    "        svm.LinearSVC(),\n",
    "    \n",
    "        # KNN\n",
    "        neighbors.KNeighborsClassifier(weights='distance'),\n",
    "    \n",
    "        #Discriminant Analysis\n",
    "        discriminant_analysis.LinearDiscriminantAnalysis(),\n",
    "        discriminant_analysis.QuadraticDiscriminantAnalysis(),\n",
    "     \n",
    "        # Naive Bayes\n",
    "        naive_bayes.BernoulliNB(),\n",
    "        naive_bayes.GaussianNB(),\n",
    "    \n",
    "        #Trees    \n",
    "        tree.DecisionTreeClassifier(),\n",
    "    \n",
    "        # Ensemble Methods\n",
    "        ensemble.AdaBoostClassifier(),\n",
    "        ensemble.BaggingClassifier(),\n",
    "        ensemble.ExtraTreesClassifier(),\n",
    "        ensemble.GradientBoostingClassifier(),\n",
    "        ensemble.RandomForestClassifier()\n",
    "     \n",
    "    ]\n",
    "\n",
    "cv_split = ShuffleSplit(n_splits = 10, test_size = .01, train_size = .99, random_state = 0)\n",
    "MLA_columns = ['MLA Name','MLA Train Accuracy Mean', 'MLA Test Accuracy Mean','MLA Time']\n",
    "MLA_compare = pd.DataFrame(columns = MLA_columns)\n",
    "\n",
    "row_index = 0\n",
    "for alg in MLA:\n",
    "    MLA_name = alg.__class__.__name__\n",
    "    MLA_compare.loc[row_index, 'MLA Name'] = MLA_name\n",
    "    cv_results = cross_validate(alg, data_cat, target , cv  = cv_split, return_train_score=True)\n",
    "   \n",
    "    MLA_compare.loc[row_index, 'MLA Time'] = cv_results['fit_time'].mean()\n",
    "    MLA_compare.loc[row_index, 'MLA Train Accuracy Mean'] = cv_results['train_score'].mean()\n",
    "    MLA_compare.loc[row_index, 'MLA Test Accuracy Mean'] = cv_results['test_score'].mean()   \n",
    "        \n",
    "    row_index+=1\n",
    "   \n",
    "\n",
    "MLA_compare.sort_values(by = ['MLA Test Accuracy Mean'], ascending = False, inplace = True)"
   ]
  },
  {
   "cell_type": "code",
   "execution_count": 165,
   "metadata": {},
   "outputs": [
    {
     "data": {
      "text/html": [
       "<div>\n",
       "<style scoped>\n",
       "    .dataframe tbody tr th:only-of-type {\n",
       "        vertical-align: middle;\n",
       "    }\n",
       "\n",
       "    .dataframe tbody tr th {\n",
       "        vertical-align: top;\n",
       "    }\n",
       "\n",
       "    .dataframe thead th {\n",
       "        text-align: right;\n",
       "    }\n",
       "</style>\n",
       "<table border=\"1\" class=\"dataframe\">\n",
       "  <thead>\n",
       "    <tr style=\"text-align: right;\">\n",
       "      <th></th>\n",
       "      <th>MLA Name</th>\n",
       "      <th>MLA Train Accuracy Mean</th>\n",
       "      <th>MLA Test Accuracy Mean</th>\n",
       "      <th>MLA Time</th>\n",
       "    </tr>\n",
       "  </thead>\n",
       "  <tbody>\n",
       "    <tr>\n",
       "      <th>6</th>\n",
       "      <td>BernoulliNB</td>\n",
       "      <td>0.700283</td>\n",
       "      <td>0.7</td>\n",
       "      <td>0.00290101</td>\n",
       "    </tr>\n",
       "    <tr>\n",
       "      <th>8</th>\n",
       "      <td>DecisionTreeClassifier</td>\n",
       "      <td>0.842351</td>\n",
       "      <td>0.7</td>\n",
       "      <td>0.00719476</td>\n",
       "    </tr>\n",
       "    <tr>\n",
       "      <th>1</th>\n",
       "      <td>SVC</td>\n",
       "      <td>0.696176</td>\n",
       "      <td>0.6875</td>\n",
       "      <td>0.394698</td>\n",
       "    </tr>\n",
       "    <tr>\n",
       "      <th>4</th>\n",
       "      <td>LinearDiscriminantAnalysis</td>\n",
       "      <td>0.741926</td>\n",
       "      <td>0.6875</td>\n",
       "      <td>0.0496908</td>\n",
       "    </tr>\n",
       "    <tr>\n",
       "      <th>0</th>\n",
       "      <td>LogisticRegressionCV</td>\n",
       "      <td>0.711898</td>\n",
       "      <td>0.675</td>\n",
       "      <td>0.815</td>\n",
       "    </tr>\n",
       "    <tr>\n",
       "      <th>2</th>\n",
       "      <td>LinearSVC</td>\n",
       "      <td>0.742351</td>\n",
       "      <td>0.675</td>\n",
       "      <td>0.0376951</td>\n",
       "    </tr>\n",
       "    <tr>\n",
       "      <th>3</th>\n",
       "      <td>KNeighborsClassifier</td>\n",
       "      <td>0.832011</td>\n",
       "      <td>0.675</td>\n",
       "      <td>0.00429575</td>\n",
       "    </tr>\n",
       "    <tr>\n",
       "      <th>9</th>\n",
       "      <td>AdaBoostClassifier</td>\n",
       "      <td>0.735694</td>\n",
       "      <td>0.675</td>\n",
       "      <td>0.114596</td>\n",
       "    </tr>\n",
       "    <tr>\n",
       "      <th>11</th>\n",
       "      <td>ExtraTreesClassifier</td>\n",
       "      <td>0.842351</td>\n",
       "      <td>0.675</td>\n",
       "      <td>0.0256037</td>\n",
       "    </tr>\n",
       "    <tr>\n",
       "      <th>12</th>\n",
       "      <td>GradientBoostingClassifier</td>\n",
       "      <td>0.758499</td>\n",
       "      <td>0.6625</td>\n",
       "      <td>0.188695</td>\n",
       "    </tr>\n",
       "    <tr>\n",
       "      <th>10</th>\n",
       "      <td>BaggingClassifier</td>\n",
       "      <td>0.83272</td>\n",
       "      <td>0.65</td>\n",
       "      <td>0.0507994</td>\n",
       "    </tr>\n",
       "    <tr>\n",
       "      <th>13</th>\n",
       "      <td>RandomForestClassifier</td>\n",
       "      <td>0.833994</td>\n",
       "      <td>0.575</td>\n",
       "      <td>0.0266965</td>\n",
       "    </tr>\n",
       "    <tr>\n",
       "      <th>7</th>\n",
       "      <td>GaussianNB</td>\n",
       "      <td>0.528187</td>\n",
       "      <td>0.5625</td>\n",
       "      <td>0.00289693</td>\n",
       "    </tr>\n",
       "    <tr>\n",
       "      <th>5</th>\n",
       "      <td>QuadraticDiscriminantAnalysis</td>\n",
       "      <td>0.444618</td>\n",
       "      <td>0.45</td>\n",
       "      <td>0.0641961</td>\n",
       "    </tr>\n",
       "  </tbody>\n",
       "</table>\n",
       "</div>"
      ],
      "text/plain": [
       "                         MLA Name MLA Train Accuracy Mean  \\\n",
       "6                     BernoulliNB                0.700283   \n",
       "8          DecisionTreeClassifier                0.842351   \n",
       "1                             SVC                0.696176   \n",
       "4      LinearDiscriminantAnalysis                0.741926   \n",
       "0            LogisticRegressionCV                0.711898   \n",
       "2                       LinearSVC                0.742351   \n",
       "3            KNeighborsClassifier                0.832011   \n",
       "9              AdaBoostClassifier                0.735694   \n",
       "11           ExtraTreesClassifier                0.842351   \n",
       "12     GradientBoostingClassifier                0.758499   \n",
       "10              BaggingClassifier                 0.83272   \n",
       "13         RandomForestClassifier                0.833994   \n",
       "7                      GaussianNB                0.528187   \n",
       "5   QuadraticDiscriminantAnalysis                0.444618   \n",
       "\n",
       "   MLA Test Accuracy Mean    MLA Time  \n",
       "6                     0.7  0.00290101  \n",
       "8                     0.7  0.00719476  \n",
       "1                  0.6875    0.394698  \n",
       "4                  0.6875   0.0496908  \n",
       "0                   0.675       0.815  \n",
       "2                   0.675   0.0376951  \n",
       "3                   0.675  0.00429575  \n",
       "9                   0.675    0.114596  \n",
       "11                  0.675   0.0256037  \n",
       "12                 0.6625    0.188695  \n",
       "10                   0.65   0.0507994  \n",
       "13                  0.575   0.0266965  \n",
       "7                  0.5625  0.00289693  \n",
       "5                    0.45   0.0641961  "
      ]
     },
     "execution_count": 165,
     "metadata": {},
     "output_type": "execute_result"
    }
   ],
   "source": [
    "MLA_compare"
   ]
  },
  {
   "cell_type": "markdown",
   "metadata": {},
   "source": []
  },
  {
   "cell_type": "markdown",
   "metadata": {},
   "source": [
    "# Tuning the Model with Hyper-Parameters"
   ]
  },
  {
   "cell_type": "markdown",
   "metadata": {},
   "source": [
    "## Grid Search for SVM"
   ]
  },
  {
   "cell_type": "code",
   "execution_count": 166,
   "metadata": {},
   "outputs": [
    {
     "name": "stdout",
     "output_type": "stream",
     "text": [
      "epoch: 1 train_score: 0.6954674220963173 test_score: 0.75\n",
      "epoch: 2 train_score: 0.6983002832861189 test_score: 0.5\n",
      "epoch: 3 train_score: 0.6968838526912181 test_score: 0.625\n",
      "epoch: 4 train_score: 0.6940509915014165 test_score: 0.875\n",
      "epoch: 5 train_score: 0.6983002832861189 test_score: 0.5\n",
      "epoch: 6 train_score: 0.6954674220963173 test_score: 0.75\n",
      "epoch: 7 train_score: 0.6954674220963173 test_score: 0.75\n",
      "epoch: 8 train_score: 0.6968838526912181 test_score: 0.625\n",
      "epoch: 9 train_score: 0.6940509915014165 test_score: 0.875\n",
      "epoch: 10 train_score: 0.6968838526912181 test_score: 0.625\n",
      "----------\n",
      "BEFORE Tuning Parameters:  {'C': 1.0, 'cache_size': 200, 'class_weight': None, 'coef0': 0.0, 'decision_function_shape': 'ovr', 'degree': 3, 'gamma': 'auto', 'kernel': 'rbf', 'max_iter': -1, 'probability': False, 'random_state': None, 'shrinking': True, 'tol': 0.001, 'verbose': False}\n",
      "BEFORE Tuning Training w/bin score mean: 69.62\n",
      "BEFORE Tuning Test w/bin score mean: 68.75\n",
      "----------\n",
      "epoch: 0 train_score: 0.6954674220963173 test_score: 0.75\n",
      "epoch: 1 train_score: 0.6983002832861189 test_score: 0.5\n",
      "epoch: 2 train_score: 0.6983002832861189 test_score: 0.625\n",
      "epoch: 3 train_score: 0.7025495750708215 test_score: 0.875\n",
      "epoch: 4 train_score: 0.6997167138810199 test_score: 0.5\n",
      "epoch: 5 train_score: 0.6954674220963173 test_score: 0.75\n",
      "epoch: 6 train_score: 0.6954674220963173 test_score: 0.75\n",
      "epoch: 7 train_score: 0.6983002832861189 test_score: 0.625\n",
      "epoch: 8 train_score: 0.6954674220963173 test_score: 0.875\n",
      "epoch: 9 train_score: 0.6983002832861189 test_score: 0.625\n",
      "----------\n",
      "AFTER Tuning Parameters:  {'C': 0.5, 'gamma': 0.02, 'kernel': 'rbf'}\n",
      "AFTER Tuning Training w/bin score mean: 69.77\n",
      "AFTER Tuning Test w/bin score mean: 68.75\n",
      "----------\n"
     ]
    }
   ],
   "source": [
    "# grid search for svm\n",
    "classifier = svm.SVC()\n",
    "base_results = cross_validate(classifier, data_cat, target, cv  = cv_split, return_train_score=True)\n",
    "classifier.fit(data_cat, target)\n",
    "\n",
    "epoch=0\n",
    "for train_score,test_score in zip(base_results['train_score'], base_results['test_score']):\n",
    "        epoch +=1       \n",
    "        print(\"epoch:\",epoch,\"train_score:\",train_score, \"test_score:\",test_score)\n",
    "print('-'*10)\n",
    "\n",
    "print('BEFORE Tuning Parameters: ', classifier.get_params())\n",
    "print(\"BEFORE Tuning Training w/bin score mean: {:.2f}\". format(base_results['train_score'].mean()*100)) \n",
    "print(\"BEFORE Tuning Test w/bin score mean: {:.2f}\". format(base_results['test_score'].mean()*100))\n",
    "print('-'*10)\n",
    "\n",
    "param_grid = {'C':[0.5,1.0,2.0, 3.0],  # penalty parameter C of the error term\n",
    "              'kernel':['linear', 'rbf'], # specifies the kernel type to be used in the algorithm  \n",
    "              'gamma':[0.02, 0.08,0.2,1.0] # kernel coefficient for 'rbf'\n",
    "             }\n",
    "\n",
    "# Grid Search\n",
    "tune_model = GridSearchCV(svm.SVC(), param_grid=param_grid, scoring = 'accuracy', cv = cv_split, return_train_score=True)\n",
    "tune_model.fit(data_cat, target)\n",
    "\n",
    "for i in range(10):\n",
    "    print(\"epoch:\",i,\"train_score:\",tune_model.cv_results_['split'+str(i)+'_train_score'][tune_model.best_index_],\n",
    "    \"test_score:\",tune_model.cv_results_['split'+str(i)+'_test_score'][tune_model.best_index_])\n",
    "\n",
    "print('-'*10)    \n",
    "\n",
    "print('AFTER Tuning Parameters: ', tune_model.best_params_)\n",
    "print(\"AFTER Tuning Training w/bin score mean: {:.2f}\". format(tune_model.cv_results_['mean_train_score'][tune_model.best_index_]*100))\n",
    "print(\"AFTER Tuning Test w/bin score mean: {:.2f}\". format(tune_model.cv_results_['mean_test_score'][tune_model.best_index_]*100))\n",
    "print('-'*10)"
   ]
  },
  {
   "cell_type": "code",
   "execution_count": 167,
   "metadata": {},
   "outputs": [
    {
     "data": {
      "text/plain": [
       "SVC(C=0.5, cache_size=200, class_weight=None, coef0=0.0,\n",
       "  decision_function_shape='ovr', degree=3, gamma=0.02, kernel='rbf',\n",
       "  max_iter=-1, probability=False, random_state=None, shrinking=True,\n",
       "  tol=0.001, verbose=False)"
      ]
     },
     "execution_count": 167,
     "metadata": {},
     "output_type": "execute_result"
    }
   ],
   "source": [
    "classifier_svc= svm.SVC(kernel='rbf',C= 0.5, gamma =0.02,)\n",
    "base_results = cross_validate(classifier_svc, data_cat, target, cv  = cv_split, return_train_score=True)\n",
    "classifier_svc.fit(data_cat, target)"
   ]
  },
  {
   "cell_type": "code",
   "execution_count": 168,
   "metadata": {},
   "outputs": [
    {
     "name": "stdout",
     "output_type": "stream",
     "text": [
      "0.75\n",
      "             precision    recall  f1-score   support\n",
      "\n",
      "          0       0.00      0.00      0.00         1\n",
      "          1       0.86      0.86      0.86         7\n",
      "\n",
      "avg / total       0.75      0.75      0.75         8\n",
      "\n"
     ]
    }
   ],
   "source": [
    "classifier_svc_predictions = classifier_svc.predict(test)\n",
    "print(accuracy_score(target_val, classifier_svc_predictions))\n",
    "print(classification_report(target_val, classifier_svc_predictions))"
   ]
  },
  {
   "cell_type": "markdown",
   "metadata": {},
   "source": [
    "## Grid Search for Decision Trees"
   ]
  },
  {
   "cell_type": "code",
   "execution_count": 169,
   "metadata": {},
   "outputs": [
    {
     "name": "stdout",
     "output_type": "stream",
     "text": [
      "epoch: 1 train_score: 0.8413597733711048 test_score: 0.875\n",
      "epoch: 2 train_score: 0.8441926345609065 test_score: 0.625\n",
      "epoch: 3 train_score: 0.8427762039660056 test_score: 0.5\n",
      "epoch: 4 train_score: 0.8413597733711048 test_score: 0.75\n",
      "epoch: 5 train_score: 0.8413597733711048 test_score: 0.875\n",
      "epoch: 6 train_score: 0.8427762039660056 test_score: 0.5\n",
      "epoch: 7 train_score: 0.8456090651558074 test_score: 0.5\n",
      "epoch: 8 train_score: 0.8413597733711048 test_score: 0.75\n",
      "epoch: 9 train_score: 0.8427762039660056 test_score: 0.75\n",
      "epoch: 10 train_score: 0.839943342776204 test_score: 0.875\n",
      "----------\n",
      "BEFORE Tuning Parameters:  {'class_weight': None, 'criterion': 'gini', 'max_depth': None, 'max_features': None, 'max_leaf_nodes': None, 'min_impurity_decrease': 0.0, 'min_impurity_split': None, 'min_samples_leaf': 1, 'min_samples_split': 2, 'min_weight_fraction_leaf': 0.0, 'presort': False, 'random_state': 0, 'splitter': 'best'}\n",
      "BEFORE Tuning Training w/bin score mean: 84.24\n",
      "BEFORE Tuning Test w/bin score mean: 70.00\n",
      "----------\n",
      "epoch: 0 train_score: 0.8413597733711048 test_score: 0.875\n",
      "epoch: 1 train_score: 0.8441926345609065 test_score: 0.625\n",
      "epoch: 2 train_score: 0.8427762039660056 test_score: 0.5\n",
      "epoch: 3 train_score: 0.8413597733711048 test_score: 0.75\n",
      "epoch: 4 train_score: 0.8413597733711048 test_score: 0.875\n",
      "epoch: 5 train_score: 0.8427762039660056 test_score: 0.625\n",
      "epoch: 6 train_score: 0.8456090651558074 test_score: 0.5\n",
      "epoch: 7 train_score: 0.8413597733711048 test_score: 0.75\n",
      "epoch: 8 train_score: 0.8427762039660056 test_score: 0.75\n",
      "epoch: 9 train_score: 0.839943342776204 test_score: 0.875\n",
      "----------\n",
      "AFTER Tuning Parameters:  {'criterion': 'entropy', 'max_depth': None, 'random_state': 0, 'splitter': 'best'}\n",
      "AFTER Tuning Training w/bin score mean: 84.24\n",
      "AFTER Tuning Test w/bin score mean: 71.25\n",
      "----------\n"
     ]
    }
   ],
   "source": [
    "dtree = tree.DecisionTreeClassifier(random_state = 0)\n",
    "base_results_dtree = cross_validate(dtree, data_cat, target, cv  = cv_split , return_train_score=True)\n",
    "dtree.fit(data_cat, target)\n",
    "\n",
    "epoch=0\n",
    "for train_score,test_score in zip(base_results_dtree['train_score'], base_results_dtree['test_score']):\n",
    "        epoch +=1       \n",
    "        print(\"epoch:\",epoch,\"train_score:\",train_score, \"test_score:\",test_score)\n",
    "print('-'*10)\n",
    "\n",
    "print('BEFORE Tuning Parameters: ', dtree.get_params())\n",
    "print(\"BEFORE Tuning Training w/bin score mean: {:.2f}\". format(base_results_dtree['train_score'].mean()*100)) \n",
    "print(\"BEFORE Tuning Test w/bin score mean: {:.2f}\". format(base_results_dtree['test_score'].mean()*100))\n",
    "print('-'*10)\n",
    "\n",
    "param_grid = {'criterion': ['gini','entropy'], \n",
    "              'splitter': ['best', 'random'], \n",
    "              'max_depth': [2,4,6,8,10,None], \n",
    "              #'min_samples_split': [2,5,7,10,12], \n",
    "              #'min_samples_leaf': [1,3,5,7, 10], \n",
    "              'random_state': [0] \n",
    "             }\n",
    "\n",
    "\n",
    "tune_model = GridSearchCV(tree.DecisionTreeClassifier(), param_grid=param_grid, scoring = 'accuracy', cv = cv_split, return_train_score=True)\n",
    "tune_model.fit(data_cat, target)\n",
    "\n",
    "for i in range(10):\n",
    "    print(\"epoch:\",i,\"train_score:\",tune_model.cv_results_['split'+str(i)+'_train_score'][tune_model.best_index_],\n",
    "    \"test_score:\",tune_model.cv_results_['split'+str(i)+'_test_score'][tune_model.best_index_])\n",
    "\n",
    "print('-'*10)    \n",
    "\n",
    "print('AFTER Tuning Parameters: ', tune_model.best_params_)\n",
    "print(\"AFTER Tuning Training w/bin score mean: {:.2f}\". format(tune_model.cv_results_['mean_train_score'][tune_model.best_index_]*100))\n",
    "print(\"AFTER Tuning Test w/bin score mean: {:.2f}\". format(tune_model.cv_results_['mean_test_score'][tune_model.best_index_]*100))\n",
    "print('-'*10)"
   ]
  },
  {
   "cell_type": "code",
   "execution_count": 170,
   "metadata": {},
   "outputs": [
    {
     "data": {
      "text/plain": [
       "DecisionTreeClassifier(class_weight=None, criterion='entropy', max_depth=None,\n",
       "            max_features=None, max_leaf_nodes=None,\n",
       "            min_impurity_decrease=0.0, min_impurity_split=None,\n",
       "            min_samples_leaf=1, min_samples_split=2,\n",
       "            min_weight_fraction_leaf=0.0, presort=False, random_state=0,\n",
       "            splitter='best')"
      ]
     },
     "execution_count": 170,
     "metadata": {},
     "output_type": "execute_result"
    }
   ],
   "source": [
    "# train the model using tuned decision tree parameters\n",
    "dtree = tree.DecisionTreeClassifier(criterion= 'entropy', max_depth= None, random_state= 0, splitter= 'best')\n",
    "base_results = cross_validate(dtree, data_cat, target, cv  = cv_split, return_train_score=True)\n",
    "dtree.fit(data_cat, target)"
   ]
  },
  {
   "cell_type": "code",
   "execution_count": 171,
   "metadata": {},
   "outputs": [
    {
     "name": "stdout",
     "output_type": "stream",
     "text": [
      "0.875\n",
      "             precision    recall  f1-score   support\n",
      "\n",
      "          0       0.00      0.00      0.00         1\n",
      "          1       0.88      1.00      0.93         7\n",
      "\n",
      "avg / total       0.77      0.88      0.82         8\n",
      "\n"
     ]
    }
   ],
   "source": [
    "dtree_predictions = dtree.predict(test)\n",
    "print(accuracy_score(target_val, dtree_predictions))\n",
    "print(classification_report(target_val, dtree_predictions))"
   ]
  },
  {
   "cell_type": "code",
   "execution_count": 172,
   "metadata": {},
   "outputs": [],
   "source": [
    "def plot_feature_importances(df):\n",
    "    \n",
    "    # Sort features according to importance\n",
    "    df = df.sort_values('importance', ascending = False).reset_index()\n",
    "    \n",
    "    # Normalize the feature importances to add up to one\n",
    "    df['importance_normalized'] = df['importance'] / df['importance'].sum()\n",
    "\n",
    "    # Make a horizontal bar chart of feature importances\n",
    "    plt.figure(figsize = (10, 6))\n",
    "    ax = plt.subplot()\n",
    "    \n",
    "    # Need to reverse the index to plot most important on top\n",
    "    ax.barh(list(reversed(list(df.index[:15]))), \n",
    "            df['importance_normalized'].head(15), \n",
    "            align = 'center', edgecolor = 'k')\n",
    "    \n",
    "    # Set the yticks and labels\n",
    "    ax.set_yticks(list(reversed(list(df.index[:15]))))\n",
    "    ax.set_yticklabels(df['feature'].head(15))\n",
    "    \n",
    "    # Plot labeling\n",
    "    plt.xlabel('Normalized Importance'); plt.title('Feature Importances')\n",
    "    plt.show()\n",
    "    \n",
    "    return df"
   ]
  },
  {
   "cell_type": "code",
   "execution_count": 173,
   "metadata": {},
   "outputs": [
    {
     "data": {
      "image/png": "[encoded data removed]",
      "text/plain": [
       "<Figure size 720x432 with 1 Axes>"
      ]
     },
     "metadata": {
      "needs_background": "light"
     },
     "output_type": "display_data"
    }
   ],
   "source": [
    "import matplotlib.pyplot as plt \n",
    "import seaborn as sns\n",
    "importance = dtree.feature_importances_\n",
    "feature = data_cat.columns\n",
    "fi = pd.DataFrame()\n",
    "fi['importance'] = importance\n",
    "fi['feature'] = feature\n",
    "fi_sorted = plot_feature_importances(fi)"
   ]
  },
  {
   "cell_type": "markdown",
   "metadata": {},
   "source": [
    "## Grid Search for Bagging Classifier"
   ]
  },
  {
   "cell_type": "code",
   "execution_count": 177,
   "metadata": {},
   "outputs": [
    {
     "data": {
      "text/plain": [
       "GridSearchCV(cv=ShuffleSplit(n_splits=10, random_state=0, test_size=0.01, train_size=0.99),\n",
       "       error_score='raise',\n",
       "       estimator=BaggingClassifier(base_estimator=None, bootstrap=True,\n",
       "         bootstrap_features=False, max_features=1.0, max_samples=1.0,\n",
       "         n_estimators=10, n_jobs=1, oob_score=False, random_state=None,\n",
       "         verbose=0, warm_start=False),\n",
       "       fit_params=None, iid=True, n_jobs=1,\n",
       "       param_grid={'base_estimator': [LogisticRegressionCV(Cs=10, class_weight=None, cv=None, dual=False,\n",
       "           fit_intercept=True, intercept_scaling=1.0, max_iter=100,\n",
       "           multi_class='ovr', n_jobs=1, penalty='l2', random_state=None,\n",
       "           refit=True, scoring=None, solver='lbfgs', tol=0.0...alse, random_state=None, shrinking=True,\n",
       "  tol=0.001, verbose=False)], 'n_estimators': [10, 13, 17]},\n",
       "       pre_dispatch='2*n_jobs', refit=True, return_train_score=True,\n",
       "       scoring='accuracy', verbose=0)"
      ]
     },
     "execution_count": 177,
     "metadata": {},
     "output_type": "execute_result"
    }
   ],
   "source": [
    "classifier = ensemble.BaggingClassifier()\n",
    "base_results = cross_validate(classifier, data_cat, target,cv  = cv_split, return_train_score=True)\n",
    "classifier.fit(data_cat, target)\n",
    "\n",
    "cl1 = LogisticRegressionCV()\n",
    "cl2 = tree.DecisionTreeClassifier()\n",
    "cl3 = discriminant_analysis.LinearDiscriminantAnalysis()\n",
    "cl4 = neighbors.KNeighborsClassifier(weights='distance')\n",
    "cl5 = svm.SVC()\n",
    "param_grid = {'base_estimator':[cl1, cl2,cl3, cl4,cl5],\n",
    "              'n_estimators':[10,13,17],\n",
    "              #'warm_start':[False, True]\n",
    "             }\n",
    "\n",
    "\n",
    "tune_model = GridSearchCV(ensemble.BaggingClassifier(), param_grid=param_grid, scoring = 'accuracy', cv = cv_split, return_train_score=True)\n",
    "tune_model.fit(data_cat, target)"
   ]
  },
  {
   "cell_type": "code",
   "execution_count": 178,
   "metadata": {},
   "outputs": [
    {
     "name": "stdout",
     "output_type": "stream",
     "text": [
      "epoch: 1 train_score: 0.8286118980169972 test_score: 0.875\n",
      "epoch: 2 train_score: 0.830028328611898 test_score: 0.625\n",
      "epoch: 3 train_score: 0.8371104815864022 test_score: 0.5\n",
      "epoch: 4 train_score: 0.8257790368271954 test_score: 0.75\n",
      "epoch: 5 train_score: 0.8385269121813032 test_score: 0.75\n",
      "epoch: 6 train_score: 0.8328611898016998 test_score: 0.75\n",
      "epoch: 7 train_score: 0.8427762039660056 test_score: 0.5\n",
      "epoch: 8 train_score: 0.8328611898016998 test_score: 0.5\n",
      "epoch: 9 train_score: 0.8356940509915014 test_score: 0.75\n",
      "epoch: 10 train_score: 0.830028328611898 test_score: 0.625\n",
      "----------\n",
      "BEFORE Tuning Parameters:  {'base_estimator': None, 'bootstrap': True, 'bootstrap_features': False, 'max_features': 1.0, 'max_samples': 1.0, 'n_estimators': 10, 'n_jobs': 1, 'oob_score': False, 'random_state': None, 'verbose': 0, 'warm_start': False}\n",
      "BEFORE Tuning Training w/bin score mean: 83.34\n",
      "BEFORE Tuning Test w/bin score mean: 66.25\n",
      "----------\n",
      "epoch: 0 train_score: 0.7067988668555241 test_score: 0.875\n",
      "epoch: 1 train_score: 0.7110481586402266 test_score: 0.5\n",
      "epoch: 2 train_score: 0.7124645892351275 test_score: 0.625\n",
      "epoch: 3 train_score: 0.7110481586402266 test_score: 0.875\n",
      "epoch: 4 train_score: 0.7110481586402266 test_score: 0.375\n",
      "epoch: 5 train_score: 0.7025495750708215 test_score: 0.875\n",
      "epoch: 6 train_score: 0.7096317280453258 test_score: 0.625\n",
      "epoch: 7 train_score: 0.7096317280453258 test_score: 0.625\n",
      "epoch: 8 train_score: 0.7039660056657224 test_score: 0.875\n",
      "epoch: 9 train_score: 0.7138810198300283 test_score: 0.625\n",
      "----------\n",
      "AFTER Tuning Parameters:  {'base_estimator': LogisticRegressionCV(Cs=10, class_weight=None, cv=None, dual=False,\n",
      "           fit_intercept=True, intercept_scaling=1.0, max_iter=100,\n",
      "           multi_class='ovr', n_jobs=1, penalty='l2', random_state=None,\n",
      "           refit=True, scoring=None, solver='lbfgs', tol=0.0001, verbose=0), 'n_estimators': 10}\n",
      "AFTER Tuning Training w/bin score mean: 70.92\n",
      "AFTER Tuning Test w/bin score mean: 68.75\n",
      "----------\n"
     ]
    }
   ],
   "source": [
    "epoch=0\n",
    "for train_score,test_score in zip(base_results['train_score'], base_results['test_score']):\n",
    "        epoch +=1       \n",
    "        print(\"epoch:\",epoch,\"train_score:\",train_score, \"test_score:\",test_score)\n",
    "print('-'*10)\n",
    "\n",
    "print('BEFORE Tuning Parameters: ', classifier.get_params())\n",
    "print(\"BEFORE Tuning Training w/bin score mean: {:.2f}\". format(base_results['train_score'].mean()*100)) \n",
    "print(\"BEFORE Tuning Test w/bin score mean: {:.2f}\". format(base_results['test_score'].mean()*100))\n",
    "print('-'*10)\n",
    "\n",
    "for i in range(10):\n",
    "    print(\"epoch:\",i,\"train_score:\",tune_model.cv_results_['split'+str(i)+'_train_score'][tune_model.best_index_],\n",
    "    \"test_score:\",tune_model.cv_results_['split'+str(i)+'_test_score'][tune_model.best_index_])\n",
    "\n",
    "print('-'*10)    \n",
    "\n",
    "\n",
    "print('AFTER Tuning Parameters: ', tune_model.best_params_)\n",
    "print(\"AFTER Tuning Training w/bin score mean: {:.2f}\". format(tune_model.cv_results_['mean_train_score'][tune_model.best_index_]*100))\n",
    "print(\"AFTER Tuning Test w/bin score mean: {:.2f}\". format(tune_model.cv_results_['mean_test_score'][tune_model.best_index_]*100))\n",
    "print('-'*10)"
   ]
  },
  {
   "cell_type": "code",
   "execution_count": 179,
   "metadata": {},
   "outputs": [
    {
     "name": "stdout",
     "output_type": "stream",
     "text": [
      "0.875\n",
      "             precision    recall  f1-score   support\n",
      "\n",
      "          0       0.00      0.00      0.00         1\n",
      "          1       0.88      1.00      0.93         7\n",
      "\n",
      "avg / total       0.77      0.88      0.82         8\n",
      "\n"
     ]
    }
   ],
   "source": [
    "Bagging_predictions = tune_model.predict(test)\n",
    "print(accuracy_score(target_val, Bagging_predictions))\n",
    "print(classification_report(target_val, Bagging_predictions))"
   ]
  },
  {
   "cell_type": "code",
   "execution_count": null,
   "metadata": {},
   "outputs": [],
   "source": []
  },
  {
   "cell_type": "markdown",
   "metadata": {},
   "source": [
    "## Grid Search for Random Forest "
   ]
  },
  {
   "cell_type": "code",
   "execution_count": 181,
   "metadata": {},
   "outputs": [
    {
     "name": "stdout",
     "output_type": "stream",
     "text": [
      "epoch: 1 train_score: 0.8328611898016998 test_score: 0.875\n",
      "epoch: 2 train_score: 0.8314447592067988 test_score: 0.625\n",
      "epoch: 3 train_score: 0.8342776203966006 test_score: 0.5\n",
      "epoch: 4 train_score: 0.8342776203966006 test_score: 0.625\n",
      "epoch: 5 train_score: 0.8356940509915014 test_score: 0.625\n",
      "epoch: 6 train_score: 0.8328611898016998 test_score: 0.5\n",
      "epoch: 7 train_score: 0.8371104815864022 test_score: 0.5\n",
      "epoch: 8 train_score: 0.8328611898016998 test_score: 0.5\n",
      "epoch: 9 train_score: 0.830028328611898 test_score: 0.75\n",
      "epoch: 10 train_score: 0.8314447592067988 test_score: 0.625\n",
      "----------\n",
      "BEFORE Tuning Parameters:  {'bootstrap': True, 'class_weight': None, 'criterion': 'gini', 'max_depth': None, 'max_features': 'auto', 'max_leaf_nodes': None, 'min_impurity_decrease': 0.0, 'min_impurity_split': None, 'min_samples_leaf': 1, 'min_samples_split': 2, 'min_weight_fraction_leaf': 0.0, 'n_estimators': 10, 'n_jobs': 1, 'oob_score': False, 'random_state': None, 'verbose': 0, 'warm_start': False}\n",
      "BEFORE Tuning Training w/bin score mean: 83.33\n",
      "BEFORE Tuning Test w/bin score mean: 61.25\n",
      "----------\n",
      "epoch: 0 train_score: 0.7747875354107648 test_score: 0.875\n",
      "epoch: 1 train_score: 0.7719546742209632 test_score: 0.625\n",
      "epoch: 2 train_score: 0.7648725212464589 test_score: 0.75\n",
      "epoch: 3 train_score: 0.7677053824362606 test_score: 0.625\n",
      "epoch: 4 train_score: 0.7705382436260623 test_score: 0.5\n",
      "epoch: 5 train_score: 0.7634560906515581 test_score: 0.875\n",
      "epoch: 6 train_score: 0.7677053824362606 test_score: 0.875\n",
      "epoch: 7 train_score: 0.7691218130311614 test_score: 0.5\n",
      "epoch: 8 train_score: 0.7747875354107648 test_score: 0.75\n",
      "epoch: 9 train_score: 0.7662889518413598 test_score: 0.75\n",
      "----------\n",
      "AFTER Tuning Parameters:  {'criterion': 'gini', 'max_depth': None, 'max_features': 2, 'min_samples_split': 12, 'n_estimators': 25, 'random_state': 0}\n",
      "AFTER Tuning Training w/bin score mean: 76.91\n",
      "AFTER Tuning Test w/bin score mean: 71.25\n",
      "----------\n"
     ]
    }
   ],
   "source": [
    "classifier = ensemble.RandomForestClassifier()\n",
    "base_results = cross_validate(classifier, data_cat, target,cv  = cv_split, return_train_score=True)\n",
    "classifier.fit(data_cat, target)\n",
    "\n",
    "epoch=0\n",
    "for train_score,test_score in zip(base_results['train_score'], base_results['test_score']):\n",
    "        epoch +=1       \n",
    "        print(\"epoch:\",epoch,\"train_score:\",train_score, \"test_score:\",test_score)\n",
    "print('-'*10)\n",
    "\n",
    "print('BEFORE Tuning Parameters: ', classifier.get_params())\n",
    "print(\"BEFORE Tuning Training w/bin score mean: {:.2f}\". format(base_results['train_score'].mean()*100)) \n",
    "print(\"BEFORE Tuning Test w/bin score mean: {:.2f}\". format(base_results['test_score'].mean()*100))\n",
    "print('-'*10)\n",
    "\n",
    "param_grid = {'n_estimators': [15,25,30,35],\n",
    "              'criterion': ['gini','entropy'],  #scoring methodology; two supported formulas for calculating information gain - default is gini\n",
    "              'max_depth': [2,4,6,None], #max depth tree can grow; default is none\n",
    "              'min_samples_split': [2,5,7,10,12], #minimum subset size BEFORE new split (fraction is % of total); default is 2\n",
    "              #'min_samples_leaf': [1,3,5], #minimum subset size AFTER new split split (fraction is % of total); default is 1\n",
    "              'max_features': [2,3,'auto'], #max features to consider when performing split; default none or all\n",
    "              'random_state': [0] #seed or control random number generator: https://www.quora.com/What-is-seed-in-random-number-generation\n",
    "             }\n",
    "\n",
    "\n",
    "tune_model = GridSearchCV(ensemble.RandomForestClassifier(), param_grid=param_grid, scoring = 'accuracy', cv = cv_split, return_train_score=True)\n",
    "tune_model.fit(data_cat, target)\n",
    "\n",
    "for i in range(10):\n",
    "    print(\"epoch:\",i,\"train_score:\",tune_model.cv_results_['split'+str(i)+'_train_score'][tune_model.best_index_],\n",
    "    \"test_score:\",tune_model.cv_results_['split'+str(i)+'_test_score'][tune_model.best_index_])\n",
    "\n",
    "print('-'*10)    \n",
    "\n",
    "\n",
    "print('AFTER Tuning Parameters: ', tune_model.best_params_)\n",
    "print(\"AFTER Tuning Training w/bin score mean: {:.2f}\". format(tune_model.cv_results_['mean_train_score'][tune_model.best_index_]*100))\n",
    "print(\"AFTER Tuning Test w/bin score mean: {:.2f}\". format(tune_model.cv_results_['mean_test_score'][tune_model.best_index_]*100))\n",
    "print('-'*10)"
   ]
  },
  {
   "cell_type": "code",
   "execution_count": 182,
   "metadata": {},
   "outputs": [
    {
     "data": {
      "text/plain": [
       "RandomForestClassifier(bootstrap=True, class_weight=None, criterion='gini',\n",
       "            max_depth=2, max_features=2, max_leaf_nodes=None,\n",
       "            min_impurity_decrease=0.0, min_impurity_split=None,\n",
       "            min_samples_leaf=1, min_samples_split=12,\n",
       "            min_weight_fraction_leaf=0.0, n_estimators=25, n_jobs=1,\n",
       "            oob_score=False, random_state=0, verbose=0, warm_start=False)"
      ]
     },
     "execution_count": 182,
     "metadata": {},
     "output_type": "execute_result"
    }
   ],
   "source": [
    "# train the model using tuned random forest parameters\n",
    "random_forest = ensemble.RandomForestClassifier(criterion= 'gini', max_depth= 2, random_state= 0,max_features= 2, min_samples_split= 12, n_estimators=25)\n",
    "base_results = cross_validate(random_forest, data_cat, target, cv  = cv_split, return_train_score=True)\n",
    "random_forest.fit(data_cat, target)"
   ]
  },
  {
   "cell_type": "code",
   "execution_count": 183,
   "metadata": {},
   "outputs": [
    {
     "name": "stdout",
     "output_type": "stream",
     "text": [
      "0.875\n",
      "             precision    recall  f1-score   support\n",
      "\n",
      "          0       0.00      0.00      0.00         1\n",
      "          1       0.88      1.00      0.93         7\n",
      "\n",
      "avg / total       0.77      0.88      0.82         8\n",
      "\n"
     ]
    }
   ],
   "source": [
    "random_forest_predictions = random_forest.predict(test)\n",
    "print(accuracy_score(target_val, random_forest_predictions))\n",
    "print(classification_report(target_val, random_forest_predictions))"
   ]
  },
  {
   "cell_type": "code",
   "execution_count": 185,
   "metadata": {},
   "outputs": [
    {
     "data": {
      "image/png": "[encoded data removed]",
      "text/plain": [
       "<Figure size 720x432 with 1 Axes>"
      ]
     },
     "metadata": {
      "needs_background": "light"
     },
     "output_type": "display_data"
    }
   ],
   "source": [
    "importance = random_forest.feature_importances_\n",
    "feature = data_cat.columns\n",
    "fi = pd.DataFrame()\n",
    "fi['importance'] = importance\n",
    "fi['feature'] = feature\n",
    "fi_sorted = plot_feature_importances(fi)"
   ]
  },
  {
   "cell_type": "code",
   "execution_count": 263,
   "metadata": {},
   "outputs": [
    {
     "data": {
      "application/vnd.plotly.v1+json": {
       "config": {
        "linkText": "Export to plot.ly",
        "plotlyServerURL": "https://plot.ly",
        "showLink": false
       },
       "data": [
        {
         "marker": {
          "color": [
           0.0023421187285231934,
           0.004409943095797394,
           0.0008429363179088254,
           0.000471784766465551,
           0.004638635612997738,
           0.03375483551607116,
           0.017824967061557374,
           0.0037471192258782065,
           0.007035981558582325,
           0.0008303883474670989,
           0.00024366596046175568,
           0.004936857527342975,
           0,
           0.0003695760483501761,
           0,
           0.0005433432012066472,
           0.0014308558864374865,
           0.0016069563772009893,
           0.024083189665301912,
           0.021561851302072613,
           0.0011691405748357549,
           0.0017805260119298791,
           0.007089143528077596,
           0.00040618441906240877,
           0.0028754076873743336,
           5.839892022179257e-05,
           9.841769060317446e-05,
           0.0002602381660930559,
           0.00013998450368236733,
           0.0032489271243317424,
           0.0005597219555068864,
           0.0019807777121188825,
           0.0018992010929148979,
           0.00717428859580082,
           0.0074049459706346694,
           0.0003339562262894896,
           0,
           0.001513956361059854,
           0.0001501345877870559,
           0.0041162167175194725,
           0.0014207398337669212,
           6.520422428489478e-05,
           0.0004916723177185285,
           0.0022027559017019026,
           0.0009579222724852712,
           0,
           0.00016089538851112197,
           0.0001047428952265368,
           0.015867727674115616,
           0.012191021003296021,
           0.0040292305183610546,
           0.004238844802600811,
           0.01815987536896559,
           0.0013969324434922408,
           0.00032315069055300694,
           0.005831103062210086,
           0,
           0.0002974890349332616,
           0.000533375746632938,
           0.001975313127964189,
           0.0014762855335763072,
           0.0013679238658932096,
           0.0024940612703643525,
           0.00044525020738684436,
           0.001069998174639007,
           0.0013498540214324005,
           0.003463932387642587,
           0.00019326234879054542,
           0.00045916501815963974,
           0.0011047298355421277,
           0,
           0,
           0.001822621861432762,
           0,
           0,
           0,
           0.0038157828563566364,
           0.00019913282752750407,
           0.0002579053749370296,
           0,
           0.030893660458569342,
           4.419855880452683e-05,
           0.0012729126665570918,
           0.0016376703550716892,
           0.0012784880920266011,
           4.841489627079386e-05,
           0,
           0.00026929677668257354,
           0,
           0.0116389078548954,
           0.0007749564802993663,
           0.0001692330802956169,
           0,
           0.0008130378351941356,
           0.00026432812275481237,
           0,
           6.898811262509067e-05,
           0.0011034157465396165,
           0,
           4.615589355244574e-05,
           0.0002078172805048537,
           0.00019121854598040664,
           0,
           0.0003383250202170869,
           0.0004949348565209071,
           5.776645441143785e-06,
           0.0179799112884571,
           0.027884265418948607,
           0.00039540420036153945,
           0.022532676523014848,
           0.04249003795460227,
           0,
           0.0456199760465622,
           0.04459165410430837,
           0.000381810387279786,
           0.054485850883397226,
           0.02402500954700987,
           0.000292370887478334,
           0.027022675263255486,
           0.03339530553895554,
           0.00043542044013135595,
           4.901752263396088e-06,
           0.05437536321704277,
           0.013911526355869211,
           0.00043588718258259285,
           0.019088150180429107,
           0.052487357822768636,
           5.125560682358126e-07,
           0.00010765237783336134,
           0.00023858907026956693,
           0.05358123594853479,
           0,
           0.0013051504515061995,
           0.042180809133123026,
           0.0198842925458189,
           0.06610163842676918,
           0.008592251772495839,
           0.01190809950809064
          ],
          "colorscale": [
           [
            0,
            "rgb(12,51,131)"
           ],
           [
            0.25,
            "rgb(10,136,186)"
           ],
           [
            0.5,
            "rgb(242,211,56)"
           ],
           [
            0.75,
            "rgb(242,143,56)"
           ],
           [
            1,
            "rgb(217,30,30)"
           ]
          ],
          "showscale": true,
          "size": 13,
          "sizemode": "diameter",
          "sizeref": 1
         },
         "mode": "markers",
         "text": [
          "Client_name_ANZ",
          "Client_name_Aon Hewitt",
          "Client_name_Astrazeneca",
          "Client_name_Hospira",
          "Client_name_Pfizer",
          "Client_name_Standard Chartered Bank",
          "Industry_BFSI",
          "Industry_IT Products and Services",
          "Industry_Pharmaceuticals",
          "Location_Bangalore",
          "Location_CHENNAI",
          "Location_Chennai",
          "Location_Delhi",
          "Location_Gurgaon",
          "Location_Gurgaonr",
          "Location_Hyderabad",
          "Location_Noida",
          "Location_chennai",
          "Position_Status_Niche",
          "Position_Status_Routine",
          "Technical_Skillset_ALS Testing",
          "Technical_Skillset_AML/KYC/CDD",
          "Technical_Skillset_Accounting Operations",
          "Technical_Skillset_Automation Testing Java",
          "Technical_Skillset_Banking Operations",
          "Technical_Skillset_Banking operations",
          "Technical_Skillset_Biosimilars",
          "Technical_Skillset_Biosimiliars",
          "Technical_Skillset_Biosimillar",
          "Technical_Skillset_CDD KYC",
          "Technical_Skillset_EMEA",
          "Technical_Skillset_Global Labelling",
          "Technical_Skillset_Hadoop",
          "Technical_Skillset_Java",
          "Technical_Skillset_Java_Hibernate",
          "Technical_Skillset_Java_SQL",
          "Technical_Skillset_LCM -Manager",
          "Technical_Skillset_Lending_&_Liablities",
          "Technical_Skillset_Licensing – RA",
          "Technical_Skillset_NA",
          "Technical_Skillset_Publishing",
          "Technical_Skillset_RA Label",
          "Technical_Skillset_RA Publishing",
          "Technical_Skillset_SAS",
          "Technical_Skillset_SSCM",
          "Technical_Skillset_Submission Management",
          "Technical_Skillset_generic drugs – RA",
          "Technical_Skillset_production",
          "Interview_Type_Scheduled",
          "Interview_Type_Scheduled_Walkin",
          "Interview_Type_Walkin",
          "Gender_Female",
          "Gender_Male",
          "Candidate_Current_Location_Bangalore",
          "Candidate_Current_Location_CHENNAI",
          "Candidate_Current_Location_Chennai",
          "Candidate_Current_Location_Delhi",
          "Candidate_Current_Location_Gurgaon",
          "Candidate_Current_Location_Hyderabad",
          "Candidate_Current_Location_Noida",
          "Candidate_Current_Location_chennai",
          "Candidate_Job_Location_Bangalore",
          "Candidate_Job_Location_Chennai",
          "Candidate_Job_Location_Gurgaon",
          "Candidate_Job_Location_Noida",
          "Interview_Venue_Bangalore",
          "Interview_Venue_Chennai",
          "Interview_Venue_Gurgaon",
          "Interview_Venue_Hyderabad",
          "Interview_Venue_Noida",
          "Candidate_Native_location_Agra",
          "Candidate_Native_location_Ahmedabad",
          "Candidate_Native_location_Allahabad",
          "Candidate_Native_location_Ambur",
          "Candidate_Native_location_Anantapur",
          "Candidate_Native_location_Baddi",
          "Candidate_Native_location_Bangalore",
          "Candidate_Native_location_Belgaum",
          "Candidate_Native_location_Bhubaneshwar",
          "Candidate_Native_location_Chandigarh",
          "Candidate_Native_location_Chennai",
          "Candidate_Native_location_Chitoor",
          "Candidate_Native_location_Cochin",
          "Candidate_Native_location_Coimbatore",
          "Candidate_Native_location_Cuttack",
          "Candidate_Native_location_Delhi",
          "Candidate_Native_location_Ghaziabad",
          "Candidate_Native_location_Gurgaon",
          "Candidate_Native_location_Hosur",
          "Candidate_Native_location_Hyderabad",
          "Candidate_Native_location_Kolkata",
          "Candidate_Native_location_Mumbai",
          "Candidate_Native_location_Mysore",
          "Candidate_Native_location_Nagercoil",
          "Candidate_Native_location_Noida",
          "Candidate_Native_location_Panjim",
          "Candidate_Native_location_Patna",
          "Candidate_Native_location_Pune",
          "Candidate_Native_location_Salem",
          "Candidate_Native_location_Tirupati",
          "Candidate_Native_location_Trichy",
          "Candidate_Native_location_Trivandrum",
          "Candidate_Native_location_Tuticorin",
          "Candidate_Native_location_Vellore",
          "Candidate_Native_location_Visakapatinam",
          "Candidate_Native_location_Warangal",
          "Q1_Na",
          "Q1_No",
          "Q1_Not yet",
          "Q1_Yes",
          "Q2_Na",
          "Q2_No",
          "Q2_Yes",
          "Q3_Na",
          "Q3_No",
          "Q3_Yes",
          "Q4_Na",
          "Q4_No",
          "Q4_Yes",
          "Q5_Na",
          "Q5_No",
          "Q5_Not yet",
          "Q5_Yes",
          "Q6_Na",
          "Q6_No",
          "Q6_Yes",
          "Q7_Na",
          "Q7_No",
          "Q7_Not Sure",
          "Q7_Not yet",
          "Q7_Yes",
          "Q7_Yet to Check",
          "Expected_Attendance_NA",
          "Expected_Attendance_No",
          "Expected_Attendance_Uncertain",
          "Expected_Attendance_Yes",
          "Marital_Status_Married",
          "Marital_Status_Single"
         ],
         "type": "scatter",
         "x": [
          "Client_name_ANZ",
          "Client_name_Aon Hewitt",
          "Client_name_Astrazeneca",
          "Client_name_Hospira",
          "Client_name_Pfizer",
          "Client_name_Standard Chartered Bank",
          "Industry_BFSI",
          "Industry_IT Products and Services",
          "Industry_Pharmaceuticals",
          "Location_Bangalore",
          "Location_CHENNAI",
          "Location_Chennai",
          "Location_Delhi",
          "Location_Gurgaon",
          "Location_Gurgaonr",
          "Location_Hyderabad",
          "Location_Noida",
          "Location_chennai",
          "Position_Status_Niche",
          "Position_Status_Routine",
          "Technical_Skillset_ALS Testing",
          "Technical_Skillset_AML/KYC/CDD",
          "Technical_Skillset_Accounting Operations",
          "Technical_Skillset_Automation Testing Java",
          "Technical_Skillset_Banking Operations",
          "Technical_Skillset_Banking operations",
          "Technical_Skillset_Biosimilars",
          "Technical_Skillset_Biosimiliars",
          "Technical_Skillset_Biosimillar",
          "Technical_Skillset_CDD KYC",
          "Technical_Skillset_EMEA",
          "Technical_Skillset_Global Labelling",
          "Technical_Skillset_Hadoop",
          "Technical_Skillset_Java",
          "Technical_Skillset_Java_Hibernate",
          "Technical_Skillset_Java_SQL",
          "Technical_Skillset_LCM -Manager",
          "Technical_Skillset_Lending_&_Liablities",
          "Technical_Skillset_Licensing – RA",
          "Technical_Skillset_NA",
          "Technical_Skillset_Publishing",
          "Technical_Skillset_RA Label",
          "Technical_Skillset_RA Publishing",
          "Technical_Skillset_SAS",
          "Technical_Skillset_SSCM",
          "Technical_Skillset_Submission Management",
          "Technical_Skillset_generic drugs – RA",
          "Technical_Skillset_production",
          "Interview_Type_Scheduled",
          "Interview_Type_Scheduled_Walkin",
          "Interview_Type_Walkin",
          "Gender_Female",
          "Gender_Male",
          "Candidate_Current_Location_Bangalore",
          "Candidate_Current_Location_CHENNAI",
          "Candidate_Current_Location_Chennai",
          "Candidate_Current_Location_Delhi",
          "Candidate_Current_Location_Gurgaon",
          "Candidate_Current_Location_Hyderabad",
          "Candidate_Current_Location_Noida",
          "Candidate_Current_Location_chennai",
          "Candidate_Job_Location_Bangalore",
          "Candidate_Job_Location_Chennai",
          "Candidate_Job_Location_Gurgaon",
          "Candidate_Job_Location_Noida",
          "Interview_Venue_Bangalore",
          "Interview_Venue_Chennai",
          "Interview_Venue_Gurgaon",
          "Interview_Venue_Hyderabad",
          "Interview_Venue_Noida",
          "Candidate_Native_location_Agra",
          "Candidate_Native_location_Ahmedabad",
          "Candidate_Native_location_Allahabad",
          "Candidate_Native_location_Ambur",
          "Candidate_Native_location_Anantapur",
          "Candidate_Native_location_Baddi",
          "Candidate_Native_location_Bangalore",
          "Candidate_Native_location_Belgaum",
          "Candidate_Native_location_Bhubaneshwar",
          "Candidate_Native_location_Chandigarh",
          "Candidate_Native_location_Chennai",
          "Candidate_Native_location_Chitoor",
          "Candidate_Native_location_Cochin",
          "Candidate_Native_location_Coimbatore",
          "Candidate_Native_location_Cuttack",
          "Candidate_Native_location_Delhi",
          "Candidate_Native_location_Ghaziabad",
          "Candidate_Native_location_Gurgaon",
          "Candidate_Native_location_Hosur",
          "Candidate_Native_location_Hyderabad",
          "Candidate_Native_location_Kolkata",
          "Candidate_Native_location_Mumbai",
          "Candidate_Native_location_Mysore",
          "Candidate_Native_location_Nagercoil",
          "Candidate_Native_location_Noida",
          "Candidate_Native_location_Panjim",
          "Candidate_Native_location_Patna",
          "Candidate_Native_location_Pune",
          "Candidate_Native_location_Salem",
          "Candidate_Native_location_Tirupati",
          "Candidate_Native_location_Trichy",
          "Candidate_Native_location_Trivandrum",
          "Candidate_Native_location_Tuticorin",
          "Candidate_Native_location_Vellore",
          "Candidate_Native_location_Visakapatinam",
          "Candidate_Native_location_Warangal",
          "Q1_Na",
          "Q1_No",
          "Q1_Not yet",
          "Q1_Yes",
          "Q2_Na",
          "Q2_No",
          "Q2_Yes",
          "Q3_Na",
          "Q3_No",
          "Q3_Yes",
          "Q4_Na",
          "Q4_No",
          "Q4_Yes",
          "Q5_Na",
          "Q5_No",
          "Q5_Not yet",
          "Q5_Yes",
          "Q6_Na",
          "Q6_No",
          "Q6_Yes",
          "Q7_Na",
          "Q7_No",
          "Q7_Not Sure",
          "Q7_Not yet",
          "Q7_Yes",
          "Q7_Yet to Check",
          "Expected_Attendance_NA",
          "Expected_Attendance_No",
          "Expected_Attendance_Uncertain",
          "Expected_Attendance_Yes",
          "Marital_Status_Married",
          "Marital_Status_Single"
         ],
         "y": [
          0.03145264960884484,
          0.03548246884876995,
          0,
          0,
          0.03234632916564743,
          0,
          0.00517492593952578,
          0.03574173866267746,
          0,
          0,
          0,
          0.0032894308784089683,
          0,
          0.03973706730375626,
          0,
          0,
          0,
          0,
          0.032685357899083875,
          0,
          0,
          0.008842965887195915,
          0,
          0,
          0,
          0,
          0,
          0,
          0,
          0,
          0,
          0,
          0,
          0,
          0.002418711461696929,
          0.008573208187006737,
          0,
          0,
          0.0013741882751366083,
          0,
          0,
          0,
          0,
          0,
          0,
          0,
          0,
          0,
          0.005129913922339895,
          0,
          0,
          0.0013428764684414057,
          0,
          0.012467140418315368,
          0,
          0.03695531739695473,
          0.0038443285991521504,
          0.0022983329160324293,
          0,
          0.03671056912159103,
          0,
          0,
          0.003620539427271726,
          0,
          0.0028484920796155912,
          0,
          0,
          0.0035230135895146296,
          0.001695299872680229,
          0,
          0,
          0,
          0,
          0,
          0,
          0,
          0,
          0,
          0,
          0,
          0,
          0,
          0.003222211104656251,
          0,
          0.0005745556946626472,
          0,
          0,
          0,
          0,
          0,
          0,
          0.0005907284654153254,
          0,
          0,
          0.04210907423329414,
          0,
          0,
          0,
          0,
          0,
          0,
          0,
          0,
          0,
          0,
          0.0008083302294987523,
          0.030988029980658274,
          0,
          0,
          0.0985186811503133,
          0.03694164009699277,
          0,
          0,
          0,
          0.003902226323626098,
          0.07578133902824401,
          0,
          0.013656152226194542,
          0.03770166708396758,
          0.033646191560026864,
          0.02634384777380546,
          0,
          0,
          0,
          0,
          0,
          0.052158703658807364,
          0.0008691249376581703,
          0,
          0,
          0,
          0,
          0.008022847511587595,
          0.022228601635094658,
          0.03798553946025151,
          0.1170281098347222,
          0,
          0.009367532080862577
         ]
        }
       ],
       "layout": {
        "autosize": true,
        "hovermode": "closest",
        "showlegend": false,
        "template": {
         "data": {
          "bar": [
           {
            "error_x": {
             "color": "#2a3f5f"
            },
            "error_y": {
             "color": "#2a3f5f"
            },
            "marker": {
             "line": {
              "color": "#E5ECF6",
              "width": 0.5
             }
            },
            "type": "bar"
           }
          ],
          "barpolar": [
           {
            "marker": {
             "line": {
              "color": "#E5ECF6",
              "width": 0.5
             }
            },
            "type": "barpolar"
           }
          ],
          "carpet": [
           {
            "aaxis": {
             "endlinecolor": "#2a3f5f",
             "gridcolor": "white",
             "linecolor": "white",
             "minorgridcolor": "white",
             "startlinecolor": "#2a3f5f"
            },
            "baxis": {
             "endlinecolor": "#2a3f5f",
             "gridcolor": "white",
             "linecolor": "white",
             "minorgridcolor": "white",
             "startlinecolor": "#2a3f5f"
            },
            "type": "carpet"
           }
          ],
          "choropleth": [
           {
            "colorbar": {
             "outlinewidth": 0,
             "ticks": ""
            },
            "type": "choropleth"
           }
          ],
          "contour": [
           {
            "colorbar": {
             "outlinewidth": 0,
             "ticks": ""
            },
            "colorscale": [
             [
              0,
              "#0d0887"
             ],
             [
              0.1111111111111111,
              "#46039f"
             ],
             [
              0.2222222222222222,
              "#7201a8"
             ],
             [
              0.3333333333333333,
              "#9c179e"
             ],
             [
              0.4444444444444444,
              "#bd3786"
             ],
             [
              0.5555555555555556,
              "#d8576b"
             ],
             [
              0.6666666666666666,
              "#ed7953"
             ],
             [
              0.7777777777777778,
              "#fb9f3a"
             ],
             [
              0.8888888888888888,
              "#fdca26"
             ],
             [
              1,
              "#f0f921"
             ]
            ],
            "type": "contour"
           }
          ],
          "contourcarpet": [
           {
            "colorbar": {
             "outlinewidth": 0,
             "ticks": ""
            },
            "type": "contourcarpet"
           }
          ],
          "heatmap": [
           {
            "colorbar": {
             "outlinewidth": 0,
             "ticks": ""
            },
            "colorscale": [
             [
              0,
              "#0d0887"
             ],
             [
              0.1111111111111111,
              "#46039f"
             ],
             [
              0.2222222222222222,
              "#7201a8"
             ],
             [
              0.3333333333333333,
              "#9c179e"
             ],
             [
              0.4444444444444444,
              "#bd3786"
             ],
             [
              0.5555555555555556,
              "#d8576b"
             ],
             [
              0.6666666666666666,
              "#ed7953"
             ],
             [
              0.7777777777777778,
              "#fb9f3a"
             ],
             [
              0.8888888888888888,
              "#fdca26"
             ],
             [
              1,
              "#f0f921"
             ]
            ],
            "type": "heatmap"
           }
          ],
          "heatmapgl": [
           {
            "colorbar": {
             "outlinewidth": 0,
             "ticks": ""
            },
            "colorscale": [
             [
              0,
              "#0d0887"
             ],
             [
              0.1111111111111111,
              "#46039f"
             ],
             [
              0.2222222222222222,
              "#7201a8"
             ],
             [
              0.3333333333333333,
              "#9c179e"
             ],
             [
              0.4444444444444444,
              "#bd3786"
             ],
             [
              0.5555555555555556,
              "#d8576b"
             ],
             [
              0.6666666666666666,
              "#ed7953"
             ],
             [
              0.7777777777777778,
              "#fb9f3a"
             ],
             [
              0.8888888888888888,
              "#fdca26"
             ],
             [
              1,
              "#f0f921"
             ]
            ],
            "type": "heatmapgl"
           }
          ],
          "histogram": [
           {
            "marker": {
             "colorbar": {
              "outlinewidth": 0,
              "ticks": ""
             }
            },
            "type": "histogram"
           }
          ],
          "histogram2d": [
           {
            "colorbar": {
             "outlinewidth": 0,
             "ticks": ""
            },
            "colorscale": [
             [
              0,
              "#0d0887"
             ],
             [
              0.1111111111111111,
              "#46039f"
             ],
             [
              0.2222222222222222,
              "#7201a8"
             ],
             [
              0.3333333333333333,
              "#9c179e"
             ],
             [
              0.4444444444444444,
              "#bd3786"
             ],
             [
              0.5555555555555556,
              "#d8576b"
             ],
             [
              0.6666666666666666,
              "#ed7953"
             ],
             [
              0.7777777777777778,
              "#fb9f3a"
             ],
             [
              0.8888888888888888,
              "#fdca26"
             ],
             [
              1,
              "#f0f921"
             ]
            ],
            "type": "histogram2d"
           }
          ],
          "histogram2dcontour": [
           {
            "colorbar": {
             "outlinewidth": 0,
             "ticks": ""
            },
            "colorscale": [
             [
              0,
              "#0d0887"
             ],
             [
              0.1111111111111111,
              "#46039f"
             ],
             [
              0.2222222222222222,
              "#7201a8"
             ],
             [
              0.3333333333333333,
              "#9c179e"
             ],
             [
              0.4444444444444444,
              "#bd3786"
             ],
             [
              0.5555555555555556,
              "#d8576b"
             ],
             [
              0.6666666666666666,
              "#ed7953"
             ],
             [
              0.7777777777777778,
              "#fb9f3a"
             ],
             [
              0.8888888888888888,
              "#fdca26"
             ],
             [
              1,
              "#f0f921"
             ]
            ],
            "type": "histogram2dcontour"
           }
          ],
          "mesh3d": [
           {
            "colorbar": {
             "outlinewidth": 0,
             "ticks": ""
            },
            "type": "mesh3d"
           }
          ],
          "parcoords": [
           {
            "line": {
             "colorbar": {
              "outlinewidth": 0,
              "ticks": ""
             }
            },
            "type": "parcoords"
           }
          ],
          "scatter": [
           {
            "marker": {
             "colorbar": {
              "outlinewidth": 0,
              "ticks": ""
             }
            },
            "type": "scatter"
           }
          ],
          "scatter3d": [
           {
            "line": {
             "colorbar": {
              "outlinewidth": 0,
              "ticks": ""
             }
            },
            "marker": {
             "colorbar": {
              "outlinewidth": 0,
              "ticks": ""
             }
            },
            "type": "scatter3d"
           }
          ],
          "scattercarpet": [
           {
            "marker": {
             "colorbar": {
              "outlinewidth": 0,
              "ticks": ""
             }
            },
            "type": "scattercarpet"
           }
          ],
          "scattergeo": [
           {
            "marker": {
             "colorbar": {
              "outlinewidth": 0,
              "ticks": ""
             }
            },
            "type": "scattergeo"
           }
          ],
          "scattergl": [
           {
            "marker": {
             "colorbar": {
              "outlinewidth": 0,
              "ticks": ""
             }
            },
            "type": "scattergl"
           }
          ],
          "scattermapbox": [
           {
            "marker": {
             "colorbar": {
              "outlinewidth": 0,
              "ticks": ""
             }
            },
            "type": "scattermapbox"
           }
          ],
          "scatterpolar": [
           {
            "marker": {
             "colorbar": {
              "outlinewidth": 0,
              "ticks": ""
             }
            },
            "type": "scatterpolar"
           }
          ],
          "scatterpolargl": [
           {
            "marker": {
             "colorbar": {
              "outlinewidth": 0,
              "ticks": ""
             }
            },
            "type": "scatterpolargl"
           }
          ],
          "scatterternary": [
           {
            "marker": {
             "colorbar": {
              "outlinewidth": 0,
              "ticks": ""
             }
            },
            "type": "scatterternary"
           }
          ],
          "surface": [
           {
            "colorbar": {
             "outlinewidth": 0,
             "ticks": ""
            },
            "colorscale": [
             [
              0,
              "#0d0887"
             ],
             [
              0.1111111111111111,
              "#46039f"
             ],
             [
              0.2222222222222222,
              "#7201a8"
             ],
             [
              0.3333333333333333,
              "#9c179e"
             ],
             [
              0.4444444444444444,
              "#bd3786"
             ],
             [
              0.5555555555555556,
              "#d8576b"
             ],
             [
              0.6666666666666666,
              "#ed7953"
             ],
             [
              0.7777777777777778,
              "#fb9f3a"
             ],
             [
              0.8888888888888888,
              "#fdca26"
             ],
             [
              1,
              "#f0f921"
             ]
            ],
            "type": "surface"
           }
          ],
          "table": [
           {
            "cells": {
             "fill": {
              "color": "#EBF0F8"
             },
             "line": {
              "color": "white"
             }
            },
            "header": {
             "fill": {
              "color": "#C8D4E3"
             },
             "line": {
              "color": "white"
             }
            },
            "type": "table"
           }
          ]
         },
         "layout": {
          "annotationdefaults": {
           "arrowcolor": "#2a3f5f",
           "arrowhead": 0,
           "arrowwidth": 1
          },
          "colorscale": {
           "diverging": [
            [
             0,
             "#8e0152"
            ],
            [
             0.1,
             "#c51b7d"
            ],
            [
             0.2,
             "#de77ae"
            ],
            [
             0.3,
             "#f1b6da"
            ],
            [
             0.4,
             "#fde0ef"
            ],
            [
             0.5,
             "#f7f7f7"
            ],
            [
             0.6,
             "#e6f5d0"
            ],
            [
             0.7,
             "#b8e186"
            ],
            [
             0.8,
             "#7fbc41"
            ],
            [
             0.9,
             "#4d9221"
            ],
            [
             1,
             "#276419"
            ]
           ],
           "sequential": [
            [
             0,
             "#0d0887"
            ],
            [
             0.1111111111111111,
             "#46039f"
            ],
            [
             0.2222222222222222,
             "#7201a8"
            ],
            [
             0.3333333333333333,
             "#9c179e"
            ],
            [
             0.4444444444444444,
             "#bd3786"
            ],
            [
             0.5555555555555556,
             "#d8576b"
            ],
            [
             0.6666666666666666,
             "#ed7953"
            ],
            [
             0.7777777777777778,
             "#fb9f3a"
            ],
            [
             0.8888888888888888,
             "#fdca26"
            ],
            [
             1,
             "#f0f921"
            ]
           ],
           "sequentialminus": [
            [
             0,
             "#0d0887"
            ],
            [
             0.1111111111111111,
             "#46039f"
            ],
            [
             0.2222222222222222,
             "#7201a8"
            ],
            [
             0.3333333333333333,
             "#9c179e"
            ],
            [
             0.4444444444444444,
             "#bd3786"
            ],
            [
             0.5555555555555556,
             "#d8576b"
            ],
            [
             0.6666666666666666,
             "#ed7953"
            ],
            [
             0.7777777777777778,
             "#fb9f3a"
            ],
            [
             0.8888888888888888,
             "#fdca26"
            ],
            [
             1,
             "#f0f921"
            ]
           ]
          },
          "colorway": [
           "#636efa",
           "#EF553B",
           "#00cc96",
           "#ab63fa",
           "#FFA15A",
           "#19d3f3",
           "#FF6692",
           "#B6E880",
           "#FF97FF",
           "#FECB52"
          ],
          "font": {
           "color": "#2a3f5f"
          },
          "geo": {
           "bgcolor": "white",
           "lakecolor": "white",
           "landcolor": "#E5ECF6",
           "showlakes": true,
           "showland": true,
           "subunitcolor": "white"
          },
          "hoverlabel": {
           "align": "left"
          },
          "hovermode": "closest",
          "mapbox": {
           "style": "light"
          },
          "paper_bgcolor": "white",
          "plot_bgcolor": "#E5ECF6",
          "polar": {
           "angularaxis": {
            "gridcolor": "white",
            "linecolor": "white",
            "ticks": ""
           },
           "bgcolor": "#E5ECF6",
           "radialaxis": {
            "gridcolor": "white",
            "linecolor": "white",
            "ticks": ""
           }
          },
          "scene": {
           "xaxis": {
            "backgroundcolor": "#E5ECF6",
            "gridcolor": "white",
            "gridwidth": 2,
            "linecolor": "white",
            "showbackground": true,
            "ticks": "",
            "zerolinecolor": "white"
           },
           "yaxis": {
            "backgroundcolor": "#E5ECF6",
            "gridcolor": "white",
            "gridwidth": 2,
            "linecolor": "white",
            "showbackground": true,
            "ticks": "",
            "zerolinecolor": "white"
           },
           "zaxis": {
            "backgroundcolor": "#E5ECF6",
            "gridcolor": "white",
            "gridwidth": 2,
            "linecolor": "white",
            "showbackground": true,
            "ticks": "",
            "zerolinecolor": "white"
           }
          },
          "shapedefaults": {
           "line": {
            "color": "#2a3f5f"
           }
          },
          "ternary": {
           "aaxis": {
            "gridcolor": "white",
            "linecolor": "white",
            "ticks": ""
           },
           "baxis": {
            "gridcolor": "white",
            "linecolor": "white",
            "ticks": ""
           },
           "bgcolor": "#E5ECF6",
           "caxis": {
            "gridcolor": "white",
            "linecolor": "white",
            "ticks": ""
           }
          },
          "title": {
           "x": 0.05
          },
          "xaxis": {
           "automargin": true,
           "gridcolor": "white",
           "linecolor": "white",
           "ticks": "",
           "zerolinecolor": "white",
           "zerolinewidth": 2
          },
          "yaxis": {
           "automargin": true,
           "gridcolor": "white",
           "linecolor": "white",
           "ticks": "",
           "zerolinecolor": "white",
           "zerolinewidth": 2
          }
         }
        },
        "title": {
         "text": "Random Forest Feature Importance"
        },
        "xaxis": {
         "showgrid": false,
         "showline": false,
         "ticklen": 5,
         "zeroline": false
        },
        "yaxis": {
         "gridwidth": 2,
         "showgrid": false,
         "ticklen": 5,
         "title": {
          "text": "Feature Importance"
         },
         "zeroline": false
        }
       }
      },
      "text/html": [
       "<div>\n",
       "        \n",
       "        \n",
       "            <div id=\"8a0ce518-b907-48a5-8312-5e6b88224274\" class=\"plotly-graph-div\" style=\"height:525px; width:100%;\"></div>\n",
       "            <script type=\"text/javascript\">\n",
       "                require([\"plotly\"], function(Plotly) {\n",
       "                    window.PLOTLYENV=window.PLOTLYENV || {};\n",
       "                    \n",
       "                if (document.getElementById(\"8a0ce518-b907-48a5-8312-5e6b88224274\")) {\n",
       "                    Plotly.newPlot(\n",
       "                        '8a0ce518-b907-48a5-8312-5e6b88224274',\n",
       "                        [{\"marker\": {\"color\": [0.0023421187285231934, 0.004409943095797394, 0.0008429363179088254, 0.000471784766465551, 0.004638635612997738, 0.03375483551607116, 0.017824967061557374, 0.0037471192258782065, 0.007035981558582325, 0.0008303883474670989, 0.00024366596046175568, 0.004936857527342975, 0.0, 0.0003695760483501761, 0.0, 0.0005433432012066472, 0.0014308558864374865, 0.0016069563772009893, 0.024083189665301912, 0.021561851302072613, 0.0011691405748357549, 0.0017805260119298791, 0.007089143528077596, 0.00040618441906240877, 0.0028754076873743336, 5.839892022179257e-05, 9.841769060317446e-05, 0.0002602381660930559, 0.00013998450368236733, 0.0032489271243317424, 0.0005597219555068864, 0.0019807777121188825, 0.0018992010929148979, 0.00717428859580082, 0.0074049459706346694, 0.0003339562262894896, 0.0, 0.001513956361059854, 0.0001501345877870559, 0.0041162167175194725, 0.0014207398337669212, 6.520422428489478e-05, 0.0004916723177185285, 0.0022027559017019026, 0.0009579222724852712, 0.0, 0.00016089538851112197, 0.0001047428952265368, 0.015867727674115616, 0.012191021003296021, 0.0040292305183610546, 0.004238844802600811, 0.01815987536896559, 0.0013969324434922408, 0.00032315069055300694, 0.005831103062210086, 0.0, 0.0002974890349332616, 0.000533375746632938, 0.001975313127964189, 0.0014762855335763072, 0.0013679238658932096, 0.0024940612703643525, 0.00044525020738684436, 0.001069998174639007, 0.0013498540214324005, 0.003463932387642587, 0.00019326234879054542, 0.00045916501815963974, 0.0011047298355421277, 0.0, 0.0, 0.001822621861432762, 0.0, 0.0, 0.0, 0.0038157828563566364, 0.00019913282752750407, 0.0002579053749370296, 0.0, 0.030893660458569342, 4.419855880452683e-05, 0.0012729126665570918, 0.0016376703550716892, 0.0012784880920266011, 4.841489627079386e-05, 0.0, 0.00026929677668257354, 0.0, 0.0116389078548954, 0.0007749564802993663, 0.0001692330802956169, 0.0, 0.0008130378351941356, 0.00026432812275481237, 0.0, 6.898811262509067e-05, 0.0011034157465396165, 0.0, 4.615589355244574e-05, 0.0002078172805048537, 0.00019121854598040664, 0.0, 0.0003383250202170869, 0.0004949348565209071, 5.776645441143785e-06, 0.0179799112884571, 0.027884265418948607, 0.00039540420036153945, 0.022532676523014848, 0.04249003795460227, 0.0, 0.0456199760465622, 0.04459165410430837, 0.000381810387279786, 0.054485850883397226, 0.02402500954700987, 0.000292370887478334, 0.027022675263255486, 0.03339530553895554, 0.00043542044013135595, 4.901752263396088e-06, 0.05437536321704277, 0.013911526355869211, 0.00043588718258259285, 0.019088150180429107, 0.052487357822768636, 5.125560682358126e-07, 0.00010765237783336134, 0.00023858907026956693, 0.05358123594853479, 0.0, 0.0013051504515061995, 0.042180809133123026, 0.0198842925458189, 0.06610163842676918, 0.008592251772495839, 0.01190809950809064], \"colorscale\": [[0.0, \"rgb(12,51,131)\"], [0.25, \"rgb(10,136,186)\"], [0.5, \"rgb(242,211,56)\"], [0.75, \"rgb(242,143,56)\"], [1.0, \"rgb(217,30,30)\"]], \"showscale\": true, \"size\": 13, \"sizemode\": \"diameter\", \"sizeref\": 1}, \"mode\": \"markers\", \"text\": [\"Client_name_ANZ\", \"Client_name_Aon Hewitt\", \"Client_name_Astrazeneca\", \"Client_name_Hospira\", \"Client_name_Pfizer\", \"Client_name_Standard Chartered Bank\", \"Industry_BFSI\", \"Industry_IT Products and Services\", \"Industry_Pharmaceuticals\", \"Location_Bangalore\", \"Location_CHENNAI\", \"Location_Chennai\", \"Location_Delhi\", \"Location_Gurgaon\", \"Location_Gurgaonr\", \"Location_Hyderabad\", \"Location_Noida\", \"Location_chennai\", \"Position_Status_Niche\", \"Position_Status_Routine\", \"Technical_Skillset_ALS Testing\", \"Technical_Skillset_AML/KYC/CDD\", \"Technical_Skillset_Accounting Operations\", \"Technical_Skillset_Automation Testing Java\", \"Technical_Skillset_Banking Operations\", \"Technical_Skillset_Banking operations\", \"Technical_Skillset_Biosimilars\", \"Technical_Skillset_Biosimiliars\", \"Technical_Skillset_Biosimillar\", \"Technical_Skillset_CDD KYC\", \"Technical_Skillset_EMEA\", \"Technical_Skillset_Global Labelling\", \"Technical_Skillset_Hadoop\", \"Technical_Skillset_Java\", \"Technical_Skillset_Java_Hibernate\", \"Technical_Skillset_Java_SQL\", \"Technical_Skillset_LCM -Manager\", \"Technical_Skillset_Lending_&_Liablities\", \"Technical_Skillset_Licensing \\u2013 RA\", \"Technical_Skillset_NA\", \"Technical_Skillset_Publishing\", \"Technical_Skillset_RA Label\", \"Technical_Skillset_RA Publishing\", \"Technical_Skillset_SAS\", \"Technical_Skillset_SSCM\", \"Technical_Skillset_Submission Management\", \"Technical_Skillset_generic drugs \\u2013 RA\", \"Technical_Skillset_production\", \"Interview_Type_Scheduled\", \"Interview_Type_Scheduled_Walkin\", \"Interview_Type_Walkin\", \"Gender_Female\", \"Gender_Male\", \"Candidate_Current_Location_Bangalore\", \"Candidate_Current_Location_CHENNAI\", \"Candidate_Current_Location_Chennai\", \"Candidate_Current_Location_Delhi\", \"Candidate_Current_Location_Gurgaon\", \"Candidate_Current_Location_Hyderabad\", \"Candidate_Current_Location_Noida\", \"Candidate_Current_Location_chennai\", \"Candidate_Job_Location_Bangalore\", \"Candidate_Job_Location_Chennai\", \"Candidate_Job_Location_Gurgaon\", \"Candidate_Job_Location_Noida\", \"Interview_Venue_Bangalore\", \"Interview_Venue_Chennai\", \"Interview_Venue_Gurgaon\", \"Interview_Venue_Hyderabad\", \"Interview_Venue_Noida\", \"Candidate_Native_location_Agra\", \"Candidate_Native_location_Ahmedabad\", \"Candidate_Native_location_Allahabad\", \"Candidate_Native_location_Ambur\", \"Candidate_Native_location_Anantapur\", \"Candidate_Native_location_Baddi\", \"Candidate_Native_location_Bangalore\", \"Candidate_Native_location_Belgaum\", \"Candidate_Native_location_Bhubaneshwar\", \"Candidate_Native_location_Chandigarh\", \"Candidate_Native_location_Chennai\", \"Candidate_Native_location_Chitoor\", \"Candidate_Native_location_Cochin\", \"Candidate_Native_location_Coimbatore\", \"Candidate_Native_location_Cuttack\", \"Candidate_Native_location_Delhi\", \"Candidate_Native_location_Ghaziabad\", \"Candidate_Native_location_Gurgaon\", \"Candidate_Native_location_Hosur\", \"Candidate_Native_location_Hyderabad\", \"Candidate_Native_location_Kolkata\", \"Candidate_Native_location_Mumbai\", \"Candidate_Native_location_Mysore\", \"Candidate_Native_location_Nagercoil\", \"Candidate_Native_location_Noida\", \"Candidate_Native_location_Panjim\", \"Candidate_Native_location_Patna\", \"Candidate_Native_location_Pune\", \"Candidate_Native_location_Salem\", \"Candidate_Native_location_Tirupati\", \"Candidate_Native_location_Trichy\", \"Candidate_Native_location_Trivandrum\", \"Candidate_Native_location_Tuticorin\", \"Candidate_Native_location_Vellore\", \"Candidate_Native_location_Visakapatinam\", \"Candidate_Native_location_Warangal\", \"Q1_Na\", \"Q1_No\", \"Q1_Not yet\", \"Q1_Yes\", \"Q2_Na\", \"Q2_No\", \"Q2_Yes\", \"Q3_Na\", \"Q3_No\", \"Q3_Yes\", \"Q4_Na\", \"Q4_No\", \"Q4_Yes\", \"Q5_Na\", \"Q5_No\", \"Q5_Not yet\", \"Q5_Yes\", \"Q6_Na\", \"Q6_No\", \"Q6_Yes\", \"Q7_Na\", \"Q7_No\", \"Q7_Not Sure\", \"Q7_Not yet\", \"Q7_Yes\", \"Q7_Yet to Check\", \"Expected_Attendance_NA\", \"Expected_Attendance_No\", \"Expected_Attendance_Uncertain\", \"Expected_Attendance_Yes\", \"Marital_Status_Married\", \"Marital_Status_Single\"], \"type\": \"scatter\", \"x\": [\"Client_name_ANZ\", \"Client_name_Aon Hewitt\", \"Client_name_Astrazeneca\", \"Client_name_Hospira\", \"Client_name_Pfizer\", \"Client_name_Standard Chartered Bank\", \"Industry_BFSI\", \"Industry_IT Products and Services\", \"Industry_Pharmaceuticals\", \"Location_Bangalore\", \"Location_CHENNAI\", \"Location_Chennai\", \"Location_Delhi\", \"Location_Gurgaon\", \"Location_Gurgaonr\", \"Location_Hyderabad\", \"Location_Noida\", \"Location_chennai\", \"Position_Status_Niche\", \"Position_Status_Routine\", \"Technical_Skillset_ALS Testing\", \"Technical_Skillset_AML/KYC/CDD\", \"Technical_Skillset_Accounting Operations\", \"Technical_Skillset_Automation Testing Java\", \"Technical_Skillset_Banking Operations\", \"Technical_Skillset_Banking operations\", \"Technical_Skillset_Biosimilars\", \"Technical_Skillset_Biosimiliars\", \"Technical_Skillset_Biosimillar\", \"Technical_Skillset_CDD KYC\", \"Technical_Skillset_EMEA\", \"Technical_Skillset_Global Labelling\", \"Technical_Skillset_Hadoop\", \"Technical_Skillset_Java\", \"Technical_Skillset_Java_Hibernate\", \"Technical_Skillset_Java_SQL\", \"Technical_Skillset_LCM -Manager\", \"Technical_Skillset_Lending_&_Liablities\", \"Technical_Skillset_Licensing \\u2013 RA\", \"Technical_Skillset_NA\", \"Technical_Skillset_Publishing\", \"Technical_Skillset_RA Label\", \"Technical_Skillset_RA Publishing\", \"Technical_Skillset_SAS\", \"Technical_Skillset_SSCM\", \"Technical_Skillset_Submission Management\", \"Technical_Skillset_generic drugs \\u2013 RA\", \"Technical_Skillset_production\", \"Interview_Type_Scheduled\", \"Interview_Type_Scheduled_Walkin\", \"Interview_Type_Walkin\", \"Gender_Female\", \"Gender_Male\", \"Candidate_Current_Location_Bangalore\", \"Candidate_Current_Location_CHENNAI\", \"Candidate_Current_Location_Chennai\", \"Candidate_Current_Location_Delhi\", \"Candidate_Current_Location_Gurgaon\", \"Candidate_Current_Location_Hyderabad\", \"Candidate_Current_Location_Noida\", \"Candidate_Current_Location_chennai\", \"Candidate_Job_Location_Bangalore\", \"Candidate_Job_Location_Chennai\", \"Candidate_Job_Location_Gurgaon\", \"Candidate_Job_Location_Noida\", \"Interview_Venue_Bangalore\", \"Interview_Venue_Chennai\", \"Interview_Venue_Gurgaon\", \"Interview_Venue_Hyderabad\", \"Interview_Venue_Noida\", \"Candidate_Native_location_Agra\", \"Candidate_Native_location_Ahmedabad\", \"Candidate_Native_location_Allahabad\", \"Candidate_Native_location_Ambur\", \"Candidate_Native_location_Anantapur\", \"Candidate_Native_location_Baddi\", \"Candidate_Native_location_Bangalore\", \"Candidate_Native_location_Belgaum\", \"Candidate_Native_location_Bhubaneshwar\", \"Candidate_Native_location_Chandigarh\", \"Candidate_Native_location_Chennai\", \"Candidate_Native_location_Chitoor\", \"Candidate_Native_location_Cochin\", \"Candidate_Native_location_Coimbatore\", \"Candidate_Native_location_Cuttack\", \"Candidate_Native_location_Delhi\", \"Candidate_Native_location_Ghaziabad\", \"Candidate_Native_location_Gurgaon\", \"Candidate_Native_location_Hosur\", \"Candidate_Native_location_Hyderabad\", \"Candidate_Native_location_Kolkata\", \"Candidate_Native_location_Mumbai\", \"Candidate_Native_location_Mysore\", \"Candidate_Native_location_Nagercoil\", \"Candidate_Native_location_Noida\", \"Candidate_Native_location_Panjim\", \"Candidate_Native_location_Patna\", \"Candidate_Native_location_Pune\", \"Candidate_Native_location_Salem\", \"Candidate_Native_location_Tirupati\", \"Candidate_Native_location_Trichy\", \"Candidate_Native_location_Trivandrum\", \"Candidate_Native_location_Tuticorin\", \"Candidate_Native_location_Vellore\", \"Candidate_Native_location_Visakapatinam\", \"Candidate_Native_location_Warangal\", \"Q1_Na\", \"Q1_No\", \"Q1_Not yet\", \"Q1_Yes\", \"Q2_Na\", \"Q2_No\", \"Q2_Yes\", \"Q3_Na\", \"Q3_No\", \"Q3_Yes\", \"Q4_Na\", \"Q4_No\", \"Q4_Yes\", \"Q5_Na\", \"Q5_No\", \"Q5_Not yet\", \"Q5_Yes\", \"Q6_Na\", \"Q6_No\", \"Q6_Yes\", \"Q7_Na\", \"Q7_No\", \"Q7_Not Sure\", \"Q7_Not yet\", \"Q7_Yes\", \"Q7_Yet to Check\", \"Expected_Attendance_NA\", \"Expected_Attendance_No\", \"Expected_Attendance_Uncertain\", \"Expected_Attendance_Yes\", \"Marital_Status_Married\", \"Marital_Status_Single\"], \"y\": [0.03145264960884484, 0.03548246884876995, 0.0, 0.0, 0.03234632916564743, 0.0, 0.00517492593952578, 0.03574173866267746, 0.0, 0.0, 0.0, 0.0032894308784089683, 0.0, 0.03973706730375626, 0.0, 0.0, 0.0, 0.0, 0.032685357899083875, 0.0, 0.0, 0.008842965887195915, 0.0, 0.0, 0.0, 0.0, 0.0, 0.0, 0.0, 0.0, 0.0, 0.0, 0.0, 0.0, 0.002418711461696929, 0.008573208187006737, 0.0, 0.0, 0.0013741882751366083, 0.0, 0.0, 0.0, 0.0, 0.0, 0.0, 0.0, 0.0, 0.0, 0.005129913922339895, 0.0, 0.0, 0.0013428764684414057, 0.0, 0.012467140418315368, 0.0, 0.03695531739695473, 0.0038443285991521504, 0.0022983329160324293, 0.0, 0.03671056912159103, 0.0, 0.0, 0.003620539427271726, 0.0, 0.0028484920796155912, 0.0, 0.0, 0.0035230135895146296, 0.001695299872680229, 0.0, 0.0, 0.0, 0.0, 0.0, 0.0, 0.0, 0.0, 0.0, 0.0, 0.0, 0.0, 0.0, 0.003222211104656251, 0.0, 0.0005745556946626472, 0.0, 0.0, 0.0, 0.0, 0.0, 0.0, 0.0005907284654153254, 0.0, 0.0, 0.04210907423329414, 0.0, 0.0, 0.0, 0.0, 0.0, 0.0, 0.0, 0.0, 0.0, 0.0, 0.0008083302294987523, 0.030988029980658274, 0.0, 0.0, 0.0985186811503133, 0.03694164009699277, 0.0, 0.0, 0.0, 0.003902226323626098, 0.07578133902824401, 0.0, 0.013656152226194542, 0.03770166708396758, 0.033646191560026864, 0.02634384777380546, 0.0, 0.0, 0.0, 0.0, 0.0, 0.052158703658807364, 0.0008691249376581703, 0.0, 0.0, 0.0, 0.0, 0.008022847511587595, 0.022228601635094658, 0.03798553946025151, 0.1170281098347222, 0.0, 0.009367532080862577]}],\n",
       "                        {\"autosize\": true, \"hovermode\": \"closest\", \"showlegend\": false, \"template\": {\"data\": {\"bar\": [{\"error_x\": {\"color\": \"#2a3f5f\"}, \"error_y\": {\"color\": \"#2a3f5f\"}, \"marker\": {\"line\": {\"color\": \"#E5ECF6\", \"width\": 0.5}}, \"type\": \"bar\"}], \"barpolar\": [{\"marker\": {\"line\": {\"color\": \"#E5ECF6\", \"width\": 0.5}}, \"type\": \"barpolar\"}], \"carpet\": [{\"aaxis\": {\"endlinecolor\": \"#2a3f5f\", \"gridcolor\": \"white\", \"linecolor\": \"white\", \"minorgridcolor\": \"white\", \"startlinecolor\": \"#2a3f5f\"}, \"baxis\": {\"endlinecolor\": \"#2a3f5f\", \"gridcolor\": \"white\", \"linecolor\": \"white\", \"minorgridcolor\": \"white\", \"startlinecolor\": \"#2a3f5f\"}, \"type\": \"carpet\"}], \"choropleth\": [{\"colorbar\": {\"outlinewidth\": 0, \"ticks\": \"\"}, \"type\": \"choropleth\"}], \"contour\": [{\"colorbar\": {\"outlinewidth\": 0, \"ticks\": \"\"}, \"colorscale\": [[0.0, \"#0d0887\"], [0.1111111111111111, \"#46039f\"], [0.2222222222222222, \"#7201a8\"], [0.3333333333333333, \"#9c179e\"], [0.4444444444444444, \"#bd3786\"], [0.5555555555555556, \"#d8576b\"], [0.6666666666666666, \"#ed7953\"], [0.7777777777777778, \"#fb9f3a\"], [0.8888888888888888, \"#fdca26\"], [1.0, \"#f0f921\"]], \"type\": \"contour\"}], \"contourcarpet\": [{\"colorbar\": {\"outlinewidth\": 0, \"ticks\": \"\"}, \"type\": \"contourcarpet\"}], \"heatmap\": [{\"colorbar\": {\"outlinewidth\": 0, \"ticks\": \"\"}, \"colorscale\": [[0.0, \"#0d0887\"], [0.1111111111111111, \"#46039f\"], [0.2222222222222222, \"#7201a8\"], [0.3333333333333333, \"#9c179e\"], [0.4444444444444444, \"#bd3786\"], [0.5555555555555556, \"#d8576b\"], [0.6666666666666666, \"#ed7953\"], [0.7777777777777778, \"#fb9f3a\"], [0.8888888888888888, \"#fdca26\"], [1.0, \"#f0f921\"]], \"type\": \"heatmap\"}], \"heatmapgl\": [{\"colorbar\": {\"outlinewidth\": 0, \"ticks\": \"\"}, \"colorscale\": [[0.0, \"#0d0887\"], [0.1111111111111111, \"#46039f\"], [0.2222222222222222, \"#7201a8\"], [0.3333333333333333, \"#9c179e\"], [0.4444444444444444, \"#bd3786\"], [0.5555555555555556, \"#d8576b\"], [0.6666666666666666, \"#ed7953\"], [0.7777777777777778, \"#fb9f3a\"], [0.8888888888888888, \"#fdca26\"], [1.0, \"#f0f921\"]], \"type\": \"heatmapgl\"}], \"histogram\": [{\"marker\": {\"colorbar\": {\"outlinewidth\": 0, \"ticks\": \"\"}}, \"type\": \"histogram\"}], \"histogram2d\": [{\"colorbar\": {\"outlinewidth\": 0, \"ticks\": \"\"}, \"colorscale\": [[0.0, \"#0d0887\"], [0.1111111111111111, \"#46039f\"], [0.2222222222222222, \"#7201a8\"], [0.3333333333333333, \"#9c179e\"], [0.4444444444444444, \"#bd3786\"], [0.5555555555555556, \"#d8576b\"], [0.6666666666666666, \"#ed7953\"], [0.7777777777777778, \"#fb9f3a\"], [0.8888888888888888, \"#fdca26\"], [1.0, \"#f0f921\"]], \"type\": \"histogram2d\"}], \"histogram2dcontour\": [{\"colorbar\": {\"outlinewidth\": 0, \"ticks\": \"\"}, \"colorscale\": [[0.0, \"#0d0887\"], [0.1111111111111111, \"#46039f\"], [0.2222222222222222, \"#7201a8\"], [0.3333333333333333, \"#9c179e\"], [0.4444444444444444, \"#bd3786\"], [0.5555555555555556, \"#d8576b\"], [0.6666666666666666, \"#ed7953\"], [0.7777777777777778, \"#fb9f3a\"], [0.8888888888888888, \"#fdca26\"], [1.0, \"#f0f921\"]], \"type\": \"histogram2dcontour\"}], \"mesh3d\": [{\"colorbar\": {\"outlinewidth\": 0, \"ticks\": \"\"}, \"type\": \"mesh3d\"}], \"parcoords\": [{\"line\": {\"colorbar\": {\"outlinewidth\": 0, \"ticks\": \"\"}}, \"type\": \"parcoords\"}], \"scatter\": [{\"marker\": {\"colorbar\": {\"outlinewidth\": 0, \"ticks\": \"\"}}, \"type\": \"scatter\"}], \"scatter3d\": [{\"line\": {\"colorbar\": {\"outlinewidth\": 0, \"ticks\": \"\"}}, \"marker\": {\"colorbar\": {\"outlinewidth\": 0, \"ticks\": \"\"}}, \"type\": \"scatter3d\"}], \"scattercarpet\": [{\"marker\": {\"colorbar\": {\"outlinewidth\": 0, \"ticks\": \"\"}}, \"type\": \"scattercarpet\"}], \"scattergeo\": [{\"marker\": {\"colorbar\": {\"outlinewidth\": 0, \"ticks\": \"\"}}, \"type\": \"scattergeo\"}], \"scattergl\": [{\"marker\": {\"colorbar\": {\"outlinewidth\": 0, \"ticks\": \"\"}}, \"type\": \"scattergl\"}], \"scattermapbox\": [{\"marker\": {\"colorbar\": {\"outlinewidth\": 0, \"ticks\": \"\"}}, \"type\": \"scattermapbox\"}], \"scatterpolar\": [{\"marker\": {\"colorbar\": {\"outlinewidth\": 0, \"ticks\": \"\"}}, \"type\": \"scatterpolar\"}], \"scatterpolargl\": [{\"marker\": {\"colorbar\": {\"outlinewidth\": 0, \"ticks\": \"\"}}, \"type\": \"scatterpolargl\"}], \"scatterternary\": [{\"marker\": {\"colorbar\": {\"outlinewidth\": 0, \"ticks\": \"\"}}, \"type\": \"scatterternary\"}], \"surface\": [{\"colorbar\": {\"outlinewidth\": 0, \"ticks\": \"\"}, \"colorscale\": [[0.0, \"#0d0887\"], [0.1111111111111111, \"#46039f\"], [0.2222222222222222, \"#7201a8\"], [0.3333333333333333, \"#9c179e\"], [0.4444444444444444, \"#bd3786\"], [0.5555555555555556, \"#d8576b\"], [0.6666666666666666, \"#ed7953\"], [0.7777777777777778, \"#fb9f3a\"], [0.8888888888888888, \"#fdca26\"], [1.0, \"#f0f921\"]], \"type\": \"surface\"}], \"table\": [{\"cells\": {\"fill\": {\"color\": \"#EBF0F8\"}, \"line\": {\"color\": \"white\"}}, \"header\": {\"fill\": {\"color\": \"#C8D4E3\"}, \"line\": {\"color\": \"white\"}}, \"type\": \"table\"}]}, \"layout\": {\"annotationdefaults\": {\"arrowcolor\": \"#2a3f5f\", \"arrowhead\": 0, \"arrowwidth\": 1}, \"colorscale\": {\"diverging\": [[0, \"#8e0152\"], [0.1, \"#c51b7d\"], [0.2, \"#de77ae\"], [0.3, \"#f1b6da\"], [0.4, \"#fde0ef\"], [0.5, \"#f7f7f7\"], [0.6, \"#e6f5d0\"], [0.7, \"#b8e186\"], [0.8, \"#7fbc41\"], [0.9, \"#4d9221\"], [1, \"#276419\"]], \"sequential\": [[0.0, \"#0d0887\"], [0.1111111111111111, \"#46039f\"], [0.2222222222222222, \"#7201a8\"], [0.3333333333333333, \"#9c179e\"], [0.4444444444444444, \"#bd3786\"], [0.5555555555555556, \"#d8576b\"], [0.6666666666666666, \"#ed7953\"], [0.7777777777777778, \"#fb9f3a\"], [0.8888888888888888, \"#fdca26\"], [1.0, \"#f0f921\"]], \"sequentialminus\": [[0.0, \"#0d0887\"], [0.1111111111111111, \"#46039f\"], [0.2222222222222222, \"#7201a8\"], [0.3333333333333333, \"#9c179e\"], [0.4444444444444444, \"#bd3786\"], [0.5555555555555556, \"#d8576b\"], [0.6666666666666666, \"#ed7953\"], [0.7777777777777778, \"#fb9f3a\"], [0.8888888888888888, \"#fdca26\"], [1.0, \"#f0f921\"]]}, \"colorway\": [\"#636efa\", \"#EF553B\", \"#00cc96\", \"#ab63fa\", \"#FFA15A\", \"#19d3f3\", \"#FF6692\", \"#B6E880\", \"#FF97FF\", \"#FECB52\"], \"font\": {\"color\": \"#2a3f5f\"}, \"geo\": {\"bgcolor\": \"white\", \"lakecolor\": \"white\", \"landcolor\": \"#E5ECF6\", \"showlakes\": true, \"showland\": true, \"subunitcolor\": \"white\"}, \"hoverlabel\": {\"align\": \"left\"}, \"hovermode\": \"closest\", \"mapbox\": {\"style\": \"light\"}, \"paper_bgcolor\": \"white\", \"plot_bgcolor\": \"#E5ECF6\", \"polar\": {\"angularaxis\": {\"gridcolor\": \"white\", \"linecolor\": \"white\", \"ticks\": \"\"}, \"bgcolor\": \"#E5ECF6\", \"radialaxis\": {\"gridcolor\": \"white\", \"linecolor\": \"white\", \"ticks\": \"\"}}, \"scene\": {\"xaxis\": {\"backgroundcolor\": \"#E5ECF6\", \"gridcolor\": \"white\", \"gridwidth\": 2, \"linecolor\": \"white\", \"showbackground\": true, \"ticks\": \"\", \"zerolinecolor\": \"white\"}, \"yaxis\": {\"backgroundcolor\": \"#E5ECF6\", \"gridcolor\": \"white\", \"gridwidth\": 2, \"linecolor\": \"white\", \"showbackground\": true, \"ticks\": \"\", \"zerolinecolor\": \"white\"}, \"zaxis\": {\"backgroundcolor\": \"#E5ECF6\", \"gridcolor\": \"white\", \"gridwidth\": 2, \"linecolor\": \"white\", \"showbackground\": true, \"ticks\": \"\", \"zerolinecolor\": \"white\"}}, \"shapedefaults\": {\"line\": {\"color\": \"#2a3f5f\"}}, \"ternary\": {\"aaxis\": {\"gridcolor\": \"white\", \"linecolor\": \"white\", \"ticks\": \"\"}, \"baxis\": {\"gridcolor\": \"white\", \"linecolor\": \"white\", \"ticks\": \"\"}, \"bgcolor\": \"#E5ECF6\", \"caxis\": {\"gridcolor\": \"white\", \"linecolor\": \"white\", \"ticks\": \"\"}}, \"title\": {\"x\": 0.05}, \"xaxis\": {\"automargin\": true, \"gridcolor\": \"white\", \"linecolor\": \"white\", \"ticks\": \"\", \"zerolinecolor\": \"white\", \"zerolinewidth\": 2}, \"yaxis\": {\"automargin\": true, \"gridcolor\": \"white\", \"linecolor\": \"white\", \"ticks\": \"\", \"zerolinecolor\": \"white\", \"zerolinewidth\": 2}}}, \"title\": {\"text\": \"Random Forest Feature Importance\"}, \"xaxis\": {\"showgrid\": false, \"showline\": false, \"ticklen\": 5, \"zeroline\": false}, \"yaxis\": {\"gridwidth\": 2, \"showgrid\": false, \"ticklen\": 5, \"title\": {\"text\": \"Feature Importance\"}, \"zeroline\": false}},\n",
       "                        {\"responsive\": true}\n",
       "                    ).then(function(){\n",
       "                            \n",
       "var gd = document.getElementById('8a0ce518-b907-48a5-8312-5e6b88224274');\n",
       "var x = new MutationObserver(function (mutations, observer) {{\n",
       "        var display = window.getComputedStyle(gd).display;\n",
       "        if (!display || display === 'none') {{\n",
       "            console.log([gd, 'removed!']);\n",
       "            Plotly.purge(gd);\n",
       "            observer.disconnect();\n",
       "        }}\n",
       "}});\n",
       "\n",
       "// Listen for the removal of the full notebook cells\n",
       "var notebookContainer = gd.closest('#notebook-container');\n",
       "if (notebookContainer) {{\n",
       "    x.observe(notebookContainer, {childList: true});\n",
       "}}\n",
       "\n",
       "// Listen for the clearing of the current output cell\n",
       "var outputEl = gd.closest('.output');\n",
       "if (outputEl) {{\n",
       "    x.observe(outputEl, {childList: true});\n",
       "}}\n",
       "\n",
       "                        })\n",
       "                };\n",
       "                });\n",
       "            </script>\n",
       "        </div>"
      ]
     },
     "metadata": {},
     "output_type": "display_data"
    }
   ],
   "source": [
    "# Scatter plot \n",
    "trace = go.Scatter(\n",
    "    y = random_forest.feature_importances_,\n",
    "    x = data_cat.columns.values,\n",
    "    mode='markers',\n",
    "    marker=dict(\n",
    "        sizemode = 'diameter',\n",
    "        sizeref = 1,\n",
    "        size = 13,\n",
    "        #size= rf.feature_importances_,\n",
    "        #color = np.random.randn(500), #set color equal to a variable\n",
    "        color = rf.feature_importances_,\n",
    "        colorscale='Portland',\n",
    "        showscale=True\n",
    "    ),\n",
    "    text = data_cat.columns.values\n",
    ")\n",
    "data = [trace]\n",
    "\n",
    "layout= go.Layout(\n",
    "    autosize= True,\n",
    "    title= 'Random Forest Feature Importance',\n",
    "    hovermode= 'closest',\n",
    "     xaxis= dict(\n",
    "         ticklen= 5,\n",
    "         showgrid=False,\n",
    "        zeroline=False,\n",
    "        showline=False\n",
    "     ),\n",
    "    yaxis=dict(\n",
    "        title= 'Feature Importance',\n",
    "        showgrid=False,\n",
    "        zeroline=False,\n",
    "        ticklen= 5,\n",
    "        gridwidth= 2\n",
    "    ),\n",
    "    showlegend= False\n",
    ")\n",
    "fig = go.Figure(data=data, layout=layout)\n",
    "py.iplot(fig,filename='scatter2010')"
   ]
  },
  {
   "cell_type": "markdown",
   "metadata": {},
   "source": [
    "## Grid Search for Adaboost"
   ]
  },
  {
   "cell_type": "code",
   "execution_count": 186,
   "metadata": {},
   "outputs": [
    {
     "name": "stdout",
     "output_type": "stream",
     "text": [
      "epoch: 1 train_score: 0.7351274787535411 test_score: 0.875\n",
      "epoch: 2 train_score: 0.7379603399433428 test_score: 0.375\n",
      "epoch: 3 train_score: 0.7308781869688386 test_score: 0.625\n",
      "epoch: 4 train_score: 0.7337110481586402 test_score: 0.75\n",
      "epoch: 5 train_score: 0.7379603399433428 test_score: 0.5\n",
      "epoch: 6 train_score: 0.7337110481586402 test_score: 0.875\n",
      "epoch: 7 train_score: 0.7351274787535411 test_score: 0.625\n",
      "epoch: 8 train_score: 0.7365439093484419 test_score: 0.625\n",
      "epoch: 9 train_score: 0.7351274787535411 test_score: 0.875\n",
      "epoch: 10 train_score: 0.7407932011331445 test_score: 0.625\n",
      "----------\n",
      "BEFORE Tuning Parameters:  {'algorithm': 'SAMME.R', 'base_estimator': None, 'learning_rate': 1.0, 'n_estimators': 50, 'random_state': None}\n",
      "BEFORE Tuning Training w/bin score mean: 73.57\n",
      "BEFORE Tuning Test w/bin score mean: 67.50\n",
      "----------\n",
      "epoch: 0 train_score: 0.7082152974504249 test_score: 0.875\n",
      "epoch: 1 train_score: 0.7450424929178471 test_score: 0.375\n",
      "epoch: 2 train_score: 0.7393767705382436 test_score: 0.75\n",
      "epoch: 3 train_score: 0.7082152974504249 test_score: 0.75\n",
      "epoch: 4 train_score: 0.71671388101983 test_score: 0.375\n",
      "epoch: 5 train_score: 0.7422096317280453 test_score: 0.75\n",
      "epoch: 6 train_score: 0.7436260623229461 test_score: 0.625\n",
      "epoch: 7 train_score: 0.7422096317280453 test_score: 0.625\n",
      "epoch: 8 train_score: 0.7422096317280453 test_score: 0.875\n",
      "epoch: 9 train_score: 0.7124645892351275 test_score: 0.625\n",
      "----------\n",
      "AFTER Tuning Parameters:  {'base_estimator': LogisticRegressionCV(Cs=10, class_weight=None, cv=None, dual=False,\n",
      "           fit_intercept=True, intercept_scaling=1.0, max_iter=100,\n",
      "           multi_class='ovr', n_jobs=1, penalty='l2', random_state=None,\n",
      "           refit=True, scoring=None, solver='lbfgs', tol=0.0001, verbose=0)}\n",
      "AFTER Tuning Training w/bin score mean: 73.00\n",
      "AFTER Tuning Test w/bin score mean: 66.25\n",
      "----------\n"
     ]
    }
   ],
   "source": [
    "classifier = ensemble.AdaBoostClassifier()\n",
    "base_results = cross_validate(classifier, data_cat, target, cv  = cv_split, return_train_score=True)\n",
    "classifier.fit(data_cat, target)\n",
    "\n",
    "epoch=0\n",
    "for train_score,test_score in zip(base_results['train_score'], base_results['test_score']):\n",
    "        epoch +=1       \n",
    "        print(\"epoch:\",epoch,\"train_score:\",train_score, \"test_score:\",test_score)\n",
    "print('-'*10)\n",
    "\n",
    "print('BEFORE Tuning Parameters: ', classifier.get_params())\n",
    "print(\"BEFORE Tuning Training w/bin score mean: {:.2f}\". format(base_results['train_score'].mean()*100)) \n",
    "print(\"BEFORE Tuning Test w/bin score mean: {:.2f}\". format(base_results['test_score'].mean()*100))\n",
    "print('-'*10)\n",
    "\n",
    "cl1 = LogisticRegressionCV()\n",
    "cl2 = tree.DecisionTreeClassifier()\n",
    "cl3 = naive_bayes.GaussianNB()\n",
    "param_grid = {'base_estimator':[cl1, cl2, cl3]\n",
    "             }\n",
    "\n",
    "\n",
    "tune_model = GridSearchCV(ensemble.AdaBoostClassifier(), param_grid=param_grid, scoring = 'accuracy', cv = cv_split, return_train_score=True)\n",
    "tune_model.fit(data_cat, target)\n",
    "\n",
    "for i in range(10):\n",
    "    print(\"epoch:\",i,\"train_score:\",tune_model.cv_results_['split'+str(i)+'_train_score'][tune_model.best_index_],\n",
    "    \"test_score:\",tune_model.cv_results_['split'+str(i)+'_test_score'][tune_model.best_index_])\n",
    "\n",
    "print('-'*10)    \n",
    "\n",
    "\n",
    "print('AFTER Tuning Parameters: ', tune_model.best_params_)\n",
    "print(\"AFTER Tuning Training w/bin score mean: {:.2f}\". format(tune_model.cv_results_['mean_train_score'][tune_model.best_index_]*100))\n",
    "print(\"AFTER Tuning Test w/bin score mean: {:.2f}\". format(tune_model.cv_results_['mean_test_score'][tune_model.best_index_]*100))\n",
    "print('-'*10)"
   ]
  },
  {
   "cell_type": "code",
   "execution_count": 187,
   "metadata": {
    "scrolled": true
   },
   "outputs": [
    {
     "name": "stdout",
     "output_type": "stream",
     "text": [
      "0.875\n",
      "             precision    recall  f1-score   support\n",
      "\n",
      "          0       0.00      0.00      0.00         1\n",
      "          1       0.88      1.00      0.93         7\n",
      "\n",
      "avg / total       0.77      0.88      0.82         8\n",
      "\n"
     ]
    }
   ],
   "source": [
    "AdaBoostClass_predictions = tune_model.predict(test)\n",
    "print(accuracy_score(target_val, AdaBoostClass_predictions))\n",
    "print(classification_report(target_val, AdaBoostClass_predictions))"
   ]
  },
  {
   "cell_type": "markdown",
   "metadata": {},
   "source": [
    "## BernoulI NB"
   ]
  },
  {
   "cell_type": "code",
   "execution_count": 207,
   "metadata": {},
   "outputs": [],
   "source": [
    "clf = BernoulliNB()\n",
    "clf.fit(train, target_train)\n",
    "target_pred = clf.predict(test)"
   ]
  },
  {
   "cell_type": "code",
   "execution_count": 208,
   "metadata": {},
   "outputs": [
    {
     "name": "stdout",
     "output_type": "stream",
     "text": [
      "0.875\n",
      "             precision    recall  f1-score   support\n",
      "\n",
      "          0       0.00      0.00      0.00         1\n",
      "          1       0.88      1.00      0.93         7\n",
      "\n",
      "avg / total       0.77      0.88      0.82         8\n",
      "\n"
     ]
    }
   ],
   "source": [
    "print(accuracy_score(target_val, target_pred))\n",
    "print(classification_report(target_val, target_pred))"
   ]
  },
  {
   "cell_type": "markdown",
   "metadata": {},
   "source": [
    "# Selection Of Model without SMOTE"
   ]
  },
  {
   "cell_type": "markdown",
   "metadata": {},
   "source": [
    "## Tune the Decision Tree Model with Feature Selection"
   ]
  },
  {
   "cell_type": "code",
   "execution_count": 191,
   "metadata": {},
   "outputs": [
    {
     "name": "stdout",
     "output_type": "stream",
     "text": [
      "BEFORE RFE Training Shape Old:  (714, 138)\n",
      "BEFORE RFE Training Columns Old:  ['Client_name_ANZ' 'Client_name_Aon Hewitt' 'Client_name_Astrazeneca'\n",
      " 'Client_name_Hospira' 'Client_name_Pfizer'\n",
      " 'Client_name_Standard Chartered Bank' 'Industry_BFSI'\n",
      " 'Industry_IT Products and Services' 'Industry_Pharmaceuticals'\n",
      " 'Location_Bangalore' 'Location_CHENNAI' 'Location_Chennai'\n",
      " 'Location_Delhi' 'Location_Gurgaon' 'Location_Gurgaonr'\n",
      " 'Location_Hyderabad' 'Location_Noida' 'Location_chennai'\n",
      " 'Position_Status_Niche' 'Position_Status_Routine'\n",
      " 'Technical_Skillset_ALS Testing' 'Technical_Skillset_AML/KYC/CDD'\n",
      " 'Technical_Skillset_Accounting Operations'\n",
      " 'Technical_Skillset_Automation Testing Java'\n",
      " 'Technical_Skillset_Banking Operations'\n",
      " 'Technical_Skillset_Banking operations' 'Technical_Skillset_Biosimilars'\n",
      " 'Technical_Skillset_Biosimiliars' 'Technical_Skillset_Biosimillar'\n",
      " 'Technical_Skillset_CDD KYC' 'Technical_Skillset_EMEA'\n",
      " 'Technical_Skillset_Global Labelling' 'Technical_Skillset_Hadoop'\n",
      " 'Technical_Skillset_Java' 'Technical_Skillset_Java_Hibernate'\n",
      " 'Technical_Skillset_Java_SQL' 'Technical_Skillset_LCM -Manager'\n",
      " 'Technical_Skillset_Lending_&_Liablities'\n",
      " 'Technical_Skillset_Licensing – RA' 'Technical_Skillset_NA'\n",
      " 'Technical_Skillset_Publishing' 'Technical_Skillset_RA Label'\n",
      " 'Technical_Skillset_RA Publishing' 'Technical_Skillset_SAS'\n",
      " 'Technical_Skillset_SSCM' 'Technical_Skillset_Submission Management'\n",
      " 'Technical_Skillset_generic drugs – RA' 'Technical_Skillset_production'\n",
      " 'Interview_Type_Scheduled' 'Interview_Type_Scheduled_Walkin'\n",
      " 'Interview_Type_Walkin' 'Gender_Female' 'Gender_Male'\n",
      " 'Candidate_Current_Location_Bangalore'\n",
      " 'Candidate_Current_Location_CHENNAI' 'Candidate_Current_Location_Chennai'\n",
      " 'Candidate_Current_Location_Delhi' 'Candidate_Current_Location_Gurgaon'\n",
      " 'Candidate_Current_Location_Hyderabad' 'Candidate_Current_Location_Noida'\n",
      " 'Candidate_Current_Location_chennai' 'Candidate_Job_Location_Bangalore'\n",
      " 'Candidate_Job_Location_Chennai' 'Candidate_Job_Location_Gurgaon'\n",
      " 'Candidate_Job_Location_Noida' 'Interview_Venue_Bangalore'\n",
      " 'Interview_Venue_Chennai' 'Interview_Venue_Gurgaon'\n",
      " 'Interview_Venue_Hyderabad' 'Interview_Venue_Noida'\n",
      " 'Candidate_Native_location_Agra' 'Candidate_Native_location_Ahmedabad'\n",
      " 'Candidate_Native_location_Allahabad' 'Candidate_Native_location_Ambur'\n",
      " 'Candidate_Native_location_Anantapur' 'Candidate_Native_location_Baddi'\n",
      " 'Candidate_Native_location_Bangalore' 'Candidate_Native_location_Belgaum'\n",
      " 'Candidate_Native_location_Bhubaneshwar'\n",
      " 'Candidate_Native_location_Chandigarh'\n",
      " 'Candidate_Native_location_Chennai' 'Candidate_Native_location_Chitoor'\n",
      " 'Candidate_Native_location_Cochin' 'Candidate_Native_location_Coimbatore'\n",
      " 'Candidate_Native_location_Cuttack' 'Candidate_Native_location_Delhi'\n",
      " 'Candidate_Native_location_Ghaziabad' 'Candidate_Native_location_Gurgaon'\n",
      " 'Candidate_Native_location_Hosur' 'Candidate_Native_location_Hyderabad'\n",
      " 'Candidate_Native_location_Kolkata' 'Candidate_Native_location_Mumbai'\n",
      " 'Candidate_Native_location_Mysore' 'Candidate_Native_location_Nagercoil'\n",
      " 'Candidate_Native_location_Noida' 'Candidate_Native_location_Panjim'\n",
      " 'Candidate_Native_location_Patna' 'Candidate_Native_location_Pune'\n",
      " 'Candidate_Native_location_Salem' 'Candidate_Native_location_Tirupati'\n",
      " 'Candidate_Native_location_Trichy' 'Candidate_Native_location_Trivandrum'\n",
      " 'Candidate_Native_location_Tuticorin' 'Candidate_Native_location_Vellore'\n",
      " 'Candidate_Native_location_Visakapatinam'\n",
      " 'Candidate_Native_location_Warangal' 'Q1_Na' 'Q1_No' 'Q1_Not yet'\n",
      " 'Q1_Yes' 'Q2_Na' 'Q2_No' 'Q2_Yes' 'Q3_Na' 'Q3_No' 'Q3_Yes' 'Q4_Na'\n",
      " 'Q4_No' 'Q4_Yes' 'Q5_Na' 'Q5_No' 'Q5_Not yet' 'Q5_Yes' 'Q6_Na' 'Q6_No'\n",
      " 'Q6_Yes' 'Q7_Na' 'Q7_No' 'Q7_Not Sure' 'Q7_Not yet' 'Q7_Yes'\n",
      " 'Q7_Yet to Check' 'Expected_Attendance_NA' 'Expected_Attendance_No'\n",
      " 'Expected_Attendance_Uncertain' 'Expected_Attendance_Yes'\n",
      " 'Marital_Status_Married' 'Marital_Status_Single']\n",
      "BEFORE RFE Training w/bin score mean: 84.24\n",
      "BEFORE RFE Test w/bin score mean: 70.00\n",
      "----------\n",
      "AFTER RFE Training Shape New:  (714, 138)\n",
      "AFTER RFE Training Columns New:  ['Client_name_ANZ' 'Client_name_Aon Hewitt' 'Client_name_Astrazeneca'\n",
      " 'Client_name_Hospira' 'Client_name_Pfizer'\n",
      " 'Client_name_Standard Chartered Bank' 'Industry_BFSI'\n",
      " 'Industry_IT Products and Services' 'Industry_Pharmaceuticals'\n",
      " 'Location_Bangalore' 'Location_CHENNAI' 'Location_Chennai'\n",
      " 'Location_Delhi' 'Location_Gurgaon' 'Location_Gurgaonr'\n",
      " 'Location_Hyderabad' 'Location_Noida' 'Location_chennai'\n",
      " 'Position_Status_Niche' 'Position_Status_Routine'\n",
      " 'Technical_Skillset_ALS Testing' 'Technical_Skillset_AML/KYC/CDD'\n",
      " 'Technical_Skillset_Accounting Operations'\n",
      " 'Technical_Skillset_Automation Testing Java'\n",
      " 'Technical_Skillset_Banking Operations'\n",
      " 'Technical_Skillset_Banking operations' 'Technical_Skillset_Biosimilars'\n",
      " 'Technical_Skillset_Biosimiliars' 'Technical_Skillset_Biosimillar'\n",
      " 'Technical_Skillset_CDD KYC' 'Technical_Skillset_EMEA'\n",
      " 'Technical_Skillset_Global Labelling' 'Technical_Skillset_Hadoop'\n",
      " 'Technical_Skillset_Java' 'Technical_Skillset_Java_Hibernate'\n",
      " 'Technical_Skillset_Java_SQL' 'Technical_Skillset_LCM -Manager'\n",
      " 'Technical_Skillset_Lending_&_Liablities'\n",
      " 'Technical_Skillset_Licensing – RA' 'Technical_Skillset_NA'\n",
      " 'Technical_Skillset_Publishing' 'Technical_Skillset_RA Label'\n",
      " 'Technical_Skillset_RA Publishing' 'Technical_Skillset_SAS'\n",
      " 'Technical_Skillset_SSCM' 'Technical_Skillset_Submission Management'\n",
      " 'Technical_Skillset_generic drugs – RA' 'Technical_Skillset_production'\n",
      " 'Interview_Type_Scheduled' 'Interview_Type_Scheduled_Walkin'\n",
      " 'Interview_Type_Walkin' 'Gender_Female' 'Gender_Male'\n",
      " 'Candidate_Current_Location_Bangalore'\n",
      " 'Candidate_Current_Location_CHENNAI' 'Candidate_Current_Location_Chennai'\n",
      " 'Candidate_Current_Location_Delhi' 'Candidate_Current_Location_Gurgaon'\n",
      " 'Candidate_Current_Location_Hyderabad' 'Candidate_Current_Location_Noida'\n",
      " 'Candidate_Current_Location_chennai' 'Candidate_Job_Location_Bangalore'\n",
      " 'Candidate_Job_Location_Chennai' 'Candidate_Job_Location_Gurgaon'\n",
      " 'Candidate_Job_Location_Noida' 'Interview_Venue_Bangalore'\n",
      " 'Interview_Venue_Chennai' 'Interview_Venue_Gurgaon'\n",
      " 'Interview_Venue_Hyderabad' 'Interview_Venue_Noida'\n",
      " 'Candidate_Native_location_Agra' 'Candidate_Native_location_Ahmedabad'\n",
      " 'Candidate_Native_location_Allahabad' 'Candidate_Native_location_Ambur'\n",
      " 'Candidate_Native_location_Anantapur' 'Candidate_Native_location_Baddi'\n",
      " 'Candidate_Native_location_Bangalore' 'Candidate_Native_location_Belgaum'\n",
      " 'Candidate_Native_location_Bhubaneshwar'\n",
      " 'Candidate_Native_location_Chandigarh'\n",
      " 'Candidate_Native_location_Chennai' 'Candidate_Native_location_Chitoor'\n",
      " 'Candidate_Native_location_Cochin' 'Candidate_Native_location_Coimbatore'\n",
      " 'Candidate_Native_location_Cuttack' 'Candidate_Native_location_Delhi'\n",
      " 'Candidate_Native_location_Ghaziabad' 'Candidate_Native_location_Gurgaon'\n",
      " 'Candidate_Native_location_Hosur' 'Candidate_Native_location_Hyderabad'\n",
      " 'Candidate_Native_location_Kolkata' 'Candidate_Native_location_Mumbai'\n",
      " 'Candidate_Native_location_Mysore' 'Candidate_Native_location_Nagercoil'\n",
      " 'Candidate_Native_location_Noida' 'Candidate_Native_location_Panjim'\n",
      " 'Candidate_Native_location_Patna' 'Candidate_Native_location_Pune'\n",
      " 'Candidate_Native_location_Salem' 'Candidate_Native_location_Tirupati'\n",
      " 'Candidate_Native_location_Trichy' 'Candidate_Native_location_Trivandrum'\n",
      " 'Candidate_Native_location_Tuticorin' 'Candidate_Native_location_Vellore'\n",
      " 'Candidate_Native_location_Visakapatinam'\n",
      " 'Candidate_Native_location_Warangal' 'Q1_Na' 'Q1_No' 'Q1_Not yet'\n",
      " 'Q1_Yes' 'Q2_Na' 'Q2_No' 'Q2_Yes' 'Q3_Na' 'Q3_No' 'Q3_Yes' 'Q4_Na'\n",
      " 'Q4_No' 'Q4_Yes' 'Q5_Na' 'Q5_No' 'Q5_Not yet' 'Q5_Yes' 'Q6_Na' 'Q6_No'\n",
      " 'Q6_Yes' 'Q7_Na' 'Q7_No' 'Q7_Not Sure' 'Q7_Not yet' 'Q7_Yes'\n",
      " 'Q7_Yet to Check' 'Expected_Attendance_NA' 'Expected_Attendance_No'\n",
      " 'Expected_Attendance_Uncertain' 'Expected_Attendance_Yes'\n",
      " 'Marital_Status_Married' 'Marital_Status_Single']\n",
      "AFTER RFE Training w/bin score mean: 84.24\n",
      "AFTER RFE Test w/bin score mean: 71.25\n",
      "----------\n",
      "AFTER RFE Tuned Parameters:  {'criterion': 'entropy', 'max_depth': None, 'random_state': 0, 'splitter': 'best'}\n",
      "AFTER RFE Tuned Training w/bin score mean: 70.33\n",
      "AFTER RFE Tuned Test w/bin score mean: 66.25\n",
      "----------\n"
     ]
    }
   ],
   "source": [
    "print('BEFORE RFE Training Shape Old: ', data_cat.shape) \n",
    "print('BEFORE RFE Training Columns Old: ', data_cat.columns.values)\n",
    "\n",
    "print(\"BEFORE RFE Training w/bin score mean: {:.2f}\". format(base_results_dtree['train_score'].mean()*100)) \n",
    "print(\"BEFORE RFE Test w/bin score mean: {:.2f}\". format(base_results_dtree['test_score'].mean()*100))\n",
    "print('-'*10)\n",
    "\n",
    "#feature selection\n",
    "dtree_rfe = feature_selection.RFECV(tree.DecisionTreeClassifier(), step = 1, scoring = 'accuracy', cv = cv_split)\n",
    "dtree_rfe.fit(data_cat, target)\n",
    "\n",
    "#transform x&y to reduced features and fit new model\n",
    "X_rfe = data_cat.columns.values[dtree_rfe.get_support()]\n",
    "rfe_results = cross_validate(dtree, data_cat[X_rfe], target, cv  = cv_split)\n",
    "\n",
    "print('AFTER RFE Training Shape New: ', data_cat[X_rfe].shape) \n",
    "print('AFTER RFE Training Columns New: ', X_rfe)\n",
    "\n",
    "print(\"AFTER RFE Training w/bin score mean: {:.2f}\". format(rfe_results['train_score'].mean()*100)) \n",
    "print(\"AFTER RFE Test w/bin score mean: {:.2f}\". format(rfe_results['test_score'].mean()*100))\n",
    "print('-'*10)\n",
    "\n",
    "param_grid = {'criterion': ['gini','entropy'], \n",
    "              'splitter': ['best', 'random'], \n",
    "              'max_depth': [2,4,6,8,10,None], \n",
    "              #'min_samples_split': [2,5,7,10,12], \n",
    "              #'min_samples_leaf': [1,3,5,7, 10], \n",
    "              'random_state': [0] \n",
    "             }\n",
    "\n",
    "#tune rfe model\n",
    "rfe_tune_model = GridSearchCV(tree.DecisionTreeClassifier(), param_grid=param_grid, scoring = 'accuracy', cv = cv_split)\n",
    "rfe_tune_model.fit(data_cat[X_rfe], target)\n",
    "\n",
    "print('AFTER RFE Tuned Parameters: ', rfe_tune_model.best_params_)\n",
    "print(\"AFTER RFE Tuned Training w/bin score mean: {:.2f}\". format(rfe_tune_model.cv_results_['mean_train_score'][tune_model.best_index_]*100)) \n",
    "print(\"AFTER RFE Tuned Test w/bin score mean: {:.2f}\". format(rfe_tune_model.cv_results_['mean_test_score'][tune_model.best_index_]*100))\n",
    "print('-'*10)"
   ]
  },
  {
   "cell_type": "code",
   "execution_count": 204,
   "metadata": {},
   "outputs": [
    {
     "data": {
      "text/plain": [
       "DecisionTreeClassifier(class_weight=None, criterion='gini', max_depth=3,\n",
       "            max_features=None, max_leaf_nodes=None,\n",
       "            min_impurity_decrease=0.0, min_impurity_split=None,\n",
       "            min_samples_leaf=1, min_samples_split=2,\n",
       "            min_weight_fraction_leaf=0.0, presort=False, random_state=0,\n",
       "            splitter='best')"
      ]
     },
     "execution_count": 204,
     "metadata": {},
     "output_type": "execute_result"
    }
   ],
   "source": [
    "# train the model using tuned decision tree parameters\n",
    "dtunetree = tree.DecisionTreeClassifier(criterion= 'gini', max_depth=3, random_state= 0, splitter= 'best')\n",
    "base_results = cross_validate(dtree, data_cat, target, cv  = cv_split, return_train_score=True)\n",
    "dtunetree.fit(data_cat, target)"
   ]
  },
  {
   "cell_type": "code",
   "execution_count": 205,
   "metadata": {},
   "outputs": [
    {
     "name": "stdout",
     "output_type": "stream",
     "text": [
      "0.875\n",
      "             precision    recall  f1-score   support\n",
      "\n",
      "          0       0.00      0.00      0.00         1\n",
      "          1       0.88      1.00      0.93         7\n",
      "\n",
      "avg / total       0.77      0.88      0.82         8\n",
      "\n"
     ]
    }
   ],
   "source": [
    "dtunetree_predictions = dtunetree.predict(test)\n",
    "print(accuracy_score(target_val, dtunetree_predictions))\n",
    "print(classification_report(target_val, dtunetree_predictions))"
   ]
  },
  {
   "cell_type": "markdown",
   "metadata": {},
   "source": [
    "## Tune the Logistic Regression"
   ]
  },
  {
   "cell_type": "code",
   "execution_count": 206,
   "metadata": {},
   "outputs": [
    {
     "name": "stdout",
     "output_type": "stream",
     "text": [
      "Fitting 3 folds for each of 14 candidates, totalling 42 fits\n"
     ]
    },
    {
     "name": "stderr",
     "output_type": "stream",
     "text": [
      "[Parallel(n_jobs=-1)]: Done  42 out of  42 | elapsed:    8.1s finished\n"
     ]
    },
    {
     "name": "stdout",
     "output_type": "stream",
     "text": [
      "The best parameters for using this model is {'C': 0.001, 'penalty': 'l2'}\n"
     ]
    }
   ],
   "source": [
    "# Find the best parameters (recall)\n",
    "log2_clf = LogisticRegression(random_state = 42)\n",
    "param_grid = {\n",
    "            'penalty' : ['l2','l1'],  \n",
    "            'C' : [0.001, 0.01, 0.1, 1, 10, 100, 1000],\n",
    "            }\n",
    "\n",
    "CV_log2_clf = GridSearchCV(estimator = log2_clf, param_grid = param_grid , scoring = 'recall', verbose = 1, n_jobs = -1)\n",
    "CV_log2_clf.fit(data_cat, target)\n",
    "\n",
    "best_parameters = CV_log2_clf.best_params_\n",
    "print('The best parameters for using this model is', best_parameters)"
   ]
  },
  {
   "cell_type": "code",
   "execution_count": 201,
   "metadata": {},
   "outputs": [
    {
     "data": {
      "text/plain": [
       "LogisticRegression(C=0.001, class_weight=None, dual=False, fit_intercept=True,\n",
       "          intercept_scaling=1, max_iter=100, multi_class='ovr', n_jobs=1,\n",
       "          penalty='l2', random_state=42, solver='liblinear', tol=0.0001,\n",
       "          verbose=0, warm_start=False)"
      ]
     },
     "execution_count": 201,
     "metadata": {},
     "output_type": "execute_result"
    }
   ],
   "source": [
    "# Log w best hyperparameters\n",
    "CV_log2_clf = LogisticRegression(C = best_parameters['C'], \n",
    "                                 penalty = best_parameters['penalty'], \n",
    "                                 random_state = 42)\n",
    "\n",
    "CV_log2_clf.fit(data_cat, target)\n"
   ]
  },
  {
   "cell_type": "code",
   "execution_count": 202,
   "metadata": {},
   "outputs": [
    {
     "name": "stdout",
     "output_type": "stream",
     "text": [
      "0.875\n",
      "             precision    recall  f1-score   support\n",
      "\n",
      "          0       0.00      0.00      0.00         1\n",
      "          1       0.88      1.00      0.93         7\n",
      "\n",
      "avg / total       0.77      0.88      0.82         8\n",
      "\n"
     ]
    }
   ],
   "source": [
    "CV_log2_clf_predictions = CV_log2_clf.predict(test)\n",
    "print(accuracy_score(target_val, CV_log2_clf_predictions))\n",
    "print(classification_report(target_val, CV_log2_clf_predictions))"
   ]
  },
  {
   "cell_type": "markdown",
   "metadata": {},
   "source": [
    "## Voting Classifier"
   ]
  },
  {
   "cell_type": "code",
   "execution_count": 203,
   "metadata": {},
   "outputs": [
    {
     "data": {
      "text/plain": [
       "VotingClassifier(estimators=[('log1', DecisionTreeClassifier(class_weight=None, criterion='gini', max_depth=2,\n",
       "            max_features=None, max_leaf_nodes=None,\n",
       "            min_impurity_decrease=0.0, min_impurity_split=None,\n",
       "            min_samples_leaf=1, min_samples_split=2,\n",
       "            min_weight_fraction_leaf=...alty='l2', random_state=42, solver='liblinear', tol=0.0001,\n",
       "          verbose=0, warm_start=False))],\n",
       "         flatten_transform=None, n_jobs=1, voting='soft', weights=[1, 1])"
      ]
     },
     "execution_count": 203,
     "metadata": {},
     "output_type": "execute_result"
    }
   ],
   "source": [
    "#Voting Classifier\n",
    "voting_clf = VotingClassifier (\n",
    "        estimators = [('log1', dtunetree), ('log_2', CV_log2_clf)],\n",
    "                     voting='soft', weights = [1, 1])\n",
    "    \n",
    "voting_clf.fit(data_cat, target)\n"
   ]
  },
  {
   "cell_type": "code",
   "execution_count": null,
   "metadata": {},
   "outputs": [],
   "source": []
  },
  {
   "cell_type": "markdown",
   "metadata": {},
   "source": [
    "**Conclusion**\n",
    "\n",
    "\n",
    "From the above without SMOTE Analysis it can be infered that the ensemble methods are not a good fit for our dataset. Although they are among the highest performers in terms of mean test accuracy, but they are facing the overfitting problem.\n",
    "\n",
    "Ensemble methods mainly works in two ways:\n",
    "\n",
    "either they sample the data multiple times and make many datasets (like bootstrapping), and on each dataset a classifier is being trained and then the combined result of each classifier is presented as output\n",
    "or on each dataset produced, a classifier is being trained with a randomly chosen subset of the features set, and then the combined result of each classifier is presented as output.\n",
    "In our case the dataset as well as the feature set, both are very small. So, while building the ensemble model, there is high probability that the different datasets produced have almost the same type of samples or since there are very few features, the different classifiers are considering the same features again and again. Due to these two reasons, the different classifiers in an ensemble model maybe having high correlations with each other. Hence, they can create the problem of **overfitting**, when the results of all these classifiers are combined.\n",
    "\n",
    "Now, since decision tree algorithm is among the top performers, we can further try to improve the performance of this algorithm with sklearn's feature selection method by exploiting the feature_importance attribute of **decision trees** or we can use **Logistics Regression**"
   ]
  },
  {
   "cell_type": "markdown",
   "metadata": {},
   "source": [
    "# Deep Learning"
   ]
  },
  {
   "cell_type": "code",
   "execution_count": 203,
   "metadata": {},
   "outputs": [
    {
     "data": {
      "text/html": [
       "<div>\n",
       "<style scoped>\n",
       "    .dataframe tbody tr th:only-of-type {\n",
       "        vertical-align: middle;\n",
       "    }\n",
       "\n",
       "    .dataframe tbody tr th {\n",
       "        vertical-align: top;\n",
       "    }\n",
       "\n",
       "    .dataframe thead th {\n",
       "        text-align: right;\n",
       "    }\n",
       "</style>\n",
       "<table border=\"1\" class=\"dataframe\">\n",
       "  <thead>\n",
       "    <tr style=\"text-align: right;\">\n",
       "      <th></th>\n",
       "      <th>Observed_Attendance</th>\n",
       "      <th>Client_name_ANZ</th>\n",
       "      <th>Client_name_Aon Hewitt</th>\n",
       "      <th>Client_name_Astrazeneca</th>\n",
       "      <th>Client_name_Hospira</th>\n",
       "      <th>Client_name_Pfizer</th>\n",
       "      <th>Client_name_Standard Chartered Bank</th>\n",
       "      <th>Industry_BFSI</th>\n",
       "      <th>Industry_IT Products and Services</th>\n",
       "      <th>Industry_Pharmaceuticals</th>\n",
       "      <th>...</th>\n",
       "      <th>Q7_Not Sure</th>\n",
       "      <th>Q7_Not yet</th>\n",
       "      <th>Q7_Yes</th>\n",
       "      <th>Q7_Yet to Check</th>\n",
       "      <th>Expected_Attendance_NA</th>\n",
       "      <th>Expected_Attendance_No</th>\n",
       "      <th>Expected_Attendance_Uncertain</th>\n",
       "      <th>Expected_Attendance_Yes</th>\n",
       "      <th>Marital_Status_Married</th>\n",
       "      <th>Marital_Status_Single</th>\n",
       "    </tr>\n",
       "  </thead>\n",
       "  <tbody>\n",
       "    <tr>\n",
       "      <th>0</th>\n",
       "      <td>Yes</td>\n",
       "      <td>0</td>\n",
       "      <td>0</td>\n",
       "      <td>0</td>\n",
       "      <td>0</td>\n",
       "      <td>0</td>\n",
       "      <td>1</td>\n",
       "      <td>1</td>\n",
       "      <td>0</td>\n",
       "      <td>0</td>\n",
       "      <td>...</td>\n",
       "      <td>0</td>\n",
       "      <td>0</td>\n",
       "      <td>1</td>\n",
       "      <td>0</td>\n",
       "      <td>0</td>\n",
       "      <td>0</td>\n",
       "      <td>0</td>\n",
       "      <td>1</td>\n",
       "      <td>0</td>\n",
       "      <td>1</td>\n",
       "    </tr>\n",
       "    <tr>\n",
       "      <th>1</th>\n",
       "      <td>No</td>\n",
       "      <td>0</td>\n",
       "      <td>0</td>\n",
       "      <td>0</td>\n",
       "      <td>0</td>\n",
       "      <td>0</td>\n",
       "      <td>1</td>\n",
       "      <td>1</td>\n",
       "      <td>0</td>\n",
       "      <td>0</td>\n",
       "      <td>...</td>\n",
       "      <td>0</td>\n",
       "      <td>0</td>\n",
       "      <td>1</td>\n",
       "      <td>0</td>\n",
       "      <td>0</td>\n",
       "      <td>0</td>\n",
       "      <td>0</td>\n",
       "      <td>1</td>\n",
       "      <td>1</td>\n",
       "      <td>0</td>\n",
       "    </tr>\n",
       "    <tr>\n",
       "      <th>2</th>\n",
       "      <td>No</td>\n",
       "      <td>0</td>\n",
       "      <td>0</td>\n",
       "      <td>0</td>\n",
       "      <td>0</td>\n",
       "      <td>0</td>\n",
       "      <td>1</td>\n",
       "      <td>1</td>\n",
       "      <td>0</td>\n",
       "      <td>0</td>\n",
       "      <td>...</td>\n",
       "      <td>0</td>\n",
       "      <td>0</td>\n",
       "      <td>1</td>\n",
       "      <td>0</td>\n",
       "      <td>0</td>\n",
       "      <td>0</td>\n",
       "      <td>0</td>\n",
       "      <td>1</td>\n",
       "      <td>1</td>\n",
       "      <td>0</td>\n",
       "    </tr>\n",
       "    <tr>\n",
       "      <th>3</th>\n",
       "      <td>Yes</td>\n",
       "      <td>0</td>\n",
       "      <td>0</td>\n",
       "      <td>0</td>\n",
       "      <td>0</td>\n",
       "      <td>0</td>\n",
       "      <td>1</td>\n",
       "      <td>1</td>\n",
       "      <td>0</td>\n",
       "      <td>0</td>\n",
       "      <td>...</td>\n",
       "      <td>0</td>\n",
       "      <td>0</td>\n",
       "      <td>1</td>\n",
       "      <td>0</td>\n",
       "      <td>0</td>\n",
       "      <td>0</td>\n",
       "      <td>0</td>\n",
       "      <td>1</td>\n",
       "      <td>1</td>\n",
       "      <td>0</td>\n",
       "    </tr>\n",
       "    <tr>\n",
       "      <th>4</th>\n",
       "      <td>Yes</td>\n",
       "      <td>0</td>\n",
       "      <td>0</td>\n",
       "      <td>0</td>\n",
       "      <td>0</td>\n",
       "      <td>0</td>\n",
       "      <td>1</td>\n",
       "      <td>1</td>\n",
       "      <td>0</td>\n",
       "      <td>0</td>\n",
       "      <td>...</td>\n",
       "      <td>0</td>\n",
       "      <td>0</td>\n",
       "      <td>1</td>\n",
       "      <td>0</td>\n",
       "      <td>0</td>\n",
       "      <td>0</td>\n",
       "      <td>0</td>\n",
       "      <td>1</td>\n",
       "      <td>1</td>\n",
       "      <td>0</td>\n",
       "    </tr>\n",
       "  </tbody>\n",
       "</table>\n",
       "<p>5 rows × 139 columns</p>\n",
       "</div>"
      ],
      "text/plain": [
       "  Observed_Attendance  Client_name_ANZ  Client_name_Aon Hewitt  \\\n",
       "0                 Yes                0                       0   \n",
       "1                  No                0                       0   \n",
       "2                  No                0                       0   \n",
       "3                 Yes                0                       0   \n",
       "4                 Yes                0                       0   \n",
       "\n",
       "   Client_name_Astrazeneca  Client_name_Hospira  Client_name_Pfizer  \\\n",
       "0                        0                    0                   0   \n",
       "1                        0                    0                   0   \n",
       "2                        0                    0                   0   \n",
       "3                        0                    0                   0   \n",
       "4                        0                    0                   0   \n",
       "\n",
       "   Client_name_Standard Chartered Bank  Industry_BFSI  \\\n",
       "0                                    1              1   \n",
       "1                                    1              1   \n",
       "2                                    1              1   \n",
       "3                                    1              1   \n",
       "4                                    1              1   \n",
       "\n",
       "   Industry_IT Products and Services  Industry_Pharmaceuticals  ...  \\\n",
       "0                                  0                         0  ...   \n",
       "1                                  0                         0  ...   \n",
       "2                                  0                         0  ...   \n",
       "3                                  0                         0  ...   \n",
       "4                                  0                         0  ...   \n",
       "\n",
       "   Q7_Not Sure  Q7_Not yet  Q7_Yes  Q7_Yet to Check  Expected_Attendance_NA  \\\n",
       "0            0           0       1                0                       0   \n",
       "1            0           0       1                0                       0   \n",
       "2            0           0       1                0                       0   \n",
       "3            0           0       1                0                       0   \n",
       "4            0           0       1                0                       0   \n",
       "\n",
       "   Expected_Attendance_No  Expected_Attendance_Uncertain  \\\n",
       "0                       0                              0   \n",
       "1                       0                              0   \n",
       "2                       0                              0   \n",
       "3                       0                              0   \n",
       "4                       0                              0   \n",
       "\n",
       "   Expected_Attendance_Yes  Marital_Status_Married  Marital_Status_Single  \n",
       "0                        1                       0                      1  \n",
       "1                        1                       1                      0  \n",
       "2                        1                       1                      0  \n",
       "3                        1                       1                      0  \n",
       "4                        1                       1                      0  \n",
       "\n",
       "[5 rows x 139 columns]"
      ]
     },
     "execution_count": 203,
     "metadata": {},
     "output_type": "execute_result"
    }
   ],
   "source": [
    "# Store the numerical features to a dataframe attrition_num\n",
    "data_num = data[['Observed_Attendance']]\n",
    "# Concat the two dataframes together columnwise\n",
    "data_final = pd.concat([data_num, data_cat], axis=1)\n",
    "data_final.head()"
   ]
  },
  {
   "cell_type": "code",
   "execution_count": 207,
   "metadata": {},
   "outputs": [
    {
     "name": "stdout",
     "output_type": "stream",
     "text": [
      "Training Data : (699, 139)\n",
      "Testing Data : (15, 139)\n"
     ]
    }
   ],
   "source": [
    "train,test = train_test_split(data_final, test_size=0.02, random_state=42)\n",
    "print(\"Training Data :\",train.shape)\n",
    "print(\"Testing Data :\",test.shape)"
   ]
  },
  {
   "cell_type": "code",
   "execution_count": 208,
   "metadata": {},
   "outputs": [],
   "source": [
    "train_x = train.iloc[:,1:]\n",
    "test_x = test.iloc[:,1:]"
   ]
  },
  {
   "cell_type": "code",
   "execution_count": 209,
   "metadata": {},
   "outputs": [],
   "source": [
    "train_y = train.iloc[:,:1]\n",
    "test_y = test.iloc[:,:1]"
   ]
  },
  {
   "cell_type": "code",
   "execution_count": 204,
   "metadata": {},
   "outputs": [],
   "source": [
    "# Define a dictionary for the target mapping\n",
    "Marker=[ 'Yes']\n",
    "# Use the pandas apply method to numerically encode our attrition target variable\n",
    "data_final['Observed_Attendance'] = data_final['Observed_Attendance'].apply(lambda x: 1 if x in Marker else 0)\n",
    "#data_final.head(3)\n"
   ]
  },
  {
   "cell_type": "markdown",
   "metadata": {},
   "source": [
    "## Single Layer Perceptron(ANN) + PCA"
   ]
  },
  {
   "cell_type": "code",
   "execution_count": 218,
   "metadata": {},
   "outputs": [
    {
     "name": "stdout",
     "output_type": "stream",
     "text": [
      "===========Data Summary===========\n",
      "PCA Training Data : (699, 15)\n",
      "PCA Testing Data : (15, 15)\n",
      "\n",
      "============Processing============\n",
      "Step:     0\tLoss: 1.170\tAcc: 53.79%\n",
      "Step:  1000\tLoss: 0.551\tAcc: 71.10%\n",
      "Step:  2000\tLoss: 0.551\tAcc: 71.24%\n",
      "Step:  3000\tLoss: 0.551\tAcc: 71.24%\n",
      "Step:  4000\tLoss: 0.551\tAcc: 71.24%\n",
      "Step:  5000\tLoss: 0.551\tAcc: 71.24%\n",
      "Step:  6000\tLoss: 0.551\tAcc: 71.24%\n",
      "Step:  7000\tLoss: 0.551\tAcc: 71.24%\n",
      "Step:  8000\tLoss: 0.551\tAcc: 71.24%\n",
      "Step:  9000\tLoss: 0.551\tAcc: 71.24%\n",
      "Step: 10000\tLoss: 0.551\tAcc: 71.24%\n",
      "\n",
      "============Results============\n",
      "PCA Model Prediction = 0.71244633\n",
      "PCA Test Prediction = 0.4\n"
     ]
    }
   ],
   "source": [
    "def ann_slp_pca():\n",
    "    sklearn_pca = sklearnPCA(n_components=15)\n",
    "\n",
    "    print(\"===========Data Summary===========\")\n",
    "    pca_train_x = sklearn_pca.fit_transform(train_x)\n",
    "    print(\"PCA Training Data :\", pca_train_x.shape)\n",
    "\n",
    "    pca_test_x = sklearn_pca.fit_transform(test_x)\n",
    "    print(\"PCA Testing Data :\", pca_test_x.shape)\n",
    "\n",
    "    X = tf.placeholder(tf.float32, [None,15])\n",
    "    Y = tf.placeholder(tf.float32, [None, 1])\n",
    "\n",
    "    W = tf.Variable(tf.random_normal([15,1], seed=0), name='weight')\n",
    "    b = tf.Variable(tf.random_normal([1], seed=0), name='bias')\n",
    "\n",
    "    logits = tf.matmul(X,W) + b\n",
    "    hypothesis = tf.nn.sigmoid(logits)\n",
    "\n",
    "    cost_i = tf.nn.sigmoid_cross_entropy_with_logits(logits=logits,labels=Y)\n",
    "    cost = tf.reduce_mean(cost_i)\n",
    "\n",
    "    train = tf.train.GradientDescentOptimizer(learning_rate=0.2).minimize(cost)\n",
    "\n",
    "    prediction = tf.cast(hypothesis > 0.5, dtype=tf.float32)\n",
    "    correct_prediction = tf.equal(prediction, Y)\n",
    "    accuracy = tf.reduce_mean(tf.cast(correct_prediction, dtype=tf.float32))\n",
    "\n",
    "    print(\"\\n============Processing============\")\n",
    "    with tf.Session() as sess:\n",
    "        sess.run(tf.global_variables_initializer())\n",
    "        for step in range(10001):\n",
    "            sess.run(train, feed_dict={X: pca_train_x, Y: train_y})\n",
    "            if step % 1000 == 0:\n",
    "                loss, acc = sess.run([cost, accuracy], feed_dict={X: pca_train_x, Y: train_y})\n",
    "                print(\"Step: {:5}\\tLoss: {:.3f}\\tAcc: {:.2%}\".format(step, loss, acc))\n",
    "\n",
    "        train_acc = sess.run(accuracy, feed_dict={X: pca_train_x, Y: train_y})\n",
    "        test_acc,test_predict,test_correct = sess.run([accuracy,prediction,correct_prediction], feed_dict={X: pca_test_x, Y: test_y})\n",
    "        \n",
    "        print(\"\\n============Results============\")\n",
    "        print(\"PCA Model Prediction =\", train_acc)\n",
    "        print(\"PCA Test Prediction =\", test_acc)\n",
    "        \n",
    "        return train_acc, test_acc\n",
    "    \n",
    "ann_slp_pca_train_acc, ann_slp_pca_test_acc = ann_slp_pca()"
   ]
  },
  {
   "cell_type": "markdown",
   "metadata": {},
   "source": [
    "## Multi Layer Perceptron +PCA"
   ]
  },
  {
   "cell_type": "code",
   "execution_count": 220,
   "metadata": {},
   "outputs": [
    {
     "name": "stdout",
     "output_type": "stream",
     "text": [
      "===========Data Summary===========\n",
      "PCA Training Data : (699, 10)\n",
      "PCA Testing Data : (15, 10)\n",
      "\n",
      "============Processing============\n",
      "Step:     0\tLoss: 2.443\tAcc: 65.67%\n",
      "Step:  1000\tLoss: 0.583\tAcc: 69.10%\n",
      "Step:  2000\tLoss: 0.542\tAcc: 71.10%\n",
      "Step:  3000\tLoss: 0.521\tAcc: 72.68%\n",
      "Step:  4000\tLoss: 0.508\tAcc: 73.82%\n",
      "Step:  5000\tLoss: 0.498\tAcc: 74.25%\n",
      "Step:  6000\tLoss: 0.490\tAcc: 74.96%\n",
      "Step:  7000\tLoss: 0.484\tAcc: 74.96%\n",
      "Step:  8000\tLoss: 0.478\tAcc: 76.11%\n",
      "Step:  9000\tLoss: 0.473\tAcc: 76.54%\n",
      "Step: 10000\tLoss: 0.468\tAcc: 76.68%\n",
      "\n",
      "============Results============\n",
      "PCA Model Prediction = 0.7668097\n",
      "PCA Test Prediction = 0.46666667\n"
     ]
    }
   ],
   "source": [
    "def ann_mlp_pca():\n",
    "    sklearn_pca = sklearnPCA(n_components=10)\n",
    "\n",
    "    print(\"===========Data Summary===========\")\n",
    "    pca_train_x = sklearn_pca.fit_transform(train_x)\n",
    "    print(\"PCA Training Data :\", pca_train_x.shape)\n",
    "\n",
    "    pca_test_x = sklearn_pca.fit_transform(test_x)\n",
    "    print(\"PCA Testing Data :\", pca_test_x.shape)\n",
    "\n",
    "    X = tf.placeholder(tf.float32, [None,10])\n",
    "    Y = tf.placeholder(tf.float32, [None, 1])\n",
    "\n",
    "    # input\n",
    "    W1 = tf.Variable(tf.random_normal([10,64], seed=0), name='weight1')\n",
    "    b1 = tf.Variable(tf.random_normal([64], seed=0), name='bias1')\n",
    "    layer1 = tf.nn.sigmoid(tf.matmul(X,W1) + b1)\n",
    "\n",
    "    # hidden1\n",
    "    W2 = tf.Variable(tf.random_normal([64,128], seed=0), name='weight2')\n",
    "    b2 = tf.Variable(tf.random_normal([128], seed=0), name='bias2')\n",
    "    layer2 = tf.nn.sigmoid(tf.matmul(layer1,W2) + b2)\n",
    "\n",
    "    # hidden2\n",
    "    W3 = tf.Variable(tf.random_normal([128,128], seed=0), name='weight3')\n",
    "    b3 = tf.Variable(tf.random_normal([128], seed=0), name='bias3')\n",
    "    layer3 = tf.nn.sigmoid(tf.matmul(layer2,W3) + b3)\n",
    "\n",
    "    # output\n",
    "    W4 = tf.Variable(tf.random_normal([128,1], seed=0), name='weight4')\n",
    "    b4 = tf.Variable(tf.random_normal([1], seed=0), name='bias4')\n",
    "    logits = tf.matmul(layer3,W4) + b4\n",
    "    hypothesis = tf.nn.sigmoid(logits)\n",
    "\n",
    "    cost_i = tf.nn.sigmoid_cross_entropy_with_logits(logits=logits,labels=Y)\n",
    "    cost = tf.reduce_mean(cost_i)\n",
    "\n",
    "    train = tf.train.GradientDescentOptimizer(learning_rate=0.01).minimize(cost)\n",
    "\n",
    "    prediction = tf.cast(hypothesis > 0.5, dtype=tf.float32)\n",
    "    correct_prediction = tf.equal(prediction, Y)\n",
    "    accuracy = tf.reduce_mean(tf.cast(correct_prediction, dtype=tf.float32))\n",
    "\n",
    "    print(\"\\n============Processing============\")\n",
    "    with tf.Session() as sess:\n",
    "        sess.run(tf.global_variables_initializer())\n",
    "        for step in range(10001):\n",
    "            sess.run(train, feed_dict={X: pca_train_x, Y: train_y})\n",
    "            if step % 1000 == 0:\n",
    "                loss, acc = sess.run([cost, accuracy], feed_dict={X: pca_train_x, Y: train_y})\n",
    "                print(\"Step: {:5}\\tLoss: {:.3f}\\tAcc: {:.2%}\".format(step, loss, acc))\n",
    "\n",
    "        train_acc = sess.run(accuracy, feed_dict={X: pca_train_x, Y: train_y})\n",
    "        test_acc,test_predict,test_correct = sess.run([accuracy,prediction,correct_prediction], feed_dict={X: pca_test_x, Y: test_y})\n",
    "        \n",
    "        print(\"\\n============Results============\")\n",
    "        print(\"PCA Model Prediction =\", train_acc)\n",
    "        print(\"PCA Test Prediction =\", test_acc)\n",
    "        \n",
    "        return train_acc,test_acc\n",
    "        \n",
    "ann_mlp_pca_train_acc, ann_mlp_pca_test_acc = ann_mlp_pca()"
   ]
  },
  {
   "cell_type": "markdown",
   "metadata": {},
   "source": [
    "**The above Deep learning Model not learning too much due to lack of training Data so we can't use that**"
   ]
  },
  {
   "cell_type": "markdown",
   "metadata": {},
   "source": [
    "**Conclusion on Feature Importance who Not Attending**\n",
    "\n",
    "From RandomForest & DecisionTree & RFE:\n",
    "what it draws that the following contributing attributes  **Candidate Naive Location Chennai, Gender Male,Client_Name_Standard Chartered, Technical skillset Java,Martial status single, Question3+yes,Question7+yes**"
   ]
  },
  {
   "cell_type": "markdown",
   "metadata": {},
   "source": [
    "[Q3=Can I Call you three hours before the interview and follow up on your attendance for the interview?]\n",
    "[Q7=Has the call letter been shared?]"
   ]
  },
  {
   "cell_type": "markdown",
   "metadata": {},
   "source": [
    "So the **Bernoulli NB, Gaussian Classifier ,Voting Classifier** with Balanced Dataset is a good predictor for this model. Because its showing less variance and bias. Similarly **Decision Tree , Bernoulii NB** with unbalanced is a good algorithm "
   ]
  },
  {
   "cell_type": "markdown",
   "metadata": {},
   "source": [
    "There's either a limit of how well attrition can be predicted with the known features, or feature selection can be improved in order to achieve better results. A future study could be done to focus on feature selection alone, re-running the algorithms built here. The simplest model **(Naive Bayes)** is probably the most useful one. So, what model to use? I would personally go with Naive Bayes (with all features): even though the overall accuracy is a bit underwhelming (85%), the attrition prediction is too valuable to pass. It's better raise false alarms (depending on how that is conducted) than to miss the change to identify attendence before it occur"
   ]
  },
  {
   "cell_type": "markdown",
   "metadata": {},
   "source": [
    "**Resources:**\n",
    "https://plot.ly/python/\n",
    "https://towardsdatascience.com/a-feature-selection-tool-for-machine-learning-in-python-b64dd23710f0\n",
    "https://www.tensorflow.org/tutorials/customization/basics\n",
    "https://machinelearningmastery.com/machine-learning-with-python/\n",
    "https://github.com/changwookjun/StudyBook/\n",
    "https://github.com/aniruddhachoudhury\n",
    "https://github.com/TarrySingh/Artificial-Intelligence-Deep-Learning-Machine-Learning-Tutorials\n"
   ]
  }
 ],
 "metadata": {
  "kernelspec": {
   "display_name": "Python 3",
   "language": "python",
   "name": "python3"
  },
  "language_info": {
   "codemirror_mode": {
    "name": "ipython",
    "version": 3
   },
   "file_extension": ".py",
   "mimetype": "text/x-python",
   "name": "python",
   "nbconvert_exporter": "python",
   "pygments_lexer": "ipython3",
   "version": "3.6.9"
  },
  "toc": {
   "base_numbering": 1,
   "nav_menu": {},
   "number_sections": true,
   "sideBar": true,
   "skip_h1_title": false,
   "title_cell": "Table of Contents",
   "title_sidebar": "Contents",
   "toc_cell": false,
   "toc_position": {},
   "toc_section_display": true,
   "toc_window_display": false
  }
 },
 "nbformat": 4,
 "nbformat_minor": 2
}
